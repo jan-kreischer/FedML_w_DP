{
 "cells": [
  {
   "cell_type": "code",
   "execution_count": null,
   "metadata": {
    "pycharm": {
     "name": "#%%\n"
    }
   },
   "outputs": [],
   "source": [
    "%load_ext autoreload\n",
    "%autoreload 2"
   ]
  },
  {
   "cell_type": "code",
   "execution_count": null,
   "metadata": {},
   "outputs": [],
   "source": [
    "import sys\n",
    "import warnings\n",
    "\n",
    "sys.path.append('../src/')\n",
    "warnings.filterwarnings(\"ignore\")\n",
    "\n",
    "from server import Server\n",
    "from utils import plot_exp\n",
    "\n",
    "import matplotlib.pyplot as plt\n",
    "plt.rcParams['figure.figsize'] = [6, 6]\n",
    "plt.rcParams['figure.dpi'] = 100"
   ]
  },
  {
   "cell_type": "markdown",
   "metadata": {},
   "source": [
    "### First experiment : impact of federated learning"
   ]
  },
  {
   "cell_type": "code",
   "execution_count": null,
   "metadata": {},
   "outputs": [],
   "source": [
    "LR = 0.01\n",
    "EPOCHS = 5\n",
    "NR_TRAINING_ROUNDS = 10\n",
    "BATCH_SIZE = 128\n",
    "\n",
    "RANGE_NR_CLIENTS = [1,5,10]"
   ]
  },
  {
   "cell_type": "code",
   "execution_count": null,
   "metadata": {
    "pycharm": {
     "name": "#%%\n"
    }
   },
   "outputs": [],
   "source": [
    "experiment_losses, experiment_accs = [], []\n",
    "for nr_clients in RANGE_NR_CLIENTS:\n",
    "    print(f\"### Number of clients : {nr_clients} ###\\n\\n\")\n",
    "    server = Server(\n",
    "        nr_clients=nr_clients,\n",
    "        nr_training_rounds=NR_TRAINING_ROUNDS,\n",
    "        data='MNIST',\n",
    "        epochs=EPOCHS,\n",
    "        lr=LR,\n",
    "        batch_size=BATCH_SIZE,\n",
    "        is_private=False,\n",
    "        epsilon=None,\n",
    "        max_grad_norm=None,\n",
    "        noise_multiplier=None,\n",
    "        is_parallel=True,\n",
    "        device=None,\n",
    "        verbose='all')\n",
    "\n",
    "    test_losses, test_accs = server.train(early=False, patience=4)\n",
    "    \n",
    "    experiment_losses.append(test_losses)\n",
    "    experiment_accs.append(test_accs)"
   ]
  },
  {
   "cell_type": "code",
   "execution_count": null,
   "metadata": {},
   "outputs": [],
   "source": [
    "names = [f'{i} clients' for i in RANGE_NR_CLIENTS]\n",
    "plot_exp(experiment_losses, experiment_accs, names)"
   ]
  },
  {
   "cell_type": "markdown",
   "metadata": {},
   "source": [
    "### Second experiment : impact of differential privacy"
   ]
  },
  {
   "cell_type": "code",
   "execution_count": null,
   "metadata": {
    "pycharm": {
     "name": "#%%\n"
    }
   },
   "outputs": [],
   "source": [
    "NR_CLIENTS = 3\n",
    "NR_TRAINING_ROUNDS = 6\n",
    "EPOCHS = 6\n",
    "PATIENCE = 4\n",
    "LR = 0.01\n",
    "BATCH_SIZE = 128\n",
    "\n",
    "MAX_GRAD_NORM = 1.2\n",
    "NOISE_MULTIPLIER = None\n",
    "\n",
    "RANGE_EPSILON = [60]"
   ]
  },
  {
   "cell_type": "code",
   "execution_count": null,
   "metadata": {
    "pycharm": {
     "name": "#%%\n"
    }
   },
   "outputs": [],
   "source": [
    "experiment_losses, experiment_accs = [], []\n",
    "for epsilon in RANGE_EPSILON:\n",
    "    print(f\"### epsilon : {epsilon} ###\\n\\n\")\n",
    "    server = Server(\n",
    "        nr_clients=NR_CLIENTS,\n",
    "        nr_training_rounds=NR_TRAINING_ROUNDS,\n",
    "        data='MNIST',\n",
    "        epochs=EPOCHS,\n",
    "        lr=LR,\n",
    "        batch_size=BATCH_SIZE,\n",
    "        is_private=True,\n",
    "        epsilon=epsilon,\n",
    "        max_grad_norm=MAX_GRAD_NORM,\n",
    "        noise_multiplier=NOISE_MULTIPLIER,\n",
    "        is_parallel=True,\n",
    "        device=None,\n",
    "        verbose='all')\n",
    "\n",
    "    test_losses, test_accs = server.train(early=False, patience=PATIENCE)\n",
    "    experiment_losses.append(test_losses)\n",
    "    experiment_accs.append(test_accs)"
   ]
  },
  {
   "cell_type": "code",
   "execution_count": null,
   "metadata": {
    "pycharm": {
     "name": "#%%\n"
    }
   },
   "outputs": [],
   "source": [
    "names = [f'ε = {i}' for i in RANGE_EPSILON]\n",
    "plot_exp(experiment_losses, experiment_accs, names)"
   ]
  }
 ],
 "metadata": {
  "kernelspec": {
   "display_name": "Python 3",
   "language": "python",
   "name": "python3"
  },
  "language_info": {
   "codemirror_mode": {
    "name": "ipython",
    "version": 3
   },
   "file_extension": ".py",
   "mimetype": "text/x-python",
   "name": "python",
   "nbconvert_exporter": "python",
   "pygments_lexer": "ipython3",
   "version": "3.9.4"
  }
 },
 "nbformat": 4,
 "nbformat_minor": 4
}
