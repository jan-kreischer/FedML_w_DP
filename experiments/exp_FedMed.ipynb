{
  "nbformat": 4,
  "nbformat_minor": 0,
  "metadata": {
    "accelerator": "GPU",
    "colab": {
      "name": "exp_FedMed.ipynb",
      "provenance": [],
      "collapsed_sections": [],
      "include_colab_link": true
    },
    "kernelspec": {
      "display_name": "Python 3",
      "language": "python",
      "name": "python3"
    },
    "language_info": {
      "codemirror_mode": {
        "name": "ipython",
        "version": 3
      },
      "file_extension": ".py",
      "mimetype": "text/x-python",
      "name": "python",
      "nbconvert_exporter": "python",
      "pygments_lexer": "ipython3",
      "version": "3.7.6"
    }
  },
  "cells": [
    {
      "cell_type": "markdown",
      "metadata": {
        "id": "view-in-github",
        "colab_type": "text"
      },
      "source": [
        "<a href=\"https://colab.research.google.com/github/xavoliva6/dpfl_pytorch/blob/main/experiments/exp_FedMed.ipynb\" target=\"_parent\"><img src=\"https://colab.research.google.com/assets/colab-badge.svg\" alt=\"Open In Colab\"/></a>"
      ]
    },
    {
      "cell_type": "markdown",
      "metadata": {
        "id": "_kp-VhsNw0-6"
      },
      "source": [
        "#Experiments on FedMED"
      ]
    },
    {
      "cell_type": "markdown",
      "metadata": {
        "id": "atPj7B-Kw-bk"
      },
      "source": [
        "**Colab Support**<br/>\n",
        "Only run the following lines if you want to run the code on Google Colab"
      ]
    },
    {
      "cell_type": "code",
      "metadata": {
        "colab": {
          "base_uri": "https://localhost:8080/"
        },
        "id": "XYP6nDRmxBJa",
        "outputId": "4afeec4f-96cf-469b-fc2b-ab23efff949a"
      },
      "source": [
        "# Enable access to files stored in Google Drive\n",
        "from google.colab import drive\n",
        "\n",
        "drive.mount('/content/gdrive/')"
      ],
      "execution_count": 1,
      "outputs": [
        {
          "output_type": "stream",
          "text": [
            "Mounted at /content/gdrive/\n"
          ],
          "name": "stdout"
        }
      ]
    },
    {
      "cell_type": "code",
      "metadata": {
        "colab": {
          "base_uri": "https://localhost:8080/"
        },
        "id": "D8QbwaSzxD-0",
        "outputId": "838553f5-f47f-4831-bf59-8e0c35a45de9"
      },
      "source": [
        "% cd /content/gdrive/My Drive/OPT4ML/src"
      ],
      "execution_count": 2,
      "outputs": [
        {
          "output_type": "stream",
          "text": [
            "/content/gdrive/My Drive/OPT4ML/src\n"
          ],
          "name": "stdout"
        }
      ]
    },
    {
      "cell_type": "markdown",
      "metadata": {
        "id": "XW-adb_LxMHm"
      },
      "source": [
        "## Main"
      ]
    },
    {
      "cell_type": "code",
      "metadata": {
        "colab": {
          "base_uri": "https://localhost:8080/",
          "height": 795
        },
        "id": "K5B847ucxN_3",
        "outputId": "255b2052-f170-459f-c426-02ba78efe0d2"
      },
      "source": [
        "# Install necessary requirements\n",
        "!pip install -r ../requirements.txt"
      ],
      "execution_count": 3,
      "outputs": [
        {
          "output_type": "stream",
          "text": [
            "Requirement already satisfied: torchvision~=0.9.1 in /usr/local/lib/python3.7/dist-packages (from -r ../requirements.txt (line 1)) (0.9.1+cu101)\n",
            "Requirement already satisfied: torch~=1.8.1 in /usr/local/lib/python3.7/dist-packages (from -r ../requirements.txt (line 2)) (1.8.1+cu101)\n",
            "Collecting numpy~=1.20.2\n",
            "\u001b[?25l  Downloading https://files.pythonhosted.org/packages/a5/42/560d269f604d3e186a57c21a363e77e199358d054884e61b73e405dd217c/numpy-1.20.3-cp37-cp37m-manylinux_2_12_x86_64.manylinux2010_x86_64.whl (15.3MB)\n",
            "\u001b[K     |████████████████████████████████| 15.3MB 248kB/s \n",
            "\u001b[?25hCollecting opacus~=0.13.0\n",
            "\u001b[?25l  Downloading https://files.pythonhosted.org/packages/68/c4/36f07b54413e607f07858d5b668379991948f0de9979185a895fee9c2208/opacus-0.13.0-py3-none-any.whl (102kB)\n",
            "\u001b[K     |████████████████████████████████| 102kB 11.6MB/s \n",
            "\u001b[?25hCollecting pandas==1.2.4\n",
            "\u001b[?25l  Downloading https://files.pythonhosted.org/packages/51/51/48f3fc47c4e2144da2806dfb6629c4dd1fa3d5a143f9652b141e979a8ca9/pandas-1.2.4-cp37-cp37m-manylinux1_x86_64.whl (9.9MB)\n",
            "\u001b[K     |████████████████████████████████| 9.9MB 49.0MB/s \n",
            "\u001b[?25hRequirement already satisfied: pillow>=4.1.1 in /usr/local/lib/python3.7/dist-packages (from torchvision~=0.9.1->-r ../requirements.txt (line 1)) (7.1.2)\n",
            "Requirement already satisfied: typing-extensions in /usr/local/lib/python3.7/dist-packages (from torch~=1.8.1->-r ../requirements.txt (line 2)) (3.7.4.3)\n",
            "Requirement already satisfied: scipy>=1.2 in /usr/local/lib/python3.7/dist-packages (from opacus~=0.13.0->-r ../requirements.txt (line 4)) (1.4.1)\n",
            "Collecting requests>=2.25.1\n",
            "\u001b[?25l  Downloading https://files.pythonhosted.org/packages/29/c1/24814557f1d22c56d50280771a17307e6bf87b70727d975fd6b2ce6b014a/requests-2.25.1-py2.py3-none-any.whl (61kB)\n",
            "\u001b[K     |████████████████████████████████| 61kB 6.9MB/s \n",
            "\u001b[?25hRequirement already satisfied: tqdm>=4.40 in /usr/local/lib/python3.7/dist-packages (from opacus~=0.13.0->-r ../requirements.txt (line 4)) (4.41.1)\n",
            "Requirement already satisfied: pytz>=2017.3 in /usr/local/lib/python3.7/dist-packages (from pandas==1.2.4->-r ../requirements.txt (line 5)) (2018.9)\n",
            "Requirement already satisfied: python-dateutil>=2.7.3 in /usr/local/lib/python3.7/dist-packages (from pandas==1.2.4->-r ../requirements.txt (line 5)) (2.8.1)\n",
            "Requirement already satisfied: certifi>=2017.4.17 in /usr/local/lib/python3.7/dist-packages (from requests>=2.25.1->opacus~=0.13.0->-r ../requirements.txt (line 4)) (2021.5.30)\n",
            "Requirement already satisfied: idna<3,>=2.5 in /usr/local/lib/python3.7/dist-packages (from requests>=2.25.1->opacus~=0.13.0->-r ../requirements.txt (line 4)) (2.10)\n",
            "Requirement already satisfied: urllib3<1.27,>=1.21.1 in /usr/local/lib/python3.7/dist-packages (from requests>=2.25.1->opacus~=0.13.0->-r ../requirements.txt (line 4)) (1.24.3)\n",
            "Requirement already satisfied: chardet<5,>=3.0.2 in /usr/local/lib/python3.7/dist-packages (from requests>=2.25.1->opacus~=0.13.0->-r ../requirements.txt (line 4)) (3.0.4)\n",
            "Requirement already satisfied: six>=1.5 in /usr/local/lib/python3.7/dist-packages (from python-dateutil>=2.7.3->pandas==1.2.4->-r ../requirements.txt (line 5)) (1.15.0)\n",
            "\u001b[31mERROR: tensorflow 2.5.0 has requirement numpy~=1.19.2, but you'll have numpy 1.20.3 which is incompatible.\u001b[0m\n",
            "\u001b[31mERROR: google-colab 1.0.0 has requirement pandas~=1.1.0; python_version >= \"3.0\", but you'll have pandas 1.2.4 which is incompatible.\u001b[0m\n",
            "\u001b[31mERROR: google-colab 1.0.0 has requirement requests~=2.23.0, but you'll have requests 2.25.1 which is incompatible.\u001b[0m\n",
            "\u001b[31mERROR: datascience 0.10.6 has requirement folium==0.2.1, but you'll have folium 0.8.3 which is incompatible.\u001b[0m\n",
            "\u001b[31mERROR: albumentations 0.1.12 has requirement imgaug<0.2.7,>=0.2.5, but you'll have imgaug 0.2.9 which is incompatible.\u001b[0m\n",
            "Installing collected packages: numpy, requests, opacus, pandas\n",
            "  Found existing installation: numpy 1.19.5\n",
            "    Uninstalling numpy-1.19.5:\n",
            "      Successfully uninstalled numpy-1.19.5\n",
            "  Found existing installation: requests 2.23.0\n",
            "    Uninstalling requests-2.23.0:\n",
            "      Successfully uninstalled requests-2.23.0\n",
            "  Found existing installation: pandas 1.1.5\n",
            "    Uninstalling pandas-1.1.5:\n",
            "      Successfully uninstalled pandas-1.1.5\n",
            "Successfully installed numpy-1.20.3 opacus-0.13.0 pandas-1.2.4 requests-2.25.1\n"
          ],
          "name": "stdout"
        },
        {
          "output_type": "display_data",
          "data": {
            "application/vnd.colab-display-data+json": {
              "pip_warning": {
                "packages": [
                  "numpy",
                  "pandas"
                ]
              }
            }
          },
          "metadata": {
            "tags": []
          }
        }
      ]
    },
    {
      "cell_type": "code",
      "metadata": {
        "colab": {
          "base_uri": "https://localhost:8080/"
        },
        "id": "qD4MJejXxTP2",
        "outputId": "b3d7dc60-b898-4b50-b54c-b529f92a9980"
      },
      "source": [
        "# Make sure cuda support is available\n",
        "import torch\n",
        "\n",
        "if torch.cuda.is_available():\n",
        "    device_name = \"cuda:0\"\n",
        "else:\n",
        "    device_name = \"cpu\"\n",
        "print(\"device_name: {}\".format(device_name))\n",
        "device = torch.device(device_name)"
      ],
      "execution_count": 4,
      "outputs": [
        {
          "output_type": "stream",
          "text": [
            "device_name: cpu\n"
          ],
          "name": "stdout"
        }
      ]
    },
    {
      "cell_type": "code",
      "metadata": {
        "id": "zOpfErF6wuL0"
      },
      "source": [
        "%load_ext autoreload\n",
        "%autoreload 2"
      ],
      "execution_count": 5,
      "outputs": []
    },
    {
      "cell_type": "code",
      "metadata": {
        "id": "qmxM4GvZwuL0"
      },
      "source": [
        "import sys\n",
        "import warnings\n",
        "\n",
        "warnings.filterwarnings(\"ignore\")\n",
        "\n",
        "from server import Server\n",
        "from utils import plot_exp\n",
        "\n",
        "import matplotlib.pyplot as plt\n",
        "plt.rcParams['figure.figsize'] = [6, 6]\n",
        "plt.rcParams['figure.dpi'] = 100"
      ],
      "execution_count": 6,
      "outputs": []
    },
    {
      "cell_type": "markdown",
      "metadata": {
        "id": "rhvVaCs4wuL1"
      },
      "source": [
        "### First experiment : impact of federated learning"
      ]
    },
    {
      "cell_type": "code",
      "metadata": {
        "id": "LqitJFJAwuL1"
      },
      "source": [
        "LR = 0.01\n",
        "EPOCHS = 100\n",
        "PATIENCE = 8\n",
        "NR_TRAINING_ROUNDS = 100\n",
        "BATCH_SIZE = 8\n",
        "RANGE_NR_CLIENTS = [1, 5, 10]"
      ],
      "execution_count": null,
      "outputs": []
    },
    {
      "cell_type": "code",
      "metadata": {
        "colab": {
          "base_uri": "https://localhost:8080/"
        },
        "id": "3W8LLmD9wuL2",
        "outputId": "e228df5e-3c3d-4147-fc0a-e81b3db0287a"
      },
      "source": [
        "experiment_losses, experiment_accs = [], []\n",
        "for nr_clients in RANGE_NR_CLIENTS:\n",
        "    print(f\"### Number of clients : {nr_clients} ###\\n\\n\")\n",
        "    server = Server(\n",
        "        nr_clients=nr_clients,\n",
        "        nr_training_rounds=NR_TRAINING_ROUNDS,\n",
        "        data='MED',\n",
        "        epochs=EPOCHS,\n",
        "        lr=LR,\n",
        "        batch_size=BATCH_SIZE,\n",
        "        is_private=False,\n",
        "        max_grad_norm=None,\n",
        "        noise_multiplier=None,\n",
        "        epsilon=None,\n",
        "        is_parallel=False,\n",
        "        device=device,\n",
        "        verbose='server')\n",
        "    test_losses, test_accs = server.train()\n",
        "    experiment_losses.append(test_losses)\n",
        "    experiment_accs.append(test_accs)"
      ],
      "execution_count": null,
      "outputs": [
        {
          "output_type": "stream",
          "text": [
            "### Number of clients : 1 ###\n",
            "\n",
            "\n",
            "--- Configuration ---\n",
            "nr_clients: 1\n",
            "nr_training_rounds: 30\n",
            "data: MED\n",
            "epochs: 100\n",
            "lr: 0.01\n",
            "batch_size: 8\n",
            "is_private: False\n",
            "epsilon: None\n",
            "max_grad_norm: None\n",
            "noise_multiplier: None\n",
            "is_parallel: False\n",
            "device: <class 'torch.device'>\n",
            "verbose: server\n",
            "--- Training ---\n",
            "Round 1, test_loss: 1.254, test_acc: 0.792\n",
            "Round 2, test_loss: 4.842, test_acc: 0.333\n",
            "Round 3, test_loss: 1.629, test_acc: 0.625\n",
            "Round 4, test_loss: 0.299, test_acc: 1.000\n",
            "Round 5, test_loss: 0.234, test_acc: 1.000\n",
            "Round 6, test_loss: 0.223, test_acc: 1.000\n",
            "Round 7, test_loss: 0.202, test_acc: 1.000\n",
            "Round 8, test_loss: 0.169, test_acc: 1.000\n",
            "Round 9, test_loss: 0.164, test_acc: 1.000\n",
            "Round 10, test_loss: 0.148, test_acc: 1.000\n",
            "Round 11, test_loss: 0.128, test_acc: 1.000\n",
            "Round 12, test_loss: 0.125, test_acc: 1.000\n",
            "Round 13, test_loss: 0.128, test_acc: 1.000\n",
            "Round 14, test_loss: 0.131, test_acc: 1.000\n",
            "Round 15, test_loss: 0.099, test_acc: 1.000\n",
            "Round 16, test_loss: 0.095, test_acc: 1.000\n",
            "Round 17, test_loss: 0.092, test_acc: 1.000\n",
            "Round 18, test_loss: 0.103, test_acc: 1.000\n",
            "Round 19, test_loss: 0.081, test_acc: 1.000\n",
            "Round 20, test_loss: 0.079, test_acc: 1.000\n",
            "Round 21, test_loss: 0.092, test_acc: 1.000\n",
            "Round 22, test_loss: 0.072, test_acc: 1.000\n",
            "Round 23, test_loss: 0.072, test_acc: 1.000\n",
            "Round 24, test_loss: 0.072, test_acc: 1.000\n",
            "Round 25, test_loss: 0.085, test_acc: 1.000\n",
            "Round 26, test_loss: 0.066, test_acc: 1.000\n",
            "Round 27, test_loss: 0.063, test_acc: 1.000\n",
            "Round 28, test_loss: 0.060, test_acc: 1.000\n",
            "Round 29, test_loss: 0.057, test_acc: 1.000\n",
            "Round 30, test_loss: 0.057, test_acc: 1.000\n",
            "Test losses: [1.2544, 4.8421, 1.6287, 0.2991, 0.2344, 0.2233, 0.2017, 0.1685, 0.1639, 0.1476, 0.1283, 0.1248, 0.1281, 0.1311, 0.0994, 0.0947, 0.0916, 0.1031, 0.0809, 0.079, 0.0924, 0.0718, 0.0722, 0.0721, 0.0853, 0.0662, 0.0625, 0.06, 0.0567, 0.0568]\n",
            "Test accuracies: [0.7916666666666666, 0.3333333333333333, 0.625, 1.0, 1.0, 1.0, 1.0, 1.0, 1.0, 1.0, 1.0, 1.0, 1.0, 1.0, 1.0, 1.0, 1.0, 1.0, 1.0, 1.0, 1.0, 1.0, 1.0, 1.0, 1.0, 1.0, 1.0, 1.0, 1.0, 1.0]\n",
            "Finished\n",
            "### Number of clients : 5 ###\n",
            "\n",
            "\n",
            "--- Configuration ---\n",
            "nr_clients: 5\n",
            "nr_training_rounds: 30\n",
            "data: MED\n",
            "epochs: 100\n",
            "lr: 0.01\n",
            "batch_size: 8\n",
            "is_private: False\n",
            "epsilon: None\n",
            "max_grad_norm: None\n",
            "noise_multiplier: None\n",
            "is_parallel: False\n",
            "device: <class 'torch.device'>\n",
            "verbose: server\n",
            "--- Training ---\n",
            "Round 1, test_loss: 2.061, test_acc: 0.458\n",
            "Round 2, test_loss: 1.273, test_acc: 0.958\n",
            "Round 3, test_loss: 1.301, test_acc: 0.792\n",
            "Round 4, test_loss: 1.102, test_acc: 0.792\n",
            "Round 5, test_loss: 2.694, test_acc: 0.458\n",
            "Round 6, test_loss: 1.036, test_acc: 0.792\n",
            "Round 7, test_loss: 1.224, test_acc: 0.875\n",
            "Round 8, test_loss: 1.165, test_acc: 0.792\n",
            "Round 9, test_loss: 0.415, test_acc: 0.958\n",
            "Round 10, test_loss: 0.388, test_acc: 0.958\n",
            "Round 11, test_loss: 1.194, test_acc: 0.792\n",
            "Round 12, test_loss: 0.373, test_acc: 0.958\n",
            "Round 13, test_loss: 0.293, test_acc: 1.000\n",
            "Round 14, test_loss: 0.437, test_acc: 1.000\n",
            "Round 15, test_loss: 0.238, test_acc: 1.000\n",
            "Round 16, test_loss: 0.370, test_acc: 1.000\n",
            "Round 17, test_loss: 0.292, test_acc: 1.000\n",
            "Round 18, test_loss: 0.301, test_acc: 1.000\n",
            "Round 19, test_loss: 0.190, test_acc: 1.000\n",
            "Round 20, test_loss: 0.194, test_acc: 1.000\n",
            "Round 21, test_loss: 0.193, test_acc: 1.000\n",
            "Round 22, test_loss: 0.169, test_acc: 1.000\n",
            "Round 23, test_loss: 0.271, test_acc: 1.000\n",
            "Round 24, test_loss: 0.195, test_acc: 1.000\n",
            "Round 25, test_loss: 0.152, test_acc: 1.000\n",
            "Round 26, test_loss: 0.215, test_acc: 1.000\n",
            "Round 27, test_loss: 0.144, test_acc: 1.000\n",
            "Round 28, test_loss: 0.187, test_acc: 1.000\n",
            "Round 29, test_loss: 0.142, test_acc: 1.000\n",
            "Round 30, test_loss: 0.152, test_acc: 1.000\n",
            "Test losses: [2.0607, 1.2727, 1.3015, 1.1017, 2.6937, 1.0364, 1.2236, 1.1653, 0.4148, 0.3878, 1.1939, 0.3731, 0.2933, 0.4369, 0.2382, 0.37, 0.2917, 0.301, 0.1904, 0.1936, 0.1932, 0.1692, 0.2711, 0.1955, 0.1524, 0.2148, 0.1443, 0.187, 0.1425, 0.1515]\n",
            "Test accuracies: [0.4583333333333333, 0.9583333333333334, 0.7916666666666666, 0.7916666666666666, 0.4583333333333333, 0.7916666666666666, 0.875, 0.7916666666666666, 0.9583333333333334, 0.9583333333333334, 0.7916666666666666, 0.9583333333333334, 1.0, 1.0, 1.0, 1.0, 1.0, 1.0, 1.0, 1.0, 1.0, 1.0, 1.0, 1.0, 1.0, 1.0, 1.0, 1.0, 1.0, 1.0]\n",
            "Finished\n",
            "### Number of clients : 10 ###\n",
            "\n",
            "\n",
            "--- Configuration ---\n",
            "nr_clients: 10\n",
            "nr_training_rounds: 30\n",
            "data: MED\n",
            "epochs: 100\n",
            "lr: 0.01\n",
            "batch_size: 8\n",
            "is_private: False\n",
            "epsilon: None\n",
            "max_grad_norm: None\n",
            "noise_multiplier: None\n",
            "is_parallel: False\n",
            "device: <class 'torch.device'>\n",
            "verbose: server\n",
            "--- Training ---\n",
            "Round 1, test_loss: 1.884, test_acc: 0.583\n",
            "Round 2, test_loss: 1.570, test_acc: 0.792\n",
            "Round 3, test_loss: 3.541, test_acc: 0.417\n",
            "Round 4, test_loss: 2.406, test_acc: 0.417\n",
            "Round 5, test_loss: 0.915, test_acc: 0.875\n",
            "Round 6, test_loss: 1.649, test_acc: 0.792\n",
            "Round 7, test_loss: 0.598, test_acc: 1.000\n",
            "Round 8, test_loss: 0.636, test_acc: 0.875\n",
            "Round 9, test_loss: 1.002, test_acc: 0.792\n",
            "Round 10, test_loss: 1.439, test_acc: 0.792\n",
            "Round 11, test_loss: 0.663, test_acc: 0.875\n",
            "Round 12, test_loss: 0.405, test_acc: 1.000\n",
            "Round 13, test_loss: 0.858, test_acc: 0.792\n",
            "Round 14, test_loss: 0.358, test_acc: 1.000\n",
            "Round 15, test_loss: 0.444, test_acc: 0.917\n",
            "Round 16, test_loss: 0.399, test_acc: 1.000\n",
            "Round 17, test_loss: 0.308, test_acc: 1.000\n",
            "Round 18, test_loss: 0.727, test_acc: 0.875\n",
            "Round 19, test_loss: 0.809, test_acc: 0.792\n",
            "Round 20, test_loss: 0.304, test_acc: 1.000\n",
            "Round 21, test_loss: 0.452, test_acc: 0.875\n",
            "Round 22, test_loss: 0.316, test_acc: 1.000\n",
            "Round 23, test_loss: 0.229, test_acc: 1.000\n",
            "Round 24, test_loss: 0.235, test_acc: 1.000\n",
            "Round 25, test_loss: 0.234, test_acc: 1.000\n",
            "Round 26, test_loss: 0.206, test_acc: 1.000\n",
            "Round 27, test_loss: 0.264, test_acc: 1.000\n",
            "Round 28, test_loss: 0.206, test_acc: 1.000\n",
            "Round 29, test_loss: 0.186, test_acc: 1.000\n",
            "Round 30, test_loss: 0.186, test_acc: 1.000\n",
            "Test losses: [1.8839, 1.5699, 3.5405, 2.4064, 0.9151, 1.6486, 0.5982, 0.6356, 1.0015, 1.4392, 0.6634, 0.4048, 0.8583, 0.358, 0.4437, 0.3988, 0.3078, 0.7268, 0.8093, 0.3037, 0.452, 0.3158, 0.2293, 0.235, 0.2335, 0.2058, 0.2644, 0.2058, 0.1861, 0.1856]\n",
            "Test accuracies: [0.5833333333333334, 0.7916666666666666, 0.4166666666666667, 0.4166666666666667, 0.875, 0.7916666666666666, 1.0, 0.875, 0.7916666666666666, 0.7916666666666666, 0.875, 1.0, 0.7916666666666666, 1.0, 0.9166666666666666, 1.0, 1.0, 0.875, 0.7916666666666666, 1.0, 0.875, 1.0, 1.0, 1.0, 1.0, 1.0, 1.0, 1.0, 1.0, 1.0]\n",
            "Finished\n"
          ],
          "name": "stdout"
        }
      ]
    },
    {
      "cell_type": "code",
      "metadata": {
        "colab": {
          "base_uri": "https://localhost:8080/",
          "height": 554
        },
        "id": "fRq1Uju4wuL2",
        "outputId": "5e393692-3fe2-4d48-a2c1-6d50b7d19bae"
      },
      "source": [
        "names = [f'{i} clients' for i in RANGE_NR_CLIENTS]\n",
        "title = 'First experiment : FedMED dataset'\n",
        "fig = plot_exp(experiment_losses, experiment_accs, names, title)\n",
        "fig.savefig(\"FedMED_exp1.pdf\")"
      ],
      "execution_count": null,
      "outputs": [
        {
          "output_type": "display_data",
          "data": {
            "image/png": "[encoded data removed]",
            "text/plain": [
              "<Figure size 600x600 with 2 Axes>"
            ]
          },
          "metadata": {
            "tags": []
          }
        }
      ]
    },
    {
      "cell_type": "markdown",
      "metadata": {
        "id": "RLEkYchFwuL2"
      },
      "source": [
        "### Second experiment : impact of differential privacy"
      ]
    },
    {
      "cell_type": "code",
      "metadata": {
        "id": "a-nR7Re0wuL3"
      },
      "source": [
        "NR_CLIENTS = 5\n",
        "NR_TRAINING_ROUNDS = 30\n",
        "EPOCHS = 100\n",
        "PATIENCE = 20\n",
        "LR = 1e-4\n",
        "BATCH_SIZE = 8\n",
        "\n",
        "MAX_GRAD_NORM = 1.2\n",
        "NOISE_MULTIPLIER = 0.1\n",
        "\n",
        "RANGE_EPSILON = [10,50,100]"
      ],
      "execution_count": 7,
      "outputs": []
    },
    {
      "cell_type": "code",
      "metadata": {
        "colab": {
          "base_uri": "https://localhost:8080/"
        },
        "id": "jPuJVUYbwuL3",
        "outputId": "22a41737-a9fd-462d-e8a5-8c713bfc8de5"
      },
      "source": [
        "experiment_losses, experiment_accs = [], []\n",
        "for epsilon in RANGE_EPSILON:\n",
        "    print(f\"### ε : {epsilon} ###\\n\\n\")\n",
        "    server = Server(\n",
        "        nr_clients=NR_CLIENTS,\n",
        "        nr_training_rounds=NR_TRAINING_ROUNDS,\n",
        "        data='MED',\n",
        "        epochs=EPOCHS,\n",
        "        lr=LR,\n",
        "        batch_size=BATCH_SIZE,\n",
        "        is_private=True,\n",
        "        epsilon=epsilon,\n",
        "        max_grad_norm=MAX_GRAD_NORM,\n",
        "        noise_multiplier=NOISE_MULTIPLIER,\n",
        "        is_parallel=True,\n",
        "        device=device,\n",
        "        verbose='server')\n",
        "\n",
        "    test_losses, test_accs = server.train()\n",
        "    experiment_losses.append(test_losses)\n",
        "    experiment_accs.append(test_accs)"
      ],
      "execution_count": 8,
      "outputs": [
        {
          "output_type": "stream",
          "text": [
            "### ε : 10 ###\n",
            "\n",
            "\n",
            "--- Configuration ---\n",
            "nr_clients: 5\n",
            "nr_training_rounds: 30\n",
            "data: MED\n",
            "epochs: 100\n",
            "lr: 0.0001\n",
            "batch_size: 8\n",
            "is_private: True\n",
            "epsilon: 10\n",
            "max_grad_norm: 1.2\n",
            "noise_multiplier: 0.1\n",
            "is_parallel: True\n",
            "device: <class 'torch.device'>\n",
            "verbose: server\n",
            "--- Training ---\n",
            "Round 1, test_loss: 6.249, test_acc: 0.375\n",
            "Round 2, test_loss: 6.282, test_acc: 0.375\n",
            "Round 3, test_loss: 6.295, test_acc: 0.375\n",
            "Round 4, test_loss: 6.307, test_acc: 0.375\n",
            "Round 5, test_loss: 6.327, test_acc: 0.375\n",
            "Round 6, test_loss: 6.336, test_acc: 0.375\n",
            "Round 7, test_loss: 6.334, test_acc: 0.375\n",
            "Round 8, test_loss: 6.347, test_acc: 0.375\n",
            "Round 9, test_loss: 6.339, test_acc: 0.375\n",
            "Round 10, test_loss: 6.333, test_acc: 0.375\n",
            "Round 11, test_loss: 6.336, test_acc: 0.375\n",
            "Round 12, test_loss: 6.345, test_acc: 0.375\n",
            "Round 13, test_loss: 6.322, test_acc: 0.375\n",
            "Round 14, test_loss: 6.308, test_acc: 0.375\n",
            "Round 15, test_loss: 6.305, test_acc: 0.375\n",
            "Round 16, test_loss: 6.317, test_acc: 0.375\n",
            "Round 17, test_loss: 6.300, test_acc: 0.375\n",
            "Round 18, test_loss: 6.301, test_acc: 0.375\n",
            "Round 19, test_loss: 6.305, test_acc: 0.375\n",
            "Round 20, test_loss: 6.319, test_acc: 0.375\n",
            "Round 21, test_loss: 6.326, test_acc: 0.375\n",
            "Round 22, test_loss: 6.326, test_acc: 0.375\n",
            "Round 23, test_loss: 6.336, test_acc: 0.375\n",
            "Round 24, test_loss: 6.315, test_acc: 0.375\n",
            "Round 25, test_loss: 6.311, test_acc: 0.375\n",
            "Round 26, test_loss: 6.309, test_acc: 0.375\n",
            "Round 27, test_loss: 6.306, test_acc: 0.375\n",
            "Round 28, test_loss: 6.298, test_acc: 0.375\n",
            "Round 29, test_loss: 6.284, test_acc: 0.375\n",
            "Round 30, test_loss: 6.277, test_acc: 0.375\n",
            "Test losses: [6.2495, 6.2816, 6.2954, 6.3067, 6.3273, 6.3359, 6.3341, 6.3465, 6.3388, 6.333, 6.3363, 6.3451, 6.3224, 6.3079, 6.305, 6.3167, 6.2997, 6.3013, 6.3051, 6.3186, 6.3261, 6.3265, 6.3364, 6.3146, 6.3113, 6.3088, 6.3056, 6.2977, 6.2839, 6.2765]\n",
            "Test accuracies: [0.375, 0.375, 0.375, 0.375, 0.375, 0.375, 0.375, 0.375, 0.375, 0.375, 0.375, 0.375, 0.375, 0.375, 0.375, 0.375, 0.375, 0.375, 0.375, 0.375, 0.375, 0.375, 0.375, 0.375, 0.375, 0.375, 0.375, 0.375, 0.375, 0.375]\n",
            "Finished\n",
            "### ε : 50 ###\n",
            "\n",
            "\n",
            "--- Configuration ---\n",
            "nr_clients: 5\n",
            "nr_training_rounds: 30\n",
            "data: MED\n",
            "epochs: 100\n",
            "lr: 0.0001\n",
            "batch_size: 8\n",
            "is_private: True\n",
            "epsilon: 50\n",
            "max_grad_norm: 1.2\n",
            "noise_multiplier: 0.1\n",
            "is_parallel: True\n",
            "device: <class 'torch.device'>\n",
            "verbose: server\n",
            "--- Training ---\n",
            "Round 1, test_loss: 6.272, test_acc: 0.542\n",
            "Round 2, test_loss: 5.717, test_acc: 0.542\n",
            "Round 3, test_loss: 5.323, test_acc: 0.542\n",
            "Round 4, test_loss: 5.067, test_acc: 0.542\n",
            "Round 5, test_loss: 4.898, test_acc: 0.542\n",
            "Round 6, test_loss: 4.772, test_acc: 0.542\n",
            "Round 7, test_loss: 4.679, test_acc: 0.542\n",
            "Round 8, test_loss: 4.607, test_acc: 0.542\n",
            "Round 9, test_loss: 4.536, test_acc: 0.542\n",
            "Round 10, test_loss: 4.485, test_acc: 0.542\n",
            "Round 11, test_loss: 4.444, test_acc: 0.542\n",
            "Round 12, test_loss: 4.406, test_acc: 0.542\n",
            "Round 13, test_loss: 4.360, test_acc: 0.542\n",
            "Round 14, test_loss: 4.334, test_acc: 0.542\n",
            "Round 15, test_loss: 4.302, test_acc: 0.542\n",
            "Round 16, test_loss: 4.276, test_acc: 0.542\n",
            "Round 17, test_loss: 4.244, test_acc: 0.542\n",
            "Round 18, test_loss: 4.229, test_acc: 0.542\n",
            "Round 19, test_loss: 4.211, test_acc: 0.542\n",
            "Round 20, test_loss: 4.201, test_acc: 0.542\n",
            "Round 21, test_loss: 4.183, test_acc: 0.542\n",
            "Round 22, test_loss: 4.154, test_acc: 0.542\n",
            "Round 23, test_loss: 4.141, test_acc: 0.542\n",
            "Round 24, test_loss: 4.131, test_acc: 0.542\n",
            "Round 25, test_loss: 4.119, test_acc: 0.542\n",
            "Round 26, test_loss: 4.096, test_acc: 0.542\n",
            "Round 27, test_loss: 4.073, test_acc: 0.542\n",
            "Round 28, test_loss: 4.072, test_acc: 0.542\n",
            "Round 29, test_loss: 4.045, test_acc: 0.542\n",
            "Round 30, test_loss: 4.033, test_acc: 0.542\n",
            "Test losses: [6.2723, 5.7173, 5.3231, 5.0668, 4.8979, 4.7716, 4.679, 4.6073, 4.5358, 4.4849, 4.4435, 4.4061, 4.3599, 4.3344, 4.3022, 4.2758, 4.2444, 4.2287, 4.2115, 4.2009, 4.1832, 4.1538, 4.1406, 4.131, 4.1191, 4.0955, 4.0727, 4.0722, 4.0454, 4.0328]\n",
            "Test accuracies: [0.5416666666666666, 0.5416666666666666, 0.5416666666666666, 0.5416666666666666, 0.5416666666666666, 0.5416666666666666, 0.5416666666666666, 0.5416666666666666, 0.5416666666666666, 0.5416666666666666, 0.5416666666666666, 0.5416666666666666, 0.5416666666666666, 0.5416666666666666, 0.5416666666666666, 0.5416666666666666, 0.5416666666666666, 0.5416666666666666, 0.5416666666666666, 0.5416666666666666, 0.5416666666666666, 0.5416666666666666, 0.5416666666666666, 0.5416666666666666, 0.5416666666666666, 0.5416666666666666, 0.5416666666666666, 0.5416666666666666, 0.5416666666666666, 0.5416666666666666]\n",
            "Finished\n",
            "### ε : 100 ###\n",
            "\n",
            "\n",
            "--- Configuration ---\n",
            "nr_clients: 5\n",
            "nr_training_rounds: 30\n",
            "data: MED\n",
            "epochs: 100\n",
            "lr: 0.0001\n",
            "batch_size: 8\n",
            "is_private: True\n",
            "epsilon: 100\n",
            "max_grad_norm: 1.2\n",
            "noise_multiplier: 0.1\n",
            "is_parallel: True\n",
            "device: <class 'torch.device'>\n",
            "verbose: server\n",
            "--- Training ---\n",
            "Round 1, test_loss: 25.535, test_acc: 0.292\n",
            "Round 2, test_loss: 24.148, test_acc: 0.292\n",
            "Round 3, test_loss: 22.757, test_acc: 0.292\n",
            "Round 4, test_loss: 21.364, test_acc: 0.292\n",
            "Round 5, test_loss: 19.981, test_acc: 0.292\n",
            "Round 6, test_loss: 18.607, test_acc: 0.292\n",
            "Round 7, test_loss: 17.251, test_acc: 0.292\n",
            "Round 8, test_loss: 15.908, test_acc: 0.292\n",
            "Round 9, test_loss: 14.592, test_acc: 0.292\n",
            "Round 10, test_loss: 13.319, test_acc: 0.292\n",
            "Round 11, test_loss: 12.130, test_acc: 0.292\n",
            "Round 12, test_loss: 11.086, test_acc: 0.292\n",
            "Round 13, test_loss: 10.232, test_acc: 0.292\n",
            "Round 14, test_loss: 9.565, test_acc: 0.292\n",
            "Round 15, test_loss: 9.109, test_acc: 0.292\n",
            "Round 16, test_loss: 8.816, test_acc: 0.292\n",
            "Round 17, test_loss: 8.632, test_acc: 0.292\n",
            "Round 18, test_loss: 8.512, test_acc: 0.292\n",
            "Round 19, test_loss: 8.451, test_acc: 0.292\n",
            "Round 20, test_loss: 8.389, test_acc: 0.292\n",
            "Round 21, test_loss: 8.332, test_acc: 0.292\n",
            "Round 22, test_loss: 8.343, test_acc: 0.292\n",
            "Round 23, test_loss: 8.342, test_acc: 0.292\n",
            "Round 24, test_loss: 8.316, test_acc: 0.292\n",
            "Round 25, test_loss: 8.301, test_acc: 0.292\n",
            "Round 26, test_loss: 8.316, test_acc: 0.292\n",
            "Round 27, test_loss: 8.312, test_acc: 0.292\n",
            "Round 28, test_loss: 8.286, test_acc: 0.292\n",
            "Round 29, test_loss: 8.297, test_acc: 0.292\n",
            "Round 30, test_loss: 8.303, test_acc: 0.292\n",
            "Test losses: [25.5348, 24.1476, 22.7573, 21.3639, 19.9806, 18.6067, 17.2506, 15.9078, 14.5918, 13.3192, 12.1297, 11.0865, 10.232, 9.5651, 9.1091, 8.8158, 8.6323, 8.5121, 8.4511, 8.3887, 8.3319, 8.3431, 8.3416, 8.3165, 8.3008, 8.3157, 8.3123, 8.2858, 8.297, 8.3034]\n",
            "Test accuracies: [0.2916666666666667, 0.2916666666666667, 0.2916666666666667, 0.2916666666666667, 0.2916666666666667, 0.2916666666666667, 0.2916666666666667, 0.2916666666666667, 0.2916666666666667, 0.2916666666666667, 0.2916666666666667, 0.2916666666666667, 0.2916666666666667, 0.2916666666666667, 0.2916666666666667, 0.2916666666666667, 0.2916666666666667, 0.2916666666666667, 0.2916666666666667, 0.2916666666666667, 0.2916666666666667, 0.2916666666666667, 0.2916666666666667, 0.2916666666666667, 0.2916666666666667, 0.2916666666666667, 0.2916666666666667, 0.2916666666666667, 0.2916666666666667, 0.2916666666666667]\n",
            "Finished\n"
          ],
          "name": "stdout"
        }
      ]
    },
    {
      "cell_type": "code",
      "metadata": {
        "colab": {
          "base_uri": "https://localhost:8080/",
          "height": 554
        },
        "id": "CNI73lBhwuL4",
        "outputId": "7ff9150f-9f94-446d-8050-5a57d775e737"
      },
      "source": [
        "names = [f'ε = {i}' for i in RANGE_EPSILON]\n",
        "title = 'Second experiment : FedMed dataset'\n",
        "fig = plot_exp(experiment_losses, experiment_accs, names, title)\n",
        "fig.savefig(\"FedMED_exp2.pdf\")"
      ],
      "execution_count": 10,
      "outputs": [
        {
          "output_type": "display_data",
          "data": {
            "image/png": "[encoded data removed]",
            "text/plain": [
              "<Figure size 600x600 with 2 Axes>"
            ]
          },
          "metadata": {
            "tags": [],
            "needs_background": "light"
          }
        }
      ]
    },
    {
      "cell_type": "code",
      "metadata": {
        "id": "jLj0z-0Kz1ru"
      },
      "source": [
        ""
      ],
      "execution_count": null,
      "outputs": []
    }
  ]
}