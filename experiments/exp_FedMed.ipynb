{
 "cells": [
  {
   "cell_type": "code",
   "execution_count": 1,
   "metadata": {},
   "outputs": [],
   "source": [
    "import sys\n",
    "import warnings\n",
    "sys.path.append('../src/')\n",
    "warnings.filterwarnings(\"ignore\")\n",
    "\n",
    "from server import Server\n",
    "from utils import plot_exp"
   ]
  },
  {
   "cell_type": "markdown",
   "metadata": {},
   "source": [
    "### First experiment : impact of federated learning"
   ]
  },
  {
   "cell_type": "code",
   "execution_count": 2,
   "metadata": {},
   "outputs": [],
   "source": [
    "lr = 0.01\n",
    "epochs = 100\n",
    "nr_training_rounds = 100\n",
    "batch_size = 8\n",
    "range_nr_clients = [1,5,10]"
   ]
  },
  {
   "cell_type": "code",
   "execution_count": 3,
   "metadata": {},
   "outputs": [
    {
     "name": "stdout",
     "output_type": "stream",
     "text": [
      "### Number of clients : 1 ###\n",
      "\n",
      "\n",
      "--- Configuration ---\n",
      "nr_clients: 1\n",
      "nr_training_rounds: 100\n",
      "lr: 0.01\n",
      "epochs: 100\n",
      "data: MED\n",
      "batch_size: 8\n",
      "max_grad_norm: 1.2\n",
      "epsilon: 0\n",
      "n_accumulation_steps: 0\n",
      "epsilon_training_iteration: 0\n",
      "is_parallel: True\n",
      "is_private: False\n",
      "device: <class 'torch.device'>\n",
      "verbose: none\n",
      "--- Training ---\n"
     ]
    },
    {
     "name": "stderr",
     "output_type": "stream",
     "text": [
      "Exception in thread Thread-5:\n",
      "Traceback (most recent call last):\n",
      "  File \"/Users/adrienbanse/opt/anaconda3/lib/python3.7/threading.py\", line 926, in _bootstrap_inner\n",
      "    self.run()\n",
      "  File \"/Users/adrienbanse/opt/anaconda3/lib/python3.7/threading.py\", line 870, in run\n",
      "    self._target(*self._args, **self._kwargs)\n",
      "  File \"../src/client.py\", line 83, in train\n",
      "    for i, (images, labels) in enumerate(self.train_loader):\n",
      "  File \"/Users/adrienbanse/opt/anaconda3/lib/python3.7/site-packages/torch/utils/data/dataloader.py\", line 517, in __next__\n",
      "    data = self._next_data()\n",
      "  File \"/Users/adrienbanse/opt/anaconda3/lib/python3.7/site-packages/torch/utils/data/dataloader.py\", line 557, in _next_data\n",
      "    data = self._dataset_fetcher.fetch(index)  # may raise StopIteration\n",
      "  File \"/Users/adrienbanse/opt/anaconda3/lib/python3.7/site-packages/torch/utils/data/_utils/fetch.py\", line 47, in fetch\n",
      "    return self.collate_fn(data)\n",
      "  File \"/Users/adrienbanse/opt/anaconda3/lib/python3.7/site-packages/torch/utils/data/_utils/collate.py\", line 45, in default_collate\n",
      "    elem = batch[0]\n",
      "IndexError: list index out of range\n",
      "\n"
     ]
    },
    {
     "name": "stdout",
     "output_type": "stream",
     "text": [
      "EarlyStopping counter: 1 out of 8\n",
      "EarlyStopping counter: 1 out of 8\n",
      "EarlyStopping counter: 2 out of 8\n",
      "EarlyStopping counter: 1 out of 8\n",
      "EarlyStopping counter: 2 out of 8\n",
      "EarlyStopping counter: 3 out of 8\n"
     ]
    },
    {
     "name": "stderr",
     "output_type": "stream",
     "text": [
      "Exception in thread Thread-17:\n",
      "Traceback (most recent call last):\n",
      "  File \"/Users/adrienbanse/opt/anaconda3/lib/python3.7/threading.py\", line 926, in _bootstrap_inner\n",
      "    self.run()\n",
      "  File \"/Users/adrienbanse/opt/anaconda3/lib/python3.7/threading.py\", line 870, in run\n",
      "    self._target(*self._args, **self._kwargs)\n",
      "  File \"../src/client.py\", line 83, in train\n",
      "    for i, (images, labels) in enumerate(self.train_loader):\n",
      "  File \"/Users/adrienbanse/opt/anaconda3/lib/python3.7/site-packages/torch/utils/data/dataloader.py\", line 517, in __next__\n",
      "    data = self._next_data()\n",
      "  File \"/Users/adrienbanse/opt/anaconda3/lib/python3.7/site-packages/torch/utils/data/dataloader.py\", line 557, in _next_data\n",
      "    data = self._dataset_fetcher.fetch(index)  # may raise StopIteration\n",
      "  File \"/Users/adrienbanse/opt/anaconda3/lib/python3.7/site-packages/torch/utils/data/_utils/fetch.py\", line 47, in fetch\n",
      "    return self.collate_fn(data)\n",
      "  File \"/Users/adrienbanse/opt/anaconda3/lib/python3.7/site-packages/torch/utils/data/_utils/collate.py\", line 45, in default_collate\n",
      "    elem = batch[0]\n",
      "IndexError: list index out of range\n",
      "\n"
     ]
    },
    {
     "name": "stdout",
     "output_type": "stream",
     "text": [
      "EarlyStopping counter: 4 out of 8\n",
      "EarlyStopping counter: 5 out of 8\n",
      "EarlyStopping counter: 1 out of 8\n",
      "EarlyStopping counter: 2 out of 8\n",
      "EarlyStopping counter: 3 out of 8\n",
      "EarlyStopping counter: 4 out of 8\n",
      "EarlyStopping counter: 5 out of 8\n",
      "EarlyStopping counter: 6 out of 8\n",
      "EarlyStopping counter: 7 out of 8\n",
      "EarlyStopping counter: 8 out of 8\n",
      "Early stopping\n",
      "Test losses: [1.0199, 0.6177, 0.5354, 0.4726, 0.3608, 0.3258, 0.2839, 0.4041, 0.2501, 0.2013, 0.3169, 0.1811, 0.264, 0.1932, 0.1975, 0.1438, 0.1831, 0.1409, 0.1305, 0.1249, 0.1125, 0.1033, 0.1043, 0.0971]\n",
      "Test accuracies: [0.7916666666666666, 0.9583333333333334, 0.9166666666666666, 1.0, 1.0, 1.0, 1.0, 0.9166666666666666, 1.0, 1.0, 1.0, 1.0, 1.0, 1.0, 1.0, 1.0, 1.0, 1.0, 1.0, 1.0, 1.0, 1.0, 1.0, 1.0]\n",
      "Finished\n",
      "### Number of clients : 5 ###\n",
      "\n",
      "\n",
      "--- Configuration ---\n",
      "nr_clients: 5\n",
      "nr_training_rounds: 100\n",
      "lr: 0.01\n",
      "epochs: 100\n",
      "data: MED\n",
      "batch_size: 8\n",
      "max_grad_norm: 1.2\n",
      "epsilon: 0\n",
      "n_accumulation_steps: 0\n",
      "epsilon_training_iteration: 0\n",
      "is_parallel: True\n",
      "is_private: False\n",
      "device: <class 'torch.device'>\n",
      "verbose: none\n",
      "--- Training ---\n",
      "EarlyStopping counter: 1 out of 8\n",
      "EarlyStopping counter: 2 out of 8\n",
      "EarlyStopping counter: 1 out of 8\n",
      "EarlyStopping counter: 1 out of 8\n",
      "EarlyStopping counter: 2 out of 8\n",
      "EarlyStopping counter: 1 out of 8\n",
      "EarlyStopping counter: 2 out of 8\n",
      "EarlyStopping counter: 1 out of 8\n",
      "EarlyStopping counter: 2 out of 8\n",
      "EarlyStopping counter: 3 out of 8\n",
      "EarlyStopping counter: 1 out of 8\n",
      "EarlyStopping counter: 2 out of 8\n",
      "EarlyStopping counter: 3 out of 8\n",
      "EarlyStopping counter: 1 out of 8\n",
      "EarlyStopping counter: 2 out of 8\n",
      "EarlyStopping counter: 3 out of 8\n",
      "EarlyStopping counter: 4 out of 8\n",
      "EarlyStopping counter: 5 out of 8\n",
      "EarlyStopping counter: 6 out of 8\n"
     ]
    },
    {
     "name": "stderr",
     "output_type": "stream",
     "text": [
      "Exception in thread Thread-159:\n",
      "Traceback (most recent call last):\n",
      "  File \"/Users/adrienbanse/opt/anaconda3/lib/python3.7/threading.py\", line 926, in _bootstrap_inner\n",
      "    self.run()\n",
      "  File \"/Users/adrienbanse/opt/anaconda3/lib/python3.7/threading.py\", line 870, in run\n",
      "    self._target(*self._args, **self._kwargs)\n",
      "  File \"../src/client.py\", line 83, in train\n",
      "    for i, (images, labels) in enumerate(self.train_loader):\n",
      "  File \"/Users/adrienbanse/opt/anaconda3/lib/python3.7/site-packages/torch/utils/data/dataloader.py\", line 517, in __next__\n",
      "    data = self._next_data()\n",
      "  File \"/Users/adrienbanse/opt/anaconda3/lib/python3.7/site-packages/torch/utils/data/dataloader.py\", line 557, in _next_data\n",
      "    data = self._dataset_fetcher.fetch(index)  # may raise StopIteration\n",
      "  File \"/Users/adrienbanse/opt/anaconda3/lib/python3.7/site-packages/torch/utils/data/_utils/fetch.py\", line 47, in fetch\n",
      "    return self.collate_fn(data)\n",
      "  File \"/Users/adrienbanse/opt/anaconda3/lib/python3.7/site-packages/torch/utils/data/_utils/collate.py\", line 45, in default_collate\n",
      "    elem = batch[0]\n",
      "IndexError: list index out of range\n",
      "\n"
     ]
    },
    {
     "name": "stdout",
     "output_type": "stream",
     "text": [
      "EarlyStopping counter: 1 out of 8\n",
      "EarlyStopping counter: 2 out of 8\n",
      "EarlyStopping counter: 3 out of 8\n",
      "EarlyStopping counter: 4 out of 8\n",
      "EarlyStopping counter: 5 out of 8\n",
      "EarlyStopping counter: 6 out of 8\n",
      "EarlyStopping counter: 7 out of 8\n",
      "EarlyStopping counter: 8 out of 8\n",
      "Early stopping\n",
      "Test losses: [1.7373, 2.6896, 3.0858, 1.0569, 1.193, 0.817, 1.7167, 1.1516, 0.6013, 0.7569, 0.6347, 0.4873, 0.4565, 0.4738, 0.6343, 0.3943, 0.3724, 0.3743, 0.3511, 0.3279, 0.3189, 0.3092, 0.326, 0.2924, 0.3514, 0.3119, 0.2594, 0.2521, 0.255, 0.2443, 0.233, 0.2609, 0.2269, 0.2229, 0.2158]\n",
      "Test accuracies: [0.9166666666666666, 0.4583333333333333, 0.4583333333333333, 0.9166666666666666, 0.8333333333333334, 1.0, 0.5416666666666666, 0.8333333333333334, 1.0, 0.9166666666666666, 1.0, 1.0, 1.0, 0.9166666666666666, 0.9166666666666666, 1.0, 1.0, 1.0, 1.0, 1.0, 1.0, 1.0, 1.0, 1.0, 1.0, 1.0, 1.0, 1.0, 1.0, 1.0, 1.0, 1.0, 1.0, 1.0, 1.0]\n",
      "Finished\n",
      "### Number of clients : 10 ###\n",
      "\n",
      "\n",
      "--- Configuration ---\n",
      "nr_clients: 10\n",
      "nr_training_rounds: 100\n",
      "lr: 0.01\n",
      "epochs: 100\n",
      "data: MED\n",
      "batch_size: 8\n",
      "max_grad_norm: 1.2\n",
      "epsilon: 0\n",
      "n_accumulation_steps: 0\n",
      "epsilon_training_iteration: 0\n",
      "is_parallel: True\n",
      "is_private: False\n",
      "device: <class 'torch.device'>\n",
      "verbose: none\n",
      "--- Training ---\n",
      "EarlyStopping counter: 1 out of 8\n",
      "EarlyStopping counter: 1 out of 8\n",
      "EarlyStopping counter: 2 out of 8\n",
      "EarlyStopping counter: 1 out of 8\n",
      "EarlyStopping counter: 2 out of 8\n",
      "EarlyStopping counter: 3 out of 8\n",
      "EarlyStopping counter: 1 out of 8\n",
      "EarlyStopping counter: 2 out of 8\n",
      "EarlyStopping counter: 3 out of 8\n",
      "EarlyStopping counter: 1 out of 8\n",
      "EarlyStopping counter: 2 out of 8\n",
      "EarlyStopping counter: 1 out of 8\n",
      "EarlyStopping counter: 2 out of 8\n",
      "EarlyStopping counter: 3 out of 8\n",
      "EarlyStopping counter: 1 out of 8\n",
      "EarlyStopping counter: 2 out of 8\n",
      "EarlyStopping counter: 3 out of 8\n",
      "EarlyStopping counter: 4 out of 8\n",
      "EarlyStopping counter: 1 out of 8\n",
      "EarlyStopping counter: 2 out of 8\n",
      "EarlyStopping counter: 3 out of 8\n",
      "EarlyStopping counter: 4 out of 8\n",
      "EarlyStopping counter: 5 out of 8\n",
      "EarlyStopping counter: 6 out of 8\n",
      "EarlyStopping counter: 7 out of 8\n",
      "EarlyStopping counter: 1 out of 8\n",
      "EarlyStopping counter: 2 out of 8\n",
      "EarlyStopping counter: 3 out of 8\n",
      "EarlyStopping counter: 4 out of 8\n",
      "EarlyStopping counter: 5 out of 8\n",
      "EarlyStopping counter: 6 out of 8\n",
      "EarlyStopping counter: 7 out of 8\n",
      "EarlyStopping counter: 8 out of 8\n",
      "Early stopping\n",
      "Test losses: [2.5247, 1.591, 1.5825, 1.4615, 1.2509, 1.1812, 1.292, 1.4622, 1.043, 0.9113, 0.8765, 1.2823, 0.9373, 0.7835, 0.7888, 0.7792, 0.8685, 0.6857, 0.6409, 0.6378, 0.6176, 0.6757, 0.6053, 0.6626, 0.5584, 0.5508, 0.5448, 0.516, 0.5096, 0.4936, 0.5221, 0.506, 0.4686, 0.4834, 0.4765, 0.4439, 0.454, 0.4298, 0.4252, 0.4497, 0.4104, 0.4164, 0.4904, 0.439, 0.3901, 0.3957]\n",
      "Test accuracies: [0.5416666666666666, 0.8333333333333334, 0.7916666666666666, 0.8333333333333334, 0.9583333333333334, 0.875, 0.7916666666666666, 0.7916666666666666, 0.875, 1.0, 1.0, 0.7916666666666666, 0.875, 1.0, 0.875, 0.875, 0.7916666666666666, 0.875, 1.0, 1.0, 1.0, 0.875, 1.0, 0.875, 1.0, 1.0, 1.0, 1.0, 1.0, 1.0, 1.0, 1.0, 1.0, 1.0, 1.0, 1.0, 1.0, 1.0, 1.0, 1.0, 1.0, 1.0, 0.875, 1.0, 1.0, 1.0]\n",
      "Finished\n"
     ]
    }
   ],
   "source": [
    "experiment_losses, experiment_accs = [], []\n",
    "for nr_clients in range_nr_clients:\n",
    "    print(f\"### Number of clients : {nr_clients} ###\\n\\n\")\n",
    "    server = Server(\n",
    "        nr_clients=nr_clients,\n",
    "        nr_training_rounds=nr_training_rounds,\n",
    "        lr=lr,\n",
    "        epochs=epochs,\n",
    "        data='MED',\n",
    "        batch_size=batch_size,\n",
    "        max_grad_norm=1.2,\n",
    "        epsilon=0,\n",
    "        n_accumulation_steps=0,\n",
    "        epsilon_training_iteration=0,\n",
    "        is_private=False,\n",
    "        is_parallel=True,\n",
    "        device=None,\n",
    "        verbose='none')\n",
    "    test_losses, test_accs = server(early=True,patience=8)\n",
    "    experiment_losses.append(test_losses)\n",
    "    experiment_accs.append(test_accs)"
   ]
  },
  {
   "cell_type": "code",
   "execution_count": 4,
   "metadata": {},
   "outputs": [],
   "source": [
    "import matplotlib.pyplot as plt\n",
    "plt.rcParams['figure.figsize'] = [6, 6]\n",
    "plt.rcParams['figure.dpi'] = 100"
   ]
  },
  {
   "cell_type": "code",
   "execution_count": 5,
   "metadata": {},
   "outputs": [
    {
     "data": {
      "image/png": "[encoded data removed]",
      "text/plain": [
       "<Figure size 600x600 with 2 Axes>"
      ]
     },
     "metadata": {
      "needs_background": "light"
     },
     "output_type": "display_data"
    }
   ],
   "source": [
    "names = [f'{i} clients' for i in range_nr_clients]\n",
    "plot_exp(experiment_losses, experiment_accs, names)"
   ]
  },
  {
   "cell_type": "markdown",
   "metadata": {},
   "source": [
    "### Second experiment : impact of differential privacy"
   ]
  },
  {
   "cell_type": "code",
   "execution_count": null,
   "metadata": {},
   "outputs": [],
   "source": [
    "lr = 0.01\n",
    "epochs = 100\n",
    "nr_training_rounds = 100\n",
    "batch_size = 10\n",
    "nr_clients = 10\n",
    "range_epsilon = [0.001,0.01,0.1]"
   ]
  },
  {
   "cell_type": "code",
   "execution_count": null,
   "metadata": {},
   "outputs": [],
   "source": [
    "experiment_losses, experiment_accs = [], []\n",
    "for epsilon in range_epsilon:\n",
    "    print(f\"### epsilon : {epsilon} ###\\n\\n\")\n",
    "    server = Server(\n",
    "        nr_clients=nr_clients,\n",
    "        nr_training_rounds=nr_training_rounds,\n",
    "        lr=lr,\n",
    "        epochs=epochs,\n",
    "        data='MED',\n",
    "        batch_size=batch_size,\n",
    "        max_grad_norm=1.2,\n",
    "        epsilon=epsilon,\n",
    "        n_accumulation_steps=0.5,\n",
    "        epsilon_training_iteration=0.05,\n",
    "        is_private=True,\n",
    "        is_parallel=True,\n",
    "        device=None,\n",
    "        verbose='server')\n",
    "    test_losses, test_accs = server(early=True,patience=10)\n",
    "    experiment_losses.append(test_losses)\n",
    "    experiment_accs.append(test_accs)"
   ]
  },
  {
   "cell_type": "code",
   "execution_count": null,
   "metadata": {},
   "outputs": [],
   "source": []
  }
 ],
 "metadata": {
  "kernelspec": {
   "display_name": "Python 3",
   "language": "python",
   "name": "python3"
  },
  "language_info": {
   "codemirror_mode": {
    "name": "ipython",
    "version": 3
   },
   "file_extension": ".py",
   "mimetype": "text/x-python",
   "name": "python",
   "nbconvert_exporter": "python",
   "pygments_lexer": "ipython3",
   "version": "3.7.6"
  }
 },
 "nbformat": 4,
 "nbformat_minor": 4
}
