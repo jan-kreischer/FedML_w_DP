{
 "cells": [
  {
   "cell_type": "code",
   "execution_count": 1,
   "metadata": {},
   "outputs": [],
   "source": [
    "%load_ext autoreload\n",
    "%autoreload 2"
   ]
  },
  {
   "cell_type": "code",
   "execution_count": 2,
   "metadata": {},
   "outputs": [],
   "source": [
    "import torch\n",
    "from torchvision import datasets, transforms\n",
    "from ML_model import *\n",
    "from Client import *\n",
    "from Server import *"
   ]
  },
  {
   "cell_type": "code",
   "execution_count": 3,
   "metadata": {},
   "outputs": [],
   "source": [
    "# load data\n",
    "\n",
    "nClient = 3\n",
    "\n",
    "transform = transforms.Compose([\n",
    "    transforms.ToTensor(),\n",
    "    transforms.Normalize((0.1307,), (0.3081,))\n",
    "])\n",
    "data_train = datasets.MNIST(root=\"./data\",\n",
    "                            train=True,\n",
    "                            download=False,\n",
    "                            transform=transform)\n",
    "data_test = datasets.MNIST(root=\"./data\",\n",
    "                           train=False,\n",
    "                           download=False,\n",
    "                           transform=transform)\n",
    "\n",
    "len_train = len(data_train)\n",
    "len_data = int(len_train/nClient)\n",
    "data_train_split = torch.utils.data.random_split(data_train,[len_data]*nClient)\n",
    "loaders = []\n",
    "for n in range(nClient):\n",
    "    loaders.append(torch.utils.data.DataLoader(data_train_split[n],batch_size=64,shuffle=True))\n",
    "    \n",
    "#test_loader = torch.utils.data.DataLoader(data_test,batch_size=64,shuffle=True)"
   ]
  },
  {
   "cell_type": "code",
   "execution_count": 4,
   "metadata": {},
   "outputs": [],
   "source": [
    "lr = 0.01\n",
    "epochs = 15\n",
    "server = Server(nClient,lr,loaders,CNN,epochs)"
   ]
  },
  {
   "cell_type": "code",
   "execution_count": null,
   "metadata": {},
   "outputs": [
    {
     "name": "stdout",
     "output_type": "stream",
     "text": [
      "Client 0 - Epoch 0 done\n",
      "Client 0 - Epoch 1 done\n",
      "Client 0 - Epoch 2 done\n",
      "Client 0 - Epoch 3 done\n",
      "Client 0 - Epoch 4 done\n",
      "Client 0 - Epoch 5 done\n",
      "Client 0 - Epoch 6 done\n",
      "Client 0 - Epoch 7 done\n",
      "Client 0 - Epoch 8 done\n",
      "Client 0 - Epoch 9 done\n",
      "Client 0 - Epoch 10 done\n",
      "Client 0 - Epoch 11 done\n",
      "Client 0 - Epoch 12 done\n",
      "Client 0 - Epoch 13 done\n",
      "Client 0 - Epoch 14 done\n",
      "Client 0 - done\n",
      "Client 1 - Epoch 0 done\n",
      "Client 1 - Epoch 1 done\n"
     ]
    }
   ],
   "source": [
    "server.global_update()"
   ]
  },
  {
   "cell_type": "code",
   "execution_count": null,
   "metadata": {},
   "outputs": [],
   "source": []
  }
 ],
 "metadata": {
  "kernelspec": {
   "display_name": "Python 3",
   "language": "python",
   "name": "python3"
  },
  "language_info": {
   "codemirror_mode": {
    "name": "ipython",
    "version": 3
   },
   "file_extension": ".py",
   "mimetype": "text/x-python",
   "name": "python",
   "nbconvert_exporter": "python",
   "pygments_lexer": "ipython3",
   "version": "3.7.6"
  }
 },
 "nbformat": 4,
 "nbformat_minor": 4
}
