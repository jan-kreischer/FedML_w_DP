{
 "cells": [
  {
   "cell_type": "code",
   "execution_count": null,
   "metadata": {},
   "outputs": [],
   "source": [
    "from model import CNN\n",
    "from server import Server\n",
    "from constants import *\n",
    "import numpy as np\n",
    "import warnings\n",
    "import matplotlib.pyplot as plt"
   ]
  },
  {
   "cell_type": "code",
   "execution_count": null,
   "metadata": {},
   "outputs": [
    {
     "name": "stdout",
     "output_type": "stream",
     "text": [
      "[Client 2]\tTrain Epoch: 2\tLoss: 1.7732\n",
      "\t(ε = 17.37, δ = 2.5e-05) for α = 2.0\n",
      "[Client 1]\tTrain Epoch: 2\tLoss: 1.7852\n",
      "\t(ε = 17.37, δ = 2.5e-05) for α = 2.0\n",
      "[Client 0]\tTrain Epoch: 3\tLoss: 1.7137\n",
      "\t(ε = 17.83, δ = 2.5e-05) for α = 2.0\n",
      "[Client 2]\tTrain Epoch: 3\tLoss: 1.7808\n",
      "\t(ε = 17.83, δ = 2.5e-05) for α = 2.0\n",
      "[Client 1]\tTrain Epoch: 3\tLoss: 1.7230\n",
      "\t(ε = 17.83, δ = 2.5e-05) for α = 2.0\n",
      "[Client 0]\tTrain Epoch: 4\tLoss: 1.6755\n",
      "\t(ε = 18.28, δ = 2.5e-05) for α = 2.0\n",
      "[Client 2]\tTrain Epoch: 4\tLoss: 1.7349\n",
      "\t(ε = 18.28, δ = 2.5e-05) for α = 2.0\n",
      "[Client 1]\tTrain Epoch: 4\tLoss: 1.6427\n",
      "\t(ε = 18.28, δ = 2.5e-05) for α = 2.0\n",
      "[Client 2]\tTrain Epoch: 5\tLoss: 1.5679\n",
      "\t(ε = 18.73, δ = 2.5e-05) for α = 2.0\n",
      "Client 2 - done\n",
      "[Client 0]\tTrain Epoch: 5\tLoss: 1.7057\n",
      "\t(ε = 18.73, δ = 2.5e-05) for α = 2.0\n",
      "Client 0 - done\n",
      "[Client 1]\tTrain Epoch: 5\tLoss: 1.5563\n",
      "\t(ε = 18.73, δ = 2.5e-05) for α = 2.0\n",
      "Client 1 - done\n"
     ]
    }
   ],
   "source": [
    "if __name__ == \"__main__\":\n",
    "\n",
    "    warnings.filterwarnings(\"ignore\")\n",
    "\n",
    "    server = Server(nr_clients=NR_CLIENTS, lr=LR, model=CNN(), epochs=CLIENT_EPOCHS, is_parallel=True, is_private=True)\n",
    "    test_losses = []\n",
    "    test_accs = []\n",
    "    for nr_iter in range(NR_TRAINING_ITERATIONS):\n",
    "        test_loss, test_acc = server.global_update()\n",
    "        print(f\"Global iteration {nr_iter + 1}, test_loss: {test_loss:.4f}, test_acc: {test_acc}\")\n",
    "        test_losses.append(test_loss)\n",
    "        test_accs.append(test_acc)\n",
    "    print(f\"Test losses: {list(np.around(np.array(test_losses),4))}\")\n",
    "    print(f\"Test accuracies: {test_accs}\")\n",
    "    print(\"Finished\")"
   ]
  },
  {
   "cell_type": "code",
   "execution_count": 7,
   "metadata": {},
   "outputs": [
    {
     "data": {
      "image/png": "[encoded data removed]",
      "text/plain": [
       "<Figure size 432x288 with 2 Axes>"
      ]
     },
     "metadata": {
      "needs_background": "light"
     },
     "output_type": "display_data"
    },
    {
     "name": "stdout",
     "output_type": "stream",
     "text": [
      "[Client 2]\tTrain Epoch: 1\tLoss: 2.2576\n",
      "\t(ε = 9.20, δ = 2.5e-05) for α = 2.5\n",
      "[Client 0]\tTrain Epoch: 1\tLoss: 2.2628\n",
      "\t(ε = 9.20, δ = 2.5e-05) for α = 2.5\n",
      "[Client 1]\tTrain Epoch: 1\tLoss: 2.2558\n",
      "\t(ε = 9.20, δ = 2.5e-05) for α = 2.5\n"
     ]
    }
   ],
   "source": [
    "plt.subplot(1, 2, 1) # row 1, col 2 index 1\n",
    "plt.plot(x, test_losses)\n",
    "plt.title(\"My first plot!\")\n",
    "plt.xlabel('X-axis ')\n",
    "plt.ylabel('Y-axis ')\n",
    "\n",
    "plt.subplot(1, 2, 2) # index 2\n",
    "plt.plot(x, test_accs)\n",
    "plt.title(\"My second plot!\")\n",
    "plt.xlabel('X-axis ')\n",
    "plt.ylabel('Y-axis ')\n",
    "\n",
    "plt.show()"
   ]
  },
  {
   "cell_type": "code",
   "execution_count": null,
   "metadata": {},
   "outputs": [],
   "source": []
  }
 ],
 "metadata": {
  "kernelspec": {
   "display_name": "Python 3",
   "language": "python",
   "name": "python3"
  },
  "language_info": {
   "codemirror_mode": {
    "name": "ipython",
    "version": 3
   },
   "file_extension": ".py",
   "mimetype": "text/x-python",
   "name": "python",
   "nbconvert_exporter": "python",
   "pygments_lexer": "ipython3",
   "version": "3.8.5"
  }
 },
 "nbformat": 4,
 "nbformat_minor": 5
}
