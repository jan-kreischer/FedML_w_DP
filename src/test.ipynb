{
 "cells": [
  {
   "cell_type": "code",
   "execution_count": 1,
   "id": "991273f3",
   "metadata": {},
   "outputs": [],
   "source": [
    "from data import FEMNIST"
   ]
  },
  {
   "cell_type": "code",
   "execution_count": 2,
   "id": "1050873b",
   "metadata": {},
   "outputs": [
    {
     "name": "stdout",
     "output_type": "stream",
     "text": [
      "init femnist\n",
      "preparing data for client 1\n",
      "preparing data for client 2\n",
      "preparing data for client 3\n",
      "preparing data for client 4\n",
      "preparing data for client 5\n",
      "preparing data for client 6\n",
      "preparing data for client 7\n",
      "preparing data for client 8\n",
      "preparing data for client 9\n",
      "preparing data for client 10\n",
      "preparing data for client 11\n",
      "preparing data for client 12\n",
      "preparing data for client 13\n",
      "preparing data for client 14\n",
      "preparing data for client 15\n",
      "preparing data for client 16\n",
      "preparing data for client 17\n",
      "preparing data for client 18\n",
      "preparing data for client 19\n",
      "preparing data for client 20\n",
      "preparing data for client 21\n",
      "preparing data for client 22\n",
      "preparing data for client 23\n",
      "preparing data for client 24\n",
      "preparing data for client 25\n",
      "preparing data for client 26\n",
      "preparing data for client 27\n",
      "preparing data for client 28\n",
      "preparing data for client 29\n",
      "preparing data for client 30\n",
      "preparing data for client 31\n",
      "preparing data for client 32\n",
      "preparing data for client 33\n",
      "preparing data for client 34\n",
      "preparing data for client 35\n",
      "preparing data for client 36\n",
      "preparing data for client 37\n",
      "preparing data for client 38\n",
      "preparing data for client 39\n",
      "preparing data for client 40\n",
      "preparing data for client 41\n",
      "preparing data for client 42\n",
      "preparing data for client 43\n",
      "preparing data for client 44\n",
      "preparing data for client 45\n",
      "preparing data for client 46\n",
      "preparing data for client 47\n",
      "preparing data for client 48\n",
      "preparing data for client 49\n",
      "preparing data for client 50\n",
      "preparing data for client 51\n",
      "preparing data for client 52\n",
      "preparing data for client 53\n",
      "preparing data for client 54\n",
      "preparing data for client 55\n",
      "preparing data for client 56\n",
      "preparing data for client 57\n",
      "preparing data for client 58\n",
      "preparing data for client 59\n",
      "preparing data for client 60\n",
      "preparing data for client 61\n",
      "preparing data for client 62\n",
      "preparing data for client 63\n",
      "preparing data for client 64\n",
      "preparing data for client 65\n",
      "preparing data for client 66\n",
      "preparing data for client 67\n",
      "preparing data for client 68\n",
      "preparing data for client 69\n",
      "preparing data for client 70\n",
      "preparing data for client 71\n",
      "preparing data for client 72\n",
      "preparing data for client 73\n",
      "preparing data for client 74\n",
      "preparing data for client 75\n",
      "preparing data for client 76\n",
      "preparing data for client 77\n",
      "preparing data for client 78\n",
      "preparing data for client 79\n",
      "preparing data for client 80\n",
      "preparing data for client 81\n",
      "preparing data for client 82\n",
      "preparing data for client 83\n",
      "preparing data for client 84\n",
      "preparing data for client 85\n",
      "preparing data for client 86\n",
      "preparing data for client 87\n",
      "preparing data for client 88\n",
      "preparing data for client 89\n",
      "preparing data for client 90\n",
      "preparing data for client 91\n",
      "preparing data for client 92\n",
      "preparing data for client 93\n",
      "preparing data for client 94\n",
      "preparing data for client 95\n",
      "preparing data for client 96\n",
      "preparing data for client 97\n",
      "preparing data for client 98\n",
      "preparing data for client 99\n",
      "preparing data for client 100\n"
     ]
    }
   ],
   "source": [
    "femnist = FEMNIST(nr_clients=3, batch_size=64)"
   ]
  },
  {
   "cell_type": "code",
   "execution_count": 3,
   "id": "1bd674f4",
   "metadata": {},
   "outputs": [
    {
     "data": {
      "text/plain": [
       "(<torch.utils.data.dataloader.DataLoader at 0x16d64e970>, 160)"
      ]
     },
     "execution_count": 3,
     "metadata": {},
     "output_type": "execute_result"
    }
   ],
   "source": [
    "femnist.get_client_data(0)"
   ]
  },
  {
   "cell_type": "code",
   "execution_count": 4,
   "id": "ed1157f6",
   "metadata": {},
   "outputs": [
    {
     "data": {
      "text/plain": [
       "(<torch.utils.data.dataloader.DataLoader at 0x18711b8e0>, 150)"
      ]
     },
     "execution_count": 4,
     "metadata": {},
     "output_type": "execute_result"
    }
   ],
   "source": [
    "femnist.get_client_data(1)"
   ]
  },
  {
   "cell_type": "code",
   "execution_count": null,
   "id": "ffa56d4d",
   "metadata": {},
   "outputs": [],
   "source": [
    "matr = np.linspace((1,2),(10,20),10)\n",
    "print(matr)"
   ]
  },
  {
   "cell_type": "code",
   "execution_count": 4,
   "id": "54bf135b",
   "metadata": {},
   "outputs": [],
   "source": [
    "import numpy as np\n",
    "from typing import Dict\n",
    "import torch\n",
    "from torch.utils.data import DataLoader, random_split, TensorDataset, Subset\n",
    "\n",
    "#data_train_split = Dict[float, torch.utils.data.Subset]\n",
    "data_train_split = {}\n",
    "ys = np.arange(10)\n",
    "Xs = np.linspace((1,2),(10,20),10)\n",
    "y_train_tensor = torch.Tensor(ys)\n",
    "X_train_tensor = torch.Tensor(Xs)\n",
    "client_dataset = TensorDataset(X_train_tensor, y_train_tensor)\n",
    "client_subset = torch.utils.data.Subset(client_dataset, indices=np.arange(len(client_dataset)))\n",
    "client_id = 1\n",
    "data_train_split[0] = client_subset"
   ]
  },
  {
   "cell_type": "code",
   "execution_count": 35,
   "id": "b5b9011c",
   "metadata": {},
   "outputs": [
    {
     "name": "stdout",
     "output_type": "stream",
     "text": [
      "10\n"
     ]
    }
   ],
   "source": [
    "print(len(data_train_split[0]))"
   ]
  },
  {
   "cell_type": "code",
   "execution_count": null,
   "id": "c7a4417d",
   "metadata": {},
   "outputs": [],
   "source": []
  }
 ],
 "metadata": {
  "kernelspec": {
   "display_name": "epfl_opt4ml",
   "language": "python",
   "name": "epfl_opt4ml"
  },
  "language_info": {
   "codemirror_mode": {
    "name": "ipython",
    "version": 3
   },
   "file_extension": ".py",
   "mimetype": "text/x-python",
   "name": "python",
   "nbconvert_exporter": "python",
   "pygments_lexer": "ipython3",
   "version": "3.8.10"
  }
 },
 "nbformat": 4,
 "nbformat_minor": 5
}
