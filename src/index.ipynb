{
 "cells": [
  {
   "cell_type": "markdown",
   "id": "082fd227",
   "metadata": {
    "id": "082fd227"
   },
   "source": [
    "<a href=\"https://colab.research.google.com/github/xavoliva6/oml_project/blob/main/src/index.ipynb\" target=\"_parent\"><img src=\"https://colab.research.google.com/assets/colab-badge.svg\" alt=\"Open In Colab\"/></a>"
   ]
  },
  {
   "cell_type": "markdown",
   "id": "87c76749",
   "metadata": {
    "id": "87c76749"
   },
   "source": [
    "# Federated Machine Learning with Differential Privacy"
   ]
  },
  {
   "cell_type": "markdown",
   "id": "2be51cc5",
   "metadata": {
    "id": "2be51cc5"
   },
   "source": [
    "**Clone Repo**<br/>\n",
    "Run the following cells in Google Colab in order to clone the code from Github to your Google Drive or pull the latest changes."
   ]
  },
  {
   "cell_type": "code",
   "execution_count": null,
   "id": "78c7a16a",
   "metadata": {
    "colab": {
     "base_uri": "https://localhost:8080/"
    },
    "id": "78c7a16a",
    "outputId": "714f0663-e901-4d23-c5ba-86a4204b9e15"
   },
   "outputs": [],
   "source": [
    "from google.colab import drive\n",
    "drive.mount('/content/gdrive')"
   ]
  },
  {
   "cell_type": "code",
   "execution_count": null,
   "id": "763cf8e5",
   "metadata": {
    "colab": {
     "base_uri": "https://localhost:8080/"
    },
    "id": "763cf8e5",
    "outputId": "b4432ab5-f547-4bd0-8363-3640f07384c1"
   },
   "outputs": [],
   "source": [
    "%cd /content/gdrive/My Drive"
   ]
  },
  {
   "cell_type": "code",
   "execution_count": null,
   "id": "bb77a7c4",
   "metadata": {
    "colab": {
     "base_uri": "https://localhost:8080/"
    },
    "id": "bb77a7c4",
    "outputId": "c10a60c6-f267-4b25-9466-304439639822"
   },
   "outputs": [],
   "source": [
    "# Run this cell if you did not clone the repo yet\n",
    "! git clone https://github.com/xavoliva6/dpfl_pytorch.git OPT4ML"
   ]
  },
  {
   "cell_type": "code",
   "execution_count": null,
   "id": "a45f0cc4",
   "metadata": {
    "colab": {
     "base_uri": "https://localhost:8080/"
    },
    "executionInfo": {
     "elapsed": 16939,
     "status": "ok",
     "timestamp": 1623249909811,
     "user": {
      "displayName": "Jan Bauer",
      "photoUrl": "https://lh3.googleusercontent.com/a-/AOh14GjMoILSkoLiVLRc0LV33CL7HiqBQDBHd7s_S7yqS5E2Qp9tA6lGXFYADcKPen_-o_naHrXfx9GC1hLS0EkfWe6frsNHCxWniY0ffqOzXLhgfpMpOCe1X25M0qQuXNDsDbJYdXDgEOiCmCK52ugSHESn9My4pdOjNKtNJooFAJFNfNXrbhlunN6W9MU62DeQNySpUbR8Gq7srfh4ErEGHQnX2geoviJadz-aS4QD9XIZhF8Mc_2YxAe0yjbZ1Z_bj8ZEmvV-Ufsp5HyY5u6vEpkDI8YN1fxkAXhoOlJKEGRI9-eTREGq65dB7lVrM3mXUchuq-WsBUtf3Ac_bJTjdhTZPoX0V5I1sFV-APTe1CkSO1rsUdNCbF-E6_3Pk1WTUV5qpX26QE06NhDVxbvIAGsV4dxtQAacTtvBKwROHMi-EIM_qUnyajtL9vGnlhAlMi-oLgj12riiRPnc3_skIb0CJVfLpF5Y9g61k_vptdRG2Zlt7Yb_karqlsOyqPLs2GIaqplAoAkVGX_XDFT_jfKgI7OP-MlDY8zOxqFYAeyBWVOqluEW1b6rdqa9sCXavvsxiZ_OR1hd1VPsGoZExQgkYXxsqAsatlPgibqSk4U9P5giby_dItAeea2H5sZ2Xpf4WeinDYVNdWpGGFS0AndbdyWesmfin-EvkQicB17sjHNoA23dbHnto12XGUMgdAxOtlTC0i8Lab5YAxi1o8klBQJeBsTd3KxWO58ImpxjWnLWJKjkuL3ozXE6luB6roUGOg=s64",
      "userId": "03076491501259095137"
     },
     "user_tz": -120
    },
    "id": "a45f0cc4",
    "outputId": "4efa20f0-d638-416c-eadb-e62a1785ed4c"
   },
   "outputs": [],
   "source": [
    "# Run this cell to pull the latest changes\n",
    "%cd /content/gdrive/My Drive/OPT4ML\n",
    "! git config --global user.email \"student@epfl.ch\"\n",
    "! git config --global user.name \"Student\"\n",
    "! git stash\n",
    "! git pull origin main"
   ]
  },
  {
   "cell_type": "markdown",
   "id": "06c844e3",
   "metadata": {
    "id": "06c844e3"
   },
   "source": [
    "**Colab Support**<br/>\n",
    "Only run the following lines if you want to run the code on Google Colab"
   ]
  },
  {
   "cell_type": "code",
   "execution_count": null,
   "id": "a4fe276a",
   "metadata": {
    "colab": {
     "base_uri": "https://localhost:8080/"
    },
    "executionInfo": {
     "elapsed": 252,
     "status": "ok",
     "timestamp": 1623255396646,
     "user": {
      "displayName": "Jan Bauer",
      "photoUrl": "https://lh3.googleusercontent.com/a-/AOh14GjMoILSkoLiVLRc0LV33CL7HiqBQDBHd7s_S7yqS5E2Qp9tA6lGXFYADcKPen_-o_naHrXfx9GC1hLS0EkfWe6frsNHCxWniY0ffqOzXLhgfpMpOCe1X25M0qQuXNDsDbJYdXDgEOiCmCK52ugSHESn9My4pdOjNKtNJooFAJFNfNXrbhlunN6W9MU62DeQNySpUbR8Gq7srfh4ErEGHQnX2geoviJadz-aS4QD9XIZhF8Mc_2YxAe0yjbZ1Z_bj8ZEmvV-Ufsp5HyY5u6vEpkDI8YN1fxkAXhoOlJKEGRI9-eTREGq65dB7lVrM3mXUchuq-WsBUtf3Ac_bJTjdhTZPoX0V5I1sFV-APTe1CkSO1rsUdNCbF-E6_3Pk1WTUV5qpX26QE06NhDVxbvIAGsV4dxtQAacTtvBKwROHMi-EIM_qUnyajtL9vGnlhAlMi-oLgj12riiRPnc3_skIb0CJVfLpF5Y9g61k_vptdRG2Zlt7Yb_karqlsOyqPLs2GIaqplAoAkVGX_XDFT_jfKgI7OP-MlDY8zOxqFYAeyBWVOqluEW1b6rdqa9sCXavvsxiZ_OR1hd1VPsGoZExQgkYXxsqAsatlPgibqSk4U9P5giby_dItAeea2H5sZ2Xpf4WeinDYVNdWpGGFS0AndbdyWesmfin-EvkQicB17sjHNoA23dbHnto12XGUMgdAxOtlTC0i8Lab5YAxi1o8klBQJeBsTd3KxWO58ImpxjWnLWJKjkuL3ozXE6luB6roUGOg=s64",
      "userId": "03076491501259095137"
     },
     "user_tz": -120
    },
    "id": "a4fe276a",
    "outputId": "23550f8e-8a23-4496-8efa-9766a8a1fb4e"
   },
   "outputs": [],
   "source": [
    "# Enable access to files stored in Google Drive\n",
    "from google.colab import drive\n",
    "drive.mount('/content/gdrive/')"
   ]
  },
  {
   "cell_type": "code",
   "execution_count": null,
   "id": "5ab7fecb",
   "metadata": {
    "colab": {
     "base_uri": "https://localhost:8080/"
    },
    "executionInfo": {
     "elapsed": 222,
     "status": "ok",
     "timestamp": 1623255397767,
     "user": {
      "displayName": "Jan Bauer",
      "photoUrl": "https://lh3.googleusercontent.com/a-/AOh14GjMoILSkoLiVLRc0LV33CL7HiqBQDBHd7s_S7yqS5E2Qp9tA6lGXFYADcKPen_-o_naHrXfx9GC1hLS0EkfWe6frsNHCxWniY0ffqOzXLhgfpMpOCe1X25M0qQuXNDsDbJYdXDgEOiCmCK52ugSHESn9My4pdOjNKtNJooFAJFNfNXrbhlunN6W9MU62DeQNySpUbR8Gq7srfh4ErEGHQnX2geoviJadz-aS4QD9XIZhF8Mc_2YxAe0yjbZ1Z_bj8ZEmvV-Ufsp5HyY5u6vEpkDI8YN1fxkAXhoOlJKEGRI9-eTREGq65dB7lVrM3mXUchuq-WsBUtf3Ac_bJTjdhTZPoX0V5I1sFV-APTe1CkSO1rsUdNCbF-E6_3Pk1WTUV5qpX26QE06NhDVxbvIAGsV4dxtQAacTtvBKwROHMi-EIM_qUnyajtL9vGnlhAlMi-oLgj12riiRPnc3_skIb0CJVfLpF5Y9g61k_vptdRG2Zlt7Yb_karqlsOyqPLs2GIaqplAoAkVGX_XDFT_jfKgI7OP-MlDY8zOxqFYAeyBWVOqluEW1b6rdqa9sCXavvsxiZ_OR1hd1VPsGoZExQgkYXxsqAsatlPgibqSk4U9P5giby_dItAeea2H5sZ2Xpf4WeinDYVNdWpGGFS0AndbdyWesmfin-EvkQicB17sjHNoA23dbHnto12XGUMgdAxOtlTC0i8Lab5YAxi1o8klBQJeBsTd3KxWO58ImpxjWnLWJKjkuL3ozXE6luB6roUGOg=s64",
      "userId": "03076491501259095137"
     },
     "user_tz": -120
    },
    "id": "5ab7fecb",
    "outputId": "878ea5a0-9f05-4431-da99-d366ef28a488"
   },
   "outputs": [],
   "source": [
    "%cd /content/gdrive/My Drive/OPT4ML/src"
   ]
  },
  {
   "cell_type": "markdown",
   "id": "00a6f1b1",
   "metadata": {
    "id": "00a6f1b1"
   },
   "source": [
    "# Main"
   ]
  },
  {
   "cell_type": "code",
   "execution_count": null,
   "id": "f2507f5d",
   "metadata": {
    "colab": {
     "base_uri": "https://localhost:8080/"
    },
    "executionInfo": {
     "elapsed": 2615,
     "status": "ok",
     "timestamp": 1623255401406,
     "user": {
      "displayName": "Jan Bauer",
      "photoUrl": "https://lh3.googleusercontent.com/a-/AOh14GjMoILSkoLiVLRc0LV33CL7HiqBQDBHd7s_S7yqS5E2Qp9tA6lGXFYADcKPen_-o_naHrXfx9GC1hLS0EkfWe6frsNHCxWniY0ffqOzXLhgfpMpOCe1X25M0qQuXNDsDbJYdXDgEOiCmCK52ugSHESn9My4pdOjNKtNJooFAJFNfNXrbhlunN6W9MU62DeQNySpUbR8Gq7srfh4ErEGHQnX2geoviJadz-aS4QD9XIZhF8Mc_2YxAe0yjbZ1Z_bj8ZEmvV-Ufsp5HyY5u6vEpkDI8YN1fxkAXhoOlJKEGRI9-eTREGq65dB7lVrM3mXUchuq-WsBUtf3Ac_bJTjdhTZPoX0V5I1sFV-APTe1CkSO1rsUdNCbF-E6_3Pk1WTUV5qpX26QE06NhDVxbvIAGsV4dxtQAacTtvBKwROHMi-EIM_qUnyajtL9vGnlhAlMi-oLgj12riiRPnc3_skIb0CJVfLpF5Y9g61k_vptdRG2Zlt7Yb_karqlsOyqPLs2GIaqplAoAkVGX_XDFT_jfKgI7OP-MlDY8zOxqFYAeyBWVOqluEW1b6rdqa9sCXavvsxiZ_OR1hd1VPsGoZExQgkYXxsqAsatlPgibqSk4U9P5giby_dItAeea2H5sZ2Xpf4WeinDYVNdWpGGFS0AndbdyWesmfin-EvkQicB17sjHNoA23dbHnto12XGUMgdAxOtlTC0i8Lab5YAxi1o8klBQJeBsTd3KxWO58ImpxjWnLWJKjkuL3ozXE6luB6roUGOg=s64",
      "userId": "03076491501259095137"
     },
     "user_tz": -120
    },
    "id": "f2507f5d",
    "outputId": "7ebd9edc-f238-4a0d-fad5-bb430fc4b72e"
   },
   "outputs": [],
   "source": [
    "# Install necessary requirements\n",
    "!pip install -r ../requirements.txt"
   ]
  },
  {
   "cell_type": "code",
   "execution_count": null,
   "id": "c90e203b",
   "metadata": {
    "colab": {
     "base_uri": "https://localhost:8080/"
    },
    "executionInfo": {
     "elapsed": 381,
     "status": "ok",
     "timestamp": 1623255401784,
     "user": {
      "displayName": "Jan Bauer",
      "photoUrl": "https://lh3.googleusercontent.com/a-/AOh14GjMoILSkoLiVLRc0LV33CL7HiqBQDBHd7s_S7yqS5E2Qp9tA6lGXFYADcKPen_-o_naHrXfx9GC1hLS0EkfWe6frsNHCxWniY0ffqOzXLhgfpMpOCe1X25M0qQuXNDsDbJYdXDgEOiCmCK52ugSHESn9My4pdOjNKtNJooFAJFNfNXrbhlunN6W9MU62DeQNySpUbR8Gq7srfh4ErEGHQnX2geoviJadz-aS4QD9XIZhF8Mc_2YxAe0yjbZ1Z_bj8ZEmvV-Ufsp5HyY5u6vEpkDI8YN1fxkAXhoOlJKEGRI9-eTREGq65dB7lVrM3mXUchuq-WsBUtf3Ac_bJTjdhTZPoX0V5I1sFV-APTe1CkSO1rsUdNCbF-E6_3Pk1WTUV5qpX26QE06NhDVxbvIAGsV4dxtQAacTtvBKwROHMi-EIM_qUnyajtL9vGnlhAlMi-oLgj12riiRPnc3_skIb0CJVfLpF5Y9g61k_vptdRG2Zlt7Yb_karqlsOyqPLs2GIaqplAoAkVGX_XDFT_jfKgI7OP-MlDY8zOxqFYAeyBWVOqluEW1b6rdqa9sCXavvsxiZ_OR1hd1VPsGoZExQgkYXxsqAsatlPgibqSk4U9P5giby_dItAeea2H5sZ2Xpf4WeinDYVNdWpGGFS0AndbdyWesmfin-EvkQicB17sjHNoA23dbHnto12XGUMgdAxOtlTC0i8Lab5YAxi1o8klBQJeBsTd3KxWO58ImpxjWnLWJKjkuL3ozXE6luB6roUGOg=s64",
      "userId": "03076491501259095137"
     },
     "user_tz": -120
    },
    "id": "c90e203b",
    "outputId": "1fbf4c24-93a6-4c9d-84cd-5f0e126b08e5"
   },
   "outputs": [],
   "source": [
    "# Make sure cuda support is available\n",
    "import torch\n",
    "if torch.cuda.is_available():\n",
    "  device_name = \"cuda:0\"\n",
    "else:\n",
    "  device_name = \"cpu\"\n",
    "print(\"device_name: {}\".format(device_name))\n",
    "device = torch.device(device_name)"
   ]
  },
  {
   "cell_type": "code",
   "execution_count": null,
   "id": "ba15fd75",
   "metadata": {
    "executionInfo": {
     "elapsed": 709,
     "status": "ok",
     "timestamp": 1623255403056,
     "user": {
      "displayName": "Jan Bauer",
      "photoUrl": "https://lh3.googleusercontent.com/a-/AOh14GjMoILSkoLiVLRc0LV33CL7HiqBQDBHd7s_S7yqS5E2Qp9tA6lGXFYADcKPen_-o_naHrXfx9GC1hLS0EkfWe6frsNHCxWniY0ffqOzXLhgfpMpOCe1X25M0qQuXNDsDbJYdXDgEOiCmCK52ugSHESn9My4pdOjNKtNJooFAJFNfNXrbhlunN6W9MU62DeQNySpUbR8Gq7srfh4ErEGHQnX2geoviJadz-aS4QD9XIZhF8Mc_2YxAe0yjbZ1Z_bj8ZEmvV-Ufsp5HyY5u6vEpkDI8YN1fxkAXhoOlJKEGRI9-eTREGq65dB7lVrM3mXUchuq-WsBUtf3Ac_bJTjdhTZPoX0V5I1sFV-APTe1CkSO1rsUdNCbF-E6_3Pk1WTUV5qpX26QE06NhDVxbvIAGsV4dxtQAacTtvBKwROHMi-EIM_qUnyajtL9vGnlhAlMi-oLgj12riiRPnc3_skIb0CJVfLpF5Y9g61k_vptdRG2Zlt7Yb_karqlsOyqPLs2GIaqplAoAkVGX_XDFT_jfKgI7OP-MlDY8zOxqFYAeyBWVOqluEW1b6rdqa9sCXavvsxiZ_OR1hd1VPsGoZExQgkYXxsqAsatlPgibqSk4U9P5giby_dItAeea2H5sZ2Xpf4WeinDYVNdWpGGFS0AndbdyWesmfin-EvkQicB17sjHNoA23dbHnto12XGUMgdAxOtlTC0i8Lab5YAxi1o8klBQJeBsTd3KxWO58ImpxjWnLWJKjkuL3ozXE6luB6roUGOg=s64",
      "userId": "03076491501259095137"
     },
     "user_tz": -120
    },
    "id": "ba15fd75"
   },
   "outputs": [],
   "source": [
    "%load_ext autoreload\n",
    "%autoreload 2\n"
   ]
  },
  {
   "cell_type": "code",
   "execution_count": null,
   "outputs": [],
   "source": [
    "import numpy as np\n",
    "import warnings\n",
    "import matplotlib.pyplot as plt\n",
    "from utils import *\n",
    "\n",
    "from model import CNN\n",
    "from server import Server\n"
   ],
   "metadata": {
    "collapsed": false,
    "pycharm": {
     "name": "#%%\n"
    }
   }
  },
  {
   "cell_type": "code",
   "execution_count": null,
   "id": "4b809818-4fc5-4340-83e6-dc5dc77a3c9e",
   "metadata": {
    "executionInfo": {
     "elapsed": 308,
     "status": "ok",
     "timestamp": 1623255404430,
     "user": {
      "displayName": "Jan Bauer",
      "photoUrl": "https://lh3.googleusercontent.com/a-/AOh14GjMoILSkoLiVLRc0LV33CL7HiqBQDBHd7s_S7yqS5E2Qp9tA6lGXFYADcKPen_-o_naHrXfx9GC1hLS0EkfWe6frsNHCxWniY0ffqOzXLhgfpMpOCe1X25M0qQuXNDsDbJYdXDgEOiCmCK52ugSHESn9My4pdOjNKtNJooFAJFNfNXrbhlunN6W9MU62DeQNySpUbR8Gq7srfh4ErEGHQnX2geoviJadz-aS4QD9XIZhF8Mc_2YxAe0yjbZ1Z_bj8ZEmvV-Ufsp5HyY5u6vEpkDI8YN1fxkAXhoOlJKEGRI9-eTREGq65dB7lVrM3mXUchuq-WsBUtf3Ac_bJTjdhTZPoX0V5I1sFV-APTe1CkSO1rsUdNCbF-E6_3Pk1WTUV5qpX26QE06NhDVxbvIAGsV4dxtQAacTtvBKwROHMi-EIM_qUnyajtL9vGnlhAlMi-oLgj12riiRPnc3_skIb0CJVfLpF5Y9g61k_vptdRG2Zlt7Yb_karqlsOyqPLs2GIaqplAoAkVGX_XDFT_jfKgI7OP-MlDY8zOxqFYAeyBWVOqluEW1b6rdqa9sCXavvsxiZ_OR1hd1VPsGoZExQgkYXxsqAsatlPgibqSk4U9P5giby_dItAeea2H5sZ2Xpf4WeinDYVNdWpGGFS0AndbdyWesmfin-EvkQicB17sjHNoA23dbHnto12XGUMgdAxOtlTC0i8Lab5YAxi1o8klBQJeBsTd3KxWO58ImpxjWnLWJKjkuL3ozXE6luB6roUGOg=s64",
      "userId": "03076491501259095137"
     },
     "user_tz": -120
    },
    "id": "4b809818-4fc5-4340-83e6-dc5dc77a3c9e"
   },
   "outputs": [],
   "source": [
    "if __name__ == \"__main__\":\n",
    "    warnings.filterwarnings(\"ignore\")"
   ]
  },
  {
   "cell_type": "code",
   "execution_count": null,
   "id": "bb191aeb-c5b4-477b-8aa0-0a048a56b7e9",
   "metadata": {
    "executionInfo": {
     "elapsed": 3,
     "status": "ok",
     "timestamp": 1623250011250,
     "user": {
      "displayName": "Jan Bauer",
      "photoUrl": "https://lh3.googleusercontent.com/a-/AOh14GjMoILSkoLiVLRc0LV33CL7HiqBQDBHd7s_S7yqS5E2Qp9tA6lGXFYADcKPen_-o_naHrXfx9GC1hLS0EkfWe6frsNHCxWniY0ffqOzXLhgfpMpOCe1X25M0qQuXNDsDbJYdXDgEOiCmCK52ugSHESn9My4pdOjNKtNJooFAJFNfNXrbhlunN6W9MU62DeQNySpUbR8Gq7srfh4ErEGHQnX2geoviJadz-aS4QD9XIZhF8Mc_2YxAe0yjbZ1Z_bj8ZEmvV-Ufsp5HyY5u6vEpkDI8YN1fxkAXhoOlJKEGRI9-eTREGq65dB7lVrM3mXUchuq-WsBUtf3Ac_bJTjdhTZPoX0V5I1sFV-APTe1CkSO1rsUdNCbF-E6_3Pk1WTUV5qpX26QE06NhDVxbvIAGsV4dxtQAacTtvBKwROHMi-EIM_qUnyajtL9vGnlhAlMi-oLgj12riiRPnc3_skIb0CJVfLpF5Y9g61k_vptdRG2Zlt7Yb_karqlsOyqPLs2GIaqplAoAkVGX_XDFT_jfKgI7OP-MlDY8zOxqFYAeyBWVOqluEW1b6rdqa9sCXavvsxiZ_OR1hd1VPsGoZExQgkYXxsqAsatlPgibqSk4U9P5giby_dItAeea2H5sZ2Xpf4WeinDYVNdWpGGFS0AndbdyWesmfin-EvkQicB17sjHNoA23dbHnto12XGUMgdAxOtlTC0i8Lab5YAxi1o8klBQJeBsTd3KxWO58ImpxjWnLWJKjkuL3ozXE6luB6roUGOg=s64",
      "userId": "03076491501259095137"
     },
     "user_tz": -120
    },
    "id": "bb191aeb-c5b4-477b-8aa0-0a048a56b7e9"
   },
   "outputs": [],
   "source": [
    "# --- TRAINING PARAMETERS ---\n",
    "# NR_CLIENTS ... Number of clients participating in the training process.\n",
    "# LR ... Learning rate used for the stochastic gradient descent.\n",
    "# CLIENT EPOCHS ... Number of epochs that every client is trained during every step.\n",
    "# NR_TRAINING_ROUNDS ... Number of times that the server performs a global model update.\n",
    "# IS_PARALLEL ... Is the training of the clients performed in parallel.\n",
    "# DATA ... Dataset to be used. Either 'MNIST', 'MED' or 'FEMNIST'.\n",
    "# BATCH_SIZE ... Batch size used by SGD algorithm."
   ]
  },
  {
   "cell_type": "code",
   "execution_count": null,
   "id": "8eccf059-f14e-4fe4-9128-4336e87fdc72",
   "metadata": {
    "executionInfo": {
     "elapsed": 2,
     "status": "ok",
     "timestamp": 1623250011250,
     "user": {
      "displayName": "Jan Bauer",
      "photoUrl": "https://lh3.googleusercontent.com/a-/AOh14GjMoILSkoLiVLRc0LV33CL7HiqBQDBHd7s_S7yqS5E2Qp9tA6lGXFYADcKPen_-o_naHrXfx9GC1hLS0EkfWe6frsNHCxWniY0ffqOzXLhgfpMpOCe1X25M0qQuXNDsDbJYdXDgEOiCmCK52ugSHESn9My4pdOjNKtNJooFAJFNfNXrbhlunN6W9MU62DeQNySpUbR8Gq7srfh4ErEGHQnX2geoviJadz-aS4QD9XIZhF8Mc_2YxAe0yjbZ1Z_bj8ZEmvV-Ufsp5HyY5u6vEpkDI8YN1fxkAXhoOlJKEGRI9-eTREGq65dB7lVrM3mXUchuq-WsBUtf3Ac_bJTjdhTZPoX0V5I1sFV-APTe1CkSO1rsUdNCbF-E6_3Pk1WTUV5qpX26QE06NhDVxbvIAGsV4dxtQAacTtvBKwROHMi-EIM_qUnyajtL9vGnlhAlMi-oLgj12riiRPnc3_skIb0CJVfLpF5Y9g61k_vptdRG2Zlt7Yb_karqlsOyqPLs2GIaqplAoAkVGX_XDFT_jfKgI7OP-MlDY8zOxqFYAeyBWVOqluEW1b6rdqa9sCXavvsxiZ_OR1hd1VPsGoZExQgkYXxsqAsatlPgibqSk4U9P5giby_dItAeea2H5sZ2Xpf4WeinDYVNdWpGGFS0AndbdyWesmfin-EvkQicB17sjHNoA23dbHnto12XGUMgdAxOtlTC0i8Lab5YAxi1o8klBQJeBsTd3KxWO58ImpxjWnLWJKjkuL3ozXE6luB6roUGOg=s64",
      "userId": "03076491501259095137"
     },
     "user_tz": -120
    },
    "id": "8eccf059-f14e-4fe4-9128-4336e87fdc72"
   },
   "outputs": [],
   "source": [
    "# --- DIFFERENTIAL PRIVACY PARAMETERS ---\n",
    "# IS PRIVATE ... \n",
    "# MAX_GRAD_NORM\n",
    "# EPSILON\n",
    "# EPISILON_TRAINING_ITERATION\n",
    "# VIRTUAL_BATCH_SIZE\n",
    "# N_ACCUMULATION_STEPS"
   ]
  },
  {
   "cell_type": "markdown",
   "id": "ca8edc12",
   "metadata": {
    "id": "ca8edc12"
   },
   "source": [
    "## 1. Experiments on Medical Dataset\n",
    "In the first experiment we are comparing the accuracy of a fed ml approach including privacy "
   ]
  },
  {
   "cell_type": "code",
   "execution_count": null,
   "id": "uYf5jXst7LlY",
   "metadata": {
    "executionInfo": {
     "elapsed": 245,
     "status": "ok",
     "timestamp": 1623255536701,
     "user": {
      "displayName": "Jan Bauer",
      "photoUrl": "https://lh3.googleusercontent.com/a-/AOh14GjMoILSkoLiVLRc0LV33CL7HiqBQDBHd7s_S7yqS5E2Qp9tA6lGXFYADcKPen_-o_naHrXfx9GC1hLS0EkfWe6frsNHCxWniY0ffqOzXLhgfpMpOCe1X25M0qQuXNDsDbJYdXDgEOiCmCK52ugSHESn9My4pdOjNKtNJooFAJFNfNXrbhlunN6W9MU62DeQNySpUbR8Gq7srfh4ErEGHQnX2geoviJadz-aS4QD9XIZhF8Mc_2YxAe0yjbZ1Z_bj8ZEmvV-Ufsp5HyY5u6vEpkDI8YN1fxkAXhoOlJKEGRI9-eTREGq65dB7lVrM3mXUchuq-WsBUtf3Ac_bJTjdhTZPoX0V5I1sFV-APTe1CkSO1rsUdNCbF-E6_3Pk1WTUV5qpX26QE06NhDVxbvIAGsV4dxtQAacTtvBKwROHMi-EIM_qUnyajtL9vGnlhAlMi-oLgj12riiRPnc3_skIb0CJVfLpF5Y9g61k_vptdRG2Zlt7Yb_karqlsOyqPLs2GIaqplAoAkVGX_XDFT_jfKgI7OP-MlDY8zOxqFYAeyBWVOqluEW1b6rdqa9sCXavvsxiZ_OR1hd1VPsGoZExQgkYXxsqAsatlPgibqSk4U9P5giby_dItAeea2H5sZ2Xpf4WeinDYVNdWpGGFS0AndbdyWesmfin-EvkQicB17sjHNoA23dbHnto12XGUMgdAxOtlTC0i8Lab5YAxi1o8klBQJeBsTd3KxWO58ImpxjWnLWJKjkuL3ozXE6luB6roUGOg=s64",
      "userId": "03076491501259095137"
     },
     "user_tz": -120
    },
    "id": "uYf5jXst7LlY"
   },
   "outputs": [],
   "source": [
    "data = \"MED\"\n",
    "batch_size = 8"
   ]
  },
  {
   "cell_type": "markdown",
   "id": "mWOJUOYA7MVy",
   "metadata": {
    "id": "mWOJUOYA7MVy"
   },
   "source": [
    "### Experiment 1.1"
   ]
  },
  {
   "cell_type": "code",
   "execution_count": null,
   "id": "ac2c806b",
   "metadata": {
    "executionInfo": {
     "elapsed": 211,
     "status": "ok",
     "timestamp": 1623255555304,
     "user": {
      "displayName": "Jan Bauer",
      "photoUrl": "https://lh3.googleusercontent.com/a-/AOh14GjMoILSkoLiVLRc0LV33CL7HiqBQDBHd7s_S7yqS5E2Qp9tA6lGXFYADcKPen_-o_naHrXfx9GC1hLS0EkfWe6frsNHCxWniY0ffqOzXLhgfpMpOCe1X25M0qQuXNDsDbJYdXDgEOiCmCK52ugSHESn9My4pdOjNKtNJooFAJFNfNXrbhlunN6W9MU62DeQNySpUbR8Gq7srfh4ErEGHQnX2geoviJadz-aS4QD9XIZhF8Mc_2YxAe0yjbZ1Z_bj8ZEmvV-Ufsp5HyY5u6vEpkDI8YN1fxkAXhoOlJKEGRI9-eTREGq65dB7lVrM3mXUchuq-WsBUtf3Ac_bJTjdhTZPoX0V5I1sFV-APTe1CkSO1rsUdNCbF-E6_3Pk1WTUV5qpX26QE06NhDVxbvIAGsV4dxtQAacTtvBKwROHMi-EIM_qUnyajtL9vGnlhAlMi-oLgj12riiRPnc3_skIb0CJVfLpF5Y9g61k_vptdRG2Zlt7Yb_karqlsOyqPLs2GIaqplAoAkVGX_XDFT_jfKgI7OP-MlDY8zOxqFYAeyBWVOqluEW1b6rdqa9sCXavvsxiZ_OR1hd1VPsGoZExQgkYXxsqAsatlPgibqSk4U9P5giby_dItAeea2H5sZ2Xpf4WeinDYVNdWpGGFS0AndbdyWesmfin-EvkQicB17sjHNoA23dbHnto12XGUMgdAxOtlTC0i8Lab5YAxi1o8klBQJeBsTd3KxWO58ImpxjWnLWJKjkuL3ozXE6luB6roUGOg=s64",
      "userId": "03076491501259095137"
     },
     "user_tz": -120
    },
    "id": "ac2c806b"
   },
   "outputs": [],
   "source": [
    "# --- TRAINING PARAMETERS ---\n",
    "nr_clients = 3\n",
    "lr = 0.01\n",
    "client_epochs = 10\n",
    "nr_training_rounds = 100\n",
    "is_parallel = False\n",
    "# --- DIFFERENTIAL PRIVACY PARAMETERS ---\n",
    "is_private = False\n",
    "max_grad_norm = 1.2\n",
    "epsilon = 10\n",
    "virtual_batch_size = 2 * batch_size\n",
    "assert virtual_batch_size % batch_size == 0  # VIRTUAL_BATCH_SIZE should be divisible by BATCH_SIZE\n",
    "n_accumulation_steps = int(virtual_batch_size / batch_size)"
   ]
  },
  {
   "cell_type": "code",
   "execution_count": null,
   "id": "39040a71",
   "metadata": {
    "colab": {
     "base_uri": "https://localhost:8080/"
    },
    "executionInfo": {
     "elapsed": 561,
     "status": "ok",
     "timestamp": 1623255556950,
     "user": {
      "displayName": "Jan Bauer",
      "photoUrl": "https://lh3.googleusercontent.com/a-/AOh14GjMoILSkoLiVLRc0LV33CL7HiqBQDBHd7s_S7yqS5E2Qp9tA6lGXFYADcKPen_-o_naHrXfx9GC1hLS0EkfWe6frsNHCxWniY0ffqOzXLhgfpMpOCe1X25M0qQuXNDsDbJYdXDgEOiCmCK52ugSHESn9My4pdOjNKtNJooFAJFNfNXrbhlunN6W9MU62DeQNySpUbR8Gq7srfh4ErEGHQnX2geoviJadz-aS4QD9XIZhF8Mc_2YxAe0yjbZ1Z_bj8ZEmvV-Ufsp5HyY5u6vEpkDI8YN1fxkAXhoOlJKEGRI9-eTREGq65dB7lVrM3mXUchuq-WsBUtf3Ac_bJTjdhTZPoX0V5I1sFV-APTe1CkSO1rsUdNCbF-E6_3Pk1WTUV5qpX26QE06NhDVxbvIAGsV4dxtQAacTtvBKwROHMi-EIM_qUnyajtL9vGnlhAlMi-oLgj12riiRPnc3_skIb0CJVfLpF5Y9g61k_vptdRG2Zlt7Yb_karqlsOyqPLs2GIaqplAoAkVGX_XDFT_jfKgI7OP-MlDY8zOxqFYAeyBWVOqluEW1b6rdqa9sCXavvsxiZ_OR1hd1VPsGoZExQgkYXxsqAsatlPgibqSk4U9P5giby_dItAeea2H5sZ2Xpf4WeinDYVNdWpGGFS0AndbdyWesmfin-EvkQicB17sjHNoA23dbHnto12XGUMgdAxOtlTC0i8Lab5YAxi1o8klBQJeBsTd3KxWO58ImpxjWnLWJKjkuL3ozXE6luB6roUGOg=s64",
      "userId": "03076491501259095137"
     },
     "user_tz": -120
    },
    "id": "39040a71",
    "outputId": "0c23d45b-0287-4e99-b2b2-b3bfd5ea9c5c"
   },
   "outputs": [],
   "source": [
    "server = Server(nr_clients=nr_clients, nr_training_rounds=nr_training_rounds, lr=lr, epochs=client_epochs, data=data,\n",
    "                batch_size=batch_size, max_grad_norm=max_grad_norm, epsilon=epsilon,\n",
    "                n_accumulation_steps=n_accumulation_steps, is_parallel=is_parallel, is_private=is_private,\n",
    "                device=device, verbose=\"server\")\n",
    "test_losses, test_accs = server(early=True, patience=10, delta=0.05)"
   ]
  },
  {
   "cell_type": "code",
   "execution_count": null,
   "id": "8f53bf65",
   "metadata": {
    "colab": {
     "base_uri": "https://localhost:8080/",
     "height": 429
    },
    "executionInfo": {
     "elapsed": 744,
     "status": "ok",
     "timestamp": 1623255565502,
     "user": {
      "displayName": "Jan Bauer",
      "photoUrl": "https://lh3.googleusercontent.com/a-/AOh14GjMoILSkoLiVLRc0LV33CL7HiqBQDBHd7s_S7yqS5E2Qp9tA6lGXFYADcKPen_-o_naHrXfx9GC1hLS0EkfWe6frsNHCxWniY0ffqOzXLhgfpMpOCe1X25M0qQuXNDsDbJYdXDgEOiCmCK52ugSHESn9My4pdOjNKtNJooFAJFNfNXrbhlunN6W9MU62DeQNySpUbR8Gq7srfh4ErEGHQnX2geoviJadz-aS4QD9XIZhF8Mc_2YxAe0yjbZ1Z_bj8ZEmvV-Ufsp5HyY5u6vEpkDI8YN1fxkAXhoOlJKEGRI9-eTREGq65dB7lVrM3mXUchuq-WsBUtf3Ac_bJTjdhTZPoX0V5I1sFV-APTe1CkSO1rsUdNCbF-E6_3Pk1WTUV5qpX26QE06NhDVxbvIAGsV4dxtQAacTtvBKwROHMi-EIM_qUnyajtL9vGnlhAlMi-oLgj12riiRPnc3_skIb0CJVfLpF5Y9g61k_vptdRG2Zlt7Yb_karqlsOyqPLs2GIaqplAoAkVGX_XDFT_jfKgI7OP-MlDY8zOxqFYAeyBWVOqluEW1b6rdqa9sCXavvsxiZ_OR1hd1VPsGoZExQgkYXxsqAsatlPgibqSk4U9P5giby_dItAeea2H5sZ2Xpf4WeinDYVNdWpGGFS0AndbdyWesmfin-EvkQicB17sjHNoA23dbHnto12XGUMgdAxOtlTC0i8Lab5YAxi1o8klBQJeBsTd3KxWO58ImpxjWnLWJKjkuL3ozXE6luB6roUGOg=s64",
      "userId": "03076491501259095137"
     },
     "user_tz": -120
    },
    "id": "8f53bf65",
    "outputId": "2ea2db44-3f71-46ab-814f-3a16f2faf9c3"
   },
   "outputs": [],
   "source": [
    "plot_metrics(test_losses, test_accs)"
   ]
  },
  {
   "cell_type": "code",
   "execution_count": null,
   "id": "3d62f410",
   "metadata": {
    "colab": {
     "base_uri": "https://localhost:8080/"
    },
    "executionInfo": {
     "elapsed": 8009,
     "status": "ok",
     "timestamp": 1623255472271,
     "user": {
      "displayName": "Jan Bauer",
      "photoUrl": "https://lh3.googleusercontent.com/a-/AOh14GjMoILSkoLiVLRc0LV33CL7HiqBQDBHd7s_S7yqS5E2Qp9tA6lGXFYADcKPen_-o_naHrXfx9GC1hLS0EkfWe6frsNHCxWniY0ffqOzXLhgfpMpOCe1X25M0qQuXNDsDbJYdXDgEOiCmCK52ugSHESn9My4pdOjNKtNJooFAJFNfNXrbhlunN6W9MU62DeQNySpUbR8Gq7srfh4ErEGHQnX2geoviJadz-aS4QD9XIZhF8Mc_2YxAe0yjbZ1Z_bj8ZEmvV-Ufsp5HyY5u6vEpkDI8YN1fxkAXhoOlJKEGRI9-eTREGq65dB7lVrM3mXUchuq-WsBUtf3Ac_bJTjdhTZPoX0V5I1sFV-APTe1CkSO1rsUdNCbF-E6_3Pk1WTUV5qpX26QE06NhDVxbvIAGsV4dxtQAacTtvBKwROHMi-EIM_qUnyajtL9vGnlhAlMi-oLgj12riiRPnc3_skIb0CJVfLpF5Y9g61k_vptdRG2Zlt7Yb_karqlsOyqPLs2GIaqplAoAkVGX_XDFT_jfKgI7OP-MlDY8zOxqFYAeyBWVOqluEW1b6rdqa9sCXavvsxiZ_OR1hd1VPsGoZExQgkYXxsqAsatlPgibqSk4U9P5giby_dItAeea2H5sZ2Xpf4WeinDYVNdWpGGFS0AndbdyWesmfin-EvkQicB17sjHNoA23dbHnto12XGUMgdAxOtlTC0i8Lab5YAxi1o8klBQJeBsTd3KxWO58ImpxjWnLWJKjkuL3ozXE6luB6roUGOg=s64",
      "userId": "03076491501259095137"
     },
     "user_tz": -120
    },
    "id": "3d62f410",
    "outputId": "d7bb5dba-89ae-4fb1-edc8-a5d5c4292ca7"
   },
   "outputs": [],
   "source": [
    "nr_clienst=1\n",
    "is_private=False\n",
    "server = Server(nr_clients=nr_clients, nr_training_rounds=nr_training_rounds, lr=lr, epochs=client_epochs, data=data,\n",
    "                batch_size=batch_size, max_grad_norm=max_grad_norm, epsilon=epsilon,\n",
    "                n_accumulation_steps=n_accumulation_steps, is_parallel=is_parallel, is_private=is_private,\n",
    "                device=device, verbose=\"server\")\n",
    "test_losses, test_accs = server(early=False, patience=3, delta=0.05)"
   ]
  },
  {
   "cell_type": "code",
   "execution_count": null,
   "id": "1465a694",
   "metadata": {
    "colab": {
     "base_uri": "https://localhost:8080/",
     "height": 429
    },
    "executionInfo": {
     "elapsed": 903,
     "status": "ok",
     "timestamp": 1623255476896,
     "user": {
      "displayName": "Jan Bauer",
      "photoUrl": "https://lh3.googleusercontent.com/a-/AOh14GjMoILSkoLiVLRc0LV33CL7HiqBQDBHd7s_S7yqS5E2Qp9tA6lGXFYADcKPen_-o_naHrXfx9GC1hLS0EkfWe6frsNHCxWniY0ffqOzXLhgfpMpOCe1X25M0qQuXNDsDbJYdXDgEOiCmCK52ugSHESn9My4pdOjNKtNJooFAJFNfNXrbhlunN6W9MU62DeQNySpUbR8Gq7srfh4ErEGHQnX2geoviJadz-aS4QD9XIZhF8Mc_2YxAe0yjbZ1Z_bj8ZEmvV-Ufsp5HyY5u6vEpkDI8YN1fxkAXhoOlJKEGRI9-eTREGq65dB7lVrM3mXUchuq-WsBUtf3Ac_bJTjdhTZPoX0V5I1sFV-APTe1CkSO1rsUdNCbF-E6_3Pk1WTUV5qpX26QE06NhDVxbvIAGsV4dxtQAacTtvBKwROHMi-EIM_qUnyajtL9vGnlhAlMi-oLgj12riiRPnc3_skIb0CJVfLpF5Y9g61k_vptdRG2Zlt7Yb_karqlsOyqPLs2GIaqplAoAkVGX_XDFT_jfKgI7OP-MlDY8zOxqFYAeyBWVOqluEW1b6rdqa9sCXavvsxiZ_OR1hd1VPsGoZExQgkYXxsqAsatlPgibqSk4U9P5giby_dItAeea2H5sZ2Xpf4WeinDYVNdWpGGFS0AndbdyWesmfin-EvkQicB17sjHNoA23dbHnto12XGUMgdAxOtlTC0i8Lab5YAxi1o8klBQJeBsTd3KxWO58ImpxjWnLWJKjkuL3ozXE6luB6roUGOg=s64",
      "userId": "03076491501259095137"
     },
     "user_tz": -120
    },
    "id": "1465a694",
    "outputId": "8e3f18de-053e-46b8-ee23-970f55b75f28"
   },
   "outputs": [],
   "source": [
    "plot_metrics(test_losses, test_accs)"
   ]
  },
  {
   "cell_type": "markdown",
   "id": "dc57fade",
   "metadata": {
    "id": "dc57fade"
   },
   "source": [
    "## 2. Experiments on MNIST Dataset"
   ]
  },
  {
   "cell_type": "code",
   "execution_count": null,
   "id": "uwHtZ8MI69ld",
   "metadata": {
    "executionInfo": {
     "elapsed": 224,
     "status": "ok",
     "timestamp": 1623250976410,
     "user": {
      "displayName": "Jan Bauer",
      "photoUrl": "https://lh3.googleusercontent.com/a-/AOh14GjMoILSkoLiVLRc0LV33CL7HiqBQDBHd7s_S7yqS5E2Qp9tA6lGXFYADcKPen_-o_naHrXfx9GC1hLS0EkfWe6frsNHCxWniY0ffqOzXLhgfpMpOCe1X25M0qQuXNDsDbJYdXDgEOiCmCK52ugSHESn9My4pdOjNKtNJooFAJFNfNXrbhlunN6W9MU62DeQNySpUbR8Gq7srfh4ErEGHQnX2geoviJadz-aS4QD9XIZhF8Mc_2YxAe0yjbZ1Z_bj8ZEmvV-Ufsp5HyY5u6vEpkDI8YN1fxkAXhoOlJKEGRI9-eTREGq65dB7lVrM3mXUchuq-WsBUtf3Ac_bJTjdhTZPoX0V5I1sFV-APTe1CkSO1rsUdNCbF-E6_3Pk1WTUV5qpX26QE06NhDVxbvIAGsV4dxtQAacTtvBKwROHMi-EIM_qUnyajtL9vGnlhAlMi-oLgj12riiRPnc3_skIb0CJVfLpF5Y9g61k_vptdRG2Zlt7Yb_karqlsOyqPLs2GIaqplAoAkVGX_XDFT_jfKgI7OP-MlDY8zOxqFYAeyBWVOqluEW1b6rdqa9sCXavvsxiZ_OR1hd1VPsGoZExQgkYXxsqAsatlPgibqSk4U9P5giby_dItAeea2H5sZ2Xpf4WeinDYVNdWpGGFS0AndbdyWesmfin-EvkQicB17sjHNoA23dbHnto12XGUMgdAxOtlTC0i8Lab5YAxi1o8klBQJeBsTd3KxWO58ImpxjWnLWJKjkuL3ozXE6luB6roUGOg=s64",
      "userId": "03076491501259095137"
     },
     "user_tz": -120
    },
    "id": "uwHtZ8MI69ld"
   },
   "outputs": [],
   "source": [
    "data = 'MNIST'\n",
    "batch_size = 64"
   ]
  },
  {
   "cell_type": "code",
   "execution_count": null,
   "id": "bf5b56f4",
   "metadata": {
    "executionInfo": {
     "elapsed": 241,
     "status": "ok",
     "timestamp": 1623250978050,
     "user": {
      "displayName": "Jan Bauer",
      "photoUrl": "https://lh3.googleusercontent.com/a-/AOh14GjMoILSkoLiVLRc0LV33CL7HiqBQDBHd7s_S7yqS5E2Qp9tA6lGXFYADcKPen_-o_naHrXfx9GC1hLS0EkfWe6frsNHCxWniY0ffqOzXLhgfpMpOCe1X25M0qQuXNDsDbJYdXDgEOiCmCK52ugSHESn9My4pdOjNKtNJooFAJFNfNXrbhlunN6W9MU62DeQNySpUbR8Gq7srfh4ErEGHQnX2geoviJadz-aS4QD9XIZhF8Mc_2YxAe0yjbZ1Z_bj8ZEmvV-Ufsp5HyY5u6vEpkDI8YN1fxkAXhoOlJKEGRI9-eTREGq65dB7lVrM3mXUchuq-WsBUtf3Ac_bJTjdhTZPoX0V5I1sFV-APTe1CkSO1rsUdNCbF-E6_3Pk1WTUV5qpX26QE06NhDVxbvIAGsV4dxtQAacTtvBKwROHMi-EIM_qUnyajtL9vGnlhAlMi-oLgj12riiRPnc3_skIb0CJVfLpF5Y9g61k_vptdRG2Zlt7Yb_karqlsOyqPLs2GIaqplAoAkVGX_XDFT_jfKgI7OP-MlDY8zOxqFYAeyBWVOqluEW1b6rdqa9sCXavvsxiZ_OR1hd1VPsGoZExQgkYXxsqAsatlPgibqSk4U9P5giby_dItAeea2H5sZ2Xpf4WeinDYVNdWpGGFS0AndbdyWesmfin-EvkQicB17sjHNoA23dbHnto12XGUMgdAxOtlTC0i8Lab5YAxi1o8klBQJeBsTd3KxWO58ImpxjWnLWJKjkuL3ozXE6luB6roUGOg=s64",
      "userId": "03076491501259095137"
     },
     "user_tz": -120
    },
    "id": "bf5b56f4"
   },
   "outputs": [],
   "source": [
    "# --- TRAINING PARAMETERS ---\n",
    "nr_clients = 3\n",
    "lr = 0.01\n",
    "client_epochs = 10\n",
    "nr_training_rounds = 20\n",
    "is_parallel = True"
   ]
  },
  {
   "cell_type": "code",
   "execution_count": null,
   "id": "635d74fa",
   "metadata": {
    "executionInfo": {
     "elapsed": 3,
     "status": "ok",
     "timestamp": 1623250979044,
     "user": {
      "displayName": "Jan Bauer",
      "photoUrl": "https://lh3.googleusercontent.com/a-/AOh14GjMoILSkoLiVLRc0LV33CL7HiqBQDBHd7s_S7yqS5E2Qp9tA6lGXFYADcKPen_-o_naHrXfx9GC1hLS0EkfWe6frsNHCxWniY0ffqOzXLhgfpMpOCe1X25M0qQuXNDsDbJYdXDgEOiCmCK52ugSHESn9My4pdOjNKtNJooFAJFNfNXrbhlunN6W9MU62DeQNySpUbR8Gq7srfh4ErEGHQnX2geoviJadz-aS4QD9XIZhF8Mc_2YxAe0yjbZ1Z_bj8ZEmvV-Ufsp5HyY5u6vEpkDI8YN1fxkAXhoOlJKEGRI9-eTREGq65dB7lVrM3mXUchuq-WsBUtf3Ac_bJTjdhTZPoX0V5I1sFV-APTe1CkSO1rsUdNCbF-E6_3Pk1WTUV5qpX26QE06NhDVxbvIAGsV4dxtQAacTtvBKwROHMi-EIM_qUnyajtL9vGnlhAlMi-oLgj12riiRPnc3_skIb0CJVfLpF5Y9g61k_vptdRG2Zlt7Yb_karqlsOyqPLs2GIaqplAoAkVGX_XDFT_jfKgI7OP-MlDY8zOxqFYAeyBWVOqluEW1b6rdqa9sCXavvsxiZ_OR1hd1VPsGoZExQgkYXxsqAsatlPgibqSk4U9P5giby_dItAeea2H5sZ2Xpf4WeinDYVNdWpGGFS0AndbdyWesmfin-EvkQicB17sjHNoA23dbHnto12XGUMgdAxOtlTC0i8Lab5YAxi1o8klBQJeBsTd3KxWO58ImpxjWnLWJKjkuL3ozXE6luB6roUGOg=s64",
      "userId": "03076491501259095137"
     },
     "user_tz": -120
    },
    "id": "635d74fa"
   },
   "outputs": [],
   "source": [
    "# --- DIFFERENTIAL PRIVACY PARAMETERS ---\n",
    "is_private = False\n",
    "max_grad_norm = 1.2\n",
    "epsilon = 5\n",
    "epsilon_training_iteration = epsilon / nr_training_rounds\n",
    "virtual_batch_size = 2 * batch_size\n",
    "assert virtual_batch_size % batch_size == 0  # VIRTUAL_BATCH_SIZE should be divisible by BATCH_SIZE\n",
    "n_accumulation_steps = int(virtual_batch_size / batch_size)"
   ]
  },
  {
   "cell_type": "code",
   "execution_count": null,
   "id": "3835b253",
   "metadata": {
    "colab": {
     "base_uri": "https://localhost:8080/",
     "height": 710
    },
    "executionInfo": {
     "elapsed": 287310,
     "status": "error",
     "timestamp": 1623251445634,
     "user": {
      "displayName": "Jan Bauer",
      "photoUrl": "https://lh3.googleusercontent.com/a-/AOh14GjMoILSkoLiVLRc0LV33CL7HiqBQDBHd7s_S7yqS5E2Qp9tA6lGXFYADcKPen_-o_naHrXfx9GC1hLS0EkfWe6frsNHCxWniY0ffqOzXLhgfpMpOCe1X25M0qQuXNDsDbJYdXDgEOiCmCK52ugSHESn9My4pdOjNKtNJooFAJFNfNXrbhlunN6W9MU62DeQNySpUbR8Gq7srfh4ErEGHQnX2geoviJadz-aS4QD9XIZhF8Mc_2YxAe0yjbZ1Z_bj8ZEmvV-Ufsp5HyY5u6vEpkDI8YN1fxkAXhoOlJKEGRI9-eTREGq65dB7lVrM3mXUchuq-WsBUtf3Ac_bJTjdhTZPoX0V5I1sFV-APTe1CkSO1rsUdNCbF-E6_3Pk1WTUV5qpX26QE06NhDVxbvIAGsV4dxtQAacTtvBKwROHMi-EIM_qUnyajtL9vGnlhAlMi-oLgj12riiRPnc3_skIb0CJVfLpF5Y9g61k_vptdRG2Zlt7Yb_karqlsOyqPLs2GIaqplAoAkVGX_XDFT_jfKgI7OP-MlDY8zOxqFYAeyBWVOqluEW1b6rdqa9sCXavvsxiZ_OR1hd1VPsGoZExQgkYXxsqAsatlPgibqSk4U9P5giby_dItAeea2H5sZ2Xpf4WeinDYVNdWpGGFS0AndbdyWesmfin-EvkQicB17sjHNoA23dbHnto12XGUMgdAxOtlTC0i8Lab5YAxi1o8klBQJeBsTd3KxWO58ImpxjWnLWJKjkuL3ozXE6luB6roUGOg=s64",
      "userId": "03076491501259095137"
     },
     "user_tz": -120
    },
    "id": "3835b253",
    "outputId": "e8406ba3-44c8-4fd2-ad7a-f2d061ab83a9"
   },
   "outputs": [],
   "source": [
    "server = Server(nr_clients=nr_clients, nr_training_rounds=nr_training_rounds, lr=lr, epochs=client_epochs, data=data, batch_size=batch_size, max_grad_norm=max_grad_norm, epsilon=epsilon, n_accumulation_steps=n_accumulation_steps, epsilon_training_iteration=epsilon_training_iteration, is_parallel=is_parallel, is_private=is_private, verbose=\"server\")\n",
    "test_losses, test_accs = server(early=True, patience=5, delta=0.05)"
   ]
  },
  {
   "cell_type": "code",
   "execution_count": null,
   "id": "5a55c61a",
   "metadata": {
    "id": "5a55c61a",
    "outputId": "ec502a0c-6981-4f85-b99f-1587af913259"
   },
   "outputs": [],
   "source": [
    "plot_metrics(test_losses, test_accs)"
   ]
  },
  {
   "cell_type": "code",
   "execution_count": null,
   "id": "sweFlu_wRlQ3",
   "metadata": {
    "colab": {
     "base_uri": "https://localhost:8080/",
     "height": 957
    },
    "executionInfo": {
     "elapsed": 245,
     "status": "error",
     "timestamp": 1623250611657,
     "user": {
      "displayName": "Jan Bauer",
      "photoUrl": "https://lh3.googleusercontent.com/a-/AOh14GjMoILSkoLiVLRc0LV33CL7HiqBQDBHd7s_S7yqS5E2Qp9tA6lGXFYADcKPen_-o_naHrXfx9GC1hLS0EkfWe6frsNHCxWniY0ffqOzXLhgfpMpOCe1X25M0qQuXNDsDbJYdXDgEOiCmCK52ugSHESn9My4pdOjNKtNJooFAJFNfNXrbhlunN6W9MU62DeQNySpUbR8Gq7srfh4ErEGHQnX2geoviJadz-aS4QD9XIZhF8Mc_2YxAe0yjbZ1Z_bj8ZEmvV-Ufsp5HyY5u6vEpkDI8YN1fxkAXhoOlJKEGRI9-eTREGq65dB7lVrM3mXUchuq-WsBUtf3Ac_bJTjdhTZPoX0V5I1sFV-APTe1CkSO1rsUdNCbF-E6_3Pk1WTUV5qpX26QE06NhDVxbvIAGsV4dxtQAacTtvBKwROHMi-EIM_qUnyajtL9vGnlhAlMi-oLgj12riiRPnc3_skIb0CJVfLpF5Y9g61k_vptdRG2Zlt7Yb_karqlsOyqPLs2GIaqplAoAkVGX_XDFT_jfKgI7OP-MlDY8zOxqFYAeyBWVOqluEW1b6rdqa9sCXavvsxiZ_OR1hd1VPsGoZExQgkYXxsqAsatlPgibqSk4U9P5giby_dItAeea2H5sZ2Xpf4WeinDYVNdWpGGFS0AndbdyWesmfin-EvkQicB17sjHNoA23dbHnto12XGUMgdAxOtlTC0i8Lab5YAxi1o8klBQJeBsTd3KxWO58ImpxjWnLWJKjkuL3ozXE6luB6roUGOg=s64",
      "userId": "03076491501259095137"
     },
     "user_tz": -120
    },
    "id": "sweFlu_wRlQ3",
    "outputId": "a48c559b-a1bc-4892-8586-d063333fe5c8"
   },
   "outputs": [],
   "source": [
    "server = Server(nr_clients=nr_clients, nr_training_rounds=nr_training_rounds, lr=lr, epochs=client_epochs, data=data, batch_size=batch_size, max_grad_norm=max_grad_norm, epsilon=epsilon, n_accumulation_steps=n_accumulation_steps, epsilon_training_iteration=epsilon_training_iteration, is_parallel=is_parallel, device=device, is_private=is_private)\n",
    "test_losses, test_accs = server(early=True, patience=5, delta=0.05)"
   ]
  },
  {
   "cell_type": "markdown",
   "id": "8c4f27eb",
   "metadata": {
    "id": "8c4f27eb"
   },
   "source": [
    "## 3. Experiments on FEMNIST Dataset"
   ]
  },
  {
   "cell_type": "code",
   "execution_count": null,
   "id": "uAwGVIjK6x17",
   "metadata": {
    "executionInfo": {
     "elapsed": 319,
     "status": "ok",
     "timestamp": 1623252730285,
     "user": {
      "displayName": "Jan Bauer",
      "photoUrl": "https://lh3.googleusercontent.com/a-/AOh14GjMoILSkoLiVLRc0LV33CL7HiqBQDBHd7s_S7yqS5E2Qp9tA6lGXFYADcKPen_-o_naHrXfx9GC1hLS0EkfWe6frsNHCxWniY0ffqOzXLhgfpMpOCe1X25M0qQuXNDsDbJYdXDgEOiCmCK52ugSHESn9My4pdOjNKtNJooFAJFNfNXrbhlunN6W9MU62DeQNySpUbR8Gq7srfh4ErEGHQnX2geoviJadz-aS4QD9XIZhF8Mc_2YxAe0yjbZ1Z_bj8ZEmvV-Ufsp5HyY5u6vEpkDI8YN1fxkAXhoOlJKEGRI9-eTREGq65dB7lVrM3mXUchuq-WsBUtf3Ac_bJTjdhTZPoX0V5I1sFV-APTe1CkSO1rsUdNCbF-E6_3Pk1WTUV5qpX26QE06NhDVxbvIAGsV4dxtQAacTtvBKwROHMi-EIM_qUnyajtL9vGnlhAlMi-oLgj12riiRPnc3_skIb0CJVfLpF5Y9g61k_vptdRG2Zlt7Yb_karqlsOyqPLs2GIaqplAoAkVGX_XDFT_jfKgI7OP-MlDY8zOxqFYAeyBWVOqluEW1b6rdqa9sCXavvsxiZ_OR1hd1VPsGoZExQgkYXxsqAsatlPgibqSk4U9P5giby_dItAeea2H5sZ2Xpf4WeinDYVNdWpGGFS0AndbdyWesmfin-EvkQicB17sjHNoA23dbHnto12XGUMgdAxOtlTC0i8Lab5YAxi1o8klBQJeBsTd3KxWO58ImpxjWnLWJKjkuL3ozXE6luB6roUGOg=s64",
      "userId": "03076491501259095137"
     },
     "user_tz": -120
    },
    "id": "uAwGVIjK6x17"
   },
   "outputs": [],
   "source": [
    "data = \"FEMNIST\"\n",
    "batch_size = 64"
   ]
  },
  {
   "cell_type": "code",
   "execution_count": null,
   "id": "a8633b60",
   "metadata": {
    "executionInfo": {
     "elapsed": 2,
     "status": "ok",
     "timestamp": 1623252730643,
     "user": {
      "displayName": "Jan Bauer",
      "photoUrl": "https://lh3.googleusercontent.com/a-/AOh14GjMoILSkoLiVLRc0LV33CL7HiqBQDBHd7s_S7yqS5E2Qp9tA6lGXFYADcKPen_-o_naHrXfx9GC1hLS0EkfWe6frsNHCxWniY0ffqOzXLhgfpMpOCe1X25M0qQuXNDsDbJYdXDgEOiCmCK52ugSHESn9My4pdOjNKtNJooFAJFNfNXrbhlunN6W9MU62DeQNySpUbR8Gq7srfh4ErEGHQnX2geoviJadz-aS4QD9XIZhF8Mc_2YxAe0yjbZ1Z_bj8ZEmvV-Ufsp5HyY5u6vEpkDI8YN1fxkAXhoOlJKEGRI9-eTREGq65dB7lVrM3mXUchuq-WsBUtf3Ac_bJTjdhTZPoX0V5I1sFV-APTe1CkSO1rsUdNCbF-E6_3Pk1WTUV5qpX26QE06NhDVxbvIAGsV4dxtQAacTtvBKwROHMi-EIM_qUnyajtL9vGnlhAlMi-oLgj12riiRPnc3_skIb0CJVfLpF5Y9g61k_vptdRG2Zlt7Yb_karqlsOyqPLs2GIaqplAoAkVGX_XDFT_jfKgI7OP-MlDY8zOxqFYAeyBWVOqluEW1b6rdqa9sCXavvsxiZ_OR1hd1VPsGoZExQgkYXxsqAsatlPgibqSk4U9P5giby_dItAeea2H5sZ2Xpf4WeinDYVNdWpGGFS0AndbdyWesmfin-EvkQicB17sjHNoA23dbHnto12XGUMgdAxOtlTC0i8Lab5YAxi1o8klBQJeBsTd3KxWO58ImpxjWnLWJKjkuL3ozXE6luB6roUGOg=s64",
      "userId": "03076491501259095137"
     },
     "user_tz": -120
    },
    "id": "a8633b60"
   },
   "outputs": [],
   "source": [
    "# --- TRAINING PARAMETERS ---\n",
    "nr_clients = 3\n",
    "lr = 0.01\n",
    "client_epochs = 10\n",
    "nr_training_rounds = 20\n",
    "is_parallel = True"
   ]
  },
  {
   "cell_type": "code",
   "execution_count": null,
   "id": "19cfb800",
   "metadata": {
    "executionInfo": {
     "elapsed": 1,
     "status": "ok",
     "timestamp": 1623252731568,
     "user": {
      "displayName": "Jan Bauer",
      "photoUrl": "https://lh3.googleusercontent.com/a-/AOh14GjMoILSkoLiVLRc0LV33CL7HiqBQDBHd7s_S7yqS5E2Qp9tA6lGXFYADcKPen_-o_naHrXfx9GC1hLS0EkfWe6frsNHCxWniY0ffqOzXLhgfpMpOCe1X25M0qQuXNDsDbJYdXDgEOiCmCK52ugSHESn9My4pdOjNKtNJooFAJFNfNXrbhlunN6W9MU62DeQNySpUbR8Gq7srfh4ErEGHQnX2geoviJadz-aS4QD9XIZhF8Mc_2YxAe0yjbZ1Z_bj8ZEmvV-Ufsp5HyY5u6vEpkDI8YN1fxkAXhoOlJKEGRI9-eTREGq65dB7lVrM3mXUchuq-WsBUtf3Ac_bJTjdhTZPoX0V5I1sFV-APTe1CkSO1rsUdNCbF-E6_3Pk1WTUV5qpX26QE06NhDVxbvIAGsV4dxtQAacTtvBKwROHMi-EIM_qUnyajtL9vGnlhAlMi-oLgj12riiRPnc3_skIb0CJVfLpF5Y9g61k_vptdRG2Zlt7Yb_karqlsOyqPLs2GIaqplAoAkVGX_XDFT_jfKgI7OP-MlDY8zOxqFYAeyBWVOqluEW1b6rdqa9sCXavvsxiZ_OR1hd1VPsGoZExQgkYXxsqAsatlPgibqSk4U9P5giby_dItAeea2H5sZ2Xpf4WeinDYVNdWpGGFS0AndbdyWesmfin-EvkQicB17sjHNoA23dbHnto12XGUMgdAxOtlTC0i8Lab5YAxi1o8klBQJeBsTd3KxWO58ImpxjWnLWJKjkuL3ozXE6luB6roUGOg=s64",
      "userId": "03076491501259095137"
     },
     "user_tz": -120
    },
    "id": "19cfb800"
   },
   "outputs": [],
   "source": [
    "# --- DIFFERENTIAL PRIVACY PARAMETERS ---\n",
    "is_private = False\n",
    "max_grad_norm = 1.2\n",
    "epsilon = 5\n",
    "epsilon_training_iteration = epsilon / nr_training_rounds\n",
    "virtual_batch_size = 2 * batch_size\n",
    "assert virtual_batch_size % batch_size == 0  # VIRTUAL_BATCH_SIZE should be divisible by BATCH_SIZE\n",
    "n_accumulation_steps = int(virtual_batch_size / batch_size)"
   ]
  },
  {
   "cell_type": "code",
   "execution_count": null,
   "id": "28cc63ba",
   "metadata": {
    "colab": {
     "base_uri": "https://localhost:8080/"
    },
    "executionInfo": {
     "elapsed": 853304,
     "status": "ok",
     "timestamp": 1623253950154,
     "user": {
      "displayName": "Jan Bauer",
      "photoUrl": "https://lh3.googleusercontent.com/a-/AOh14GjMoILSkoLiVLRc0LV33CL7HiqBQDBHd7s_S7yqS5E2Qp9tA6lGXFYADcKPen_-o_naHrXfx9GC1hLS0EkfWe6frsNHCxWniY0ffqOzXLhgfpMpOCe1X25M0qQuXNDsDbJYdXDgEOiCmCK52ugSHESn9My4pdOjNKtNJooFAJFNfNXrbhlunN6W9MU62DeQNySpUbR8Gq7srfh4ErEGHQnX2geoviJadz-aS4QD9XIZhF8Mc_2YxAe0yjbZ1Z_bj8ZEmvV-Ufsp5HyY5u6vEpkDI8YN1fxkAXhoOlJKEGRI9-eTREGq65dB7lVrM3mXUchuq-WsBUtf3Ac_bJTjdhTZPoX0V5I1sFV-APTe1CkSO1rsUdNCbF-E6_3Pk1WTUV5qpX26QE06NhDVxbvIAGsV4dxtQAacTtvBKwROHMi-EIM_qUnyajtL9vGnlhAlMi-oLgj12riiRPnc3_skIb0CJVfLpF5Y9g61k_vptdRG2Zlt7Yb_karqlsOyqPLs2GIaqplAoAkVGX_XDFT_jfKgI7OP-MlDY8zOxqFYAeyBWVOqluEW1b6rdqa9sCXavvsxiZ_OR1hd1VPsGoZExQgkYXxsqAsatlPgibqSk4U9P5giby_dItAeea2H5sZ2Xpf4WeinDYVNdWpGGFS0AndbdyWesmfin-EvkQicB17sjHNoA23dbHnto12XGUMgdAxOtlTC0i8Lab5YAxi1o8klBQJeBsTd3KxWO58ImpxjWnLWJKjkuL3ozXE6luB6roUGOg=s64",
      "userId": "03076491501259095137"
     },
     "user_tz": -120
    },
    "id": "28cc63ba",
    "outputId": "be275df0-7ff4-4adf-cf22-5b0b061f68b6"
   },
   "outputs": [],
   "source": [
    "torch.cuda.empty_cache()\n",
    "server = Server(nr_clients=nr_clients, nr_training_rounds=nr_training_rounds, lr=lr, epochs=client_epochs, data=data, batch_size=batch_size, max_grad_norm=max_grad_norm, epsilon=epsilon, n_accumulation_steps=n_accumulation_steps, epsilon_training_iteration=epsilon_training_iteration, is_parallel=is_parallel, is_private=is_private, device=device, verbose=\"server\")\n",
    "test_losses, test_accs = server(early=True, patience=3, delta=0.05)"
   ]
  },
  {
   "cell_type": "code",
   "execution_count": null,
   "id": "J84LbWXcaTbv",
   "metadata": {
    "id": "J84LbWXcaTbv"
   },
   "outputs": [],
   "source": [
    "plot_metrics(test_losses, test_accs)"
   ]
  },
  {
   "cell_type": "code",
   "execution_count": null,
   "id": "014ee5eb-738e-41a3-861a-01c7f1fc8e52",
   "metadata": {
    "id": "014ee5eb-738e-41a3-861a-01c7f1fc8e52"
   },
   "outputs": [],
   "source": [
    "is_private = True\n",
    "server = Server(nr_clients=nr_clients, nr_training_rounds=nr_training_rounds, lr=lr, epochs=client_epochs, data=data, batch_size=batch_size, max_grad_norm=max_grad_norm, epsilon=epsilon, n_accumulation_steps=n_accumulation_steps, epsilon_training_iteration=epsilon_training_iteration, is_parallel=is_parallel, is_private=is_private, device=device, verbose=\"all\")\n",
    "test_losses, test_accs = server(early=True, patience=3, delta=0.05)"
   ]
  },
  {
   "cell_type": "code",
   "execution_count": null,
   "id": "gGl0poWibeNS",
   "metadata": {
    "id": "gGl0poWibeNS"
   },
   "outputs": [],
   "source": [
    "plot_metrics(test_losses, test_accs)"
   ]
  }
 ],
 "metadata": {
  "accelerator": "GPU",
  "colab": {
   "collapsed_sections": [],
   "name": "index.ipynb",
   "provenance": []
  },
  "kernelspec": {
   "name": "python3",
   "language": "python",
   "display_name": "Python 3"
  },
  "language_info": {
   "codemirror_mode": {
    "name": "ipython",
    "version": 3
   },
   "file_extension": ".py",
   "mimetype": "text/x-python",
   "name": "python",
   "nbconvert_exporter": "python",
   "pygments_lexer": "ipython3",
   "version": "3.8.10"
  }
 },
 "nbformat": 4,
 "nbformat_minor": 5
}