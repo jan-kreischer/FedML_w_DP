{
  "nbformat": 4,
  "nbformat_minor": 5,
  "metadata": {
    "accelerator": "GPU",
    "colab": {
      "name": "index.ipynb",
      "provenance": [],
      "collapsed_sections": [],
      "include_colab_link": true
    },
    "kernelspec": {
      "display_name": "epfl_opt4ml",
      "language": "python",
      "name": "epfl_opt4ml"
    },
    "language_info": {
      "codemirror_mode": {
        "name": "ipython",
        "version": 3
      },
      "file_extension": ".py",
      "mimetype": "text/x-python",
      "name": "python",
      "nbconvert_exporter": "python",
      "pygments_lexer": "ipython3",
      "version": "3.8.10"
    }
  },
  "cells": [
    {
      "cell_type": "markdown",
      "metadata": {
        "id": "view-in-github",
        "colab_type": "text"
      },
      "source": [
        "<a href=\"https://colab.research.google.com/github/jan-kreischer/EPFL_OPT4ML/blob/main/src/index.ipynb\" target=\"_parent\"><img src=\"https://colab.research.google.com/assets/colab-badge.svg\" alt=\"Open In Colab\"/></a>"
      ]
    },
    {
      "cell_type": "markdown",
      "metadata": {
        "id": "082fd227"
      },
      "source": [
        "<a href=\"https://colab.research.google.com/github/xavoliva6/oml_project/blob/main/src/index.ipynb\" target=\"_parent\"><img src=\"https://colab.research.google.com/assets/colab-badge.svg\" alt=\"Open In Colab\"/></a>"
      ],
      "id": "082fd227"
    },
    {
      "cell_type": "markdown",
      "metadata": {
        "id": "87c76749"
      },
      "source": [
        "# Federated Machine Learning with Differential Privacy"
      ],
      "id": "87c76749"
    },
    {
      "cell_type": "markdown",
      "metadata": {
        "id": "2be51cc5"
      },
      "source": [
        "**Clone Repo**<br/>\n",
        "Run the following cells in Google Colab in order to clone the code from Github to your Google Drive or pull the latest changes."
      ],
      "id": "2be51cc5"
    },
    {
      "cell_type": "code",
      "metadata": {
        "colab": {
          "base_uri": "https://localhost:8080/"
        },
        "id": "78c7a16a",
        "outputId": "714f0663-e901-4d23-c5ba-86a4204b9e15"
      },
      "source": [
        "from google.colab import drive\n",
        "drive.mount('/content/gdrive')"
      ],
      "id": "78c7a16a",
      "execution_count": null,
      "outputs": [
        {
          "output_type": "stream",
          "text": [
            "Drive already mounted at /content/gdrive; to attempt to forcibly remount, call drive.mount(\"/content/gdrive\", force_remount=True).\n"
          ],
          "name": "stdout"
        }
      ]
    },
    {
      "cell_type": "code",
      "metadata": {
        "colab": {
          "base_uri": "https://localhost:8080/"
        },
        "id": "763cf8e5",
        "outputId": "b4432ab5-f547-4bd0-8363-3640f07384c1"
      },
      "source": [
        "%cd /content/gdrive/My Drive"
      ],
      "id": "763cf8e5",
      "execution_count": null,
      "outputs": [
        {
          "output_type": "stream",
          "text": [
            "/content/gdrive/My Drive\n"
          ],
          "name": "stdout"
        }
      ]
    },
    {
      "cell_type": "code",
      "metadata": {
        "colab": {
          "base_uri": "https://localhost:8080/"
        },
        "id": "bb77a7c4",
        "outputId": "c10a60c6-f267-4b25-9466-304439639822"
      },
      "source": [
        "# Run this cell if you did not clone the repo yet\n",
        "! git clone https://github.com/jan-kreischer/EPFL_OPT4ML.git OPT4ML"
      ],
      "id": "bb77a7c4",
      "execution_count": null,
      "outputs": [
        {
          "output_type": "stream",
          "text": [
            "fatal: destination path 'OPT4ML' already exists and is not an empty directory.\n"
          ],
          "name": "stdout"
        }
      ]
    },
    {
      "cell_type": "code",
      "metadata": {
        "colab": {
          "base_uri": "https://localhost:8080/"
        },
        "id": "a45f0cc4",
        "outputId": "9a4df98f-b73d-40cb-ff41-0552648d7b24"
      },
      "source": [
        "# Run this cell to pull the latest changes\n",
        "%cd /content/gdrive/My Drive/OPT4ML\n",
        "! git config --global user.email \"student@epfl.ch\"\n",
        "! git config --global user.name \"Student\"\n",
        "! git stash\n",
        "! git pull origin main"
      ],
      "id": "a45f0cc4",
      "execution_count": null,
      "outputs": [
        {
          "output_type": "stream",
          "text": [
            "/content/gdrive/My Drive/OPT4ML\n",
            "Saved working directory and index state WIP on main: 66cc624 Added gpu support\n",
            "From https://github.com/xavoliva6/oml_project\n",
            " * branch            main       -> FETCH_HEAD\n",
            "Already up to date.\n"
          ],
          "name": "stdout"
        }
      ]
    },
    {
      "cell_type": "markdown",
      "metadata": {
        "id": "06c844e3"
      },
      "source": [
        "**Colab Support**<br/>\n",
        "Only run the following lines if you want to run the code on Google Colab"
      ],
      "id": "06c844e3"
    },
    {
      "cell_type": "code",
      "metadata": {
        "colab": {
          "base_uri": "https://localhost:8080/"
        },
        "id": "a4fe276a",
        "outputId": "524a6137-262d-4e15-c1af-1b2f7c31b250"
      },
      "source": [
        "# Enable access to files stored in Google Drive\n",
        "from google.colab import drive\n",
        "drive.mount('/content/gdrive/')"
      ],
      "id": "a4fe276a",
      "execution_count": 1,
      "outputs": [
        {
          "output_type": "stream",
          "text": [
            "Mounted at /content/gdrive/\n"
          ],
          "name": "stdout"
        }
      ]
    },
    {
      "cell_type": "code",
      "metadata": {
        "colab": {
          "base_uri": "https://localhost:8080/"
        },
        "id": "5ab7fecb",
        "outputId": "17ce21aa-364a-4914-b255-45de59f2e971"
      },
      "source": [
        "%cd /content/gdrive/My Drive/OPT4ML/src"
      ],
      "id": "5ab7fecb",
      "execution_count": 2,
      "outputs": [
        {
          "output_type": "stream",
          "text": [
            "/content/gdrive/My Drive/OPT4ML/src\n"
          ],
          "name": "stdout"
        }
      ]
    },
    {
      "cell_type": "markdown",
      "metadata": {
        "id": "00a6f1b1"
      },
      "source": [
        "# Main"
      ],
      "id": "00a6f1b1"
    },
    {
      "cell_type": "code",
      "metadata": {
        "id": "f2507f5d"
      },
      "source": [
        "# Install necessary requirements\n",
        "!pip install -r ../requirements.txt"
      ],
      "id": "f2507f5d",
      "execution_count": null,
      "outputs": []
    },
    {
      "cell_type": "code",
      "metadata": {
        "colab": {
          "base_uri": "https://localhost:8080/"
        },
        "id": "c90e203b",
        "outputId": "7da7ff9c-c69b-4127-e49d-60c1dbf54b93"
      },
      "source": [
        "# Make sure cuda support is available\n",
        "import torch\n",
        "if torch.cuda.is_available():  \n",
        "  device_name = \"cuda:0\" \n",
        "else:  \n",
        "  device_name = \"cpu\"  \n",
        "print(\"device_name: {}\".format(device_name))\n",
        "device = torch.device(device_name)"
      ],
      "id": "c90e203b",
      "execution_count": 4,
      "outputs": [
        {
          "output_type": "stream",
          "text": [
            "device_name: cuda:0\n"
          ],
          "name": "stdout"
        }
      ]
    },
    {
      "cell_type": "code",
      "metadata": {
        "id": "ba15fd75"
      },
      "source": [
        "import numpy as np\n",
        "import warnings\n",
        "import matplotlib.pyplot as plt\n",
        "from utils import *\n",
        "\n",
        "from model import CNN\n",
        "from server import Server\n"
      ],
      "id": "ba15fd75",
      "execution_count": 5,
      "outputs": []
    },
    {
      "cell_type": "code",
      "metadata": {
        "id": "4b809818-4fc5-4340-83e6-dc5dc77a3c9e"
      },
      "source": [
        "if __name__ == \"__main__\":\n",
        "    warnings.filterwarnings(\"ignore\")"
      ],
      "id": "4b809818-4fc5-4340-83e6-dc5dc77a3c9e",
      "execution_count": null,
      "outputs": []
    },
    {
      "cell_type": "code",
      "metadata": {
        "id": "bb191aeb-c5b4-477b-8aa0-0a048a56b7e9"
      },
      "source": [
        "# --- TRAINING PARAMETERS ---\n",
        "# NR_CLIENTS ... Number of clients participating in the training process.\n",
        "# LR ... Learning rate used for the stochastic gradient descent.\n",
        "# CLIENT EPOCHS ... Number of epochs that every client is trained during every step.\n",
        "# NR_TRAINING_ROUNDS ... Number of times that the server performs a global model update.\n",
        "# IS_PARALLEL ... Is the training of the clients performed in parallel.\n",
        "# DATA ... Dataset to be used. Either 'MNIST', 'MED' or 'FEMNIST'.\n",
        "# BATCH_SIZE ... Batch size used by SGD algorithm."
      ],
      "id": "bb191aeb-c5b4-477b-8aa0-0a048a56b7e9",
      "execution_count": null,
      "outputs": []
    },
    {
      "cell_type": "code",
      "metadata": {
        "id": "8eccf059-f14e-4fe4-9128-4336e87fdc72"
      },
      "source": [
        "# --- DIFFERENTIAL PRIVACY PARAMETERS ---\n",
        "# IS PRIVATE ... \n",
        "# MAX_GRAD_NORM\n",
        "# EPSILON\n",
        "# EPISILON_TRAINING_ITERATION\n",
        "# VIRTUAL_BATCH_SIZE\n",
        "# N_ACCUMULATION_STEPS"
      ],
      "id": "8eccf059-f14e-4fe4-9128-4336e87fdc72",
      "execution_count": null,
      "outputs": []
    },
    {
      "cell_type": "markdown",
      "metadata": {
        "id": "ca8edc12"
      },
      "source": [
        "## 1. Experiments on Medical Dataset\n",
        "In the first experiment we are comparing the accuracy of a fed ml approach including privacy "
      ],
      "id": "ca8edc12"
    },
    {
      "cell_type": "code",
      "metadata": {
        "id": "uYf5jXst7LlY"
      },
      "source": [
        "data = \"Med\"\n",
        "batch_size = 10"
      ],
      "id": "uYf5jXst7LlY",
      "execution_count": null,
      "outputs": []
    },
    {
      "cell_type": "markdown",
      "metadata": {
        "id": "mWOJUOYA7MVy"
      },
      "source": [
        "### Experiment 1.1"
      ],
      "id": "mWOJUOYA7MVy"
    },
    {
      "cell_type": "code",
      "metadata": {
        "id": "ac2c806b"
      },
      "source": [
        "# --- TRAINING PARAMETERS ---\n",
        "nr_clients = 3\n",
        "lr = 0.01\n",
        "client_epochs = 10 \n",
        "nr_training_rounds = 20\n",
        "is_parallel = False\n",
        "# --- DIFFERENTIAL PRIVACY PARAMETERS ---\n",
        "is_private = False\n",
        "max_grad_norm = 1.2\n",
        "epsilon = 5\n",
        "epsilon_training_iteration = epsilon / nr_training_rounds\n",
        "virtual_batch_size = 2 * batch_size\n",
        "assert virtual_batch_size % batch_size == 0  # VIRTUAL_BATCH_SIZE should be divisible by BATCH_SIZE\n",
        "n_accumulation_steps = int(virtual_batch_size / batch_size)"
      ],
      "id": "ac2c806b",
      "execution_count": null,
      "outputs": []
    },
    {
      "cell_type": "code",
      "metadata": {
        "colab": {
          "base_uri": "https://localhost:8080/",
          "height": 644
        },
        "id": "39040a71",
        "outputId": "ddf29ce9-bf1f-46cc-d202-d1608da753af"
      },
      "source": [
        "server = Server(nr_clients=nr_clients, nr_training_rounds=nr_training_rounds, lr=lr, epochs=client_epochs, data=data, batch_size=batch_size, max_grad_norm=max_grad_norm, epsilon=epsilon, n_accumulation_steps=n_accumulation_steps, epsilon_training_iteration=epsilon_training_iteration, is_parallel=is_parallel, is_private=is_private, verbose=\"server\")\n",
        "test_losses, test_accs = server(early=True, patience=3, delta=0.05)"
      ],
      "id": "39040a71",
      "execution_count": null,
      "outputs": [
        {
          "output_type": "stream",
          "text": [
            "--- Configuration ---\n",
            "nr_clients: 3\n",
            "nr_training_rounds: 20\n",
            "lr: 0.01\n",
            "epochs: 10\n",
            "data: Med\n",
            "batch_size: 10\n",
            "max_grad_norm: 1.2\n",
            "epsilon: 5\n",
            "n_accumulation_steps: 2\n",
            "epsilon_training_iteration: 0.25\n",
            "is_parallel: False\n",
            "is_private: False\n",
            "device: <class 'torch.device'>\n",
            "verbose: server\n",
            "Med\n",
            "False\n",
            "--- Training ---\n"
          ],
          "name": "stdout"
        },
        {
          "output_type": "error",
          "ename": "TypeError",
          "evalue": "zeros() received an invalid combination of arguments - got (torch.Size, device=type), but expected one of:\n * (tuple of ints size, *, tuple of names names, torch.dtype dtype, torch.layout layout, torch.device device, bool pin_memory, bool requires_grad)\n * (tuple of ints size, *, Tensor out, torch.dtype dtype, torch.layout layout, torch.device device, bool pin_memory, bool requires_grad)\n",
          "traceback": [
            "\u001b[0;31m---------------------------------------------------------------------------\u001b[0m",
            "\u001b[0;31mTypeError\u001b[0m                                 Traceback (most recent call last)",
            "\u001b[0;32m<ipython-input-9-87bad2a5fb91>\u001b[0m in \u001b[0;36m<module>\u001b[0;34m\u001b[0m\n\u001b[1;32m      1\u001b[0m \u001b[0mserver\u001b[0m \u001b[0;34m=\u001b[0m \u001b[0mServer\u001b[0m\u001b[0;34m(\u001b[0m\u001b[0mnr_clients\u001b[0m\u001b[0;34m=\u001b[0m\u001b[0mnr_clients\u001b[0m\u001b[0;34m,\u001b[0m \u001b[0mnr_training_rounds\u001b[0m\u001b[0;34m=\u001b[0m\u001b[0mnr_training_rounds\u001b[0m\u001b[0;34m,\u001b[0m \u001b[0mlr\u001b[0m\u001b[0;34m=\u001b[0m\u001b[0mlr\u001b[0m\u001b[0;34m,\u001b[0m \u001b[0mepochs\u001b[0m\u001b[0;34m=\u001b[0m\u001b[0mclient_epochs\u001b[0m\u001b[0;34m,\u001b[0m \u001b[0mdata\u001b[0m\u001b[0;34m=\u001b[0m\u001b[0mdata\u001b[0m\u001b[0;34m,\u001b[0m \u001b[0mbatch_size\u001b[0m\u001b[0;34m=\u001b[0m\u001b[0mbatch_size\u001b[0m\u001b[0;34m,\u001b[0m \u001b[0mmax_grad_norm\u001b[0m\u001b[0;34m=\u001b[0m\u001b[0mmax_grad_norm\u001b[0m\u001b[0;34m,\u001b[0m \u001b[0mepsilon\u001b[0m\u001b[0;34m=\u001b[0m\u001b[0mepsilon\u001b[0m\u001b[0;34m,\u001b[0m \u001b[0mn_accumulation_steps\u001b[0m\u001b[0;34m=\u001b[0m\u001b[0mn_accumulation_steps\u001b[0m\u001b[0;34m,\u001b[0m \u001b[0mepsilon_training_iteration\u001b[0m\u001b[0;34m=\u001b[0m\u001b[0mepsilon_training_iteration\u001b[0m\u001b[0;34m,\u001b[0m \u001b[0mis_parallel\u001b[0m\u001b[0;34m=\u001b[0m\u001b[0mis_parallel\u001b[0m\u001b[0;34m,\u001b[0m \u001b[0mis_private\u001b[0m\u001b[0;34m=\u001b[0m\u001b[0mis_private\u001b[0m\u001b[0;34m,\u001b[0m \u001b[0mverbose\u001b[0m\u001b[0;34m=\u001b[0m\u001b[0;34m\"server\"\u001b[0m\u001b[0;34m)\u001b[0m\u001b[0;34m\u001b[0m\u001b[0;34m\u001b[0m\u001b[0m\n\u001b[0;32m----> 2\u001b[0;31m \u001b[0mtest_losses\u001b[0m\u001b[0;34m,\u001b[0m \u001b[0mtest_accs\u001b[0m \u001b[0;34m=\u001b[0m \u001b[0mserver\u001b[0m\u001b[0;34m(\u001b[0m\u001b[0mearly\u001b[0m\u001b[0;34m=\u001b[0m\u001b[0;32mTrue\u001b[0m\u001b[0;34m,\u001b[0m \u001b[0mpatience\u001b[0m\u001b[0;34m=\u001b[0m\u001b[0;36m3\u001b[0m\u001b[0;34m,\u001b[0m \u001b[0mdelta\u001b[0m\u001b[0;34m=\u001b[0m\u001b[0;36m0.05\u001b[0m\u001b[0;34m)\u001b[0m\u001b[0;34m\u001b[0m\u001b[0;34m\u001b[0m\u001b[0m\n\u001b[0m",
            "\u001b[0;32m~/Documents/University/Master/Semester-03_Summer-2021/Optimisation-for-Machine-Learning/Assignment/Source/src/server.py\u001b[0m in \u001b[0;36m__call__\u001b[0;34m(self, early, patience, delta)\u001b[0m\n\u001b[1;32m    182\u001b[0m         \u001b[0mtest_accs\u001b[0m \u001b[0;34m=\u001b[0m \u001b[0;34m[\u001b[0m\u001b[0;34m]\u001b[0m\u001b[0;34m\u001b[0m\u001b[0;34m\u001b[0m\u001b[0m\n\u001b[1;32m    183\u001b[0m         \u001b[0;32mfor\u001b[0m \u001b[0mtraining_round\u001b[0m \u001b[0;32min\u001b[0m \u001b[0mrange\u001b[0m\u001b[0;34m(\u001b[0m\u001b[0mself\u001b[0m\u001b[0;34m.\u001b[0m\u001b[0mnr_training_rounds\u001b[0m\u001b[0;34m)\u001b[0m\u001b[0;34m:\u001b[0m\u001b[0;34m\u001b[0m\u001b[0;34m\u001b[0m\u001b[0m\n\u001b[0;32m--> 184\u001b[0;31m             \u001b[0mtest_loss\u001b[0m\u001b[0;34m,\u001b[0m \u001b[0mtest_acc\u001b[0m \u001b[0;34m=\u001b[0m \u001b[0mself\u001b[0m\u001b[0;34m.\u001b[0m\u001b[0mglobal_update\u001b[0m\u001b[0;34m(\u001b[0m\u001b[0;34m)\u001b[0m\u001b[0;34m\u001b[0m\u001b[0;34m\u001b[0m\u001b[0m\n\u001b[0m\u001b[1;32m    185\u001b[0m             \u001b[0;32mif\u001b[0m \u001b[0mself\u001b[0m\u001b[0;34m.\u001b[0m\u001b[0mverbose\u001b[0m\u001b[0;34m:\u001b[0m \u001b[0mprint\u001b[0m\u001b[0;34m(\u001b[0m\u001b[0;34mf\"Round {training_round + 1}, test_loss: {test_loss:.4f}, test_acc: {test_acc}\"\u001b[0m\u001b[0;34m)\u001b[0m\u001b[0;34m\u001b[0m\u001b[0;34m\u001b[0m\u001b[0m\n\u001b[1;32m    186\u001b[0m             \u001b[0mtest_losses\u001b[0m\u001b[0;34m.\u001b[0m\u001b[0mappend\u001b[0m\u001b[0;34m(\u001b[0m\u001b[0mtest_loss\u001b[0m\u001b[0;34m)\u001b[0m\u001b[0;34m\u001b[0m\u001b[0;34m\u001b[0m\u001b[0m\n",
            "\u001b[0;32m~/Documents/University/Master/Semester-03_Summer-2021/Optimisation-for-Machine-Learning/Assignment/Source/src/server.py\u001b[0m in \u001b[0;36mglobal_update\u001b[0;34m(self)\u001b[0m\n\u001b[1;32m    167\u001b[0m \u001b[0;34m\u001b[0m\u001b[0m\n\u001b[1;32m    168\u001b[0m         \u001b[0;31m#\u001b[0m\u001b[0;34m\u001b[0m\u001b[0;34m\u001b[0m\u001b[0;34m\u001b[0m\u001b[0m\n\u001b[0;32m--> 169\u001b[0;31m         \u001b[0maggregated_weights\u001b[0m \u001b[0;34m=\u001b[0m \u001b[0mself\u001b[0m\u001b[0;34m.\u001b[0m\u001b[0maggregate\u001b[0m\u001b[0;34m(\u001b[0m\u001b[0mlist\u001b[0m\u001b[0;34m(\u001b[0m\u001b[0mself\u001b[0m\u001b[0;34m.\u001b[0m\u001b[0mclients\u001b[0m\u001b[0;34m.\u001b[0m\u001b[0mkeys\u001b[0m\u001b[0;34m(\u001b[0m\u001b[0;34m)\u001b[0m\u001b[0;34m)\u001b[0m\u001b[0;34m)\u001b[0m\u001b[0;34m\u001b[0m\u001b[0;34m\u001b[0m\u001b[0m\n\u001b[0m\u001b[1;32m    170\u001b[0m         \u001b[0mself\u001b[0m\u001b[0;34m.\u001b[0m\u001b[0mbroadcast_weights\u001b[0m\u001b[0;34m(\u001b[0m\u001b[0maggregated_weights\u001b[0m\u001b[0;34m)\u001b[0m\u001b[0;34m\u001b[0m\u001b[0;34m\u001b[0m\u001b[0m\n\u001b[1;32m    171\u001b[0m         \u001b[0mtest_acc\u001b[0m\u001b[0;34m,\u001b[0m \u001b[0mtest_loss\u001b[0m \u001b[0;34m=\u001b[0m \u001b[0mself\u001b[0m\u001b[0;34m.\u001b[0m\u001b[0mcompute_acc\u001b[0m\u001b[0;34m(\u001b[0m\u001b[0;34m)\u001b[0m\u001b[0;34m\u001b[0m\u001b[0;34m\u001b[0m\u001b[0m\n",
            "\u001b[0;32m~/Documents/University/Master/Semester-03_Summer-2021/Optimisation-for-Machine-Learning/Assignment/Source/src/server.py\u001b[0m in \u001b[0;36maggregate\u001b[0;34m(self, client_ids)\u001b[0m\n\u001b[1;32m    110\u001b[0m         \u001b[0mnew_params\u001b[0m \u001b[0;34m=\u001b[0m \u001b[0mcopy\u001b[0m\u001b[0;34m.\u001b[0m\u001b[0mdeepcopy\u001b[0m\u001b[0;34m(\u001b[0m\u001b[0mclient_params\u001b[0m\u001b[0;34m[\u001b[0m\u001b[0;36m0\u001b[0m\u001b[0;34m]\u001b[0m\u001b[0;34m)\u001b[0m  \u001b[0;31m# names\u001b[0m\u001b[0;34m\u001b[0m\u001b[0;34m\u001b[0m\u001b[0m\n\u001b[1;32m    111\u001b[0m         \u001b[0;32mfor\u001b[0m \u001b[0mname\u001b[0m \u001b[0;32min\u001b[0m \u001b[0mnew_params\u001b[0m\u001b[0;34m:\u001b[0m\u001b[0;34m\u001b[0m\u001b[0;34m\u001b[0m\u001b[0m\n\u001b[0;32m--> 112\u001b[0;31m             \u001b[0mnew_params\u001b[0m\u001b[0;34m[\u001b[0m\u001b[0mname\u001b[0m\u001b[0;34m]\u001b[0m \u001b[0;34m=\u001b[0m \u001b[0mtorch\u001b[0m\u001b[0;34m.\u001b[0m\u001b[0mzeros\u001b[0m\u001b[0;34m(\u001b[0m\u001b[0mnew_params\u001b[0m\u001b[0;34m[\u001b[0m\u001b[0mname\u001b[0m\u001b[0;34m]\u001b[0m\u001b[0;34m.\u001b[0m\u001b[0mshape\u001b[0m\u001b[0;34m,\u001b[0m \u001b[0mdevice\u001b[0m\u001b[0;34m=\u001b[0m\u001b[0mself\u001b[0m\u001b[0;34m.\u001b[0m\u001b[0mdevice\u001b[0m\u001b[0;34m)\u001b[0m\u001b[0;34m\u001b[0m\u001b[0;34m\u001b[0m\u001b[0m\n\u001b[0m\u001b[1;32m    113\u001b[0m         \u001b[0;32mfor\u001b[0m \u001b[0mclient_id\u001b[0m\u001b[0;34m,\u001b[0m \u001b[0mparams\u001b[0m \u001b[0;32min\u001b[0m \u001b[0mclient_params\u001b[0m\u001b[0;34m.\u001b[0m\u001b[0mitems\u001b[0m\u001b[0;34m(\u001b[0m\u001b[0;34m)\u001b[0m\u001b[0;34m:\u001b[0m\u001b[0;34m\u001b[0m\u001b[0;34m\u001b[0m\u001b[0m\n\u001b[1;32m    114\u001b[0m             \u001b[0mclient_weight\u001b[0m \u001b[0;34m=\u001b[0m \u001b[0mself\u001b[0m\u001b[0;34m.\u001b[0m\u001b[0mclients_len_data\u001b[0m\u001b[0;34m[\u001b[0m\u001b[0mclient_id\u001b[0m\u001b[0;34m]\u001b[0m \u001b[0;34m/\u001b[0m \u001b[0mself\u001b[0m\u001b[0;34m.\u001b[0m\u001b[0mlen_train_data\u001b[0m\u001b[0;34m\u001b[0m\u001b[0;34m\u001b[0m\u001b[0m\n",
            "\u001b[0;31mTypeError\u001b[0m: zeros() received an invalid combination of arguments - got (torch.Size, device=type), but expected one of:\n * (tuple of ints size, *, tuple of names names, torch.dtype dtype, torch.layout layout, torch.device device, bool pin_memory, bool requires_grad)\n * (tuple of ints size, *, Tensor out, torch.dtype dtype, torch.layout layout, torch.device device, bool pin_memory, bool requires_grad)\n"
          ]
        }
      ]
    },
    {
      "cell_type": "code",
      "metadata": {
        "id": "8f53bf65",
        "outputId": "6a9997ff-fff8-4a8d-8ca7-9869f52dce95"
      },
      "source": [
        "plot_metrics(test_losses, test_accs)"
      ],
      "id": "8f53bf65",
      "execution_count": null,
      "outputs": [
        {
          "output_type": "display_data",
          "data": {
            "image/png": "[encoded data removed]",
            "text/plain": [
              "<Figure size 864x432 with 2 Axes>"
            ]
          },
          "metadata": {
            "tags": [],
            "needs_background": "light"
          }
        }
      ]
    },
    {
      "cell_type": "code",
      "metadata": {
        "id": "3d62f410",
        "outputId": "9616012e-2b27-4fdc-ee67-a3c8156dfcdd"
      },
      "source": [
        "is_private=True\n",
        "server = Server(nr_clients=nr_clients, nr_training_rounds=nr_training_rounds, lr=lr, epochs=client_epochs, data=data, batch_size=batch_size, max_grad_norm=max_grad_norm, epsilon=epsilon, n_accumulation_steps=n_accumulation_steps, epsilon_training_iteration=epsilon_training_iteration, is_parallel=is_parallel, is_private=is_private, verbose=\"server\")\n",
        "test_losses, test_accs = server(early=False, patience=3, delta=0.05)"
      ],
      "id": "3d62f410",
      "execution_count": null,
      "outputs": [
        {
          "output_type": "stream",
          "text": [
            "Round 1, test_loss: 3.5342, test_acc: 0.4166666666666667\n",
            "Round 2, test_loss: 2.9472, test_acc: 0.4166666666666667\n",
            "Round 3, test_loss: 3.1924, test_acc: 0.4166666666666667\n",
            "Round 4, test_loss: 2.9047, test_acc: 0.4166666666666667\n",
            "Round 5, test_loss: 2.6363, test_acc: 0.4166666666666667\n",
            "Round 6, test_loss: 2.5028, test_acc: 0.125\n",
            "Round 7, test_loss: 2.5993, test_acc: 0.16666666666666666\n",
            "Round 8, test_loss: 3.6917, test_acc: 0.4166666666666667\n",
            "Round 9, test_loss: 2.6372, test_acc: 0.3333333333333333\n",
            "Round 10, test_loss: 3.9295, test_acc: 0.4166666666666667\n",
            "Round 11, test_loss: 3.7825, test_acc: 0.4166666666666667\n",
            "Round 12, test_loss: 2.9147, test_acc: 0.4166666666666667\n",
            "Round 13, test_loss: 4.1432, test_acc: 0.4166666666666667\n",
            "Round 14, test_loss: 3.9848, test_acc: 0.4166666666666667\n",
            "Round 15, test_loss: 5.3252, test_acc: 0.4166666666666667\n",
            "Round 16, test_loss: 5.9021, test_acc: 0.4166666666666667\n",
            "Round 17, test_loss: 8.5031, test_acc: 0.4166666666666667\n",
            "Round 18, test_loss: 8.6358, test_acc: 0.4166666666666667\n",
            "Round 19, test_loss: 9.8949, test_acc: 0.4166666666666667\n",
            "Round 20, test_loss: 7.5723, test_acc: 0.4166666666666667\n",
            "Test losses: [3.5342, 2.9472, 3.1924, 2.9047, 2.6363, 2.5028, 2.5993, 3.6917, 2.6372, 3.9295, 3.7825, 2.9147, 4.1432, 3.9848, 5.3252, 5.9021, 8.5031, 8.6358, 9.8949, 7.5723]\n",
            "Test accuracies: [0.4166666666666667, 0.4166666666666667, 0.4166666666666667, 0.4166666666666667, 0.4166666666666667, 0.125, 0.16666666666666666, 0.4166666666666667, 0.3333333333333333, 0.4166666666666667, 0.4166666666666667, 0.4166666666666667, 0.4166666666666667, 0.4166666666666667, 0.4166666666666667, 0.4166666666666667, 0.4166666666666667, 0.4166666666666667, 0.4166666666666667, 0.4166666666666667]\n",
            "Finished\n"
          ],
          "name": "stdout"
        }
      ]
    },
    {
      "cell_type": "code",
      "metadata": {
        "id": "1465a694",
        "outputId": "d0625357-4a81-4bda-8cdc-5934fd4724b3"
      },
      "source": [
        "plot_metrics(test_losses, test_accs)"
      ],
      "id": "1465a694",
      "execution_count": null,
      "outputs": [
        {
          "output_type": "display_data",
          "data": {
            "image/png": "[encoded data removed]",
            "text/plain": [
              "<Figure size 864x432 with 2 Axes>"
            ]
          },
          "metadata": {
            "tags": [],
            "needs_background": "light"
          }
        }
      ]
    },
    {
      "cell_type": "markdown",
      "metadata": {
        "id": "dc57fade"
      },
      "source": [
        "## 2. Experiments on MNIST Dataset"
      ],
      "id": "dc57fade"
    },
    {
      "cell_type": "code",
      "metadata": {
        "id": "uwHtZ8MI69ld"
      },
      "source": [
        "data = 'MNIST'\n",
        "batch_size = 128"
      ],
      "id": "uwHtZ8MI69ld",
      "execution_count": null,
      "outputs": []
    },
    {
      "cell_type": "code",
      "metadata": {
        "id": "bf5b56f4"
      },
      "source": [
        "# --- TRAINING PARAMETERS ---\n",
        "nr_clients = 3\n",
        "lr = 0.01\n",
        "client_epochs = 10 \n",
        "nr_training_rounds = 20\n",
        "is_parallel = True"
      ],
      "id": "bf5b56f4",
      "execution_count": 9,
      "outputs": []
    },
    {
      "cell_type": "code",
      "metadata": {
        "id": "635d74fa"
      },
      "source": [
        "# --- DIFFERENTIAL PRIVACY PARAMETERS ---\n",
        "is_private = True\n",
        "max_grad_norm = 1.2\n",
        "epsilon = 5\n",
        "epsilon_training_iteration = epsilon / nr_training_rounds\n",
        "virtual_batch_size = 2 * batch_size\n",
        "assert virtual_batch_size % batch_size == 0  # VIRTUAL_BATCH_SIZE should be divisible by BATCH_SIZE\n",
        "n_accumulation_steps = int(virtual_batch_size / batch_size)"
      ],
      "id": "635d74fa",
      "execution_count": null,
      "outputs": []
    },
    {
      "cell_type": "code",
      "metadata": {
        "id": "3835b253",
        "colab": {
          "referenced_widgets": [
            "a765e893b0b64f2cac709ed6d7a50d7e",
            "9cb4c6af3d184b05bfc53c4222e54e15",
            "e6904d3d6dcf4126846b04d365cb8153",
            "bbfd2681c61a4a468ed91f4f179546ab"
          ]
        },
        "outputId": "023b28e9-55cf-4746-b12b-4dc6247dd7e5"
      },
      "source": [
        "server = Server(nr_clients=nr_clients, nr_training_rounds=nr_training_rounds, lr=lr, epochs=client_epochs, data=data, batch_size=batch_size, max_grad_norm=max_grad_norm, epsilon=epsilon, n_accumulation_steps=n_accumulation_steps, epsilon_training_iteration=epsilon_training_iteration, is_parallel=is_parallel, is_private=is_private)\n",
        "test_losses, test_accs = server(early=True, patience=5, delta=0.05)"
      ],
      "id": "3835b253",
      "execution_count": null,
      "outputs": [
        {
          "output_type": "stream",
          "text": [
            "--- Configuration ---\n",
            "nr_clients: 3\n",
            "nr_training_rounds: 20\n",
            "lr: 0.01\n",
            "epochs: 10\n",
            "data: MNIST\n",
            "batch_size: 128\n",
            "max_grad_norm: 1.2\n",
            "epsilon: 5\n",
            "n_accumulation_steps: 2\n",
            "epsilon_training_iteration: 0.25\n",
            "is_parallel: True\n",
            "is_private: True\n",
            "device: <class 'torch.device'>\n",
            "verbose: all\n",
            "MNIST\n",
            "True\n",
            "Downloading http://yann.lecun.com/exdb/mnist/train-images-idx3-ubyte.gz\n",
            "Failed to download (trying next):\n",
            "HTTP Error 503: Service Unavailable\n",
            "\n",
            "Downloading https://ossci-datasets.s3.amazonaws.com/mnist/train-images-idx3-ubyte.gz\n",
            "Downloading https://ossci-datasets.s3.amazonaws.com/mnist/train-images-idx3-ubyte.gz to ./data/MNIST/raw/train-images-idx3-ubyte.gz\n"
          ],
          "name": "stdout"
        },
        {
          "output_type": "display_data",
          "data": {
            "application/vnd.jupyter.widget-view+json": {
              "model_id": "a765e893b0b64f2cac709ed6d7a50d7e",
              "version_major": 2,
              "version_minor": 0
            },
            "text/plain": [
              "  0%|          | 0/9912422 [00:00<?, ?it/s]"
            ]
          },
          "metadata": {
            "tags": []
          }
        },
        {
          "output_type": "stream",
          "text": [
            "Extracting ./data/MNIST/raw/train-images-idx3-ubyte.gz to ./data/MNIST/raw\n",
            "\n",
            "Downloading http://yann.lecun.com/exdb/mnist/train-labels-idx1-ubyte.gz\n",
            "Failed to download (trying next):\n",
            "HTTP Error 503: Service Unavailable\n",
            "\n",
            "Downloading https://ossci-datasets.s3.amazonaws.com/mnist/train-labels-idx1-ubyte.gz\n",
            "Downloading https://ossci-datasets.s3.amazonaws.com/mnist/train-labels-idx1-ubyte.gz to ./data/MNIST/raw/train-labels-idx1-ubyte.gz\n"
          ],
          "name": "stdout"
        },
        {
          "output_type": "display_data",
          "data": {
            "application/vnd.jupyter.widget-view+json": {
              "model_id": "9cb4c6af3d184b05bfc53c4222e54e15",
              "version_major": 2,
              "version_minor": 0
            },
            "text/plain": [
              "  0%|          | 0/28881 [00:00<?, ?it/s]"
            ]
          },
          "metadata": {
            "tags": []
          }
        },
        {
          "output_type": "stream",
          "text": [
            "Extracting ./data/MNIST/raw/train-labels-idx1-ubyte.gz to ./data/MNIST/raw\n",
            "\n",
            "Downloading http://yann.lecun.com/exdb/mnist/t10k-images-idx3-ubyte.gz\n",
            "Downloading http://yann.lecun.com/exdb/mnist/t10k-images-idx3-ubyte.gz to ./data/MNIST/raw/t10k-images-idx3-ubyte.gz\n",
            "Failed to download (trying next):\n",
            "HTTP Error 503: Service Unavailable\n",
            "\n",
            "Downloading https://ossci-datasets.s3.amazonaws.com/mnist/t10k-images-idx3-ubyte.gz\n",
            "Downloading https://ossci-datasets.s3.amazonaws.com/mnist/t10k-images-idx3-ubyte.gz to ./data/MNIST/raw/t10k-images-idx3-ubyte.gz\n"
          ],
          "name": "stdout"
        },
        {
          "output_type": "display_data",
          "data": {
            "application/vnd.jupyter.widget-view+json": {
              "model_id": "e6904d3d6dcf4126846b04d365cb8153",
              "version_major": 2,
              "version_minor": 0
            },
            "text/plain": [
              "  0%|          | 0/1648877 [00:00<?, ?it/s]"
            ]
          },
          "metadata": {
            "tags": []
          }
        },
        {
          "output_type": "stream",
          "text": [
            "Extracting ./data/MNIST/raw/t10k-images-idx3-ubyte.gz to ./data/MNIST/raw\n",
            "\n",
            "Downloading http://yann.lecun.com/exdb/mnist/t10k-labels-idx1-ubyte.gz\n",
            "Downloading http://yann.lecun.com/exdb/mnist/t10k-labels-idx1-ubyte.gz to ./data/MNIST/raw/t10k-labels-idx1-ubyte.gz\n"
          ],
          "name": "stdout"
        },
        {
          "output_type": "display_data",
          "data": {
            "application/vnd.jupyter.widget-view+json": {
              "model_id": "bbfd2681c61a4a468ed91f4f179546ab",
              "version_major": 2,
              "version_minor": 0
            },
            "text/plain": [
              "  0%|          | 0/4542 [00:00<?, ?it/s]"
            ]
          },
          "metadata": {
            "tags": []
          }
        },
        {
          "output_type": "stream",
          "text": [
            "Extracting ./data/MNIST/raw/t10k-labels-idx1-ubyte.gz to ./data/MNIST/raw\n",
            "\n",
            "Processing...\n",
            "Done!\n"
          ],
          "name": "stdout"
        },
        {
          "output_type": "stream",
          "text": [
            "/Users/jankreischer/opt/anaconda3/envs/EPFL_Optimization-for-Machine-Learning/lib/python3.8/site-packages/torchvision/datasets/mnist.py:502: UserWarning: The given NumPy array is not writeable, and PyTorch does not support non-writeable tensors. This means you can write to the underlying (supposedly non-writeable) NumPy array using the tensor. You may want to copy the array to protect its data or make it writeable before converting it to a tensor. This type of warning will be suppressed for the rest of this program. (Triggered internally at  ../torch/csrc/utils/tensor_numpy.cpp:143.)\n",
            "  return torch.from_numpy(parsed.astype(m[2], copy=False)).view(*s)\n",
            "/Users/jankreischer/opt/anaconda3/envs/EPFL_Optimization-for-Machine-Learning/lib/python3.8/site-packages/opacus/privacy_engine.py:522: UserWarning: A ``sample_rate`` has been provided.Thus, the provided ``batch_size``and ``sample_size`` will be ignored.\n",
            "  warnings.warn(\n",
            "/Users/jankreischer/opt/anaconda3/envs/EPFL_Optimization-for-Machine-Learning/lib/python3.8/site-packages/opacus/privacy_engine.py:194: UserWarning: Secure RNG turned off. This is perfectly fine for experimentation as it allows for much faster training performance, but remember to turn it on and retrain one last time before production with ``secure_rng`` turned on.\n",
            "  warnings.warn(\n",
            "/Users/jankreischer/opt/anaconda3/envs/EPFL_Optimization-for-Machine-Learning/lib/python3.8/site-packages/opacus/privacy_engine.py:522: UserWarning: A ``sample_rate`` has been provided.Thus, the provided ``batch_size``and ``sample_size`` will be ignored.\n",
            "  warnings.warn(\n",
            "/Users/jankreischer/opt/anaconda3/envs/EPFL_Optimization-for-Machine-Learning/lib/python3.8/site-packages/opacus/privacy_engine.py:194: UserWarning: Secure RNG turned off. This is perfectly fine for experimentation as it allows for much faster training performance, but remember to turn it on and retrain one last time before production with ``secure_rng`` turned on.\n",
            "  warnings.warn(\n",
            "/Users/jankreischer/opt/anaconda3/envs/EPFL_Optimization-for-Machine-Learning/lib/python3.8/site-packages/opacus/privacy_engine.py:522: UserWarning: A ``sample_rate`` has been provided.Thus, the provided ``batch_size``and ``sample_size`` will be ignored.\n",
            "  warnings.warn(\n"
          ],
          "name": "stderr"
        },
        {
          "output_type": "stream",
          "text": [
            "[Client 0]\tUsing sigma=7.223188476562501 and C=1.2\n",
            "[Client 1]\tUsing sigma=7.223188476562501 and C=1.2\n"
          ],
          "name": "stdout"
        },
        {
          "output_type": "stream",
          "text": [
            "/Users/jankreischer/opt/anaconda3/envs/EPFL_Optimization-for-Machine-Learning/lib/python3.8/site-packages/opacus/privacy_engine.py:194: UserWarning: Secure RNG turned off. This is perfectly fine for experimentation as it allows for much faster training performance, but remember to turn it on and retrain one last time before production with ``secure_rng`` turned on.\n",
            "  warnings.warn(\n"
          ],
          "name": "stderr"
        },
        {
          "output_type": "stream",
          "text": [
            "[Client 2]\tUsing sigma=7.223188476562501 and C=1.2\n",
            "--- Training ---\n"
          ],
          "name": "stdout"
        },
        {
          "output_type": "stream",
          "text": [
            "/Users/jankreischer/opt/anaconda3/envs/EPFL_Optimization-for-Machine-Learning/lib/python3.8/site-packages/torch/nn/modules/module.py:795: UserWarning: Using a non-full backward hook when the forward contains multiple autograd Nodes is deprecated and will be removed in future versions. This hook will be missing some grad_input. Please use register_full_backward_hook to get the documented behavior.\n",
            "  warnings.warn(\"Using a non-full backward hook when the forward contains multiple autograd Nodes \"\n"
          ],
          "name": "stderr"
        },
        {
          "output_type": "stream",
          "text": [
            "[Client 2]\tTrain Epoch: 0\tLoss: 2.2916\n",
            "\t(ε = 0.18, δ = 2.5e-05) for α = 63.0\n",
            "[Client 0]\tTrain Epoch: 0\tLoss: 2.3099\n",
            "\t(ε = 0.18, δ = 2.5e-05) for α = 63.0\n",
            "[Client 1]\tTrain Epoch: 0\tLoss: 2.3144\n",
            "\t(ε = 0.18, δ = 2.5e-05) for α = 63.0\n",
            "[Client 2]\tTrain Epoch: 1\tLoss: 2.2842\n",
            "\t(ε = 0.19, δ = 2.5e-05) for α = 63.0\n",
            "[Client 0]\tTrain Epoch: 1\tLoss: 2.2589\n",
            "\t(ε = 0.19, δ = 2.5e-05) for α = 63.0\n",
            "[Client 1]\tTrain Epoch: 1\tLoss: 2.2713\n",
            "\t(ε = 0.19, δ = 2.5e-05) for α = 63.0\n"
          ],
          "name": "stdout"
        }
      ]
    },
    {
      "cell_type": "code",
      "metadata": {
        "id": "5a55c61a",
        "outputId": "ec502a0c-6981-4f85-b99f-1587af913259"
      },
      "source": [
        "plot_metrics(test_losses, test_accs)"
      ],
      "id": "5a55c61a",
      "execution_count": null,
      "outputs": [
        {
          "output_type": "display_data",
          "data": {
            "image/png": "[encoded data removed]",
            "text/plain": [
              "<Figure size 864x432 with 2 Axes>"
            ]
          },
          "metadata": {
            "tags": [],
            "needs_background": "light"
          }
        }
      ]
    },
    {
      "cell_type": "markdown",
      "metadata": {
        "id": "8c4f27eb"
      },
      "source": [
        "## 3. Experiments on FEMNIST Dataset"
      ],
      "id": "8c4f27eb"
    },
    {
      "cell_type": "code",
      "metadata": {
        "id": "uAwGVIjK6x17"
      },
      "source": [
        "data = \"FEMNIST\"\n",
        "batch_size = 64"
      ],
      "id": "uAwGVIjK6x17",
      "execution_count": null,
      "outputs": []
    },
    {
      "cell_type": "code",
      "metadata": {
        "id": "a8633b60"
      },
      "source": [
        "# --- TRAINING PARAMETERS ---\n",
        "nr_clients = 3\n",
        "lr = 0.01\n",
        "client_epochs = 10\n",
        "nr_training_rounds = 20\n",
        "is_parallel = True"
      ],
      "id": "a8633b60",
      "execution_count": 6,
      "outputs": []
    },
    {
      "cell_type": "code",
      "metadata": {
        "id": "19cfb800"
      },
      "source": [
        "# --- DIFFERENTIAL PRIVACY PARAMETERS ---\n",
        "is_private = False\n",
        "max_grad_norm = 1.2\n",
        "epsilon = 5\n",
        "epsilon_training_iteration = epsilon / nr_training_rounds\n",
        "virtual_batch_size = 2 * batch_size\n",
        "assert virtual_batch_size % batch_size == 0  # VIRTUAL_BATCH_SIZE should be divisible by BATCH_SIZE\n",
        "n_accumulation_steps = int(virtual_batch_size / batch_size)"
      ],
      "id": "19cfb800",
      "execution_count": 7,
      "outputs": []
    },
    {
      "cell_type": "code",
      "metadata": {
        "colab": {
          "base_uri": "https://localhost:8080/",
          "height": 1000
        },
        "id": "28cc63ba",
        "outputId": "c2eb152e-bda2-46a4-900d-9cb74b2cab8e"
      },
      "source": [
        "torch.cuda.empty_cache()\n",
        "server = Server(nr_clients=nr_clients, nr_training_rounds=nr_training_rounds, lr=lr, epochs=client_epochs, data=data, batch_size=batch_size, max_grad_norm=max_grad_norm, epsilon=epsilon, n_accumulation_steps=n_accumulation_steps, epsilon_training_iteration=epsilon_training_iteration, is_parallel=is_parallel, is_private=is_private, device=device, verbose=\"all\")\n",
        "test_losses, test_accs = server(early=False, patience=5, delta=0.05)"
      ],
      "id": "28cc63ba",
      "execution_count": 8,
      "outputs": [
        {
          "output_type": "stream",
          "text": [
            "--- Configuration ---\n",
            "nr_clients: 3\n",
            "nr_training_rounds: 20\n",
            "lr: 0.01\n",
            "epochs: 10\n",
            "data: FEMNIST\n",
            "batch_size: 64\n",
            "max_grad_norm: 1.2\n",
            "epsilon: 5\n",
            "n_accumulation_steps: 2\n",
            "epsilon_training_iteration: 0.25\n",
            "is_parallel: True\n",
            "is_private: False\n",
            "device: <class 'torch.device'>\n",
            "verbose: all\n",
            "FEMNIST\n",
            "False\n",
            "--- Load Data ---\n",
            "Loaded Test Data\n",
            "Loaded Training Data\n",
            "--- Training ---\n",
            "[Client 2]\tTrain Epoch: 0\tLoss: 1.5756\n",
            "[Client 0]\tTrain Epoch: 0\tLoss: 1.5211\n",
            "[Client 1]\tTrain Epoch: 0\tLoss: 1.6706\n",
            "[Client 2]\tTrain Epoch: 1\tLoss: 0.5244\n",
            "[Client 0]\tTrain Epoch: 1\tLoss: 0.5473\n",
            "[Client 1]\tTrain Epoch: 1\tLoss: 0.4766\n",
            "[Client 2]\tTrain Epoch: 2\tLoss: 0.6028\n",
            "[Client 0]\tTrain Epoch: 2\tLoss: 0.3845\n",
            "[Client 1]\tTrain Epoch: 2\tLoss: 0.2256\n",
            "[Client 2]\tTrain Epoch: 3\tLoss: 0.1716\n",
            "[Client 0]\tTrain Epoch: 3\tLoss: 0.3198\n",
            "[Client 1]\tTrain Epoch: 3\tLoss: 0.2416\n",
            "[Client 2]\tTrain Epoch: 4\tLoss: 0.2048\n",
            "[Client 0]\tTrain Epoch: 4\tLoss: 0.3552\n",
            "[Client 1]\tTrain Epoch: 4\tLoss: 0.0775\n",
            "[Client 2]\tTrain Epoch: 5\tLoss: 0.1223\n",
            "[Client 0]\tTrain Epoch: 5\tLoss: 0.1768\n",
            "[Client 2]\tTrain Epoch: 6\tLoss: 0.2371\n",
            "[Client 1]\tTrain Epoch: 5\tLoss: 0.1331\n",
            "[Client 0]\tTrain Epoch: 6\tLoss: 0.2893\n",
            "[Client 2]\tTrain Epoch: 7\tLoss: 0.1871\n",
            "[Client 1]\tTrain Epoch: 6\tLoss: 0.1631\n",
            "[Client 0]\tTrain Epoch: 7\tLoss: 0.2698\n",
            "[Client 2]\tTrain Epoch: 8\tLoss: 0.1490\n",
            "[Client 1]\tTrain Epoch: 7\tLoss: 0.1306\n",
            "[Client 0]\tTrain Epoch: 8\tLoss: 0.2824\n",
            "[Client 2]\tTrain Epoch: 9\tLoss: 0.0463\n",
            "Client 2 - done\n",
            "[Client 1]\tTrain Epoch: 8\tLoss: 0.1310\n",
            "[Client 0]\tTrain Epoch: 9\tLoss: 0.1043\n",
            "Client 0 - done\n",
            "[Client 1]\tTrain Epoch: 9\tLoss: 0.0795\n",
            "Client 1 - done\n",
            "Round 1, test_loss: 21.6311, test_acc: 0.976409071563203\n",
            "[Client 0]\tTrain Epoch: 0\tLoss: 0.5188\n",
            "[Client 1]\tTrain Epoch: 0\tLoss: 0.0550\n",
            "[Client 2]\tTrain Epoch: 0\tLoss: 0.0931\n",
            "[Client 0]\tTrain Epoch: 1\tLoss: 0.1044\n",
            "[Client 1]\tTrain Epoch: 1\tLoss: 0.0989\n",
            "[Client 2]\tTrain Epoch: 1\tLoss: 0.1863\n",
            "[Client 0]\tTrain Epoch: 2\tLoss: 0.0538\n",
            "[Client 1]\tTrain Epoch: 2\tLoss: 0.2634\n",
            "[Client 2]\tTrain Epoch: 2\tLoss: 0.0892\n",
            "[Client 0]\tTrain Epoch: 3\tLoss: 0.0829\n",
            "[Client 1]\tTrain Epoch: 3\tLoss: 0.1028\n",
            "[Client 2]\tTrain Epoch: 3\tLoss: 0.1463\n",
            "[Client 0]\tTrain Epoch: 4\tLoss: 0.1478\n",
            "[Client 1]\tTrain Epoch: 4\tLoss: 0.1271\n",
            "[Client 0]\tTrain Epoch: 5\tLoss: 0.0270\n",
            "[Client 2]\tTrain Epoch: 4\tLoss: 0.1052\n",
            "[Client 1]\tTrain Epoch: 5\tLoss: 0.1709\n",
            "[Client 0]\tTrain Epoch: 6\tLoss: 0.0418\n",
            "[Client 2]\tTrain Epoch: 5\tLoss: 0.2209\n",
            "[Client 1]\tTrain Epoch: 6\tLoss: 0.0510\n",
            "[Client 0]\tTrain Epoch: 7\tLoss: 0.1061\n",
            "[Client 2]\tTrain Epoch: 6\tLoss: 0.4360\n",
            "[Client 1]\tTrain Epoch: 7\tLoss: 0.0554\n",
            "[Client 0]\tTrain Epoch: 8\tLoss: 0.0450\n",
            "[Client 2]\tTrain Epoch: 7\tLoss: 0.0228\n",
            "[Client 1]\tTrain Epoch: 8\tLoss: 0.1413\n",
            "[Client 0]\tTrain Epoch: 9\tLoss: 0.0957\n",
            "Client 0 - done\n",
            "[Client 2]\tTrain Epoch: 8\tLoss: 0.0530\n",
            "[Client 1]\tTrain Epoch: 9\tLoss: 0.0249\n",
            "Client 1 - done\n",
            "[Client 2]\tTrain Epoch: 9\tLoss: 0.0554\n",
            "Client 2 - done\n",
            "Round 2, test_loss: 14.2692, test_acc: 0.983826837721165\n",
            "[Client 1]\tTrain Epoch: 0\tLoss: 0.0824\n",
            "[Client 0]\tTrain Epoch: 0\tLoss: 0.0509\n",
            "[Client 2]\tTrain Epoch: 0\tLoss: 0.1024\n",
            "[Client 1]\tTrain Epoch: 1\tLoss: 0.0418\n",
            "[Client 0]\tTrain Epoch: 1\tLoss: 0.0521\n",
            "[Client 2]\tTrain Epoch: 1\tLoss: 0.1173\n",
            "[Client 1]\tTrain Epoch: 2\tLoss: 0.1346\n",
            "[Client 0]\tTrain Epoch: 2\tLoss: 0.0435\n",
            "[Client 2]\tTrain Epoch: 2\tLoss: 0.0588\n",
            "[Client 1]\tTrain Epoch: 3\tLoss: 0.1008\n",
            "[Client 0]\tTrain Epoch: 3\tLoss: 0.0539\n",
            "[Client 2]\tTrain Epoch: 3\tLoss: 0.0722\n",
            "[Client 1]\tTrain Epoch: 4\tLoss: 0.0315\n",
            "[Client 0]\tTrain Epoch: 4\tLoss: 0.1061\n",
            "[Client 1]\tTrain Epoch: 5\tLoss: 0.1230\n",
            "[Client 2]\tTrain Epoch: 4\tLoss: 0.0286\n",
            "[Client 0]\tTrain Epoch: 5\tLoss: 0.0822\n",
            "[Client 1]\tTrain Epoch: 6\tLoss: 0.2244\n",
            "[Client 2]\tTrain Epoch: 5\tLoss: 0.1406\n",
            "[Client 0]\tTrain Epoch: 6\tLoss: 0.0281\n",
            "[Client 1]\tTrain Epoch: 7\tLoss: 0.0176\n",
            "[Client 2]\tTrain Epoch: 6\tLoss: 0.0998\n",
            "[Client 0]\tTrain Epoch: 7\tLoss: 0.0942\n",
            "[Client 1]\tTrain Epoch: 8\tLoss: 0.0302\n",
            "[Client 2]\tTrain Epoch: 7\tLoss: 0.0698\n",
            "[Client 0]\tTrain Epoch: 8\tLoss: 0.0534\n",
            "[Client 1]\tTrain Epoch: 9\tLoss: 0.0249\n",
            "Client 1 - done\n",
            "[Client 0]\tTrain Epoch: 9\tLoss: 0.0482\n",
            "Client 0 - done\n",
            "[Client 2]\tTrain Epoch: 8\tLoss: 0.0625\n",
            "[Client 2]\tTrain Epoch: 9\tLoss: 0.1844\n",
            "Client 2 - done\n",
            "Round 3, test_loss: 11.7507, test_acc: 0.9874749194381954\n",
            "[Client 0]\tTrain Epoch: 0\tLoss: 0.0683\n",
            "[Client 2]\tTrain Epoch: 0\tLoss: 0.0765\n",
            "[Client 1]\tTrain Epoch: 0\tLoss: 0.0484\n",
            "[Client 0]\tTrain Epoch: 1\tLoss: 0.0404\n",
            "[Client 2]\tTrain Epoch: 1\tLoss: 0.0400\n",
            "[Client 1]\tTrain Epoch: 1\tLoss: 0.0116\n",
            "[Client 0]\tTrain Epoch: 2\tLoss: 0.0289\n",
            "[Client 2]\tTrain Epoch: 2\tLoss: 0.0606\n",
            "[Client 1]\tTrain Epoch: 2\tLoss: 0.0739\n",
            "[Client 0]\tTrain Epoch: 3\tLoss: 0.0712\n",
            "[Client 2]\tTrain Epoch: 3\tLoss: 0.0319\n",
            "[Client 1]\tTrain Epoch: 3\tLoss: 0.0411\n",
            "[Client 0]\tTrain Epoch: 4\tLoss: 0.0554\n",
            "[Client 2]\tTrain Epoch: 4\tLoss: 0.1303\n",
            "[Client 0]\tTrain Epoch: 5\tLoss: 0.2015\n",
            "[Client 1]\tTrain Epoch: 4\tLoss: 0.0344\n",
            "[Client 2]\tTrain Epoch: 5\tLoss: 0.0533\n",
            "[Client 0]\tTrain Epoch: 6\tLoss: 0.1447\n",
            "[Client 1]\tTrain Epoch: 5\tLoss: 0.0895\n",
            "[Client 2]\tTrain Epoch: 6\tLoss: 0.0082\n",
            "[Client 0]\tTrain Epoch: 7\tLoss: 0.0173\n",
            "[Client 1]\tTrain Epoch: 6\tLoss: 0.0145\n",
            "[Client 2]\tTrain Epoch: 7\tLoss: 0.0591\n",
            "[Client 0]\tTrain Epoch: 8\tLoss: 0.0230\n",
            "[Client 1]\tTrain Epoch: 7\tLoss: 0.0202\n",
            "[Client 2]\tTrain Epoch: 8\tLoss: 0.0445\n",
            "[Client 0]\tTrain Epoch: 9\tLoss: 0.0537\n",
            "Client 0 - done\n",
            "[Client 2]\tTrain Epoch: 9\tLoss: 0.0177\n",
            "Client 2 - done\n",
            "[Client 1]\tTrain Epoch: 8\tLoss: 0.0396\n",
            "[Client 1]\tTrain Epoch: 9\tLoss: 0.0710\n",
            "Client 1 - done\n",
            "Round 4, test_loss: 10.9526, test_acc: 0.9883261385055025\n",
            "[Client 2]\tTrain Epoch: 0\tLoss: 0.0775\n",
            "[Client 0]\tTrain Epoch: 0\tLoss: 0.0813\n",
            "[Client 1]\tTrain Epoch: 0\tLoss: 0.0238\n",
            "[Client 2]\tTrain Epoch: 1\tLoss: 0.0152\n",
            "[Client 0]\tTrain Epoch: 1\tLoss: 0.0080\n",
            "[Client 1]\tTrain Epoch: 1\tLoss: 0.0121\n",
            "[Client 2]\tTrain Epoch: 2\tLoss: 0.0585\n",
            "[Client 0]\tTrain Epoch: 2\tLoss: 0.2464\n",
            "[Client 1]\tTrain Epoch: 2\tLoss: 0.0154\n",
            "[Client 2]\tTrain Epoch: 3\tLoss: 0.0489\n",
            "[Client 0]\tTrain Epoch: 3\tLoss: 0.0181\n",
            "[Client 1]\tTrain Epoch: 3\tLoss: 0.0672\n",
            "[Client 2]\tTrain Epoch: 4\tLoss: 0.0180\n",
            "[Client 0]\tTrain Epoch: 4\tLoss: 0.0200\n",
            "[Client 2]\tTrain Epoch: 5\tLoss: 0.0020\n",
            "[Client 1]\tTrain Epoch: 4\tLoss: 0.0266\n",
            "[Client 0]\tTrain Epoch: 5\tLoss: 0.0485\n",
            "[Client 2]\tTrain Epoch: 6\tLoss: 0.0831\n",
            "[Client 1]\tTrain Epoch: 5\tLoss: 0.0319\n",
            "[Client 0]\tTrain Epoch: 6\tLoss: 0.0611\n",
            "[Client 2]\tTrain Epoch: 7\tLoss: 0.0343\n",
            "[Client 1]\tTrain Epoch: 6\tLoss: 0.0399\n",
            "[Client 0]\tTrain Epoch: 7\tLoss: 0.0103\n",
            "[Client 2]\tTrain Epoch: 8\tLoss: 0.0085\n",
            "[Client 1]\tTrain Epoch: 7\tLoss: 0.0110\n",
            "[Client 0]\tTrain Epoch: 8\tLoss: 0.0176\n",
            "[Client 2]\tTrain Epoch: 9\tLoss: 0.0200\n",
            "Client 2 - done\n",
            "[Client 0]\tTrain Epoch: 9\tLoss: 0.0899\n",
            "Client 0 - done\n",
            "[Client 1]\tTrain Epoch: 8\tLoss: 0.0218\n",
            "[Client 1]\tTrain Epoch: 9\tLoss: 0.0280\n",
            "Client 1 - done\n",
            "Round 5, test_loss: 9.9292, test_acc: 0.9892989602967106\n",
            "[Client 0]\tTrain Epoch: 0\tLoss: 0.0064\n",
            "[Client 1]\tTrain Epoch: 0\tLoss: 0.0714\n",
            "[Client 2]\tTrain Epoch: 0\tLoss: 0.0625\n",
            "[Client 0]\tTrain Epoch: 1\tLoss: 0.0497\n",
            "[Client 1]\tTrain Epoch: 1\tLoss: 0.0235\n",
            "[Client 2]\tTrain Epoch: 1\tLoss: 0.0705\n",
            "[Client 0]\tTrain Epoch: 2\tLoss: 0.0117\n",
            "[Client 1]\tTrain Epoch: 2\tLoss: 0.0271\n",
            "[Client 2]\tTrain Epoch: 2\tLoss: 0.0094\n",
            "[Client 0]\tTrain Epoch: 3\tLoss: 0.0240\n",
            "[Client 1]\tTrain Epoch: 3\tLoss: 0.1120\n",
            "[Client 2]\tTrain Epoch: 3\tLoss: 0.0054\n",
            "[Client 0]\tTrain Epoch: 4\tLoss: 0.0304\n",
            "[Client 1]\tTrain Epoch: 4\tLoss: 0.0212\n",
            "[Client 2]\tTrain Epoch: 4\tLoss: 0.0053\n",
            "[Client 0]\tTrain Epoch: 5\tLoss: 0.0041\n",
            "[Client 1]\tTrain Epoch: 5\tLoss: 0.0020\n",
            "[Client 0]\tTrain Epoch: 6\tLoss: 0.0958\n",
            "[Client 2]\tTrain Epoch: 5\tLoss: 0.0310\n",
            "[Client 1]\tTrain Epoch: 6\tLoss: 0.0910\n",
            "[Client 0]\tTrain Epoch: 7\tLoss: 0.0121\n",
            "[Client 2]\tTrain Epoch: 6\tLoss: 0.0050\n",
            "[Client 1]\tTrain Epoch: 7\tLoss: 0.0378\n",
            "[Client 0]\tTrain Epoch: 8\tLoss: 0.0127\n",
            "[Client 2]\tTrain Epoch: 7\tLoss: 0.0804\n",
            "[Client 1]\tTrain Epoch: 8\tLoss: 0.0434\n",
            "[Client 0]\tTrain Epoch: 9\tLoss: 0.0070\n",
            "Client 0 - done\n",
            "[Client 2]\tTrain Epoch: 8\tLoss: 0.0848\n",
            "[Client 1]\tTrain Epoch: 9\tLoss: 0.0038\n",
            "Client 1 - done\n",
            "[Client 2]\tTrain Epoch: 9\tLoss: 0.0742\n",
            "Client 2 - done\n",
            "Round 6, test_loss: 9.6128, test_acc: 0.9896637684684136\n",
            "[Client 0]\tTrain Epoch: 0\tLoss: 0.0105\n",
            "[Client 2]\tTrain Epoch: 0\tLoss: 0.0070\n",
            "[Client 1]\tTrain Epoch: 0\tLoss: 0.1468\n",
            "[Client 0]\tTrain Epoch: 1\tLoss: 0.0418\n",
            "[Client 2]\tTrain Epoch: 1\tLoss: 0.0198\n",
            "[Client 1]\tTrain Epoch: 1\tLoss: 0.0390\n",
            "[Client 0]\tTrain Epoch: 2\tLoss: 0.0628\n",
            "[Client 2]\tTrain Epoch: 2\tLoss: 0.0656\n",
            "[Client 1]\tTrain Epoch: 2\tLoss: 0.0100\n",
            "[Client 0]\tTrain Epoch: 3\tLoss: 0.0986\n",
            "[Client 2]\tTrain Epoch: 3\tLoss: 0.0445\n",
            "[Client 1]\tTrain Epoch: 3\tLoss: 0.0769\n",
            "[Client 0]\tTrain Epoch: 4\tLoss: 0.0508\n",
            "[Client 2]\tTrain Epoch: 4\tLoss: 0.0695\n",
            "[Client 0]\tTrain Epoch: 5\tLoss: 0.0300\n",
            "[Client 1]\tTrain Epoch: 4\tLoss: 0.0512\n",
            "[Client 2]\tTrain Epoch: 5\tLoss: 0.0666\n",
            "[Client 0]\tTrain Epoch: 6\tLoss: 0.0859\n",
            "[Client 1]\tTrain Epoch: 5\tLoss: 0.0468\n",
            "[Client 2]\tTrain Epoch: 6\tLoss: 0.0462\n",
            "[Client 0]\tTrain Epoch: 7\tLoss: 0.0373\n",
            "[Client 1]\tTrain Epoch: 6\tLoss: 0.0095\n",
            "[Client 2]\tTrain Epoch: 7\tLoss: 0.0233\n",
            "[Client 0]\tTrain Epoch: 8\tLoss: 0.0266\n",
            "[Client 1]\tTrain Epoch: 7\tLoss: 0.0572\n",
            "[Client 2]\tTrain Epoch: 8\tLoss: 0.0256\n",
            "[Client 0]\tTrain Epoch: 9\tLoss: 0.0342\n",
            "Client 0 - done\n",
            "[Client 2]\tTrain Epoch: 9\tLoss: 0.0152\n",
            "Client 2 - done\n",
            "[Client 1]\tTrain Epoch: 8\tLoss: 0.0709\n",
            "[Client 1]\tTrain Epoch: 9\tLoss: 0.0256\n",
            "Client 1 - done\n",
            "Round 7, test_loss: 9.3372, test_acc: 0.9906365902596218\n",
            "[Client 0]\tTrain Epoch: 0\tLoss: 0.0121\n",
            "[Client 1]\tTrain Epoch: 0\tLoss: 0.0009\n",
            "[Client 2]\tTrain Epoch: 0\tLoss: 0.0649\n",
            "[Client 0]\tTrain Epoch: 1\tLoss: 0.0188\n",
            "[Client 1]\tTrain Epoch: 1\tLoss: 0.0232\n",
            "[Client 2]\tTrain Epoch: 1\tLoss: 0.0153\n",
            "[Client 0]\tTrain Epoch: 2\tLoss: 0.0157\n",
            "[Client 1]\tTrain Epoch: 2\tLoss: 0.1233\n",
            "[Client 2]\tTrain Epoch: 2\tLoss: 0.0074\n",
            "[Client 0]\tTrain Epoch: 3\tLoss: 0.0080\n",
            "[Client 1]\tTrain Epoch: 3\tLoss: 0.0880\n",
            "[Client 2]\tTrain Epoch: 3\tLoss: 0.0786\n",
            "[Client 0]\tTrain Epoch: 4\tLoss: 0.0296\n",
            "[Client 1]\tTrain Epoch: 4\tLoss: 0.0966\n",
            "[Client 0]\tTrain Epoch: 5\tLoss: 0.0147\n",
            "[Client 2]\tTrain Epoch: 4\tLoss: 0.0957\n",
            "[Client 1]\tTrain Epoch: 5\tLoss: 0.0316\n",
            "[Client 0]\tTrain Epoch: 6\tLoss: 0.0341\n",
            "[Client 2]\tTrain Epoch: 5\tLoss: 0.0168\n",
            "[Client 1]\tTrain Epoch: 6\tLoss: 0.0063\n",
            "[Client 0]\tTrain Epoch: 7\tLoss: 0.0032\n",
            "[Client 2]\tTrain Epoch: 6\tLoss: 0.0949\n",
            "[Client 1]\tTrain Epoch: 7\tLoss: 0.0152\n",
            "[Client 0]\tTrain Epoch: 8\tLoss: 0.0225\n",
            "[Client 2]\tTrain Epoch: 7\tLoss: 0.0308\n",
            "[Client 1]\tTrain Epoch: 8\tLoss: 0.0265\n",
            "[Client 0]\tTrain Epoch: 9\tLoss: 0.0358\n",
            "Client 0 - done\n",
            "[Client 1]\tTrain Epoch: 9\tLoss: 0.0079\n",
            "Client 1 - done\n",
            "[Client 2]\tTrain Epoch: 8\tLoss: 0.0134\n",
            "[Client 2]\tTrain Epoch: 9\tLoss: 0.0112\n",
            "Client 2 - done\n",
            "Round 8, test_loss: 9.1605, test_acc: 0.9908797957074238\n",
            "[Client 0]\tTrain Epoch: 0\tLoss: 0.0242\n",
            "[Client 1]\tTrain Epoch: 0\tLoss: 0.0192\n",
            "[Client 2]\tTrain Epoch: 0\tLoss: 0.0192\n",
            "[Client 0]\tTrain Epoch: 1\tLoss: 0.0573\n",
            "[Client 1]\tTrain Epoch: 1\tLoss: 0.0055\n",
            "[Client 2]\tTrain Epoch: 1\tLoss: 0.0155\n",
            "[Client 0]\tTrain Epoch: 2\tLoss: 0.0401\n",
            "[Client 1]\tTrain Epoch: 2\tLoss: 0.0126\n",
            "[Client 2]\tTrain Epoch: 2\tLoss: 0.0497\n",
            "[Client 0]\tTrain Epoch: 3\tLoss: 0.0124\n",
            "[Client 1]\tTrain Epoch: 3\tLoss: 0.0084\n",
            "[Client 2]\tTrain Epoch: 3\tLoss: 0.0407\n",
            "[Client 0]\tTrain Epoch: 4\tLoss: 0.0389\n",
            "[Client 1]\tTrain Epoch: 4\tLoss: 0.0278\n",
            "[Client 0]\tTrain Epoch: 5\tLoss: 0.0215\n",
            "[Client 2]\tTrain Epoch: 4\tLoss: 0.0096\n",
            "[Client 1]\tTrain Epoch: 5\tLoss: 0.1034\n",
            "[Client 0]\tTrain Epoch: 6\tLoss: 0.0908\n",
            "[Client 2]\tTrain Epoch: 5\tLoss: 0.1479\n",
            "[Client 1]\tTrain Epoch: 6\tLoss: 0.0150\n",
            "[Client 0]\tTrain Epoch: 7\tLoss: 0.0624\n",
            "[Client 2]\tTrain Epoch: 6\tLoss: 0.0230\n",
            "[Client 1]\tTrain Epoch: 7\tLoss: 0.0808\n",
            "[Client 0]\tTrain Epoch: 8\tLoss: 0.0045\n",
            "[Client 2]\tTrain Epoch: 7\tLoss: 0.0055\n",
            "[Client 1]\tTrain Epoch: 8\tLoss: 0.0120\n",
            "[Client 0]\tTrain Epoch: 9\tLoss: 0.0436\n",
            "Client 0 - done\n",
            "[Client 2]\tTrain Epoch: 8\tLoss: 0.0261\n",
            "[Client 1]\tTrain Epoch: 9\tLoss: 0.0045\n",
            "Client 1 - done\n",
            "[Client 2]\tTrain Epoch: 9\tLoss: 0.0237\n",
            "Client 2 - done\n",
            "Round 9, test_loss: 9.0600, test_acc: 0.9913662066030279\n",
            "[Client 0]\tTrain Epoch: 0\tLoss: 0.0309\n",
            "[Client 2]\tTrain Epoch: 0\tLoss: 0.0019\n",
            "[Client 1]\tTrain Epoch: 0\tLoss: 0.0098\n",
            "[Client 0]\tTrain Epoch: 1\tLoss: 0.0225\n",
            "[Client 2]\tTrain Epoch: 1\tLoss: 0.0070\n",
            "[Client 1]\tTrain Epoch: 1\tLoss: 0.0037\n",
            "[Client 0]\tTrain Epoch: 2\tLoss: 0.0150\n",
            "[Client 2]\tTrain Epoch: 2\tLoss: 0.0043\n",
            "[Client 1]\tTrain Epoch: 2\tLoss: 0.0092\n",
            "[Client 0]\tTrain Epoch: 3\tLoss: 0.0019\n",
            "[Client 2]\tTrain Epoch: 3\tLoss: 0.0116\n",
            "[Client 1]\tTrain Epoch: 3\tLoss: 0.0413\n",
            "[Client 0]\tTrain Epoch: 4\tLoss: 0.0060\n",
            "[Client 2]\tTrain Epoch: 4\tLoss: 0.0346\n",
            "[Client 0]\tTrain Epoch: 5\tLoss: 0.0150\n",
            "[Client 1]\tTrain Epoch: 4\tLoss: 0.0474\n",
            "[Client 2]\tTrain Epoch: 5\tLoss: 0.0325\n",
            "[Client 0]\tTrain Epoch: 6\tLoss: 0.0120\n",
            "[Client 1]\tTrain Epoch: 5\tLoss: 0.0030\n",
            "[Client 2]\tTrain Epoch: 6\tLoss: 0.0568\n",
            "[Client 0]\tTrain Epoch: 7\tLoss: 0.0125\n",
            "[Client 1]\tTrain Epoch: 6\tLoss: 0.0738\n",
            "[Client 2]\tTrain Epoch: 7\tLoss: 0.0087\n",
            "[Client 0]\tTrain Epoch: 8\tLoss: 0.0309\n",
            "[Client 1]\tTrain Epoch: 7\tLoss: 0.0073\n",
            "[Client 2]\tTrain Epoch: 8\tLoss: 0.1822\n",
            "[Client 0]\tTrain Epoch: 9\tLoss: 0.0099\n",
            "Client 0 - done\n",
            "[Client 2]\tTrain Epoch: 9\tLoss: 0.0026\n",
            "Client 2 - done\n",
            "[Client 1]\tTrain Epoch: 8\tLoss: 0.0963\n",
            "[Client 1]\tTrain Epoch: 9\tLoss: 0.0357\n",
            "Client 1 - done\n",
            "Round 10, test_loss: 8.9600, test_acc: 0.9911230011552259\n",
            "[Client 2]\tTrain Epoch: 0\tLoss: 0.0060\n",
            "[Client 1]\tTrain Epoch: 0\tLoss: 0.0089\n",
            "[Client 0]\tTrain Epoch: 0\tLoss: 0.0073\n",
            "[Client 2]\tTrain Epoch: 1\tLoss: 0.0120\n",
            "[Client 1]\tTrain Epoch: 1\tLoss: 0.0048\n",
            "[Client 0]\tTrain Epoch: 1\tLoss: 0.0239\n",
            "[Client 2]\tTrain Epoch: 2\tLoss: 0.0632\n",
            "[Client 1]\tTrain Epoch: 2\tLoss: 0.0318\n",
            "[Client 0]\tTrain Epoch: 2\tLoss: 0.0169\n",
            "[Client 2]\tTrain Epoch: 3\tLoss: 0.0173\n",
            "[Client 1]\tTrain Epoch: 3\tLoss: 0.0054\n",
            "[Client 0]\tTrain Epoch: 3\tLoss: 0.0331\n",
            "[Client 2]\tTrain Epoch: 4\tLoss: 0.0093\n",
            "[Client 1]\tTrain Epoch: 4\tLoss: 0.0128\n",
            "[Client 2]\tTrain Epoch: 5\tLoss: 0.0523\n",
            "[Client 0]\tTrain Epoch: 4\tLoss: 0.0108\n",
            "[Client 1]\tTrain Epoch: 5\tLoss: 0.0228\n",
            "[Client 2]\tTrain Epoch: 6\tLoss: 0.0078\n",
            "[Client 0]\tTrain Epoch: 5\tLoss: 0.0166\n",
            "[Client 1]\tTrain Epoch: 6\tLoss: 0.0238\n",
            "[Client 2]\tTrain Epoch: 7\tLoss: 0.0123\n",
            "[Client 0]\tTrain Epoch: 6\tLoss: 0.0129\n",
            "[Client 1]\tTrain Epoch: 7\tLoss: 0.0130\n",
            "[Client 2]\tTrain Epoch: 8\tLoss: 0.0249\n",
            "[Client 0]\tTrain Epoch: 7\tLoss: 0.0573\n",
            "[Client 1]\tTrain Epoch: 8\tLoss: 0.0302\n",
            "[Client 2]\tTrain Epoch: 9\tLoss: 0.0230\n",
            "Client 2 - done\n"
          ],
          "name": "stdout"
        },
        {
          "output_type": "error",
          "ename": "KeyboardInterrupt",
          "evalue": "ignored",
          "traceback": [
            "\u001b[0;31m---------------------------------------------------------------------------\u001b[0m",
            "\u001b[0;31mKeyboardInterrupt\u001b[0m                         Traceback (most recent call last)",
            "\u001b[0;32m<ipython-input-8-b2f716037212>\u001b[0m in \u001b[0;36m<module>\u001b[0;34m()\u001b[0m\n\u001b[1;32m      1\u001b[0m \u001b[0mtorch\u001b[0m\u001b[0;34m.\u001b[0m\u001b[0mcuda\u001b[0m\u001b[0;34m.\u001b[0m\u001b[0mempty_cache\u001b[0m\u001b[0;34m(\u001b[0m\u001b[0;34m)\u001b[0m\u001b[0;34m\u001b[0m\u001b[0;34m\u001b[0m\u001b[0m\n\u001b[1;32m      2\u001b[0m \u001b[0mserver\u001b[0m \u001b[0;34m=\u001b[0m \u001b[0mServer\u001b[0m\u001b[0;34m(\u001b[0m\u001b[0mnr_clients\u001b[0m\u001b[0;34m=\u001b[0m\u001b[0mnr_clients\u001b[0m\u001b[0;34m,\u001b[0m \u001b[0mnr_training_rounds\u001b[0m\u001b[0;34m=\u001b[0m\u001b[0mnr_training_rounds\u001b[0m\u001b[0;34m,\u001b[0m \u001b[0mlr\u001b[0m\u001b[0;34m=\u001b[0m\u001b[0mlr\u001b[0m\u001b[0;34m,\u001b[0m \u001b[0mepochs\u001b[0m\u001b[0;34m=\u001b[0m\u001b[0mclient_epochs\u001b[0m\u001b[0;34m,\u001b[0m \u001b[0mdata\u001b[0m\u001b[0;34m=\u001b[0m\u001b[0mdata\u001b[0m\u001b[0;34m,\u001b[0m \u001b[0mbatch_size\u001b[0m\u001b[0;34m=\u001b[0m\u001b[0mbatch_size\u001b[0m\u001b[0;34m,\u001b[0m \u001b[0mmax_grad_norm\u001b[0m\u001b[0;34m=\u001b[0m\u001b[0mmax_grad_norm\u001b[0m\u001b[0;34m,\u001b[0m \u001b[0mepsilon\u001b[0m\u001b[0;34m=\u001b[0m\u001b[0mepsilon\u001b[0m\u001b[0;34m,\u001b[0m \u001b[0mn_accumulation_steps\u001b[0m\u001b[0;34m=\u001b[0m\u001b[0mn_accumulation_steps\u001b[0m\u001b[0;34m,\u001b[0m \u001b[0mepsilon_training_iteration\u001b[0m\u001b[0;34m=\u001b[0m\u001b[0mepsilon_training_iteration\u001b[0m\u001b[0;34m,\u001b[0m \u001b[0mis_parallel\u001b[0m\u001b[0;34m=\u001b[0m\u001b[0mis_parallel\u001b[0m\u001b[0;34m,\u001b[0m \u001b[0mis_private\u001b[0m\u001b[0;34m=\u001b[0m\u001b[0mis_private\u001b[0m\u001b[0;34m,\u001b[0m \u001b[0mdevice\u001b[0m\u001b[0;34m=\u001b[0m\u001b[0mdevice\u001b[0m\u001b[0;34m,\u001b[0m \u001b[0mverbose\u001b[0m\u001b[0;34m=\u001b[0m\u001b[0;34m\"all\"\u001b[0m\u001b[0;34m)\u001b[0m\u001b[0;34m\u001b[0m\u001b[0;34m\u001b[0m\u001b[0m\n\u001b[0;32m----> 3\u001b[0;31m \u001b[0mtest_losses\u001b[0m\u001b[0;34m,\u001b[0m \u001b[0mtest_accs\u001b[0m \u001b[0;34m=\u001b[0m \u001b[0mserver\u001b[0m\u001b[0;34m(\u001b[0m\u001b[0mearly\u001b[0m\u001b[0;34m=\u001b[0m\u001b[0;32mFalse\u001b[0m\u001b[0;34m,\u001b[0m \u001b[0mpatience\u001b[0m\u001b[0;34m=\u001b[0m\u001b[0;36m5\u001b[0m\u001b[0;34m,\u001b[0m \u001b[0mdelta\u001b[0m\u001b[0;34m=\u001b[0m\u001b[0;36m0.05\u001b[0m\u001b[0;34m)\u001b[0m\u001b[0;34m\u001b[0m\u001b[0;34m\u001b[0m\u001b[0m\n\u001b[0m",
            "\u001b[0;32m/content/gdrive/My Drive/OPT4ML/src/server.py\u001b[0m in \u001b[0;36m__call__\u001b[0;34m(self, early, patience, delta)\u001b[0m\n\u001b[1;32m    182\u001b[0m         \u001b[0mtest_accs\u001b[0m \u001b[0;34m=\u001b[0m \u001b[0;34m[\u001b[0m\u001b[0;34m]\u001b[0m\u001b[0;34m\u001b[0m\u001b[0;34m\u001b[0m\u001b[0m\n\u001b[1;32m    183\u001b[0m         \u001b[0;32mfor\u001b[0m \u001b[0mtraining_round\u001b[0m \u001b[0;32min\u001b[0m \u001b[0mrange\u001b[0m\u001b[0;34m(\u001b[0m\u001b[0mself\u001b[0m\u001b[0;34m.\u001b[0m\u001b[0mnr_training_rounds\u001b[0m\u001b[0;34m)\u001b[0m\u001b[0;34m:\u001b[0m\u001b[0;34m\u001b[0m\u001b[0;34m\u001b[0m\u001b[0m\n\u001b[0;32m--> 184\u001b[0;31m             \u001b[0mtest_loss\u001b[0m\u001b[0;34m,\u001b[0m \u001b[0mtest_acc\u001b[0m \u001b[0;34m=\u001b[0m \u001b[0mself\u001b[0m\u001b[0;34m.\u001b[0m\u001b[0mglobal_update\u001b[0m\u001b[0;34m(\u001b[0m\u001b[0;34m)\u001b[0m\u001b[0;34m\u001b[0m\u001b[0;34m\u001b[0m\u001b[0m\n\u001b[0m\u001b[1;32m    185\u001b[0m             \u001b[0;32mif\u001b[0m \u001b[0mself\u001b[0m\u001b[0;34m.\u001b[0m\u001b[0mverbose\u001b[0m\u001b[0;34m:\u001b[0m \u001b[0mprint\u001b[0m\u001b[0;34m(\u001b[0m\u001b[0;34mf\"Round {training_round + 1}, test_loss: {test_loss:.4f}, test_acc: {test_acc}\"\u001b[0m\u001b[0;34m)\u001b[0m\u001b[0;34m\u001b[0m\u001b[0;34m\u001b[0m\u001b[0m\n\u001b[1;32m    186\u001b[0m             \u001b[0mtest_losses\u001b[0m\u001b[0;34m.\u001b[0m\u001b[0mappend\u001b[0m\u001b[0;34m(\u001b[0m\u001b[0mtest_loss\u001b[0m\u001b[0;34m)\u001b[0m\u001b[0;34m\u001b[0m\u001b[0;34m\u001b[0m\u001b[0m\n",
            "\u001b[0;32m/content/gdrive/My Drive/OPT4ML/src/server.py\u001b[0m in \u001b[0;36mglobal_update\u001b[0;34m(self)\u001b[0m\n\u001b[1;32m    161\u001b[0m                 \u001b[0mthreads\u001b[0m\u001b[0;34m.\u001b[0m\u001b[0mappend\u001b[0m\u001b[0;34m(\u001b[0m\u001b[0mt\u001b[0m\u001b[0;34m)\u001b[0m\u001b[0;34m\u001b[0m\u001b[0;34m\u001b[0m\u001b[0m\n\u001b[1;32m    162\u001b[0m             \u001b[0;32mfor\u001b[0m \u001b[0mt\u001b[0m \u001b[0;32min\u001b[0m \u001b[0mthreads\u001b[0m\u001b[0;34m:\u001b[0m\u001b[0;34m\u001b[0m\u001b[0;34m\u001b[0m\u001b[0m\n\u001b[0;32m--> 163\u001b[0;31m                 \u001b[0mt\u001b[0m\u001b[0;34m.\u001b[0m\u001b[0mjoin\u001b[0m\u001b[0;34m(\u001b[0m\u001b[0;34m)\u001b[0m\u001b[0;34m\u001b[0m\u001b[0;34m\u001b[0m\u001b[0m\n\u001b[0m\u001b[1;32m    164\u001b[0m         \u001b[0;32melse\u001b[0m\u001b[0;34m:\u001b[0m\u001b[0;34m\u001b[0m\u001b[0;34m\u001b[0m\u001b[0m\n\u001b[1;32m    165\u001b[0m             \u001b[0;32mfor\u001b[0m \u001b[0mclient_id\u001b[0m \u001b[0;32min\u001b[0m \u001b[0mclient_ids\u001b[0m\u001b[0;34m:\u001b[0m\u001b[0;34m\u001b[0m\u001b[0;34m\u001b[0m\u001b[0m\n",
            "\u001b[0;32m/usr/lib/python3.7/threading.py\u001b[0m in \u001b[0;36mjoin\u001b[0;34m(self, timeout)\u001b[0m\n\u001b[1;32m   1042\u001b[0m \u001b[0;34m\u001b[0m\u001b[0m\n\u001b[1;32m   1043\u001b[0m         \u001b[0;32mif\u001b[0m \u001b[0mtimeout\u001b[0m \u001b[0;32mis\u001b[0m \u001b[0;32mNone\u001b[0m\u001b[0;34m:\u001b[0m\u001b[0;34m\u001b[0m\u001b[0;34m\u001b[0m\u001b[0m\n\u001b[0;32m-> 1044\u001b[0;31m             \u001b[0mself\u001b[0m\u001b[0;34m.\u001b[0m\u001b[0m_wait_for_tstate_lock\u001b[0m\u001b[0;34m(\u001b[0m\u001b[0;34m)\u001b[0m\u001b[0;34m\u001b[0m\u001b[0;34m\u001b[0m\u001b[0m\n\u001b[0m\u001b[1;32m   1045\u001b[0m         \u001b[0;32melse\u001b[0m\u001b[0;34m:\u001b[0m\u001b[0;34m\u001b[0m\u001b[0;34m\u001b[0m\u001b[0m\n\u001b[1;32m   1046\u001b[0m             \u001b[0;31m# the behavior of a negative timeout isn't documented, but\u001b[0m\u001b[0;34m\u001b[0m\u001b[0;34m\u001b[0m\u001b[0;34m\u001b[0m\u001b[0m\n",
            "\u001b[0;32m/usr/lib/python3.7/threading.py\u001b[0m in \u001b[0;36m_wait_for_tstate_lock\u001b[0;34m(self, block, timeout)\u001b[0m\n\u001b[1;32m   1058\u001b[0m         \u001b[0;32mif\u001b[0m \u001b[0mlock\u001b[0m \u001b[0;32mis\u001b[0m \u001b[0;32mNone\u001b[0m\u001b[0;34m:\u001b[0m  \u001b[0;31m# already determined that the C code is done\u001b[0m\u001b[0;34m\u001b[0m\u001b[0;34m\u001b[0m\u001b[0m\n\u001b[1;32m   1059\u001b[0m             \u001b[0;32massert\u001b[0m \u001b[0mself\u001b[0m\u001b[0;34m.\u001b[0m\u001b[0m_is_stopped\u001b[0m\u001b[0;34m\u001b[0m\u001b[0;34m\u001b[0m\u001b[0m\n\u001b[0;32m-> 1060\u001b[0;31m         \u001b[0;32melif\u001b[0m \u001b[0mlock\u001b[0m\u001b[0;34m.\u001b[0m\u001b[0macquire\u001b[0m\u001b[0;34m(\u001b[0m\u001b[0mblock\u001b[0m\u001b[0;34m,\u001b[0m \u001b[0mtimeout\u001b[0m\u001b[0;34m)\u001b[0m\u001b[0;34m:\u001b[0m\u001b[0;34m\u001b[0m\u001b[0;34m\u001b[0m\u001b[0m\n\u001b[0m\u001b[1;32m   1061\u001b[0m             \u001b[0mlock\u001b[0m\u001b[0;34m.\u001b[0m\u001b[0mrelease\u001b[0m\u001b[0;34m(\u001b[0m\u001b[0;34m)\u001b[0m\u001b[0;34m\u001b[0m\u001b[0;34m\u001b[0m\u001b[0m\n\u001b[1;32m   1062\u001b[0m             \u001b[0mself\u001b[0m\u001b[0;34m.\u001b[0m\u001b[0m_stop\u001b[0m\u001b[0;34m(\u001b[0m\u001b[0;34m)\u001b[0m\u001b[0;34m\u001b[0m\u001b[0;34m\u001b[0m\u001b[0m\n",
            "\u001b[0;31mKeyboardInterrupt\u001b[0m: "
          ]
        }
      ]
    },
    {
      "cell_type": "code",
      "metadata": {
        "id": "014ee5eb-738e-41a3-861a-01c7f1fc8e52"
      },
      "source": [
        ""
      ],
      "id": "014ee5eb-738e-41a3-861a-01c7f1fc8e52",
      "execution_count": null,
      "outputs": []
    }
  ]
}