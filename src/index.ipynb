{
 "cells": [
  {
   "cell_type": "markdown",
   "id": "fe3adb0c",
   "metadata": {
    "colab_type": "text",
    "id": "view-in-github"
   },
   "source": [
    "<a href=\"https://colab.research.google.com/github/jan-kreischer/EPFL_OPT4ML/blob/main/src/index.ipynb\" target=\"_parent\"><img src=\"https://colab.research.google.com/assets/colab-badge.svg\" alt=\"Open In Colab\"/></a>"
   ]
  },
  {
   "cell_type": "markdown",
   "id": "082fd227",
   "metadata": {
    "id": "082fd227"
   },
   "source": [
    "<a href=\"https://colab.research.google.com/github/xavoliva6/oml_project/blob/main/src/index.ipynb\" target=\"_parent\"><img src=\"https://colab.research.google.com/assets/colab-badge.svg\" alt=\"Open In Colab\"/></a>"
   ]
  },
  {
   "cell_type": "markdown",
   "id": "87c76749",
   "metadata": {
    "id": "87c76749"
   },
   "source": [
    "# Federated Machine Learning with Differential Privacy"
   ]
  },
  {
   "cell_type": "markdown",
   "id": "2be51cc5",
   "metadata": {
    "id": "2be51cc5"
   },
   "source": [
    "**Clone Repo**<br/>\n",
    "Run the following cells in Google Colab in order to clone the code from Github to your Google Drive or pull the latest changes."
   ]
  },
  {
   "cell_type": "code",
   "execution_count": null,
   "id": "78c7a16a",
   "metadata": {
    "colab": {
     "base_uri": "https://localhost:8080/"
    },
    "id": "78c7a16a",
    "outputId": "714f0663-e901-4d23-c5ba-86a4204b9e15"
   },
   "outputs": [
    {
     "name": "stdout",
     "output_type": "stream",
     "text": [
      "Drive already mounted at /content/gdrive; to attempt to forcibly remount, call drive.mount(\"/content/gdrive\", force_remount=True).\n"
     ]
    }
   ],
   "source": [
    "from google.colab import drive\n",
    "drive.mount('/content/gdrive')"
   ]
  },
  {
   "cell_type": "code",
   "execution_count": null,
   "id": "763cf8e5",
   "metadata": {
    "colab": {
     "base_uri": "https://localhost:8080/"
    },
    "id": "763cf8e5",
    "outputId": "b4432ab5-f547-4bd0-8363-3640f07384c1"
   },
   "outputs": [
    {
     "name": "stdout",
     "output_type": "stream",
     "text": [
      "/content/gdrive/My Drive\n"
     ]
    }
   ],
   "source": [
    "%cd /content/gdrive/My Drive"
   ]
  },
  {
   "cell_type": "code",
   "execution_count": null,
   "id": "bb77a7c4",
   "metadata": {
    "colab": {
     "base_uri": "https://localhost:8080/"
    },
    "id": "bb77a7c4",
    "outputId": "c10a60c6-f267-4b25-9466-304439639822"
   },
   "outputs": [
    {
     "name": "stdout",
     "output_type": "stream",
     "text": [
      "fatal: destination path 'OPT4ML' already exists and is not an empty directory.\n"
     ]
    }
   ],
   "source": [
    "# Run this cell if you did not clone the repo yet\n",
    "! git clone https://github.com/jan-kreischer/EPFL_OPT4ML.git OPT4ML"
   ]
  },
  {
   "cell_type": "code",
   "execution_count": null,
   "id": "a45f0cc4",
   "metadata": {
    "colab": {
     "base_uri": "https://localhost:8080/"
    },
    "id": "a45f0cc4",
    "outputId": "9a4df98f-b73d-40cb-ff41-0552648d7b24"
   },
   "outputs": [
    {
     "name": "stdout",
     "output_type": "stream",
     "text": [
      "/content/gdrive/My Drive/OPT4ML\n",
      "Saved working directory and index state WIP on main: 66cc624 Added gpu support\n",
      "From https://github.com/xavoliva6/oml_project\n",
      " * branch            main       -> FETCH_HEAD\n",
      "Already up to date.\n"
     ]
    }
   ],
   "source": [
    "# Run this cell to pull the latest changes\n",
    "%cd /content/gdrive/My Drive/OPT4ML\n",
    "! git config --global user.email \"student@epfl.ch\"\n",
    "! git config --global user.name \"Student\"\n",
    "! git stash\n",
    "! git pull origin main"
   ]
  },
  {
   "cell_type": "markdown",
   "id": "06c844e3",
   "metadata": {
    "id": "06c844e3"
   },
   "source": [
    "**Colab Support**<br/>\n",
    "Only run the following lines if you want to run the code on Google Colab"
   ]
  },
  {
   "cell_type": "code",
   "execution_count": 1,
   "id": "a4fe276a",
   "metadata": {
    "colab": {
     "base_uri": "https://localhost:8080/"
    },
    "id": "a4fe276a",
    "outputId": "524a6137-262d-4e15-c1af-1b2f7c31b250"
   },
   "outputs": [
    {
     "ename": "ModuleNotFoundError",
     "evalue": "No module named 'google.colab'",
     "output_type": "error",
     "traceback": [
      "\u001b[0;31m---------------------------------------------------------------------------\u001b[0m",
      "\u001b[0;31mModuleNotFoundError\u001b[0m                       Traceback (most recent call last)",
      "\u001b[0;32m<ipython-input-1-8ec0ef07cab7>\u001b[0m in \u001b[0;36m<module>\u001b[0;34m\u001b[0m\n\u001b[1;32m      1\u001b[0m \u001b[0;31m# Enable access to files stored in Google Drive\u001b[0m\u001b[0;34m\u001b[0m\u001b[0;34m\u001b[0m\u001b[0;34m\u001b[0m\u001b[0m\n\u001b[0;32m----> 2\u001b[0;31m \u001b[0;32mfrom\u001b[0m \u001b[0mgoogle\u001b[0m\u001b[0;34m.\u001b[0m\u001b[0mcolab\u001b[0m \u001b[0;32mimport\u001b[0m \u001b[0mdrive\u001b[0m\u001b[0;34m\u001b[0m\u001b[0;34m\u001b[0m\u001b[0m\n\u001b[0m\u001b[1;32m      3\u001b[0m \u001b[0mdrive\u001b[0m\u001b[0;34m.\u001b[0m\u001b[0mmount\u001b[0m\u001b[0;34m(\u001b[0m\u001b[0;34m'/content/gdrive/'\u001b[0m\u001b[0;34m)\u001b[0m\u001b[0;34m\u001b[0m\u001b[0;34m\u001b[0m\u001b[0m\n",
      "\u001b[0;31mModuleNotFoundError\u001b[0m: No module named 'google.colab'"
     ]
    }
   ],
   "source": [
    "# Enable access to files stored in Google Drive\n",
    "from google.colab import drive\n",
    "drive.mount('/content/gdrive/')"
   ]
  },
  {
   "cell_type": "code",
   "execution_count": 2,
   "id": "5ab7fecb",
   "metadata": {
    "colab": {
     "base_uri": "https://localhost:8080/"
    },
    "id": "5ab7fecb",
    "outputId": "17ce21aa-364a-4914-b255-45de59f2e971"
   },
   "outputs": [
    {
     "name": "stdout",
     "output_type": "stream",
     "text": [
      "/content/gdrive/My Drive/OPT4ML/src\n"
     ]
    }
   ],
   "source": [
    "%cd /content/gdrive/My Drive/OPT4ML/src"
   ]
  },
  {
   "cell_type": "markdown",
   "id": "00a6f1b1",
   "metadata": {
    "id": "00a6f1b1"
   },
   "source": [
    "# Main"
   ]
  },
  {
   "cell_type": "code",
   "execution_count": 1,
   "id": "f2507f5d",
   "metadata": {
    "id": "f2507f5d"
   },
   "outputs": [
    {
     "name": "stdout",
     "output_type": "stream",
     "text": [
      "Requirement already satisfied: torchvision~=0.9.1 in /Users/jankreischer/opt/anaconda3/envs/EPFL_Optimization-for-Machine-Learning/lib/python3.8/site-packages (from -r ../requirements.txt (line 1)) (0.9.1)\n",
      "Requirement already satisfied: torch~=1.8.1 in /Users/jankreischer/opt/anaconda3/envs/EPFL_Optimization-for-Machine-Learning/lib/python3.8/site-packages (from -r ../requirements.txt (line 2)) (1.8.1)\n",
      "Requirement already satisfied: numpy~=1.20.2 in /Users/jankreischer/opt/anaconda3/envs/EPFL_Optimization-for-Machine-Learning/lib/python3.8/site-packages (from -r ../requirements.txt (line 3)) (1.20.3)\n",
      "Requirement already satisfied: opacus~=0.13.0 in /Users/jankreischer/opt/anaconda3/envs/EPFL_Optimization-for-Machine-Learning/lib/python3.8/site-packages (from -r ../requirements.txt (line 4)) (0.13.0)\n",
      "Requirement already satisfied: pandas==1.2.4 in /Users/jankreischer/opt/anaconda3/envs/EPFL_Optimization-for-Machine-Learning/lib/python3.8/site-packages (from -r ../requirements.txt (line 5)) (1.2.4)\n",
      "Requirement already satisfied: python-dateutil>=2.7.3 in /Users/jankreischer/opt/anaconda3/envs/EPFL_Optimization-for-Machine-Learning/lib/python3.8/site-packages (from pandas==1.2.4->-r ../requirements.txt (line 5)) (2.8.1)\n",
      "Requirement already satisfied: pytz>=2017.3 in /Users/jankreischer/opt/anaconda3/envs/EPFL_Optimization-for-Machine-Learning/lib/python3.8/site-packages (from pandas==1.2.4->-r ../requirements.txt (line 5)) (2021.1)\n",
      "Requirement already satisfied: pillow>=4.1.1 in /Users/jankreischer/opt/anaconda3/envs/EPFL_Optimization-for-Machine-Learning/lib/python3.8/site-packages (from torchvision~=0.9.1->-r ../requirements.txt (line 1)) (8.2.0)\n",
      "Requirement already satisfied: typing-extensions in /Users/jankreischer/opt/anaconda3/envs/EPFL_Optimization-for-Machine-Learning/lib/python3.8/site-packages (from torch~=1.8.1->-r ../requirements.txt (line 2)) (3.7.4.3)\n",
      "Requirement already satisfied: tqdm>=4.40 in /Users/jankreischer/opt/anaconda3/envs/EPFL_Optimization-for-Machine-Learning/lib/python3.8/site-packages (from opacus~=0.13.0->-r ../requirements.txt (line 4)) (4.61.0)\n",
      "Requirement already satisfied: scipy>=1.2 in /Users/jankreischer/opt/anaconda3/envs/EPFL_Optimization-for-Machine-Learning/lib/python3.8/site-packages (from opacus~=0.13.0->-r ../requirements.txt (line 4)) (1.6.3)\n",
      "Requirement already satisfied: requests>=2.25.1 in /Users/jankreischer/opt/anaconda3/envs/EPFL_Optimization-for-Machine-Learning/lib/python3.8/site-packages (from opacus~=0.13.0->-r ../requirements.txt (line 4)) (2.25.1)\n",
      "Requirement already satisfied: six>=1.5 in /Users/jankreischer/opt/anaconda3/envs/EPFL_Optimization-for-Machine-Learning/lib/python3.8/site-packages (from python-dateutil>=2.7.3->pandas==1.2.4->-r ../requirements.txt (line 5)) (1.15.0)\n",
      "Requirement already satisfied: chardet<5,>=3.0.2 in /Users/jankreischer/opt/anaconda3/envs/EPFL_Optimization-for-Machine-Learning/lib/python3.8/site-packages (from requests>=2.25.1->opacus~=0.13.0->-r ../requirements.txt (line 4)) (4.0.0)\n",
      "Requirement already satisfied: urllib3<1.27,>=1.21.1 in /Users/jankreischer/opt/anaconda3/envs/EPFL_Optimization-for-Machine-Learning/lib/python3.8/site-packages (from requests>=2.25.1->opacus~=0.13.0->-r ../requirements.txt (line 4)) (1.26.5)\n",
      "Requirement already satisfied: idna<3,>=2.5 in /Users/jankreischer/opt/anaconda3/envs/EPFL_Optimization-for-Machine-Learning/lib/python3.8/site-packages (from requests>=2.25.1->opacus~=0.13.0->-r ../requirements.txt (line 4)) (2.10)\n",
      "Requirement already satisfied: certifi>=2017.4.17 in /Users/jankreischer/opt/anaconda3/envs/EPFL_Optimization-for-Machine-Learning/lib/python3.8/site-packages (from requests>=2.25.1->opacus~=0.13.0->-r ../requirements.txt (line 4)) (2020.12.5)\n"
     ]
    }
   ],
   "source": [
    "# Install necessary requirements\n",
    "!pip install -r ../requirements.txt"
   ]
  },
  {
   "cell_type": "code",
   "execution_count": 1,
   "id": "c90e203b",
   "metadata": {
    "colab": {
     "base_uri": "https://localhost:8080/"
    },
    "id": "c90e203b",
    "outputId": "7da7ff9c-c69b-4127-e49d-60c1dbf54b93"
   },
   "outputs": [
    {
     "name": "stdout",
     "output_type": "stream",
     "text": [
      "device_name: cpu:0\n"
     ]
    }
   ],
   "source": [
    "# Make sure cuda support is available\n",
    "import torch\n",
    "if torch.cuda.is_available():  \n",
    "  device_name = \"cuda\" \n",
    "  device_index = 0\n",
    "else:  \n",
    "  device_name = \"cpu\" \n",
    "  device_index = 0\n",
    "print(\"device_name: {0}:{1}\".format(device_name, device_index))\n",
    "device = torch.device(device_name, device_index)"
   ]
  },
  {
   "cell_type": "code",
   "execution_count": 2,
   "id": "ba15fd75",
   "metadata": {
    "id": "ba15fd75"
   },
   "outputs": [],
   "source": [
    "import numpy as np\n",
    "import warnings\n",
    "import matplotlib.pyplot as plt\n",
    "from utils import *\n",
    "\n",
    "from model import CNN\n",
    "from server import Server\n"
   ]
  },
  {
   "cell_type": "code",
   "execution_count": 3,
   "id": "4b809818-4fc5-4340-83e6-dc5dc77a3c9e",
   "metadata": {
    "id": "4b809818-4fc5-4340-83e6-dc5dc77a3c9e"
   },
   "outputs": [],
   "source": [
    "if __name__ == \"__main__\":\n",
    "    warnings.filterwarnings(\"ignore\")"
   ]
  },
  {
   "cell_type": "code",
   "execution_count": null,
   "id": "bb191aeb-c5b4-477b-8aa0-0a048a56b7e9",
   "metadata": {
    "id": "bb191aeb-c5b4-477b-8aa0-0a048a56b7e9"
   },
   "outputs": [],
   "source": [
    "# --- TRAINING PARAMETERS ---\n",
    "# NR_CLIENTS ... Number of clients participating in the training process.\n",
    "# LR ... Learning rate used for the stochastic gradient descent.\n",
    "# CLIENT EPOCHS ... Number of epochs that every client is trained during every step.\n",
    "# NR_TRAINING_ROUNDS ... Number of times that the server performs a global model update.\n",
    "# IS_PARALLEL ... Is the training of the clients performed in parallel.\n",
    "# DATA ... Dataset to be used. Either 'MNIST', 'MED' or 'FEMNIST'.\n",
    "# BATCH_SIZE ... Batch size used by SGD algorithm."
   ]
  },
  {
   "cell_type": "code",
   "execution_count": null,
   "id": "8eccf059-f14e-4fe4-9128-4336e87fdc72",
   "metadata": {
    "id": "8eccf059-f14e-4fe4-9128-4336e87fdc72"
   },
   "outputs": [],
   "source": [
    "# --- DIFFERENTIAL PRIVACY PARAMETERS ---\n",
    "# IS PRIVATE ... \n",
    "# MAX_GRAD_NORM\n",
    "# EPSILON\n",
    "# EPISILON_TRAINING_ITERATION\n",
    "# VIRTUAL_BATCH_SIZE\n",
    "# N_ACCUMULATION_STEPS"
   ]
  },
  {
   "cell_type": "markdown",
   "id": "ca8edc12",
   "metadata": {
    "id": "ca8edc12"
   },
   "source": [
    "## 1. Experiments on Medical Dataset\n",
    "In the first experiment we are comparing the accuracy of a fed ml approach including privacy "
   ]
  },
  {
   "cell_type": "code",
   "execution_count": 4,
   "id": "uYf5jXst7LlY",
   "metadata": {
    "id": "uYf5jXst7LlY"
   },
   "outputs": [],
   "source": [
    "data = \"Med\"\n",
    "batch_size = 10"
   ]
  },
  {
   "cell_type": "markdown",
   "id": "mWOJUOYA7MVy",
   "metadata": {
    "id": "mWOJUOYA7MVy"
   },
   "source": [
    "### Experiment 1.1"
   ]
  },
  {
   "cell_type": "code",
   "execution_count": 5,
   "id": "ac2c806b",
   "metadata": {
    "id": "ac2c806b"
   },
   "outputs": [],
   "source": [
    "# --- TRAINING PARAMETERS ---\n",
    "nr_clients = 3\n",
    "lr = 0.01\n",
    "client_epochs = 20 \n",
    "nr_training_rounds = 20\n",
    "is_parallel = False\n",
    "# --- DIFFERENTIAL PRIVACY PARAMETERS ---\n",
    "is_private = False\n",
    "max_grad_norm = 1.2\n",
    "epsilon = 5\n",
    "epsilon_training_iteration = epsilon / nr_training_rounds\n",
    "virtual_batch_size = 2 * batch_size\n",
    "assert virtual_batch_size % batch_size == 0  # VIRTUAL_BATCH_SIZE should be divisible by BATCH_SIZE\n",
    "n_accumulation_steps = int(virtual_batch_size / batch_size)"
   ]
  },
  {
   "cell_type": "code",
   "execution_count": 6,
   "id": "39040a71",
   "metadata": {
    "colab": {
     "base_uri": "https://localhost:8080/",
     "height": 644
    },
    "id": "39040a71",
    "outputId": "ddf29ce9-bf1f-46cc-d202-d1608da753af"
   },
   "outputs": [
    {
     "name": "stdout",
     "output_type": "stream",
     "text": [
      "--- Configuration ---\n",
      "nr_clients: 3\n",
      "nr_training_rounds: 20\n",
      "lr: 0.01\n",
      "epochs: 20\n",
      "data: Med\n",
      "batch_size: 10\n",
      "max_grad_norm: 1.2\n",
      "epsilon: 5\n",
      "n_accumulation_steps: 2\n",
      "epsilon_training_iteration: 0.25\n",
      "is_parallel: False\n",
      "is_private: False\n",
      "device: <class 'torch.device'>\n",
      "verbose: server\n",
      "Med\n",
      "False\n",
      "--- Training ---\n",
      "cpu:0\n",
      "<class 'torch.device'>\n",
      "cpu:0\n",
      "<class 'torch.device'>\n",
      "Round 1, test_loss: 2.9077, test_acc: 0.5416666666666666\n",
      "cpu:0\n",
      "<class 'torch.device'>\n",
      "cpu:0\n",
      "<class 'torch.device'>\n",
      "Round 2, test_loss: 1.7206, test_acc: 0.625\n",
      "cpu:0\n",
      "<class 'torch.device'>\n",
      "cpu:0\n",
      "<class 'torch.device'>\n",
      "Round 3, test_loss: 4.7579, test_acc: 0.5416666666666666\n",
      "cpu:0\n",
      "<class 'torch.device'>\n",
      "cpu:0\n",
      "<class 'torch.device'>\n",
      "Round 4, test_loss: 1.7034, test_acc: 0.875\n",
      "cpu:0\n",
      "<class 'torch.device'>\n",
      "cpu:0\n",
      "<class 'torch.device'>\n",
      "Round 5, test_loss: 2.4565, test_acc: 0.4583333333333333\n",
      "cpu:0\n",
      "<class 'torch.device'>\n",
      "cpu:0\n",
      "<class 'torch.device'>\n",
      "Round 6, test_loss: 1.5390, test_acc: 0.75\n",
      "cpu:0\n",
      "<class 'torch.device'>\n",
      "cpu:0\n",
      "<class 'torch.device'>\n",
      "Round 7, test_loss: 4.4578, test_acc: 0.4583333333333333\n",
      "cpu:0\n",
      "<class 'torch.device'>\n",
      "cpu:0\n",
      "<class 'torch.device'>\n",
      "Round 8, test_loss: 4.1592, test_acc: 0.5416666666666666\n",
      "cpu:0\n",
      "<class 'torch.device'>\n",
      "cpu:0\n",
      "<class 'torch.device'>\n",
      "Round 9, test_loss: 1.3232, test_acc: 0.875\n",
      "cpu:0\n",
      "<class 'torch.device'>\n",
      "cpu:0\n",
      "<class 'torch.device'>\n",
      "Round 10, test_loss: 1.6005, test_acc: 0.6666666666666666\n",
      "cpu:0\n",
      "<class 'torch.device'>\n",
      "cpu:0\n",
      "<class 'torch.device'>\n",
      "Round 11, test_loss: 6.2339, test_acc: 0.4583333333333333\n",
      "cpu:0\n",
      "<class 'torch.device'>\n",
      "cpu:0\n",
      "<class 'torch.device'>\n",
      "Round 12, test_loss: 1.2837, test_acc: 0.875\n",
      "cpu:0\n",
      "<class 'torch.device'>\n",
      "cpu:0\n",
      "<class 'torch.device'>\n",
      "Round 13, test_loss: 1.4987, test_acc: 0.75\n",
      "cpu:0\n",
      "<class 'torch.device'>\n",
      "cpu:0\n",
      "<class 'torch.device'>\n",
      "Round 14, test_loss: 1.4124, test_acc: 0.7083333333333334\n",
      "cpu:0\n",
      "<class 'torch.device'>\n",
      "cpu:0\n",
      "<class 'torch.device'>\n",
      "Round 15, test_loss: 1.0659, test_acc: 0.75\n",
      "cpu:0\n",
      "<class 'torch.device'>\n",
      "cpu:0\n",
      "<class 'torch.device'>\n",
      "Round 16, test_loss: 1.1061, test_acc: 0.875\n",
      "cpu:0\n",
      "<class 'torch.device'>\n",
      "cpu:0\n",
      "<class 'torch.device'>\n",
      "Round 17, test_loss: 1.1073, test_acc: 0.75\n",
      "cpu:0\n",
      "<class 'torch.device'>\n",
      "cpu:0\n",
      "<class 'torch.device'>\n",
      "Round 18, test_loss: 2.1597, test_acc: 0.6666666666666666\n",
      "cpu:0\n",
      "<class 'torch.device'>\n",
      "cpu:0\n",
      "<class 'torch.device'>\n",
      "Round 19, test_loss: 1.4704, test_acc: 0.7083333333333334\n",
      "cpu:0\n",
      "<class 'torch.device'>\n",
      "cpu:0\n",
      "<class 'torch.device'>\n",
      "Round 20, test_loss: 1.1108, test_acc: 0.7916666666666666\n",
      "Test losses: [2.9077, 1.7206, 4.7579, 1.7034, 2.4565, 1.539, 4.4578, 4.1592, 1.3232, 1.6005, 6.2339, 1.2837, 1.4987, 1.4124, 1.0659, 1.1061, 1.1073, 2.1597, 1.4704, 1.1108]\n",
      "Test accuracies: [0.5416666666666666, 0.625, 0.5416666666666666, 0.875, 0.4583333333333333, 0.75, 0.4583333333333333, 0.5416666666666666, 0.875, 0.6666666666666666, 0.4583333333333333, 0.875, 0.75, 0.7083333333333334, 0.75, 0.875, 0.75, 0.6666666666666666, 0.7083333333333334, 0.7916666666666666]\n",
      "Finished\n"
     ]
    }
   ],
   "source": [
    "server = Server(nr_clients=nr_clients, nr_training_rounds=nr_training_rounds, lr=lr, epochs=client_epochs, data=data, batch_size=batch_size, max_grad_norm=max_grad_norm, epsilon=epsilon, n_accumulation_steps=n_accumulation_steps, epsilon_training_iteration=epsilon_training_iteration, is_parallel=is_parallel, is_private=is_private, device=device, verbose=\"server\")\n",
    "test_losses, test_accs = server(early=False, patience=3, delta=0.05)"
   ]
  },
  {
   "cell_type": "code",
   "execution_count": null,
   "id": "8f53bf65",
   "metadata": {
    "id": "8f53bf65",
    "outputId": "6a9997ff-fff8-4a8d-8ca7-9869f52dce95"
   },
   "outputs": [],
   "source": [
    "plot_metrics(test_losses, test_accs)"
   ]
  },
  {
   "cell_type": "code",
   "execution_count": null,
   "id": "8e50b6dd-ac4d-4e0c-9314-28568e939f0a",
   "metadata": {},
   "outputs": [],
   "source": []
  },
  {
   "cell_type": "code",
   "execution_count": 20,
   "id": "3d62f410",
   "metadata": {
    "id": "3d62f410",
    "outputId": "9616012e-2b27-4fdc-ee67-a3c8156dfcdd"
   },
   "outputs": [
    {
     "name": "stdout",
     "output_type": "stream",
     "text": [
      "--- Configuration ---\n",
      "nr_clients: 3\n",
      "nr_training_rounds: 20\n",
      "lr: 0.01\n",
      "epochs: 20\n",
      "data: Med\n",
      "batch_size: 10\n",
      "max_grad_norm: 1.2\n",
      "epsilon: 5\n",
      "n_accumulation_steps: 2\n",
      "epsilon_training_iteration: 0.25\n",
      "is_parallel: False\n",
      "is_private: True\n",
      "device: <class 'torch.device'>\n",
      "verbose: server\n",
      "Med\n",
      "False\n",
      "--- Training ---\n",
      "Round 1, test_loss: 21.1559, test_acc: 0.4166666666666667\n",
      "Round 2, test_loss: 19.9924, test_acc: 0.4166666666666667\n",
      "Round 3, test_loss: 18.7754, test_acc: 0.4166666666666667\n",
      "Round 4, test_loss: 10.7828, test_acc: 0.4166666666666667\n",
      "Round 5, test_loss: 13.2373, test_acc: 0.4166666666666667\n",
      "Round 6, test_loss: 10.4314, test_acc: 0.4166666666666667\n",
      "Round 7, test_loss: 4.6877, test_acc: 0.4166666666666667\n",
      "Round 8, test_loss: 6.8415, test_acc: 0.4166666666666667\n",
      "Round 9, test_loss: 8.1430, test_acc: 0.4166666666666667\n",
      "Round 10, test_loss: 6.6062, test_acc: 0.4166666666666667\n",
      "Round 11, test_loss: 5.6441, test_acc: 0.4166666666666667\n",
      "Round 12, test_loss: 7.8713, test_acc: 0.4166666666666667\n",
      "Round 13, test_loss: 8.6444, test_acc: 0.4166666666666667\n",
      "Round 14, test_loss: 7.9265, test_acc: 0.4166666666666667\n",
      "Round 15, test_loss: 4.0084, test_acc: 0.4166666666666667\n",
      "Round 16, test_loss: 7.8315, test_acc: 0.4166666666666667\n",
      "Round 17, test_loss: 5.9527, test_acc: 0.4166666666666667\n",
      "Round 18, test_loss: 2.8823, test_acc: 0.4166666666666667\n",
      "Round 19, test_loss: 2.2836, test_acc: 0.25\n",
      "Round 20, test_loss: 2.5697, test_acc: 0.4166666666666667\n",
      "Test losses: [21.1559, 19.9924, 18.7754, 10.7828, 13.2373, 10.4314, 4.6877, 6.8415, 8.143, 6.6062, 5.6441, 7.8713, 8.6444, 7.9265, 4.0084, 7.8315, 5.9527, 2.8823, 2.2836, 2.5697]\n",
      "Test accuracies: [0.4166666666666667, 0.4166666666666667, 0.4166666666666667, 0.4166666666666667, 0.4166666666666667, 0.4166666666666667, 0.4166666666666667, 0.4166666666666667, 0.4166666666666667, 0.4166666666666667, 0.4166666666666667, 0.4166666666666667, 0.4166666666666667, 0.4166666666666667, 0.4166666666666667, 0.4166666666666667, 0.4166666666666667, 0.4166666666666667, 0.25, 0.4166666666666667]\n",
      "Finished\n"
     ]
    }
   ],
   "source": [
    "is_private=True\n",
    "server = Server(nr_clients=nr_clients, nr_training_rounds=nr_training_rounds, lr=lr, epochs=client_epochs, data=data, batch_size=batch_size, max_grad_norm=max_grad_norm, epsilon=epsilon, n_accumulation_steps=n_accumulation_steps, epsilon_training_iteration=epsilon_training_iteration, is_parallel=is_parallel, is_private=is_private, verbose=\"server\")\n",
    "test_losses, test_accs = server(early=False, patience=3, delta=0.05)"
   ]
  },
  {
   "cell_type": "code",
   "execution_count": 21,
   "id": "1465a694",
   "metadata": {
    "id": "1465a694",
    "outputId": "d0625357-4a81-4bda-8cdc-5934fd4724b3"
   },
   "outputs": [
    {
     "data": {
      "image/png": "[encoded data removed]",
      "text/plain": [
       "<Figure size 864x432 with 2 Axes>"
      ]
     },
     "metadata": {
      "needs_background": "light"
     },
     "output_type": "display_data"
    }
   ],
   "source": [
    "plot_metrics(test_losses, test_accs)"
   ]
  },
  {
   "cell_type": "markdown",
   "id": "dc57fade",
   "metadata": {
    "id": "dc57fade"
   },
   "source": [
    "## 2. Experiments on MNIST Dataset"
   ]
  },
  {
   "cell_type": "code",
   "execution_count": null,
   "id": "uwHtZ8MI69ld",
   "metadata": {
    "id": "uwHtZ8MI69ld"
   },
   "outputs": [],
   "source": [
    "data = 'MNIST'\n",
    "batch_size = 128"
   ]
  },
  {
   "cell_type": "code",
   "execution_count": 9,
   "id": "bf5b56f4",
   "metadata": {
    "id": "bf5b56f4"
   },
   "outputs": [],
   "source": [
    "# --- TRAINING PARAMETERS ---\n",
    "nr_clients = 3\n",
    "lr = 0.01\n",
    "client_epochs = 10 \n",
    "nr_training_rounds = 20\n",
    "is_parallel = True"
   ]
  },
  {
   "cell_type": "code",
   "execution_count": null,
   "id": "635d74fa",
   "metadata": {
    "id": "635d74fa"
   },
   "outputs": [],
   "source": [
    "# --- DIFFERENTIAL PRIVACY PARAMETERS ---\n",
    "is_private = True\n",
    "max_grad_norm = 1.2\n",
    "epsilon = 5\n",
    "epsilon_training_iteration = epsilon / nr_training_rounds\n",
    "virtual_batch_size = 2 * batch_size\n",
    "assert virtual_batch_size % batch_size == 0  # VIRTUAL_BATCH_SIZE should be divisible by BATCH_SIZE\n",
    "n_accumulation_steps = int(virtual_batch_size / batch_size)"
   ]
  },
  {
   "cell_type": "code",
   "execution_count": null,
   "id": "3835b253",
   "metadata": {
    "colab": {
     "referenced_widgets": [
      "a765e893b0b64f2cac709ed6d7a50d7e",
      "9cb4c6af3d184b05bfc53c4222e54e15",
      "e6904d3d6dcf4126846b04d365cb8153",
      "bbfd2681c61a4a468ed91f4f179546ab"
     ]
    },
    "id": "3835b253",
    "outputId": "023b28e9-55cf-4746-b12b-4dc6247dd7e5"
   },
   "outputs": [
    {
     "name": "stdout",
     "output_type": "stream",
     "text": [
      "--- Configuration ---\n",
      "nr_clients: 3\n",
      "nr_training_rounds: 20\n",
      "lr: 0.01\n",
      "epochs: 10\n",
      "data: MNIST\n",
      "batch_size: 128\n",
      "max_grad_norm: 1.2\n",
      "epsilon: 5\n",
      "n_accumulation_steps: 2\n",
      "epsilon_training_iteration: 0.25\n",
      "is_parallel: True\n",
      "is_private: True\n",
      "device: <class 'torch.device'>\n",
      "verbose: all\n",
      "MNIST\n",
      "True\n",
      "Downloading http://yann.lecun.com/exdb/mnist/train-images-idx3-ubyte.gz\n",
      "Failed to download (trying next):\n",
      "HTTP Error 503: Service Unavailable\n",
      "\n",
      "Downloading https://ossci-datasets.s3.amazonaws.com/mnist/train-images-idx3-ubyte.gz\n",
      "Downloading https://ossci-datasets.s3.amazonaws.com/mnist/train-images-idx3-ubyte.gz to ./data/MNIST/raw/train-images-idx3-ubyte.gz\n"
     ]
    },
    {
     "data": {
      "application/vnd.jupyter.widget-view+json": {
       "model_id": "a765e893b0b64f2cac709ed6d7a50d7e",
       "version_major": 2,
       "version_minor": 0
      },
      "text/plain": [
       "  0%|          | 0/9912422 [00:00<?, ?it/s]"
      ]
     },
     "metadata": {
      "tags": []
     },
     "output_type": "display_data"
    },
    {
     "name": "stdout",
     "output_type": "stream",
     "text": [
      "Extracting ./data/MNIST/raw/train-images-idx3-ubyte.gz to ./data/MNIST/raw\n",
      "\n",
      "Downloading http://yann.lecun.com/exdb/mnist/train-labels-idx1-ubyte.gz\n",
      "Failed to download (trying next):\n",
      "HTTP Error 503: Service Unavailable\n",
      "\n",
      "Downloading https://ossci-datasets.s3.amazonaws.com/mnist/train-labels-idx1-ubyte.gz\n",
      "Downloading https://ossci-datasets.s3.amazonaws.com/mnist/train-labels-idx1-ubyte.gz to ./data/MNIST/raw/train-labels-idx1-ubyte.gz\n"
     ]
    },
    {
     "data": {
      "application/vnd.jupyter.widget-view+json": {
       "model_id": "9cb4c6af3d184b05bfc53c4222e54e15",
       "version_major": 2,
       "version_minor": 0
      },
      "text/plain": [
       "  0%|          | 0/28881 [00:00<?, ?it/s]"
      ]
     },
     "metadata": {
      "tags": []
     },
     "output_type": "display_data"
    },
    {
     "name": "stdout",
     "output_type": "stream",
     "text": [
      "Extracting ./data/MNIST/raw/train-labels-idx1-ubyte.gz to ./data/MNIST/raw\n",
      "\n",
      "Downloading http://yann.lecun.com/exdb/mnist/t10k-images-idx3-ubyte.gz\n",
      "Downloading http://yann.lecun.com/exdb/mnist/t10k-images-idx3-ubyte.gz to ./data/MNIST/raw/t10k-images-idx3-ubyte.gz\n",
      "Failed to download (trying next):\n",
      "HTTP Error 503: Service Unavailable\n",
      "\n",
      "Downloading https://ossci-datasets.s3.amazonaws.com/mnist/t10k-images-idx3-ubyte.gz\n",
      "Downloading https://ossci-datasets.s3.amazonaws.com/mnist/t10k-images-idx3-ubyte.gz to ./data/MNIST/raw/t10k-images-idx3-ubyte.gz\n"
     ]
    },
    {
     "data": {
      "application/vnd.jupyter.widget-view+json": {
       "model_id": "e6904d3d6dcf4126846b04d365cb8153",
       "version_major": 2,
       "version_minor": 0
      },
      "text/plain": [
       "  0%|          | 0/1648877 [00:00<?, ?it/s]"
      ]
     },
     "metadata": {
      "tags": []
     },
     "output_type": "display_data"
    },
    {
     "name": "stdout",
     "output_type": "stream",
     "text": [
      "Extracting ./data/MNIST/raw/t10k-images-idx3-ubyte.gz to ./data/MNIST/raw\n",
      "\n",
      "Downloading http://yann.lecun.com/exdb/mnist/t10k-labels-idx1-ubyte.gz\n",
      "Downloading http://yann.lecun.com/exdb/mnist/t10k-labels-idx1-ubyte.gz to ./data/MNIST/raw/t10k-labels-idx1-ubyte.gz\n"
     ]
    },
    {
     "data": {
      "application/vnd.jupyter.widget-view+json": {
       "model_id": "bbfd2681c61a4a468ed91f4f179546ab",
       "version_major": 2,
       "version_minor": 0
      },
      "text/plain": [
       "  0%|          | 0/4542 [00:00<?, ?it/s]"
      ]
     },
     "metadata": {
      "tags": []
     },
     "output_type": "display_data"
    },
    {
     "name": "stdout",
     "output_type": "stream",
     "text": [
      "Extracting ./data/MNIST/raw/t10k-labels-idx1-ubyte.gz to ./data/MNIST/raw\n",
      "\n",
      "Processing...\n",
      "Done!\n"
     ]
    },
    {
     "name": "stderr",
     "output_type": "stream",
     "text": [
      "/Users/jankreischer/opt/anaconda3/envs/EPFL_Optimization-for-Machine-Learning/lib/python3.8/site-packages/torchvision/datasets/mnist.py:502: UserWarning: The given NumPy array is not writeable, and PyTorch does not support non-writeable tensors. This means you can write to the underlying (supposedly non-writeable) NumPy array using the tensor. You may want to copy the array to protect its data or make it writeable before converting it to a tensor. This type of warning will be suppressed for the rest of this program. (Triggered internally at  ../torch/csrc/utils/tensor_numpy.cpp:143.)\n",
      "  return torch.from_numpy(parsed.astype(m[2], copy=False)).view(*s)\n",
      "/Users/jankreischer/opt/anaconda3/envs/EPFL_Optimization-for-Machine-Learning/lib/python3.8/site-packages/opacus/privacy_engine.py:522: UserWarning: A ``sample_rate`` has been provided.Thus, the provided ``batch_size``and ``sample_size`` will be ignored.\n",
      "  warnings.warn(\n",
      "/Users/jankreischer/opt/anaconda3/envs/EPFL_Optimization-for-Machine-Learning/lib/python3.8/site-packages/opacus/privacy_engine.py:194: UserWarning: Secure RNG turned off. This is perfectly fine for experimentation as it allows for much faster training performance, but remember to turn it on and retrain one last time before production with ``secure_rng`` turned on.\n",
      "  warnings.warn(\n",
      "/Users/jankreischer/opt/anaconda3/envs/EPFL_Optimization-for-Machine-Learning/lib/python3.8/site-packages/opacus/privacy_engine.py:522: UserWarning: A ``sample_rate`` has been provided.Thus, the provided ``batch_size``and ``sample_size`` will be ignored.\n",
      "  warnings.warn(\n",
      "/Users/jankreischer/opt/anaconda3/envs/EPFL_Optimization-for-Machine-Learning/lib/python3.8/site-packages/opacus/privacy_engine.py:194: UserWarning: Secure RNG turned off. This is perfectly fine for experimentation as it allows for much faster training performance, but remember to turn it on and retrain one last time before production with ``secure_rng`` turned on.\n",
      "  warnings.warn(\n",
      "/Users/jankreischer/opt/anaconda3/envs/EPFL_Optimization-for-Machine-Learning/lib/python3.8/site-packages/opacus/privacy_engine.py:522: UserWarning: A ``sample_rate`` has been provided.Thus, the provided ``batch_size``and ``sample_size`` will be ignored.\n",
      "  warnings.warn(\n"
     ]
    },
    {
     "name": "stdout",
     "output_type": "stream",
     "text": [
      "[Client 0]\tUsing sigma=7.223188476562501 and C=1.2\n",
      "[Client 1]\tUsing sigma=7.223188476562501 and C=1.2\n"
     ]
    },
    {
     "name": "stderr",
     "output_type": "stream",
     "text": [
      "/Users/jankreischer/opt/anaconda3/envs/EPFL_Optimization-for-Machine-Learning/lib/python3.8/site-packages/opacus/privacy_engine.py:194: UserWarning: Secure RNG turned off. This is perfectly fine for experimentation as it allows for much faster training performance, but remember to turn it on and retrain one last time before production with ``secure_rng`` turned on.\n",
      "  warnings.warn(\n"
     ]
    },
    {
     "name": "stdout",
     "output_type": "stream",
     "text": [
      "[Client 2]\tUsing sigma=7.223188476562501 and C=1.2\n",
      "--- Training ---\n"
     ]
    },
    {
     "name": "stderr",
     "output_type": "stream",
     "text": [
      "/Users/jankreischer/opt/anaconda3/envs/EPFL_Optimization-for-Machine-Learning/lib/python3.8/site-packages/torch/nn/modules/module.py:795: UserWarning: Using a non-full backward hook when the forward contains multiple autograd Nodes is deprecated and will be removed in future versions. This hook will be missing some grad_input. Please use register_full_backward_hook to get the documented behavior.\n",
      "  warnings.warn(\"Using a non-full backward hook when the forward contains multiple autograd Nodes \"\n"
     ]
    },
    {
     "name": "stdout",
     "output_type": "stream",
     "text": [
      "[Client 2]\tTrain Epoch: 0\tLoss: 2.2916\n",
      "\t(ε = 0.18, δ = 2.5e-05) for α = 63.0\n",
      "[Client 0]\tTrain Epoch: 0\tLoss: 2.3099\n",
      "\t(ε = 0.18, δ = 2.5e-05) for α = 63.0\n",
      "[Client 1]\tTrain Epoch: 0\tLoss: 2.3144\n",
      "\t(ε = 0.18, δ = 2.5e-05) for α = 63.0\n",
      "[Client 2]\tTrain Epoch: 1\tLoss: 2.2842\n",
      "\t(ε = 0.19, δ = 2.5e-05) for α = 63.0\n",
      "[Client 0]\tTrain Epoch: 1\tLoss: 2.2589\n",
      "\t(ε = 0.19, δ = 2.5e-05) for α = 63.0\n",
      "[Client 1]\tTrain Epoch: 1\tLoss: 2.2713\n",
      "\t(ε = 0.19, δ = 2.5e-05) for α = 63.0\n"
     ]
    }
   ],
   "source": [
    "server = Server(nr_clients=nr_clients, nr_training_rounds=nr_training_rounds, lr=lr, epochs=client_epochs, data=data, batch_size=batch_size, max_grad_norm=max_grad_norm, epsilon=epsilon, n_accumulation_steps=n_accumulation_steps, epsilon_training_iteration=epsilon_training_iteration, is_parallel=is_parallel, is_private=is_private)\n",
    "test_losses, test_accs = server(early=True, patience=5, delta=0.05)"
   ]
  },
  {
   "cell_type": "code",
   "execution_count": null,
   "id": "5a55c61a",
   "metadata": {
    "id": "5a55c61a",
    "outputId": "ec502a0c-6981-4f85-b99f-1587af913259"
   },
   "outputs": [
    {
     "data": {
      "image/png": "[encoded data removed]",
      "text/plain": [
       "<Figure size 864x432 with 2 Axes>"
      ]
     },
     "metadata": {
      "needs_background": "light",
      "tags": []
     },
     "output_type": "display_data"
    }
   ],
   "source": [
    "plot_metrics(test_losses, test_accs)"
   ]
  },
  {
   "cell_type": "markdown",
   "id": "8c4f27eb",
   "metadata": {
    "id": "8c4f27eb"
   },
   "source": [
    "## 3. Experiments on FEMNIST Dataset"
   ]
  },
  {
   "cell_type": "code",
   "execution_count": 7,
   "id": "uAwGVIjK6x17",
   "metadata": {
    "id": "uAwGVIjK6x17"
   },
   "outputs": [],
   "source": [
    "data = \"FEMNIST\"\n",
    "batch_size = 64"
   ]
  },
  {
   "cell_type": "code",
   "execution_count": 8,
   "id": "a8633b60",
   "metadata": {
    "id": "a8633b60"
   },
   "outputs": [],
   "source": [
    "# --- TRAINING PARAMETERS ---\n",
    "nr_clients = 3\n",
    "lr = 0.01\n",
    "client_epochs = 2\n",
    "nr_training_rounds = 20\n",
    "is_parallel = True"
   ]
  },
  {
   "cell_type": "code",
   "execution_count": 9,
   "id": "19cfb800",
   "metadata": {
    "id": "19cfb800"
   },
   "outputs": [],
   "source": [
    "# --- DIFFERENTIAL PRIVACY PARAMETERS ---\n",
    "is_private = False\n",
    "max_grad_norm = 1.2\n",
    "epsilon = 5\n",
    "epsilon_training_iteration = epsilon / nr_training_rounds\n",
    "virtual_batch_size = 2 * batch_size\n",
    "assert virtual_batch_size % batch_size == 0  # VIRTUAL_BATCH_SIZE should be divisible by BATCH_SIZE\n",
    "n_accumulation_steps = int(virtual_batch_size / batch_size)"
   ]
  },
  {
   "cell_type": "code",
   "execution_count": 10,
   "id": "28cc63ba",
   "metadata": {
    "colab": {
     "base_uri": "https://localhost:8080/",
     "height": 1000
    },
    "id": "28cc63ba",
    "outputId": "c2eb152e-bda2-46a4-900d-9cb74b2cab8e"
   },
   "outputs": [
    {
     "name": "stdout",
     "output_type": "stream",
     "text": [
      "--- Configuration ---\n",
      "nr_clients: 3\n",
      "nr_training_rounds: 20\n",
      "lr: 0.01\n",
      "epochs: 2\n",
      "data: FEMNIST\n",
      "batch_size: 64\n",
      "max_grad_norm: 1.2\n",
      "epsilon: 5\n",
      "n_accumulation_steps: 2\n",
      "epsilon_training_iteration: 0.25\n",
      "is_parallel: True\n",
      "is_private: False\n",
      "device: <class 'torch.device'>\n",
      "verbose: all\n",
      "FEMNIST\n",
      "False\n",
      "--- Loading Data ---\n",
      "Loaded Test Data\n",
      "Loaded Training Data\n",
      "--- Training ---\n",
      "[Client 0]\tTrain Epoch: 0\tLoss: 1.8120\n",
      "[Client 1]\tTrain Epoch: 0\tLoss: 1.8746\n",
      "[Client 2]\tTrain Epoch: 0\tLoss: 1.8711\n",
      "[Client 0]\tTrain Epoch: 1\tLoss: 0.4261\n",
      "Client 0 - done\n",
      "[Client 2]\tTrain Epoch: 1\tLoss: 0.4176\n",
      "Client 2 - done\n",
      "[Client 1]\tTrain Epoch: 1\tLoss: 0.5038\n",
      "Client 1 - done\n",
      "Round 1, test_loss: 95.4719, test_acc: 0.8949352465495227\n"
     ]
    },
    {
     "ename": "KeyboardInterrupt",
     "evalue": "",
     "output_type": "error",
     "traceback": [
      "\u001b[0;31m---------------------------------------------------------------------------\u001b[0m",
      "\u001b[0;31mKeyboardInterrupt\u001b[0m                         Traceback (most recent call last)",
      "\u001b[0;32m<ipython-input-10-b2f716037212>\u001b[0m in \u001b[0;36m<module>\u001b[0;34m\u001b[0m\n\u001b[1;32m      1\u001b[0m \u001b[0mtorch\u001b[0m\u001b[0;34m.\u001b[0m\u001b[0mcuda\u001b[0m\u001b[0;34m.\u001b[0m\u001b[0mempty_cache\u001b[0m\u001b[0;34m(\u001b[0m\u001b[0;34m)\u001b[0m\u001b[0;34m\u001b[0m\u001b[0;34m\u001b[0m\u001b[0m\n\u001b[1;32m      2\u001b[0m \u001b[0mserver\u001b[0m \u001b[0;34m=\u001b[0m \u001b[0mServer\u001b[0m\u001b[0;34m(\u001b[0m\u001b[0mnr_clients\u001b[0m\u001b[0;34m=\u001b[0m\u001b[0mnr_clients\u001b[0m\u001b[0;34m,\u001b[0m \u001b[0mnr_training_rounds\u001b[0m\u001b[0;34m=\u001b[0m\u001b[0mnr_training_rounds\u001b[0m\u001b[0;34m,\u001b[0m \u001b[0mlr\u001b[0m\u001b[0;34m=\u001b[0m\u001b[0mlr\u001b[0m\u001b[0;34m,\u001b[0m \u001b[0mepochs\u001b[0m\u001b[0;34m=\u001b[0m\u001b[0mclient_epochs\u001b[0m\u001b[0;34m,\u001b[0m \u001b[0mdata\u001b[0m\u001b[0;34m=\u001b[0m\u001b[0mdata\u001b[0m\u001b[0;34m,\u001b[0m \u001b[0mbatch_size\u001b[0m\u001b[0;34m=\u001b[0m\u001b[0mbatch_size\u001b[0m\u001b[0;34m,\u001b[0m \u001b[0mmax_grad_norm\u001b[0m\u001b[0;34m=\u001b[0m\u001b[0mmax_grad_norm\u001b[0m\u001b[0;34m,\u001b[0m \u001b[0mepsilon\u001b[0m\u001b[0;34m=\u001b[0m\u001b[0mepsilon\u001b[0m\u001b[0;34m,\u001b[0m \u001b[0mn_accumulation_steps\u001b[0m\u001b[0;34m=\u001b[0m\u001b[0mn_accumulation_steps\u001b[0m\u001b[0;34m,\u001b[0m \u001b[0mepsilon_training_iteration\u001b[0m\u001b[0;34m=\u001b[0m\u001b[0mepsilon_training_iteration\u001b[0m\u001b[0;34m,\u001b[0m \u001b[0mis_parallel\u001b[0m\u001b[0;34m=\u001b[0m\u001b[0mis_parallel\u001b[0m\u001b[0;34m,\u001b[0m \u001b[0mis_private\u001b[0m\u001b[0;34m=\u001b[0m\u001b[0mis_private\u001b[0m\u001b[0;34m,\u001b[0m \u001b[0mdevice\u001b[0m\u001b[0;34m=\u001b[0m\u001b[0mdevice\u001b[0m\u001b[0;34m,\u001b[0m \u001b[0mverbose\u001b[0m\u001b[0;34m=\u001b[0m\u001b[0;34m\"all\"\u001b[0m\u001b[0;34m)\u001b[0m\u001b[0;34m\u001b[0m\u001b[0;34m\u001b[0m\u001b[0m\n\u001b[0;32m----> 3\u001b[0;31m \u001b[0mtest_losses\u001b[0m\u001b[0;34m,\u001b[0m \u001b[0mtest_accs\u001b[0m \u001b[0;34m=\u001b[0m \u001b[0mserver\u001b[0m\u001b[0;34m(\u001b[0m\u001b[0mearly\u001b[0m\u001b[0;34m=\u001b[0m\u001b[0;32mFalse\u001b[0m\u001b[0;34m,\u001b[0m \u001b[0mpatience\u001b[0m\u001b[0;34m=\u001b[0m\u001b[0;36m5\u001b[0m\u001b[0;34m,\u001b[0m \u001b[0mdelta\u001b[0m\u001b[0;34m=\u001b[0m\u001b[0;36m0.05\u001b[0m\u001b[0;34m)\u001b[0m\u001b[0;34m\u001b[0m\u001b[0;34m\u001b[0m\u001b[0m\n\u001b[0m",
      "\u001b[0;32m~/Documents/University/Master/Semester-03_Summer-2021/Optimisation-for-Machine-Learning/Assignment/Source/src/server.py\u001b[0m in \u001b[0;36m__call__\u001b[0;34m(self, early, patience, delta)\u001b[0m\n\u001b[1;32m    182\u001b[0m         \u001b[0mtest_accs\u001b[0m \u001b[0;34m=\u001b[0m \u001b[0;34m[\u001b[0m\u001b[0;34m]\u001b[0m\u001b[0;34m\u001b[0m\u001b[0;34m\u001b[0m\u001b[0m\n\u001b[1;32m    183\u001b[0m         \u001b[0;32mfor\u001b[0m \u001b[0mtraining_round\u001b[0m \u001b[0;32min\u001b[0m \u001b[0mrange\u001b[0m\u001b[0;34m(\u001b[0m\u001b[0mself\u001b[0m\u001b[0;34m.\u001b[0m\u001b[0mnr_training_rounds\u001b[0m\u001b[0;34m)\u001b[0m\u001b[0;34m:\u001b[0m\u001b[0;34m\u001b[0m\u001b[0;34m\u001b[0m\u001b[0m\n\u001b[0;32m--> 184\u001b[0;31m             \u001b[0mtest_loss\u001b[0m\u001b[0;34m,\u001b[0m \u001b[0mtest_acc\u001b[0m \u001b[0;34m=\u001b[0m \u001b[0mself\u001b[0m\u001b[0;34m.\u001b[0m\u001b[0mglobal_update\u001b[0m\u001b[0;34m(\u001b[0m\u001b[0;34m)\u001b[0m\u001b[0;34m\u001b[0m\u001b[0;34m\u001b[0m\u001b[0m\n\u001b[0m\u001b[1;32m    185\u001b[0m             \u001b[0;32mif\u001b[0m \u001b[0mself\u001b[0m\u001b[0;34m.\u001b[0m\u001b[0mverbose\u001b[0m\u001b[0;34m:\u001b[0m \u001b[0mprint\u001b[0m\u001b[0;34m(\u001b[0m\u001b[0;34mf\"Round {training_round + 1}, test_loss: {test_loss:.4f}, test_acc: {test_acc}\"\u001b[0m\u001b[0;34m)\u001b[0m\u001b[0;34m\u001b[0m\u001b[0;34m\u001b[0m\u001b[0m\n\u001b[1;32m    186\u001b[0m             \u001b[0mtest_losses\u001b[0m\u001b[0;34m.\u001b[0m\u001b[0mappend\u001b[0m\u001b[0;34m(\u001b[0m\u001b[0mtest_loss\u001b[0m\u001b[0;34m)\u001b[0m\u001b[0;34m\u001b[0m\u001b[0;34m\u001b[0m\u001b[0m\n",
      "\u001b[0;32m~/Documents/University/Master/Semester-03_Summer-2021/Optimisation-for-Machine-Learning/Assignment/Source/src/server.py\u001b[0m in \u001b[0;36mglobal_update\u001b[0;34m(self)\u001b[0m\n\u001b[1;32m    161\u001b[0m                 \u001b[0mthreads\u001b[0m\u001b[0;34m.\u001b[0m\u001b[0mappend\u001b[0m\u001b[0;34m(\u001b[0m\u001b[0mt\u001b[0m\u001b[0;34m)\u001b[0m\u001b[0;34m\u001b[0m\u001b[0;34m\u001b[0m\u001b[0m\n\u001b[1;32m    162\u001b[0m             \u001b[0;32mfor\u001b[0m \u001b[0mt\u001b[0m \u001b[0;32min\u001b[0m \u001b[0mthreads\u001b[0m\u001b[0;34m:\u001b[0m\u001b[0;34m\u001b[0m\u001b[0;34m\u001b[0m\u001b[0m\n\u001b[0;32m--> 163\u001b[0;31m                 \u001b[0mt\u001b[0m\u001b[0;34m.\u001b[0m\u001b[0mjoin\u001b[0m\u001b[0;34m(\u001b[0m\u001b[0;34m)\u001b[0m\u001b[0;34m\u001b[0m\u001b[0;34m\u001b[0m\u001b[0m\n\u001b[0m\u001b[1;32m    164\u001b[0m         \u001b[0;32melse\u001b[0m\u001b[0;34m:\u001b[0m\u001b[0;34m\u001b[0m\u001b[0;34m\u001b[0m\u001b[0m\n\u001b[1;32m    165\u001b[0m             \u001b[0;32mfor\u001b[0m \u001b[0mclient_id\u001b[0m \u001b[0;32min\u001b[0m \u001b[0mclient_ids\u001b[0m\u001b[0;34m:\u001b[0m\u001b[0;34m\u001b[0m\u001b[0;34m\u001b[0m\u001b[0m\n",
      "\u001b[0;32m~/opt/anaconda3/envs/EPFL_Optimization-for-Machine-Learning/lib/python3.8/threading.py\u001b[0m in \u001b[0;36mjoin\u001b[0;34m(self, timeout)\u001b[0m\n\u001b[1;32m   1009\u001b[0m \u001b[0;34m\u001b[0m\u001b[0m\n\u001b[1;32m   1010\u001b[0m         \u001b[0;32mif\u001b[0m \u001b[0mtimeout\u001b[0m \u001b[0;32mis\u001b[0m \u001b[0;32mNone\u001b[0m\u001b[0;34m:\u001b[0m\u001b[0;34m\u001b[0m\u001b[0;34m\u001b[0m\u001b[0m\n\u001b[0;32m-> 1011\u001b[0;31m             \u001b[0mself\u001b[0m\u001b[0;34m.\u001b[0m\u001b[0m_wait_for_tstate_lock\u001b[0m\u001b[0;34m(\u001b[0m\u001b[0;34m)\u001b[0m\u001b[0;34m\u001b[0m\u001b[0;34m\u001b[0m\u001b[0m\n\u001b[0m\u001b[1;32m   1012\u001b[0m         \u001b[0;32melse\u001b[0m\u001b[0;34m:\u001b[0m\u001b[0;34m\u001b[0m\u001b[0;34m\u001b[0m\u001b[0m\n\u001b[1;32m   1013\u001b[0m             \u001b[0;31m# the behavior of a negative timeout isn't documented, but\u001b[0m\u001b[0;34m\u001b[0m\u001b[0;34m\u001b[0m\u001b[0;34m\u001b[0m\u001b[0m\n",
      "\u001b[0;32m~/opt/anaconda3/envs/EPFL_Optimization-for-Machine-Learning/lib/python3.8/threading.py\u001b[0m in \u001b[0;36m_wait_for_tstate_lock\u001b[0;34m(self, block, timeout)\u001b[0m\n\u001b[1;32m   1025\u001b[0m         \u001b[0;32mif\u001b[0m \u001b[0mlock\u001b[0m \u001b[0;32mis\u001b[0m \u001b[0;32mNone\u001b[0m\u001b[0;34m:\u001b[0m  \u001b[0;31m# already determined that the C code is done\u001b[0m\u001b[0;34m\u001b[0m\u001b[0;34m\u001b[0m\u001b[0m\n\u001b[1;32m   1026\u001b[0m             \u001b[0;32massert\u001b[0m \u001b[0mself\u001b[0m\u001b[0;34m.\u001b[0m\u001b[0m_is_stopped\u001b[0m\u001b[0;34m\u001b[0m\u001b[0;34m\u001b[0m\u001b[0m\n\u001b[0;32m-> 1027\u001b[0;31m         \u001b[0;32melif\u001b[0m \u001b[0mlock\u001b[0m\u001b[0;34m.\u001b[0m\u001b[0macquire\u001b[0m\u001b[0;34m(\u001b[0m\u001b[0mblock\u001b[0m\u001b[0;34m,\u001b[0m \u001b[0mtimeout\u001b[0m\u001b[0;34m)\u001b[0m\u001b[0;34m:\u001b[0m\u001b[0;34m\u001b[0m\u001b[0;34m\u001b[0m\u001b[0m\n\u001b[0m\u001b[1;32m   1028\u001b[0m             \u001b[0mlock\u001b[0m\u001b[0;34m.\u001b[0m\u001b[0mrelease\u001b[0m\u001b[0;34m(\u001b[0m\u001b[0;34m)\u001b[0m\u001b[0;34m\u001b[0m\u001b[0;34m\u001b[0m\u001b[0m\n\u001b[1;32m   1029\u001b[0m             \u001b[0mself\u001b[0m\u001b[0;34m.\u001b[0m\u001b[0m_stop\u001b[0m\u001b[0;34m(\u001b[0m\u001b[0;34m)\u001b[0m\u001b[0;34m\u001b[0m\u001b[0;34m\u001b[0m\u001b[0m\n",
      "\u001b[0;31mKeyboardInterrupt\u001b[0m: "
     ]
    },
    {
     "name": "stdout",
     "output_type": "stream",
     "text": [
      "[Client 1]\tTrain Epoch: 0\tLoss: 0.3913\n",
      "[Client 0]\tTrain Epoch: 0\tLoss: 0.3652\n",
      "[Client 2]\tTrain Epoch: 0\tLoss: 0.2230\n",
      "[Client 2]\tTrain Epoch: 1\tLoss: 0.2136\n",
      "Client 2 - done\n",
      "[Client 1]\tTrain Epoch: 1\tLoss: 0.3176\n",
      "Client 1 - done\n",
      "[Client 0]\tTrain Epoch: 1\tLoss: 0.2610\n",
      "Client 0 - done\n"
     ]
    }
   ],
   "source": [
    "torch.cuda.empty_cache()\n",
    "server = Server(nr_clients=nr_clients, nr_training_rounds=nr_training_rounds, lr=lr, epochs=client_epochs, data=data, batch_size=batch_size, max_grad_norm=max_grad_norm, epsilon=epsilon, n_accumulation_steps=n_accumulation_steps, epsilon_training_iteration=epsilon_training_iteration, is_parallel=is_parallel, is_private=is_private, device=device, verbose=\"all\")\n",
    "test_losses, test_accs = server(early=False, patience=5, delta=0.05)"
   ]
  },
  {
   "cell_type": "code",
   "execution_count": null,
   "id": "014ee5eb-738e-41a3-861a-01c7f1fc8e52",
   "metadata": {
    "id": "014ee5eb-738e-41a3-861a-01c7f1fc8e52"
   },
   "outputs": [],
   "source": []
  }
 ],
 "metadata": {
  "accelerator": "GPU",
  "colab": {
   "collapsed_sections": [],
   "include_colab_link": true,
   "name": "index.ipynb",
   "provenance": []
  },
  "kernelspec": {
   "display_name": "epfl_opt4ml",
   "language": "python",
   "name": "epfl_opt4ml"
  },
  "language_info": {
   "codemirror_mode": {
    "name": "ipython",
    "version": 3
   },
   "file_extension": ".py",
   "mimetype": "text/x-python",
   "name": "python",
   "nbconvert_exporter": "python",
   "pygments_lexer": "ipython3",
   "version": "3.8.10"
  }
 },
 "nbformat": 4,
 "nbformat_minor": 5
}
