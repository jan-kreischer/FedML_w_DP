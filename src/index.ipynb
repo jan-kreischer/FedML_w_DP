{
  "nbformat": 4,
  "nbformat_minor": 5,
  "metadata": {
    "accelerator": "GPU",
    "colab": {
      "name": "index.ipynb",
      "provenance": [],
      "collapsed_sections": [],
      "include_colab_link": true
    },
    "kernelspec": {
      "name": "python3",
      "language": "python",
      "display_name": "Python 3"
    },
    "language_info": {
      "codemirror_mode": {
        "name": "ipython",
        "version": 3
      },
      "file_extension": ".py",
      "mimetype": "text/x-python",
      "name": "python",
      "nbconvert_exporter": "python",
      "pygments_lexer": "ipython3",
      "version": "3.8.10"
    }
  },
  "cells": [
    {
      "cell_type": "markdown",
      "metadata": {
        "id": "view-in-github",
        "colab_type": "text"
      },
      "source": [
        "<a href=\"https://colab.research.google.com/github/xavoliva6/dpfl_pytorch/blob/main/src/index.ipynb\" target=\"_parent\"><img src=\"https://colab.research.google.com/assets/colab-badge.svg\" alt=\"Open In Colab\"/></a>"
      ]
    },
    {
      "cell_type": "markdown",
      "metadata": {
        "id": "082fd227"
      },
      "source": [
        "<a href=\"https://colab.research.google.com/github/xavoliva6/oml_project/blob/main/src/index.ipynb\" target=\"_parent\"><img src=\"https://colab.research.google.com/assets/colab-badge.svg\" alt=\"Open In Colab\"/></a>"
      ],
      "id": "082fd227"
    },
    {
      "cell_type": "markdown",
      "metadata": {
        "id": "87c76749"
      },
      "source": [
        "# Federated Machine Learning with Differential Privacy"
      ],
      "id": "87c76749"
    },
    {
      "cell_type": "markdown",
      "metadata": {
        "id": "2be51cc5"
      },
      "source": [
        "**Clone Repo**<br/>\n",
        "Run the following cells in Google Colab in order to clone the code from Github to your Google Drive or pull the latest changes."
      ],
      "id": "2be51cc5"
    },
    {
      "cell_type": "code",
      "metadata": {
        "colab": {
          "base_uri": "https://localhost:8080/"
        },
        "id": "78c7a16a",
        "outputId": "f90cb9a2-6b02-47de-f8cf-79e4aa63c818"
      },
      "source": [
        "from google.colab import drive\n",
        "\n",
        "drive.mount('/content/gdrive')"
      ],
      "id": "78c7a16a",
      "execution_count": 1,
      "outputs": [
        {
          "output_type": "stream",
          "text": [
            "Mounted at /content/gdrive\n"
          ],
          "name": "stdout"
        }
      ]
    },
    {
      "cell_type": "code",
      "metadata": {
        "colab": {
          "base_uri": "https://localhost:8080/"
        },
        "id": "763cf8e5",
        "outputId": "1041226e-613a-4e48-8437-a5ef2338973b"
      },
      "source": [
        "%cd /content/gdrive/My Drive"
      ],
      "id": "763cf8e5",
      "execution_count": 2,
      "outputs": [
        {
          "output_type": "stream",
          "text": [
            "/content/gdrive/My Drive\n"
          ],
          "name": "stdout"
        }
      ]
    },
    {
      "cell_type": "code",
      "metadata": {
        "colab": {
          "base_uri": "https://localhost:8080/"
        },
        "id": "bb77a7c4",
        "outputId": "cab48d98-8620-4f32-af8c-caf69b86ed95"
      },
      "source": [
        "# Run this cell if you did not clone the repo yet\n",
        "! git clone https://github.com/xavoliva6/dpfl_pytorch.git OPT4ML"
      ],
      "id": "bb77a7c4",
      "execution_count": 3,
      "outputs": [
        {
          "output_type": "stream",
          "text": [
            "fatal: destination path 'OPT4ML' already exists and is not an empty directory.\n"
          ],
          "name": "stdout"
        }
      ]
    },
    {
      "cell_type": "code",
      "metadata": {
        "colab": {
          "base_uri": "https://localhost:8080/"
        },
        "id": "a45f0cc4",
        "outputId": "8098e6c3-bc53-4612-bffc-2fc4e97b33b2"
      },
      "source": [
        "# Run this cell to pull the latest changes\n",
        "% cd /content/gdrive/My Drive/OPT4ML\n",
        "! git config --global user.email \"student@epfl.ch\"\n",
        "! git config --global user.name \"Student\"\n",
        "! git stash\n",
        "! git pull origin main"
      ],
      "id": "a45f0cc4",
      "execution_count": 5,
      "outputs": [
        {
          "output_type": "stream",
          "text": [
            "/content/gdrive/My Drive/OPT4ML\n",
            "Saved working directory and index state WIP on main: fcdb266 last version of MNIST notebook\n",
            "From https://github.com/xavoliva6/dpfl_pytorch\n",
            " * branch            main       -> FETCH_HEAD\n",
            "Updating fcdb266..cc67317\n",
            "Fast-forward\n",
            " experiments/exp_FedMNIST.ipynb | 6642 \u001b[32m+++++++++++++++++++++\u001b[m\u001b[31m-------------------\u001b[m\n",
            " 1 file changed, 3476 insertions(+), 3166 deletions(-)\n"
          ],
          "name": "stdout"
        }
      ]
    },
    {
      "cell_type": "markdown",
      "metadata": {
        "id": "06c844e3"
      },
      "source": [
        "**Colab Support**<br/>\n",
        "Only run the following lines if you want to run the code on Google Colab"
      ],
      "id": "06c844e3"
    },
    {
      "cell_type": "code",
      "metadata": {
        "colab": {
          "base_uri": "https://localhost:8080/"
        },
        "id": "a4fe276a",
        "outputId": "37b8f476-854c-4516-d9ff-1580cbfe7623"
      },
      "source": [
        "# Enable access to files stored in Google Drive\n",
        "from google.colab import drive\n",
        "\n",
        "drive.mount('/content/gdrive/')"
      ],
      "id": "a4fe276a",
      "execution_count": 6,
      "outputs": [
        {
          "output_type": "stream",
          "text": [
            "Drive already mounted at /content/gdrive/; to attempt to forcibly remount, call drive.mount(\"/content/gdrive/\", force_remount=True).\n"
          ],
          "name": "stdout"
        }
      ]
    },
    {
      "cell_type": "code",
      "metadata": {
        "colab": {
          "base_uri": "https://localhost:8080/"
        },
        "id": "5ab7fecb",
        "outputId": "2226804f-3bcb-4051-da82-1b33e67b828b"
      },
      "source": [
        "% cd /content/gdrive/My Drive/OPT4ML/src"
      ],
      "id": "5ab7fecb",
      "execution_count": 7,
      "outputs": [
        {
          "output_type": "stream",
          "text": [
            "/content/gdrive/My Drive/OPT4ML/src\n"
          ],
          "name": "stdout"
        }
      ]
    },
    {
      "cell_type": "markdown",
      "metadata": {
        "id": "00a6f1b1"
      },
      "source": [
        "# Main"
      ],
      "id": "00a6f1b1"
    },
    {
      "cell_type": "code",
      "metadata": {
        "id": "f2507f5d"
      },
      "source": [
        "# Install necessary requirements\n",
        "!pip install -r ../requirements.txt"
      ],
      "id": "f2507f5d",
      "execution_count": null,
      "outputs": []
    },
    {
      "cell_type": "code",
      "metadata": {
        "id": "c90e203b"
      },
      "source": [
        "# Make sure cuda support is available\n",
        "import torch\n",
        "\n",
        "if torch.cuda.is_available():\n",
        "    device_name = \"cuda:0\"\n",
        "else:\n",
        "    device_name = \"cpu\"\n",
        "print(\"device_name: {}\".format(device_name))\n",
        "device = torch.device(device_name)"
      ],
      "id": "c90e203b",
      "execution_count": null,
      "outputs": []
    },
    {
      "cell_type": "code",
      "metadata": {
        "id": "ba15fd75"
      },
      "source": [
        "%load_ext autoreload\n",
        "%autoreload 2"
      ],
      "id": "ba15fd75",
      "execution_count": null,
      "outputs": []
    },
    {
      "cell_type": "code",
      "metadata": {
        "pycharm": {
          "name": "#%%\n"
        },
        "id": "OgstffOICPN0"
      },
      "source": [
        "import warnings\n",
        "from utils import *\n",
        "\n",
        "from server import Server\n"
      ],
      "id": "OgstffOICPN0",
      "execution_count": null,
      "outputs": []
    },
    {
      "cell_type": "code",
      "metadata": {
        "id": "4b809818-4fc5-4340-83e6-dc5dc77a3c9e"
      },
      "source": [
        "if __name__ == \"__main__\":\n",
        "    warnings.filterwarnings(\"ignore\")"
      ],
      "id": "4b809818-4fc5-4340-83e6-dc5dc77a3c9e",
      "execution_count": null,
      "outputs": []
    },
    {
      "cell_type": "code",
      "metadata": {
        "id": "bb191aeb-c5b4-477b-8aa0-0a048a56b7e9"
      },
      "source": [
        "# --- TRAINING PARAMETERS ---\n",
        "# NR_CLIENTS ... Number of clients participating in the training process.\n",
        "# LR ... Learning rate used for the stochastic gradient descent.\n",
        "# CLIENT EPOCHS ... Number of epochs that every client is trained during every step.\n",
        "# NR_TRAINING_ROUNDS ... Number of times that the server performs a global model update.\n",
        "# IS_PARALLEL ... Is the training of the clients performed in parallel.\n",
        "# DATA ... Dataset to be used. Either 'MNIST', 'MED' or 'FEMNIST'.\n",
        "# BATCH_SIZE ... Batch size used by SGD algorithm."
      ],
      "id": "bb191aeb-c5b4-477b-8aa0-0a048a56b7e9",
      "execution_count": null,
      "outputs": []
    },
    {
      "cell_type": "code",
      "metadata": {
        "id": "8eccf059-f14e-4fe4-9128-4336e87fdc72"
      },
      "source": [
        "# --- DIFFERENTIAL PRIVACY PARAMETERS ---\n",
        "# IS PRIVATE ... \n",
        "# MAX_GRAD_NORM\n",
        "# EPSILON\n",
        "# EPISILON_TRAINING_ITERATION\n",
        "# VIRTUAL_BATCH_SIZE\n",
        "# N_ACCUMULATION_STEPS"
      ],
      "id": "8eccf059-f14e-4fe4-9128-4336e87fdc72",
      "execution_count": null,
      "outputs": []
    },
    {
      "cell_type": "markdown",
      "metadata": {
        "id": "ca8edc12"
      },
      "source": [
        "## 1. Experiments on Medical Dataset\n",
        "In the first experiment we are comparing the accuracy of a fed ml approach including privacy "
      ],
      "id": "ca8edc12"
    },
    {
      "cell_type": "code",
      "metadata": {
        "id": "uYf5jXst7LlY"
      },
      "source": [
        "data = \"MED\"\n",
        "batch_size = 8"
      ],
      "id": "uYf5jXst7LlY",
      "execution_count": null,
      "outputs": []
    },
    {
      "cell_type": "markdown",
      "metadata": {
        "id": "mWOJUOYA7MVy"
      },
      "source": [
        "### Experiment 1.1"
      ],
      "id": "mWOJUOYA7MVy"
    },
    {
      "cell_type": "code",
      "metadata": {
        "id": "ac2c806b"
      },
      "source": [
        "# --- TRAINING PARAMETERS ---\n",
        "nr_clients = 3\n",
        "lr = 0.01\n",
        "client_epochs = 10\n",
        "nr_training_rounds = 100\n",
        "is_parallel = False\n",
        "# --- DIFFERENTIAL PRIVACY PARAMETERS ---\n",
        "is_private = False\n",
        "max_grad_norm = 1.2\n",
        "epsilon = 10\n",
        "noise_multiplier = None"
      ],
      "id": "ac2c806b",
      "execution_count": null,
      "outputs": []
    },
    {
      "cell_type": "code",
      "metadata": {
        "id": "39040a71"
      },
      "source": [
        "server = Server(nr_clients=nr_clients, nr_training_rounds=nr_training_rounds, lr=lr, epochs=client_epochs, data=data,\n",
        "                batch_size=batch_size, max_grad_norm=max_grad_norm, epsilon=epsilon,\n",
        "                noise_multiplier=noise_multiplier, is_parallel=is_parallel, is_private=is_private,\n",
        "                device=device, verbose=\"server\")\n",
        "test_losses, test_accs = server(early=True, patience=10, delta=0.05)"
      ],
      "id": "39040a71",
      "execution_count": null,
      "outputs": []
    },
    {
      "cell_type": "code",
      "metadata": {
        "id": "8f53bf65"
      },
      "source": [
        "plot_metrics(test_losses, test_accs)"
      ],
      "id": "8f53bf65",
      "execution_count": null,
      "outputs": []
    },
    {
      "cell_type": "code",
      "metadata": {
        "id": "3d62f410"
      },
      "source": [
        "nr_clients = 1\n",
        "is_private = False\n",
        "server = Server(nr_clients=nr_clients, nr_training_rounds=nr_training_rounds, lr=lr, epochs=client_epochs, data=data,\n",
        "                batch_size=batch_size, is_private=is_private, epsilon=epsilon, max_grad_norm=max_grad_norm,\n",
        "                noise_multiplier=noise_multiplier, is_parallel=is_parallel, device=device, verbose=\"server\")\n",
        "test_losses, test_accs = server(early=False, patience=3, delta=0.05)"
      ],
      "id": "3d62f410",
      "execution_count": null,
      "outputs": []
    },
    {
      "cell_type": "code",
      "metadata": {
        "id": "1465a694"
      },
      "source": [
        "plot_metrics(test_losses, test_accs)"
      ],
      "id": "1465a694",
      "execution_count": null,
      "outputs": []
    },
    {
      "cell_type": "markdown",
      "metadata": {
        "id": "dc57fade"
      },
      "source": [
        "## 2. Experiments on MNIST Dataset"
      ],
      "id": "dc57fade"
    },
    {
      "cell_type": "code",
      "metadata": {
        "id": "uwHtZ8MI69ld"
      },
      "source": [
        "data = 'MNIST'\n",
        "batch_size = 64"
      ],
      "id": "uwHtZ8MI69ld",
      "execution_count": null,
      "outputs": []
    },
    {
      "cell_type": "code",
      "metadata": {
        "id": "bf5b56f4"
      },
      "source": [
        "# --- TRAINING PARAMETERS ---\n",
        "nr_clients = 3\n",
        "lr = 0.01\n",
        "client_epochs = 10\n",
        "nr_training_rounds = 20\n",
        "is_parallel = True"
      ],
      "id": "bf5b56f4",
      "execution_count": null,
      "outputs": []
    },
    {
      "cell_type": "code",
      "metadata": {
        "id": "635d74fa"
      },
      "source": [
        "# --- DIFFERENTIAL PRIVACY PARAMETERS ---\n",
        "is_private = False\n",
        "max_grad_norm = 1.2\n",
        "epsilon = 5\n",
        "epsilon_training_iteration = epsilon / nr_training_rounds\n",
        "virtual_batch_size = 2 * batch_size\n",
        "assert virtual_batch_size % batch_size == 0  # VIRTUAL_BATCH_SIZE should be divisible by BATCH_SIZE\n",
        "n_accumulation_steps = int(virtual_batch_size / batch_size)"
      ],
      "id": "635d74fa",
      "execution_count": null,
      "outputs": []
    },
    {
      "cell_type": "code",
      "metadata": {
        "id": "3835b253"
      },
      "source": [
        "server = Server(nr_clients=nr_clients, nr_training_rounds=nr_training_rounds, lr=lr, epochs=client_epochs, data=data,\n",
        "                batch_size=batch_size, max_grad_norm=max_grad_norm, epsilon=epsilon,\n",
        "                n_accumulation_steps=n_accumulation_steps, epsilon_training_iteration=epsilon_training_iteration,\n",
        "                is_parallel=is_parallel, is_private=is_private, verbose=\"server\")\n",
        "test_losses, test_accs = server(early=True, patience=5, delta=0.05)"
      ],
      "id": "3835b253",
      "execution_count": null,
      "outputs": []
    },
    {
      "cell_type": "code",
      "metadata": {
        "id": "5a55c61a"
      },
      "source": [
        "plot_metrics(test_losses, test_accs)"
      ],
      "id": "5a55c61a",
      "execution_count": null,
      "outputs": []
    },
    {
      "cell_type": "code",
      "metadata": {
        "id": "sweFlu_wRlQ3"
      },
      "source": [
        "server = Server(nr_clients=nr_clients, nr_training_rounds=nr_training_rounds, lr=lr, epochs=client_epochs, data=data,\n",
        "                batch_size=batch_size, max_grad_norm=max_grad_norm, epsilon=epsilon,\n",
        "                n_accumulation_steps=n_accumulation_steps, epsilon_training_iteration=epsilon_training_iteration,\n",
        "                is_parallel=is_parallel, device=device, is_private=is_private)\n",
        "test_losses, test_accs = server(early=True, patience=5, delta=0.05)"
      ],
      "id": "sweFlu_wRlQ3",
      "execution_count": null,
      "outputs": []
    },
    {
      "cell_type": "markdown",
      "metadata": {
        "id": "8c4f27eb"
      },
      "source": [
        "## 3. Experiments on FEMNIST Dataset"
      ],
      "id": "8c4f27eb"
    },
    {
      "cell_type": "code",
      "metadata": {
        "id": "uAwGVIjK6x17"
      },
      "source": [
        "data = \"FEMNIST\"\n",
        "batch_size = 64"
      ],
      "id": "uAwGVIjK6x17",
      "execution_count": null,
      "outputs": []
    },
    {
      "cell_type": "code",
      "metadata": {
        "id": "a8633b60"
      },
      "source": [
        "# --- TRAINING PARAMETERS ---\n",
        "nr_clients = 3\n",
        "lr = 0.01\n",
        "client_epochs = 10\n",
        "nr_training_rounds = 20\n",
        "is_parallel = True"
      ],
      "id": "a8633b60",
      "execution_count": null,
      "outputs": []
    },
    {
      "cell_type": "code",
      "metadata": {
        "id": "19cfb800"
      },
      "source": [
        "# --- DIFFERENTIAL PRIVACY PARAMETERS ---\n",
        "is_private = False\n",
        "max_grad_norm = 1.2\n",
        "epsilon = 5\n",
        "epsilon_training_iteration = epsilon / nr_training_rounds\n",
        "virtual_batch_size = 2 * batch_size\n",
        "assert virtual_batch_size % batch_size == 0  # VIRTUAL_BATCH_SIZE should be divisible by BATCH_SIZE\n",
        "n_accumulation_steps = int(virtual_batch_size / batch_size)"
      ],
      "id": "19cfb800",
      "execution_count": null,
      "outputs": []
    },
    {
      "cell_type": "code",
      "metadata": {
        "id": "28cc63ba"
      },
      "source": [
        "torch.cuda.empty_cache()\n",
        "server = Server(nr_clients=nr_clients, nr_training_rounds=nr_training_rounds, lr=lr, epochs=client_epochs, data=data,\n",
        "                batch_size=batch_size, max_grad_norm=max_grad_norm, epsilon=epsilon,\n",
        "                n_accumulation_steps=n_accumulation_steps, epsilon_training_iteration=epsilon_training_iteration,\n",
        "                is_parallel=is_parallel, is_private=is_private, device=device, verbose=\"server\")\n",
        "test_losses, test_accs = server(early=True, patience=3, delta=0.05)"
      ],
      "id": "28cc63ba",
      "execution_count": null,
      "outputs": []
    },
    {
      "cell_type": "code",
      "metadata": {
        "id": "J84LbWXcaTbv"
      },
      "source": [
        "plot_metrics(test_losses, test_accs)"
      ],
      "id": "J84LbWXcaTbv",
      "execution_count": null,
      "outputs": []
    },
    {
      "cell_type": "code",
      "metadata": {
        "id": "014ee5eb-738e-41a3-861a-01c7f1fc8e52"
      },
      "source": [
        "is_private = True\n",
        "server = Server(nr_clients=nr_clients, nr_training_rounds=nr_training_rounds, lr=lr, epochs=client_epochs, data=data,\n",
        "                batch_size=batch_size, max_grad_norm=max_grad_norm, epsilon=epsilon,\n",
        "                n_accumulation_steps=n_accumulation_steps, epsilon_training_iteration=epsilon_training_iteration,\n",
        "                is_parallel=is_parallel, is_private=is_private, device=device, verbose=\"all\")\n",
        "test_losses, test_accs = server(early=True, patience=3, delta=0.05)"
      ],
      "id": "014ee5eb-738e-41a3-861a-01c7f1fc8e52",
      "execution_count": null,
      "outputs": []
    },
    {
      "cell_type": "code",
      "metadata": {
        "id": "gGl0poWibeNS"
      },
      "source": [
        "plot_metrics(test_losses, test_accs)"
      ],
      "id": "gGl0poWibeNS",
      "execution_count": null,
      "outputs": []
    }
  ]
}