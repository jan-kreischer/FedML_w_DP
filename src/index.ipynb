{
 "cells": [
  {
   "cell_type": "markdown",
   "id": "082fd227",
   "metadata": {
    "id": "082fd227"
   },
   "source": [
    "<a href=\"https://colab.research.google.com/github/xavoliva6/oml_project/blob/main/src/index.ipynb\" target=\"_parent\"><img src=\"https://colab.research.google.com/assets/colab-badge.svg\" alt=\"Open In Colab\"/></a>"
   ]
  },
  {
   "cell_type": "markdown",
   "id": "87c76749",
   "metadata": {
    "id": "87c76749"
   },
   "source": [
    "# Federated Machine Learning with Differential Privacy"
   ]
  },
  {
   "cell_type": "markdown",
   "id": "2be51cc5",
   "metadata": {
    "id": "2be51cc5"
   },
   "source": [
    "**Clone Repo**<br/>\n",
    "Run the following cells in Google Colab in order to clone the code from Github to your Google Drive or pull the latest changes."
   ]
  },
  {
   "cell_type": "code",
   "execution_count": null,
   "id": "78c7a16a",
   "metadata": {
    "colab": {
     "base_uri": "https://localhost:8080/"
    },
    "id": "78c7a16a",
    "outputId": "714f0663-e901-4d23-c5ba-86a4204b9e15"
   },
   "outputs": [
    {
     "name": "stdout",
     "output_type": "stream",
     "text": [
      "Drive already mounted at /content/gdrive; to attempt to forcibly remount, call drive.mount(\"/content/gdrive\", force_remount=True).\n"
     ]
    }
   ],
   "source": [
    "from google.colab import drive\n",
    "drive.mount('/content/gdrive')"
   ]
  },
  {
   "cell_type": "code",
   "execution_count": null,
   "id": "763cf8e5",
   "metadata": {
    "colab": {
     "base_uri": "https://localhost:8080/"
    },
    "id": "763cf8e5",
    "outputId": "b4432ab5-f547-4bd0-8363-3640f07384c1"
   },
   "outputs": [
    {
     "name": "stdout",
     "output_type": "stream",
     "text": [
      "/content/gdrive/My Drive\n"
     ]
    }
   ],
   "source": [
    "%cd /content/gdrive/My Drive"
   ]
  },
  {
   "cell_type": "code",
   "execution_count": null,
   "id": "bb77a7c4",
   "metadata": {
    "colab": {
     "base_uri": "https://localhost:8080/"
    },
    "id": "bb77a7c4",
    "outputId": "c10a60c6-f267-4b25-9466-304439639822"
   },
   "outputs": [
    {
     "name": "stdout",
     "output_type": "stream",
     "text": [
      "fatal: destination path 'OPT4ML' already exists and is not an empty directory.\n"
     ]
    }
   ],
   "source": [
    "# Run this cell if you did not clone the repo yet\n",
    "! git clone https://github.com/xavoliva6/dpfl_pytorch.git OPT4ML"
   ]
  },
  {
   "cell_type": "code",
   "execution_count": 12,
   "id": "a45f0cc4",
   "metadata": {
    "colab": {
     "base_uri": "https://localhost:8080/"
    },
    "executionInfo": {
     "elapsed": 16939,
     "status": "ok",
     "timestamp": 1623249909811,
     "user": {
      "displayName": "Jan Bauer",
      "photoUrl": "https://lh3.googleusercontent.com/a-/AOh14GjMoILSkoLiVLRc0LV33CL7HiqBQDBHd7s_S7yqS5E2Qp9tA6lGXFYADcKPen_-o_naHrXfx9GC1hLS0EkfWe6frsNHCxWniY0ffqOzXLhgfpMpOCe1X25M0qQuXNDsDbJYdXDgEOiCmCK52ugSHESn9My4pdOjNKtNJooFAJFNfNXrbhlunN6W9MU62DeQNySpUbR8Gq7srfh4ErEGHQnX2geoviJadz-aS4QD9XIZhF8Mc_2YxAe0yjbZ1Z_bj8ZEmvV-Ufsp5HyY5u6vEpkDI8YN1fxkAXhoOlJKEGRI9-eTREGq65dB7lVrM3mXUchuq-WsBUtf3Ac_bJTjdhTZPoX0V5I1sFV-APTe1CkSO1rsUdNCbF-E6_3Pk1WTUV5qpX26QE06NhDVxbvIAGsV4dxtQAacTtvBKwROHMi-EIM_qUnyajtL9vGnlhAlMi-oLgj12riiRPnc3_skIb0CJVfLpF5Y9g61k_vptdRG2Zlt7Yb_karqlsOyqPLs2GIaqplAoAkVGX_XDFT_jfKgI7OP-MlDY8zOxqFYAeyBWVOqluEW1b6rdqa9sCXavvsxiZ_OR1hd1VPsGoZExQgkYXxsqAsatlPgibqSk4U9P5giby_dItAeea2H5sZ2Xpf4WeinDYVNdWpGGFS0AndbdyWesmfin-EvkQicB17sjHNoA23dbHnto12XGUMgdAxOtlTC0i8Lab5YAxi1o8klBQJeBsTd3KxWO58ImpxjWnLWJKjkuL3ozXE6luB6roUGOg=s64",
      "userId": "03076491501259095137"
     },
     "user_tz": -120
    },
    "id": "a45f0cc4",
    "outputId": "4efa20f0-d638-416c-eadb-e62a1785ed4c"
   },
   "outputs": [
    {
     "name": "stdout",
     "output_type": "stream",
     "text": [
      "/content/gdrive/My Drive/OPT4ML\n",
      "Saved working directory and index state WIP on main: 94fd8e4 removed device from parameter tensor\n",
      "remote: Enumerating objects: 17, done.\u001b[K\n",
      "remote: Counting objects: 100% (17/17), done.\u001b[K\n",
      "remote: Compressing objects: 100% (6/6), done.\u001b[K\n",
      "remote: Total 12 (delta 6), reused 12 (delta 6), pack-reused 0\u001b[K\n",
      "Unpacking objects: 100% (12/12), done.\n",
      "From https://github.com/jan-kreischer/EPFL_OPT4ML\n",
      " * branch            main       -> FETCH_HEAD\n",
      "   94fd8e4..0a022b1  main       -> origin/main\n",
      "Updating 94fd8e4..0a022b1\n",
      "Fast-forward\n",
      " src/data/MED/diagnosis.data  | Bin \u001b[31m0\u001b[m -> \u001b[32m7276\u001b[m bytes\n",
      " src/data/MED/diagnosis.names | 109 \u001b[32m+++++++++++++++\u001b[m\n",
      " src/index.ipynb              | 313 \u001b[32m++++++++++++++++++++++++++++++++\u001b[m\u001b[31m-----------\u001b[m\n",
      " src/server.py                |   2 \u001b[32m+\u001b[m\u001b[31m-\u001b[m\n",
      " 4 files changed, 342 insertions(+), 82 deletions(-)\n",
      " create mode 100644 src/data/MED/diagnosis.data\n",
      " create mode 100644 src/data/MED/diagnosis.names\n"
     ]
    }
   ],
   "source": [
    "# Run this cell to pull the latest changes\n",
    "%cd /content/gdrive/My Drive/OPT4ML\n",
    "! git config --global user.email \"student@epfl.ch\"\n",
    "! git config --global user.name \"Student\"\n",
    "! git stash\n",
    "! git pull origin main"
   ]
  },
  {
   "cell_type": "markdown",
   "id": "06c844e3",
   "metadata": {
    "id": "06c844e3"
   },
   "source": [
    "**Colab Support**<br/>\n",
    "Only run the following lines if you want to run the code on Google Colab"
   ]
  },
  {
   "cell_type": "code",
   "execution_count": 1,
   "id": "a4fe276a",
   "metadata": {
    "colab": {
     "base_uri": "https://localhost:8080/"
    },
    "executionInfo": {
     "elapsed": 252,
     "status": "ok",
     "timestamp": 1623255396646,
     "user": {
      "displayName": "Jan Bauer",
      "photoUrl": "https://lh3.googleusercontent.com/a-/AOh14GjMoILSkoLiVLRc0LV33CL7HiqBQDBHd7s_S7yqS5E2Qp9tA6lGXFYADcKPen_-o_naHrXfx9GC1hLS0EkfWe6frsNHCxWniY0ffqOzXLhgfpMpOCe1X25M0qQuXNDsDbJYdXDgEOiCmCK52ugSHESn9My4pdOjNKtNJooFAJFNfNXrbhlunN6W9MU62DeQNySpUbR8Gq7srfh4ErEGHQnX2geoviJadz-aS4QD9XIZhF8Mc_2YxAe0yjbZ1Z_bj8ZEmvV-Ufsp5HyY5u6vEpkDI8YN1fxkAXhoOlJKEGRI9-eTREGq65dB7lVrM3mXUchuq-WsBUtf3Ac_bJTjdhTZPoX0V5I1sFV-APTe1CkSO1rsUdNCbF-E6_3Pk1WTUV5qpX26QE06NhDVxbvIAGsV4dxtQAacTtvBKwROHMi-EIM_qUnyajtL9vGnlhAlMi-oLgj12riiRPnc3_skIb0CJVfLpF5Y9g61k_vptdRG2Zlt7Yb_karqlsOyqPLs2GIaqplAoAkVGX_XDFT_jfKgI7OP-MlDY8zOxqFYAeyBWVOqluEW1b6rdqa9sCXavvsxiZ_OR1hd1VPsGoZExQgkYXxsqAsatlPgibqSk4U9P5giby_dItAeea2H5sZ2Xpf4WeinDYVNdWpGGFS0AndbdyWesmfin-EvkQicB17sjHNoA23dbHnto12XGUMgdAxOtlTC0i8Lab5YAxi1o8klBQJeBsTd3KxWO58ImpxjWnLWJKjkuL3ozXE6luB6roUGOg=s64",
      "userId": "03076491501259095137"
     },
     "user_tz": -120
    },
    "id": "a4fe276a",
    "outputId": "23550f8e-8a23-4496-8efa-9766a8a1fb4e"
   },
   "outputs": [
    {
     "name": "stdout",
     "output_type": "stream",
     "text": [
      "Drive already mounted at /content/gdrive/; to attempt to forcibly remount, call drive.mount(\"/content/gdrive/\", force_remount=True).\n"
     ]
    }
   ],
   "source": [
    "# Enable access to files stored in Google Drive\n",
    "from google.colab import drive\n",
    "drive.mount('/content/gdrive/')"
   ]
  },
  {
   "cell_type": "code",
   "execution_count": 2,
   "id": "5ab7fecb",
   "metadata": {
    "colab": {
     "base_uri": "https://localhost:8080/"
    },
    "executionInfo": {
     "elapsed": 222,
     "status": "ok",
     "timestamp": 1623255397767,
     "user": {
      "displayName": "Jan Bauer",
      "photoUrl": "https://lh3.googleusercontent.com/a-/AOh14GjMoILSkoLiVLRc0LV33CL7HiqBQDBHd7s_S7yqS5E2Qp9tA6lGXFYADcKPen_-o_naHrXfx9GC1hLS0EkfWe6frsNHCxWniY0ffqOzXLhgfpMpOCe1X25M0qQuXNDsDbJYdXDgEOiCmCK52ugSHESn9My4pdOjNKtNJooFAJFNfNXrbhlunN6W9MU62DeQNySpUbR8Gq7srfh4ErEGHQnX2geoviJadz-aS4QD9XIZhF8Mc_2YxAe0yjbZ1Z_bj8ZEmvV-Ufsp5HyY5u6vEpkDI8YN1fxkAXhoOlJKEGRI9-eTREGq65dB7lVrM3mXUchuq-WsBUtf3Ac_bJTjdhTZPoX0V5I1sFV-APTe1CkSO1rsUdNCbF-E6_3Pk1WTUV5qpX26QE06NhDVxbvIAGsV4dxtQAacTtvBKwROHMi-EIM_qUnyajtL9vGnlhAlMi-oLgj12riiRPnc3_skIb0CJVfLpF5Y9g61k_vptdRG2Zlt7Yb_karqlsOyqPLs2GIaqplAoAkVGX_XDFT_jfKgI7OP-MlDY8zOxqFYAeyBWVOqluEW1b6rdqa9sCXavvsxiZ_OR1hd1VPsGoZExQgkYXxsqAsatlPgibqSk4U9P5giby_dItAeea2H5sZ2Xpf4WeinDYVNdWpGGFS0AndbdyWesmfin-EvkQicB17sjHNoA23dbHnto12XGUMgdAxOtlTC0i8Lab5YAxi1o8klBQJeBsTd3KxWO58ImpxjWnLWJKjkuL3ozXE6luB6roUGOg=s64",
      "userId": "03076491501259095137"
     },
     "user_tz": -120
    },
    "id": "5ab7fecb",
    "outputId": "878ea5a0-9f05-4431-da99-d366ef28a488"
   },
   "outputs": [
    {
     "name": "stdout",
     "output_type": "stream",
     "text": [
      "/content/gdrive/My Drive/OPT4ML/src\n"
     ]
    }
   ],
   "source": [
    "%cd /content/gdrive/My Drive/OPT4ML/src"
   ]
  },
  {
   "cell_type": "markdown",
   "id": "00a6f1b1",
   "metadata": {
    "id": "00a6f1b1"
   },
   "source": [
    "# Main"
   ]
  },
  {
   "cell_type": "code",
   "execution_count": 3,
   "id": "f2507f5d",
   "metadata": {
    "colab": {
     "base_uri": "https://localhost:8080/"
    },
    "executionInfo": {
     "elapsed": 2615,
     "status": "ok",
     "timestamp": 1623255401406,
     "user": {
      "displayName": "Jan Bauer",
      "photoUrl": "https://lh3.googleusercontent.com/a-/AOh14GjMoILSkoLiVLRc0LV33CL7HiqBQDBHd7s_S7yqS5E2Qp9tA6lGXFYADcKPen_-o_naHrXfx9GC1hLS0EkfWe6frsNHCxWniY0ffqOzXLhgfpMpOCe1X25M0qQuXNDsDbJYdXDgEOiCmCK52ugSHESn9My4pdOjNKtNJooFAJFNfNXrbhlunN6W9MU62DeQNySpUbR8Gq7srfh4ErEGHQnX2geoviJadz-aS4QD9XIZhF8Mc_2YxAe0yjbZ1Z_bj8ZEmvV-Ufsp5HyY5u6vEpkDI8YN1fxkAXhoOlJKEGRI9-eTREGq65dB7lVrM3mXUchuq-WsBUtf3Ac_bJTjdhTZPoX0V5I1sFV-APTe1CkSO1rsUdNCbF-E6_3Pk1WTUV5qpX26QE06NhDVxbvIAGsV4dxtQAacTtvBKwROHMi-EIM_qUnyajtL9vGnlhAlMi-oLgj12riiRPnc3_skIb0CJVfLpF5Y9g61k_vptdRG2Zlt7Yb_karqlsOyqPLs2GIaqplAoAkVGX_XDFT_jfKgI7OP-MlDY8zOxqFYAeyBWVOqluEW1b6rdqa9sCXavvsxiZ_OR1hd1VPsGoZExQgkYXxsqAsatlPgibqSk4U9P5giby_dItAeea2H5sZ2Xpf4WeinDYVNdWpGGFS0AndbdyWesmfin-EvkQicB17sjHNoA23dbHnto12XGUMgdAxOtlTC0i8Lab5YAxi1o8klBQJeBsTd3KxWO58ImpxjWnLWJKjkuL3ozXE6luB6roUGOg=s64",
      "userId": "03076491501259095137"
     },
     "user_tz": -120
    },
    "id": "f2507f5d",
    "outputId": "7ebd9edc-f238-4a0d-fad5-bb430fc4b72e"
   },
   "outputs": [
    {
     "name": "stdout",
     "output_type": "stream",
     "text": [
      "Requirement already satisfied: torchvision~=0.9.1 in /usr/local/lib/python3.7/dist-packages (from -r ../requirements.txt (line 1)) (0.9.1+cu101)\n",
      "Requirement already satisfied: torch~=1.8.1 in /usr/local/lib/python3.7/dist-packages (from -r ../requirements.txt (line 2)) (1.8.1+cu101)\n",
      "Requirement already satisfied: numpy~=1.20.2 in /usr/local/lib/python3.7/dist-packages (from -r ../requirements.txt (line 3)) (1.20.3)\n",
      "Requirement already satisfied: opacus~=0.13.0 in /usr/local/lib/python3.7/dist-packages (from -r ../requirements.txt (line 4)) (0.13.0)\n",
      "Requirement already satisfied: pandas==1.2.4 in /usr/local/lib/python3.7/dist-packages (from -r ../requirements.txt (line 5)) (1.2.4)\n",
      "Requirement already satisfied: pillow>=4.1.1 in /usr/local/lib/python3.7/dist-packages (from torchvision~=0.9.1->-r ../requirements.txt (line 1)) (7.1.2)\n",
      "Requirement already satisfied: typing-extensions in /usr/local/lib/python3.7/dist-packages (from torch~=1.8.1->-r ../requirements.txt (line 2)) (3.7.4.3)\n",
      "Requirement already satisfied: tqdm>=4.40 in /usr/local/lib/python3.7/dist-packages (from opacus~=0.13.0->-r ../requirements.txt (line 4)) (4.41.1)\n",
      "Requirement already satisfied: requests>=2.25.1 in /usr/local/lib/python3.7/dist-packages (from opacus~=0.13.0->-r ../requirements.txt (line 4)) (2.25.1)\n",
      "Requirement already satisfied: scipy>=1.2 in /usr/local/lib/python3.7/dist-packages (from opacus~=0.13.0->-r ../requirements.txt (line 4)) (1.4.1)\n",
      "Requirement already satisfied: pytz>=2017.3 in /usr/local/lib/python3.7/dist-packages (from pandas==1.2.4->-r ../requirements.txt (line 5)) (2018.9)\n",
      "Requirement already satisfied: python-dateutil>=2.7.3 in /usr/local/lib/python3.7/dist-packages (from pandas==1.2.4->-r ../requirements.txt (line 5)) (2.8.1)\n",
      "Requirement already satisfied: idna<3,>=2.5 in /usr/local/lib/python3.7/dist-packages (from requests>=2.25.1->opacus~=0.13.0->-r ../requirements.txt (line 4)) (2.10)\n",
      "Requirement already satisfied: certifi>=2017.4.17 in /usr/local/lib/python3.7/dist-packages (from requests>=2.25.1->opacus~=0.13.0->-r ../requirements.txt (line 4)) (2020.12.5)\n",
      "Requirement already satisfied: chardet<5,>=3.0.2 in /usr/local/lib/python3.7/dist-packages (from requests>=2.25.1->opacus~=0.13.0->-r ../requirements.txt (line 4)) (3.0.4)\n",
      "Requirement already satisfied: urllib3<1.27,>=1.21.1 in /usr/local/lib/python3.7/dist-packages (from requests>=2.25.1->opacus~=0.13.0->-r ../requirements.txt (line 4)) (1.24.3)\n",
      "Requirement already satisfied: six>=1.5 in /usr/local/lib/python3.7/dist-packages (from python-dateutil>=2.7.3->pandas==1.2.4->-r ../requirements.txt (line 5)) (1.15.0)\n"
     ]
    }
   ],
   "source": [
    "# Install necessary requirements\n",
    "!pip install -r ../requirements.txt"
   ]
  },
  {
   "cell_type": "code",
   "execution_count": 4,
   "id": "c90e203b",
   "metadata": {
    "colab": {
     "base_uri": "https://localhost:8080/"
    },
    "executionInfo": {
     "elapsed": 381,
     "status": "ok",
     "timestamp": 1623255401784,
     "user": {
      "displayName": "Jan Bauer",
      "photoUrl": "https://lh3.googleusercontent.com/a-/AOh14GjMoILSkoLiVLRc0LV33CL7HiqBQDBHd7s_S7yqS5E2Qp9tA6lGXFYADcKPen_-o_naHrXfx9GC1hLS0EkfWe6frsNHCxWniY0ffqOzXLhgfpMpOCe1X25M0qQuXNDsDbJYdXDgEOiCmCK52ugSHESn9My4pdOjNKtNJooFAJFNfNXrbhlunN6W9MU62DeQNySpUbR8Gq7srfh4ErEGHQnX2geoviJadz-aS4QD9XIZhF8Mc_2YxAe0yjbZ1Z_bj8ZEmvV-Ufsp5HyY5u6vEpkDI8YN1fxkAXhoOlJKEGRI9-eTREGq65dB7lVrM3mXUchuq-WsBUtf3Ac_bJTjdhTZPoX0V5I1sFV-APTe1CkSO1rsUdNCbF-E6_3Pk1WTUV5qpX26QE06NhDVxbvIAGsV4dxtQAacTtvBKwROHMi-EIM_qUnyajtL9vGnlhAlMi-oLgj12riiRPnc3_skIb0CJVfLpF5Y9g61k_vptdRG2Zlt7Yb_karqlsOyqPLs2GIaqplAoAkVGX_XDFT_jfKgI7OP-MlDY8zOxqFYAeyBWVOqluEW1b6rdqa9sCXavvsxiZ_OR1hd1VPsGoZExQgkYXxsqAsatlPgibqSk4U9P5giby_dItAeea2H5sZ2Xpf4WeinDYVNdWpGGFS0AndbdyWesmfin-EvkQicB17sjHNoA23dbHnto12XGUMgdAxOtlTC0i8Lab5YAxi1o8klBQJeBsTd3KxWO58ImpxjWnLWJKjkuL3ozXE6luB6roUGOg=s64",
      "userId": "03076491501259095137"
     },
     "user_tz": -120
    },
    "id": "c90e203b",
    "outputId": "1fbf4c24-93a6-4c9d-84cd-5f0e126b08e5"
   },
   "outputs": [
    {
     "name": "stdout",
     "output_type": "stream",
     "text": [
      "device_name: cuda:0\n"
     ]
    }
   ],
   "source": [
    "# Make sure cuda support is available\n",
    "import torch\n",
    "if torch.cuda.is_available():  \n",
    "  device_name = \"cuda:0\" \n",
    "else:  \n",
    "  device_name = \"cpu\"  \n",
    "print(\"device_name: {}\".format(device_name))\n",
    "device = torch.device(device_name)"
   ]
  },
  {
   "cell_type": "code",
   "execution_count": 5,
   "id": "ba15fd75",
   "metadata": {
    "executionInfo": {
     "elapsed": 709,
     "status": "ok",
     "timestamp": 1623255403056,
     "user": {
      "displayName": "Jan Bauer",
      "photoUrl": "https://lh3.googleusercontent.com/a-/AOh14GjMoILSkoLiVLRc0LV33CL7HiqBQDBHd7s_S7yqS5E2Qp9tA6lGXFYADcKPen_-o_naHrXfx9GC1hLS0EkfWe6frsNHCxWniY0ffqOzXLhgfpMpOCe1X25M0qQuXNDsDbJYdXDgEOiCmCK52ugSHESn9My4pdOjNKtNJooFAJFNfNXrbhlunN6W9MU62DeQNySpUbR8Gq7srfh4ErEGHQnX2geoviJadz-aS4QD9XIZhF8Mc_2YxAe0yjbZ1Z_bj8ZEmvV-Ufsp5HyY5u6vEpkDI8YN1fxkAXhoOlJKEGRI9-eTREGq65dB7lVrM3mXUchuq-WsBUtf3Ac_bJTjdhTZPoX0V5I1sFV-APTe1CkSO1rsUdNCbF-E6_3Pk1WTUV5qpX26QE06NhDVxbvIAGsV4dxtQAacTtvBKwROHMi-EIM_qUnyajtL9vGnlhAlMi-oLgj12riiRPnc3_skIb0CJVfLpF5Y9g61k_vptdRG2Zlt7Yb_karqlsOyqPLs2GIaqplAoAkVGX_XDFT_jfKgI7OP-MlDY8zOxqFYAeyBWVOqluEW1b6rdqa9sCXavvsxiZ_OR1hd1VPsGoZExQgkYXxsqAsatlPgibqSk4U9P5giby_dItAeea2H5sZ2Xpf4WeinDYVNdWpGGFS0AndbdyWesmfin-EvkQicB17sjHNoA23dbHnto12XGUMgdAxOtlTC0i8Lab5YAxi1o8klBQJeBsTd3KxWO58ImpxjWnLWJKjkuL3ozXE6luB6roUGOg=s64",
      "userId": "03076491501259095137"
     },
     "user_tz": -120
    },
    "id": "ba15fd75"
   },
   "outputs": [],
   "source": [
    "import numpy as np\n",
    "import warnings\n",
    "import matplotlib.pyplot as plt\n",
    "from utils import *\n",
    "\n",
    "from model import CNN\n",
    "from server import Server\n"
   ]
  },
  {
   "cell_type": "code",
   "execution_count": 6,
   "id": "4b809818-4fc5-4340-83e6-dc5dc77a3c9e",
   "metadata": {
    "executionInfo": {
     "elapsed": 308,
     "status": "ok",
     "timestamp": 1623255404430,
     "user": {
      "displayName": "Jan Bauer",
      "photoUrl": "https://lh3.googleusercontent.com/a-/AOh14GjMoILSkoLiVLRc0LV33CL7HiqBQDBHd7s_S7yqS5E2Qp9tA6lGXFYADcKPen_-o_naHrXfx9GC1hLS0EkfWe6frsNHCxWniY0ffqOzXLhgfpMpOCe1X25M0qQuXNDsDbJYdXDgEOiCmCK52ugSHESn9My4pdOjNKtNJooFAJFNfNXrbhlunN6W9MU62DeQNySpUbR8Gq7srfh4ErEGHQnX2geoviJadz-aS4QD9XIZhF8Mc_2YxAe0yjbZ1Z_bj8ZEmvV-Ufsp5HyY5u6vEpkDI8YN1fxkAXhoOlJKEGRI9-eTREGq65dB7lVrM3mXUchuq-WsBUtf3Ac_bJTjdhTZPoX0V5I1sFV-APTe1CkSO1rsUdNCbF-E6_3Pk1WTUV5qpX26QE06NhDVxbvIAGsV4dxtQAacTtvBKwROHMi-EIM_qUnyajtL9vGnlhAlMi-oLgj12riiRPnc3_skIb0CJVfLpF5Y9g61k_vptdRG2Zlt7Yb_karqlsOyqPLs2GIaqplAoAkVGX_XDFT_jfKgI7OP-MlDY8zOxqFYAeyBWVOqluEW1b6rdqa9sCXavvsxiZ_OR1hd1VPsGoZExQgkYXxsqAsatlPgibqSk4U9P5giby_dItAeea2H5sZ2Xpf4WeinDYVNdWpGGFS0AndbdyWesmfin-EvkQicB17sjHNoA23dbHnto12XGUMgdAxOtlTC0i8Lab5YAxi1o8klBQJeBsTd3KxWO58ImpxjWnLWJKjkuL3ozXE6luB6roUGOg=s64",
      "userId": "03076491501259095137"
     },
     "user_tz": -120
    },
    "id": "4b809818-4fc5-4340-83e6-dc5dc77a3c9e"
   },
   "outputs": [],
   "source": [
    "if __name__ == \"__main__\":\n",
    "    warnings.filterwarnings(\"ignore\")"
   ]
  },
  {
   "cell_type": "code",
   "execution_count": 20,
   "id": "bb191aeb-c5b4-477b-8aa0-0a048a56b7e9",
   "metadata": {
    "executionInfo": {
     "elapsed": 3,
     "status": "ok",
     "timestamp": 1623250011250,
     "user": {
      "displayName": "Jan Bauer",
      "photoUrl": "https://lh3.googleusercontent.com/a-/AOh14GjMoILSkoLiVLRc0LV33CL7HiqBQDBHd7s_S7yqS5E2Qp9tA6lGXFYADcKPen_-o_naHrXfx9GC1hLS0EkfWe6frsNHCxWniY0ffqOzXLhgfpMpOCe1X25M0qQuXNDsDbJYdXDgEOiCmCK52ugSHESn9My4pdOjNKtNJooFAJFNfNXrbhlunN6W9MU62DeQNySpUbR8Gq7srfh4ErEGHQnX2geoviJadz-aS4QD9XIZhF8Mc_2YxAe0yjbZ1Z_bj8ZEmvV-Ufsp5HyY5u6vEpkDI8YN1fxkAXhoOlJKEGRI9-eTREGq65dB7lVrM3mXUchuq-WsBUtf3Ac_bJTjdhTZPoX0V5I1sFV-APTe1CkSO1rsUdNCbF-E6_3Pk1WTUV5qpX26QE06NhDVxbvIAGsV4dxtQAacTtvBKwROHMi-EIM_qUnyajtL9vGnlhAlMi-oLgj12riiRPnc3_skIb0CJVfLpF5Y9g61k_vptdRG2Zlt7Yb_karqlsOyqPLs2GIaqplAoAkVGX_XDFT_jfKgI7OP-MlDY8zOxqFYAeyBWVOqluEW1b6rdqa9sCXavvsxiZ_OR1hd1VPsGoZExQgkYXxsqAsatlPgibqSk4U9P5giby_dItAeea2H5sZ2Xpf4WeinDYVNdWpGGFS0AndbdyWesmfin-EvkQicB17sjHNoA23dbHnto12XGUMgdAxOtlTC0i8Lab5YAxi1o8klBQJeBsTd3KxWO58ImpxjWnLWJKjkuL3ozXE6luB6roUGOg=s64",
      "userId": "03076491501259095137"
     },
     "user_tz": -120
    },
    "id": "bb191aeb-c5b4-477b-8aa0-0a048a56b7e9"
   },
   "outputs": [],
   "source": [
    "# --- TRAINING PARAMETERS ---\n",
    "# NR_CLIENTS ... Number of clients participating in the training process.\n",
    "# LR ... Learning rate used for the stochastic gradient descent.\n",
    "# CLIENT EPOCHS ... Number of epochs that every client is trained during every step.\n",
    "# NR_TRAINING_ROUNDS ... Number of times that the server performs a global model update.\n",
    "# IS_PARALLEL ... Is the training of the clients performed in parallel.\n",
    "# DATA ... Dataset to be used. Either 'MNIST', 'MED' or 'FEMNIST'.\n",
    "# BATCH_SIZE ... Batch size used by SGD algorithm."
   ]
  },
  {
   "cell_type": "code",
   "execution_count": 21,
   "id": "8eccf059-f14e-4fe4-9128-4336e87fdc72",
   "metadata": {
    "executionInfo": {
     "elapsed": 2,
     "status": "ok",
     "timestamp": 1623250011250,
     "user": {
      "displayName": "Jan Bauer",
      "photoUrl": "https://lh3.googleusercontent.com/a-/AOh14GjMoILSkoLiVLRc0LV33CL7HiqBQDBHd7s_S7yqS5E2Qp9tA6lGXFYADcKPen_-o_naHrXfx9GC1hLS0EkfWe6frsNHCxWniY0ffqOzXLhgfpMpOCe1X25M0qQuXNDsDbJYdXDgEOiCmCK52ugSHESn9My4pdOjNKtNJooFAJFNfNXrbhlunN6W9MU62DeQNySpUbR8Gq7srfh4ErEGHQnX2geoviJadz-aS4QD9XIZhF8Mc_2YxAe0yjbZ1Z_bj8ZEmvV-Ufsp5HyY5u6vEpkDI8YN1fxkAXhoOlJKEGRI9-eTREGq65dB7lVrM3mXUchuq-WsBUtf3Ac_bJTjdhTZPoX0V5I1sFV-APTe1CkSO1rsUdNCbF-E6_3Pk1WTUV5qpX26QE06NhDVxbvIAGsV4dxtQAacTtvBKwROHMi-EIM_qUnyajtL9vGnlhAlMi-oLgj12riiRPnc3_skIb0CJVfLpF5Y9g61k_vptdRG2Zlt7Yb_karqlsOyqPLs2GIaqplAoAkVGX_XDFT_jfKgI7OP-MlDY8zOxqFYAeyBWVOqluEW1b6rdqa9sCXavvsxiZ_OR1hd1VPsGoZExQgkYXxsqAsatlPgibqSk4U9P5giby_dItAeea2H5sZ2Xpf4WeinDYVNdWpGGFS0AndbdyWesmfin-EvkQicB17sjHNoA23dbHnto12XGUMgdAxOtlTC0i8Lab5YAxi1o8klBQJeBsTd3KxWO58ImpxjWnLWJKjkuL3ozXE6luB6roUGOg=s64",
      "userId": "03076491501259095137"
     },
     "user_tz": -120
    },
    "id": "8eccf059-f14e-4fe4-9128-4336e87fdc72"
   },
   "outputs": [],
   "source": [
    "# --- DIFFERENTIAL PRIVACY PARAMETERS ---\n",
    "# IS PRIVATE ... \n",
    "# MAX_GRAD_NORM\n",
    "# EPSILON\n",
    "# EPISILON_TRAINING_ITERATION\n",
    "# VIRTUAL_BATCH_SIZE\n",
    "# N_ACCUMULATION_STEPS"
   ]
  },
  {
   "cell_type": "markdown",
   "id": "ca8edc12",
   "metadata": {
    "id": "ca8edc12"
   },
   "source": [
    "## 1. Experiments on Medical Dataset\n",
    "In the first experiment we are comparing the accuracy of a fed ml approach including privacy "
   ]
  },
  {
   "cell_type": "code",
   "execution_count": 22,
   "id": "uYf5jXst7LlY",
   "metadata": {
    "executionInfo": {
     "elapsed": 245,
     "status": "ok",
     "timestamp": 1623255536701,
     "user": {
      "displayName": "Jan Bauer",
      "photoUrl": "https://lh3.googleusercontent.com/a-/AOh14GjMoILSkoLiVLRc0LV33CL7HiqBQDBHd7s_S7yqS5E2Qp9tA6lGXFYADcKPen_-o_naHrXfx9GC1hLS0EkfWe6frsNHCxWniY0ffqOzXLhgfpMpOCe1X25M0qQuXNDsDbJYdXDgEOiCmCK52ugSHESn9My4pdOjNKtNJooFAJFNfNXrbhlunN6W9MU62DeQNySpUbR8Gq7srfh4ErEGHQnX2geoviJadz-aS4QD9XIZhF8Mc_2YxAe0yjbZ1Z_bj8ZEmvV-Ufsp5HyY5u6vEpkDI8YN1fxkAXhoOlJKEGRI9-eTREGq65dB7lVrM3mXUchuq-WsBUtf3Ac_bJTjdhTZPoX0V5I1sFV-APTe1CkSO1rsUdNCbF-E6_3Pk1WTUV5qpX26QE06NhDVxbvIAGsV4dxtQAacTtvBKwROHMi-EIM_qUnyajtL9vGnlhAlMi-oLgj12riiRPnc3_skIb0CJVfLpF5Y9g61k_vptdRG2Zlt7Yb_karqlsOyqPLs2GIaqplAoAkVGX_XDFT_jfKgI7OP-MlDY8zOxqFYAeyBWVOqluEW1b6rdqa9sCXavvsxiZ_OR1hd1VPsGoZExQgkYXxsqAsatlPgibqSk4U9P5giby_dItAeea2H5sZ2Xpf4WeinDYVNdWpGGFS0AndbdyWesmfin-EvkQicB17sjHNoA23dbHnto12XGUMgdAxOtlTC0i8Lab5YAxi1o8klBQJeBsTd3KxWO58ImpxjWnLWJKjkuL3ozXE6luB6roUGOg=s64",
      "userId": "03076491501259095137"
     },
     "user_tz": -120
    },
    "id": "uYf5jXst7LlY"
   },
   "outputs": [],
   "source": [
    "data = \"MED\"\n",
    "batch_size = 32"
   ]
  },
  {
   "cell_type": "markdown",
   "id": "mWOJUOYA7MVy",
   "metadata": {
    "id": "mWOJUOYA7MVy"
   },
   "source": [
    "### Experiment 1.1"
   ]
  },
  {
   "cell_type": "code",
   "execution_count": 26,
   "id": "ac2c806b",
   "metadata": {
    "executionInfo": {
     "elapsed": 211,
     "status": "ok",
     "timestamp": 1623255555304,
     "user": {
      "displayName": "Jan Bauer",
      "photoUrl": "https://lh3.googleusercontent.com/a-/AOh14GjMoILSkoLiVLRc0LV33CL7HiqBQDBHd7s_S7yqS5E2Qp9tA6lGXFYADcKPen_-o_naHrXfx9GC1hLS0EkfWe6frsNHCxWniY0ffqOzXLhgfpMpOCe1X25M0qQuXNDsDbJYdXDgEOiCmCK52ugSHESn9My4pdOjNKtNJooFAJFNfNXrbhlunN6W9MU62DeQNySpUbR8Gq7srfh4ErEGHQnX2geoviJadz-aS4QD9XIZhF8Mc_2YxAe0yjbZ1Z_bj8ZEmvV-Ufsp5HyY5u6vEpkDI8YN1fxkAXhoOlJKEGRI9-eTREGq65dB7lVrM3mXUchuq-WsBUtf3Ac_bJTjdhTZPoX0V5I1sFV-APTe1CkSO1rsUdNCbF-E6_3Pk1WTUV5qpX26QE06NhDVxbvIAGsV4dxtQAacTtvBKwROHMi-EIM_qUnyajtL9vGnlhAlMi-oLgj12riiRPnc3_skIb0CJVfLpF5Y9g61k_vptdRG2Zlt7Yb_karqlsOyqPLs2GIaqplAoAkVGX_XDFT_jfKgI7OP-MlDY8zOxqFYAeyBWVOqluEW1b6rdqa9sCXavvsxiZ_OR1hd1VPsGoZExQgkYXxsqAsatlPgibqSk4U9P5giby_dItAeea2H5sZ2Xpf4WeinDYVNdWpGGFS0AndbdyWesmfin-EvkQicB17sjHNoA23dbHnto12XGUMgdAxOtlTC0i8Lab5YAxi1o8klBQJeBsTd3KxWO58ImpxjWnLWJKjkuL3ozXE6luB6roUGOg=s64",
      "userId": "03076491501259095137"
     },
     "user_tz": -120
    },
    "id": "ac2c806b"
   },
   "outputs": [],
   "source": [
    "# --- TRAINING PARAMETERS ---\n",
    "nr_clients = 3\n",
    "lr = 0.01\n",
    "client_epochs = 10 \n",
    "nr_training_rounds = 100\n",
    "is_parallel = False\n",
    "# --- DIFFERENTIAL PRIVACY PARAMETERS ---\n",
    "is_private = False\n",
    "max_grad_norm = 1.2\n",
    "epsilon = 5\n",
    "epsilon_training_iteration = epsilon / nr_training_rounds\n",
    "virtual_batch_size = 2 * batch_size\n",
    "assert virtual_batch_size % batch_size == 0  # VIRTUAL_BATCH_SIZE should be divisible by BATCH_SIZE\n",
    "n_accumulation_steps = int(virtual_batch_size / batch_size)"
   ]
  },
  {
   "cell_type": "code",
   "execution_count": 27,
   "id": "39040a71",
   "metadata": {
    "colab": {
     "base_uri": "https://localhost:8080/"
    },
    "executionInfo": {
     "elapsed": 561,
     "status": "ok",
     "timestamp": 1623255556950,
     "user": {
      "displayName": "Jan Bauer",
      "photoUrl": "https://lh3.googleusercontent.com/a-/AOh14GjMoILSkoLiVLRc0LV33CL7HiqBQDBHd7s_S7yqS5E2Qp9tA6lGXFYADcKPen_-o_naHrXfx9GC1hLS0EkfWe6frsNHCxWniY0ffqOzXLhgfpMpOCe1X25M0qQuXNDsDbJYdXDgEOiCmCK52ugSHESn9My4pdOjNKtNJooFAJFNfNXrbhlunN6W9MU62DeQNySpUbR8Gq7srfh4ErEGHQnX2geoviJadz-aS4QD9XIZhF8Mc_2YxAe0yjbZ1Z_bj8ZEmvV-Ufsp5HyY5u6vEpkDI8YN1fxkAXhoOlJKEGRI9-eTREGq65dB7lVrM3mXUchuq-WsBUtf3Ac_bJTjdhTZPoX0V5I1sFV-APTe1CkSO1rsUdNCbF-E6_3Pk1WTUV5qpX26QE06NhDVxbvIAGsV4dxtQAacTtvBKwROHMi-EIM_qUnyajtL9vGnlhAlMi-oLgj12riiRPnc3_skIb0CJVfLpF5Y9g61k_vptdRG2Zlt7Yb_karqlsOyqPLs2GIaqplAoAkVGX_XDFT_jfKgI7OP-MlDY8zOxqFYAeyBWVOqluEW1b6rdqa9sCXavvsxiZ_OR1hd1VPsGoZExQgkYXxsqAsatlPgibqSk4U9P5giby_dItAeea2H5sZ2Xpf4WeinDYVNdWpGGFS0AndbdyWesmfin-EvkQicB17sjHNoA23dbHnto12XGUMgdAxOtlTC0i8Lab5YAxi1o8klBQJeBsTd3KxWO58ImpxjWnLWJKjkuL3ozXE6luB6roUGOg=s64",
      "userId": "03076491501259095137"
     },
     "user_tz": -120
    },
    "id": "39040a71",
    "outputId": "0c23d45b-0287-4e99-b2b2-b3bfd5ea9c5c"
   },
   "outputs": [
    {
     "name": "stdout",
     "output_type": "stream",
     "text": [
      "--- Configuration ---\n",
      "nr_clients: 3\n",
      "nr_training_rounds: 100\n",
      "lr: 0.01\n",
      "epochs: 10\n",
      "data: MED\n",
      "batch_size: 32\n",
      "max_grad_norm: 1.2\n",
      "epsilon: 5\n",
      "n_accumulation_steps: 2\n",
      "epsilon_training_iteration: 0.05\n",
      "is_parallel: False\n",
      "is_private: False\n",
      "device: <class 'torch.device'>\n",
      "verbose: server\n",
      "MED\n",
      "False\n",
      "--- Training ---\n",
      "Round 1, test_loss: 0.7801, test_acc: 0.5\n",
      "Validation loss decreased (inf --> 0.780135).  Saving model ...\n",
      "Round 2, test_loss: 1.5571, test_acc: 0.5\n",
      "EarlyStopping counter: 1 out of 10\n",
      "Round 3, test_loss: 1.5336, test_acc: 0.5\n",
      "EarlyStopping counter: 2 out of 10\n",
      "Round 4, test_loss: 1.5273, test_acc: 0.5\n",
      "EarlyStopping counter: 3 out of 10\n",
      "Round 5, test_loss: 1.5212, test_acc: 0.5\n",
      "EarlyStopping counter: 4 out of 10\n",
      "Round 6, test_loss: 1.5151, test_acc: 0.5\n",
      "EarlyStopping counter: 5 out of 10\n",
      "Round 7, test_loss: 1.5091, test_acc: 0.5\n",
      "EarlyStopping counter: 6 out of 10\n",
      "Round 8, test_loss: 1.5032, test_acc: 0.5\n",
      "EarlyStopping counter: 7 out of 10\n",
      "Round 9, test_loss: 1.4972, test_acc: 0.5\n",
      "EarlyStopping counter: 8 out of 10\n",
      "Round 10, test_loss: 1.4914, test_acc: 0.5\n",
      "EarlyStopping counter: 9 out of 10\n",
      "Round 11, test_loss: 1.4855, test_acc: 0.5\n",
      "EarlyStopping counter: 10 out of 10\n",
      "Early stopping\n",
      "Test losses: [0.7801, 1.5571, 1.5336, 1.5273, 1.5212, 1.5151, 1.5091, 1.5032, 1.4972, 1.4914, 1.4855]\n",
      "Test accuracies: [0.5, 0.5, 0.5, 0.5, 0.5, 0.5, 0.5, 0.5, 0.5, 0.5, 0.5]\n",
      "Finished\n"
     ]
    }
   ],
   "source": [
    "server = Server(nr_clients=nr_clients, nr_training_rounds=nr_training_rounds, lr=lr, epochs=client_epochs, data=data, batch_size=batch_size, max_grad_norm=max_grad_norm, epsilon=epsilon, n_accumulation_steps=n_accumulation_steps, epsilon_training_iteration=epsilon_training_iteration, is_parallel=is_parallel, is_private=is_private, device=device, verbose=\"server\")\n",
    "test_losses, test_accs = server(early=True, patience=10, delta=0.05)"
   ]
  },
  {
   "cell_type": "code",
   "execution_count": 28,
   "id": "8f53bf65",
   "metadata": {
    "colab": {
     "base_uri": "https://localhost:8080/",
     "height": 429
    },
    "executionInfo": {
     "elapsed": 744,
     "status": "ok",
     "timestamp": 1623255565502,
     "user": {
      "displayName": "Jan Bauer",
      "photoUrl": "https://lh3.googleusercontent.com/a-/AOh14GjMoILSkoLiVLRc0LV33CL7HiqBQDBHd7s_S7yqS5E2Qp9tA6lGXFYADcKPen_-o_naHrXfx9GC1hLS0EkfWe6frsNHCxWniY0ffqOzXLhgfpMpOCe1X25M0qQuXNDsDbJYdXDgEOiCmCK52ugSHESn9My4pdOjNKtNJooFAJFNfNXrbhlunN6W9MU62DeQNySpUbR8Gq7srfh4ErEGHQnX2geoviJadz-aS4QD9XIZhF8Mc_2YxAe0yjbZ1Z_bj8ZEmvV-Ufsp5HyY5u6vEpkDI8YN1fxkAXhoOlJKEGRI9-eTREGq65dB7lVrM3mXUchuq-WsBUtf3Ac_bJTjdhTZPoX0V5I1sFV-APTe1CkSO1rsUdNCbF-E6_3Pk1WTUV5qpX26QE06NhDVxbvIAGsV4dxtQAacTtvBKwROHMi-EIM_qUnyajtL9vGnlhAlMi-oLgj12riiRPnc3_skIb0CJVfLpF5Y9g61k_vptdRG2Zlt7Yb_karqlsOyqPLs2GIaqplAoAkVGX_XDFT_jfKgI7OP-MlDY8zOxqFYAeyBWVOqluEW1b6rdqa9sCXavvsxiZ_OR1hd1VPsGoZExQgkYXxsqAsatlPgibqSk4U9P5giby_dItAeea2H5sZ2Xpf4WeinDYVNdWpGGFS0AndbdyWesmfin-EvkQicB17sjHNoA23dbHnto12XGUMgdAxOtlTC0i8Lab5YAxi1o8klBQJeBsTd3KxWO58ImpxjWnLWJKjkuL3ozXE6luB6roUGOg=s64",
      "userId": "03076491501259095137"
     },
     "user_tz": -120
    },
    "id": "8f53bf65",
    "outputId": "2ea2db44-3f71-46ab-814f-3a16f2faf9c3"
   },
   "outputs": [
    {
     "data": {
      "image/png": "[encoded data removed]",
      "text/plain": [
       "<Figure size 864x432 with 2 Axes>"
      ]
     },
     "metadata": {
      "needs_background": "light",
      "tags": []
     },
     "output_type": "display_data"
    }
   ],
   "source": [
    "plot_metrics(test_losses, test_accs)"
   ]
  },
  {
   "cell_type": "code",
   "execution_count": 13,
   "id": "3d62f410",
   "metadata": {
    "colab": {
     "base_uri": "https://localhost:8080/"
    },
    "executionInfo": {
     "elapsed": 8009,
     "status": "ok",
     "timestamp": 1623255472271,
     "user": {
      "displayName": "Jan Bauer",
      "photoUrl": "https://lh3.googleusercontent.com/a-/AOh14GjMoILSkoLiVLRc0LV33CL7HiqBQDBHd7s_S7yqS5E2Qp9tA6lGXFYADcKPen_-o_naHrXfx9GC1hLS0EkfWe6frsNHCxWniY0ffqOzXLhgfpMpOCe1X25M0qQuXNDsDbJYdXDgEOiCmCK52ugSHESn9My4pdOjNKtNJooFAJFNfNXrbhlunN6W9MU62DeQNySpUbR8Gq7srfh4ErEGHQnX2geoviJadz-aS4QD9XIZhF8Mc_2YxAe0yjbZ1Z_bj8ZEmvV-Ufsp5HyY5u6vEpkDI8YN1fxkAXhoOlJKEGRI9-eTREGq65dB7lVrM3mXUchuq-WsBUtf3Ac_bJTjdhTZPoX0V5I1sFV-APTe1CkSO1rsUdNCbF-E6_3Pk1WTUV5qpX26QE06NhDVxbvIAGsV4dxtQAacTtvBKwROHMi-EIM_qUnyajtL9vGnlhAlMi-oLgj12riiRPnc3_skIb0CJVfLpF5Y9g61k_vptdRG2Zlt7Yb_karqlsOyqPLs2GIaqplAoAkVGX_XDFT_jfKgI7OP-MlDY8zOxqFYAeyBWVOqluEW1b6rdqa9sCXavvsxiZ_OR1hd1VPsGoZExQgkYXxsqAsatlPgibqSk4U9P5giby_dItAeea2H5sZ2Xpf4WeinDYVNdWpGGFS0AndbdyWesmfin-EvkQicB17sjHNoA23dbHnto12XGUMgdAxOtlTC0i8Lab5YAxi1o8klBQJeBsTd3KxWO58ImpxjWnLWJKjkuL3ozXE6luB6roUGOg=s64",
      "userId": "03076491501259095137"
     },
     "user_tz": -120
    },
    "id": "3d62f410",
    "outputId": "d7bb5dba-89ae-4fb1-edc8-a5d5c4292ca7"
   },
   "outputs": [
    {
     "name": "stdout",
     "output_type": "stream",
     "text": [
      "--- Configuration ---\n",
      "nr_clients: 3\n",
      "nr_training_rounds: 100\n",
      "lr: 0.01\n",
      "epochs: 10\n",
      "data: MED\n",
      "batch_size: 10\n",
      "max_grad_norm: 1.2\n",
      "epsilon: 5\n",
      "n_accumulation_steps: 2\n",
      "epsilon_training_iteration: 0.05\n",
      "is_parallel: True\n",
      "is_private: False\n",
      "device: <class 'torch.device'>\n",
      "verbose: server\n",
      "MED\n",
      "False\n",
      "--- Training ---\n",
      "Round 1, test_loss: 1.8944, test_acc: 0.5416666666666666\n",
      "Round 2, test_loss: 6.0960, test_acc: 0.4583333333333333\n",
      "Round 3, test_loss: 3.4299, test_acc: 0.4583333333333333\n",
      "Round 4, test_loss: 3.9562, test_acc: 0.4583333333333333\n",
      "Round 5, test_loss: 3.9712, test_acc: 0.5416666666666666\n",
      "Round 6, test_loss: 1.7027, test_acc: 0.8333333333333334\n",
      "Round 7, test_loss: 3.5561, test_acc: 0.5416666666666666\n",
      "Round 8, test_loss: 2.2477, test_acc: 0.5416666666666666\n",
      "Round 9, test_loss: 1.5086, test_acc: 0.8333333333333334\n",
      "Round 10, test_loss: 1.8163, test_acc: 0.7083333333333334\n",
      "Round 11, test_loss: 1.4301, test_acc: 1.0\n",
      "Round 12, test_loss: 1.7356, test_acc: 0.7083333333333334\n",
      "Round 13, test_loss: 1.3948, test_acc: 0.7083333333333334\n",
      "Round 14, test_loss: 1.6267, test_acc: 0.7083333333333334\n",
      "Round 15, test_loss: 1.2724, test_acc: 0.7083333333333334\n",
      "Round 16, test_loss: 5.3220, test_acc: 0.4583333333333333\n",
      "Round 17, test_loss: 1.2296, test_acc: 0.875\n",
      "Round 18, test_loss: 1.1705, test_acc: 0.875\n",
      "Round 19, test_loss: 1.2140, test_acc: 1.0\n",
      "Round 20, test_loss: 3.2643, test_acc: 0.4583333333333333\n",
      "Round 21, test_loss: 1.0911, test_acc: 0.7083333333333334\n",
      "Round 22, test_loss: 1.8330, test_acc: 0.5416666666666666\n",
      "Round 23, test_loss: 1.0255, test_acc: 1.0\n",
      "Round 24, test_loss: 1.0501, test_acc: 1.0\n",
      "Round 25, test_loss: 1.2641, test_acc: 0.75\n",
      "Round 26, test_loss: 1.5772, test_acc: 0.6666666666666666\n",
      "Round 27, test_loss: 1.2811, test_acc: 0.6666666666666666\n",
      "Round 28, test_loss: 1.1574, test_acc: 0.7916666666666666\n",
      "Round 29, test_loss: 1.2511, test_acc: 0.6666666666666666\n",
      "Round 30, test_loss: 2.8370, test_acc: 0.4583333333333333\n",
      "Round 31, test_loss: 1.0007, test_acc: 0.875\n",
      "Round 32, test_loss: 0.8478, test_acc: 1.0\n",
      "Round 33, test_loss: 3.2697, test_acc: 0.4583333333333333\n",
      "Round 34, test_loss: 1.6370, test_acc: 0.6666666666666666\n",
      "Round 35, test_loss: 2.0374, test_acc: 0.6666666666666666\n",
      "Round 36, test_loss: 1.9964, test_acc: 0.6666666666666666\n",
      "Round 37, test_loss: 1.6707, test_acc: 0.7083333333333334\n",
      "Round 38, test_loss: 3.5523, test_acc: 0.4583333333333333\n",
      "Round 39, test_loss: 0.8616, test_acc: 1.0\n",
      "Round 40, test_loss: 1.4233, test_acc: 0.7083333333333334\n",
      "Round 41, test_loss: 0.9936, test_acc: 0.75\n",
      "Round 42, test_loss: 2.2142, test_acc: 0.6666666666666666\n",
      "Round 43, test_loss: 0.7314, test_acc: 1.0\n",
      "Round 44, test_loss: 0.7957, test_acc: 1.0\n",
      "Round 45, test_loss: 0.7928, test_acc: 1.0\n",
      "Round 46, test_loss: 0.8341, test_acc: 0.875\n",
      "Round 47, test_loss: 0.9545, test_acc: 0.7916666666666666\n",
      "Round 48, test_loss: 0.7916, test_acc: 1.0\n",
      "Round 49, test_loss: 0.6388, test_acc: 1.0\n",
      "Round 50, test_loss: 0.6729, test_acc: 1.0\n",
      "Round 51, test_loss: 0.7405, test_acc: 1.0\n",
      "Round 52, test_loss: 0.7641, test_acc: 1.0\n",
      "Round 53, test_loss: 1.9622, test_acc: 0.7083333333333334\n",
      "Round 54, test_loss: 0.6399, test_acc: 1.0\n",
      "Round 55, test_loss: 0.7075, test_acc: 1.0\n",
      "Round 56, test_loss: 0.6266, test_acc: 1.0\n",
      "Round 57, test_loss: 0.6261, test_acc: 1.0\n",
      "Round 58, test_loss: 0.6892, test_acc: 1.0\n",
      "Round 59, test_loss: 1.7767, test_acc: 0.6666666666666666\n",
      "Round 60, test_loss: 1.0395, test_acc: 0.6666666666666666\n",
      "Round 61, test_loss: 0.6275, test_acc: 1.0\n",
      "Round 62, test_loss: 0.5461, test_acc: 1.0\n",
      "Round 63, test_loss: 1.0151, test_acc: 0.7083333333333334\n",
      "Round 64, test_loss: 2.7684, test_acc: 0.6666666666666666\n",
      "Round 65, test_loss: 0.6099, test_acc: 1.0\n",
      "Round 66, test_loss: 1.6844, test_acc: 0.7083333333333334\n",
      "Round 67, test_loss: 0.5642, test_acc: 1.0\n",
      "Round 68, test_loss: 0.9099, test_acc: 0.7083333333333334\n",
      "Round 69, test_loss: 0.5791, test_acc: 1.0\n",
      "Round 70, test_loss: 0.5377, test_acc: 1.0\n",
      "Round 71, test_loss: 0.6775, test_acc: 1.0\n",
      "Round 72, test_loss: 1.0940, test_acc: 0.7083333333333334\n",
      "Round 73, test_loss: 0.6220, test_acc: 1.0\n",
      "Round 74, test_loss: 2.6107, test_acc: 0.4583333333333333\n",
      "Round 75, test_loss: 0.6357, test_acc: 1.0\n",
      "Round 76, test_loss: 0.5254, test_acc: 1.0\n",
      "Round 77, test_loss: 0.4784, test_acc: 1.0\n",
      "Round 78, test_loss: 0.4999, test_acc: 1.0\n",
      "Round 79, test_loss: 0.6228, test_acc: 1.0\n",
      "Round 80, test_loss: 0.5125, test_acc: 1.0\n",
      "Round 81, test_loss: 0.6018, test_acc: 1.0\n",
      "Round 82, test_loss: 0.4641, test_acc: 1.0\n",
      "Round 83, test_loss: 0.4897, test_acc: 1.0\n",
      "Round 84, test_loss: 0.5120, test_acc: 1.0\n",
      "Round 85, test_loss: 0.5633, test_acc: 1.0\n",
      "Round 86, test_loss: 0.5229, test_acc: 1.0\n",
      "Round 87, test_loss: 0.4584, test_acc: 1.0\n",
      "Round 88, test_loss: 0.5398, test_acc: 1.0\n",
      "Round 89, test_loss: 0.4821, test_acc: 1.0\n",
      "Round 90, test_loss: 0.5080, test_acc: 1.0\n",
      "Round 91, test_loss: 0.8277, test_acc: 0.7916666666666666\n",
      "Round 92, test_loss: 0.5074, test_acc: 1.0\n",
      "Round 93, test_loss: 0.4936, test_acc: 1.0\n",
      "Round 94, test_loss: 0.5223, test_acc: 1.0\n",
      "Round 95, test_loss: 0.4439, test_acc: 1.0\n",
      "Round 96, test_loss: 0.7797, test_acc: 0.8333333333333334\n",
      "Round 97, test_loss: 0.4590, test_acc: 1.0\n",
      "Round 98, test_loss: 0.4872, test_acc: 1.0\n",
      "Round 99, test_loss: 0.5654, test_acc: 1.0\n",
      "Round 100, test_loss: 0.4175, test_acc: 1.0\n",
      "Test losses: [1.8944, 6.096, 3.4299, 3.9562, 3.9712, 1.7027, 3.5561, 2.2477, 1.5086, 1.8163, 1.4301, 1.7356, 1.3948, 1.6267, 1.2724, 5.322, 1.2296, 1.1705, 1.214, 3.2643, 1.0911, 1.833, 1.0255, 1.0501, 1.2641, 1.5772, 1.2811, 1.1574, 1.2511, 2.837, 1.0007, 0.8478, 3.2697, 1.637, 2.0374, 1.9964, 1.6707, 3.5523, 0.8616, 1.4233, 0.9936, 2.2142, 0.7314, 0.7957, 0.7928, 0.8341, 0.9545, 0.7916, 0.6388, 0.6729, 0.7405, 0.7641, 1.9622, 0.6399, 0.7075, 0.6266, 0.6261, 0.6892, 1.7767, 1.0395, 0.6275, 0.5461, 1.0151, 2.7684, 0.6099, 1.6844, 0.5642, 0.9099, 0.5791, 0.5377, 0.6775, 1.094, 0.622, 2.6107, 0.6357, 0.5254, 0.4784, 0.4999, 0.6228, 0.5125, 0.6018, 0.4641, 0.4897, 0.512, 0.5633, 0.5229, 0.4584, 0.5398, 0.4821, 0.508, 0.8277, 0.5074, 0.4936, 0.5223, 0.4439, 0.7797, 0.459, 0.4872, 0.5654, 0.4175]\n",
      "Test accuracies: [0.5416666666666666, 0.4583333333333333, 0.4583333333333333, 0.4583333333333333, 0.5416666666666666, 0.8333333333333334, 0.5416666666666666, 0.5416666666666666, 0.8333333333333334, 0.7083333333333334, 1.0, 0.7083333333333334, 0.7083333333333334, 0.7083333333333334, 0.7083333333333334, 0.4583333333333333, 0.875, 0.875, 1.0, 0.4583333333333333, 0.7083333333333334, 0.5416666666666666, 1.0, 1.0, 0.75, 0.6666666666666666, 0.6666666666666666, 0.7916666666666666, 0.6666666666666666, 0.4583333333333333, 0.875, 1.0, 0.4583333333333333, 0.6666666666666666, 0.6666666666666666, 0.6666666666666666, 0.7083333333333334, 0.4583333333333333, 1.0, 0.7083333333333334, 0.75, 0.6666666666666666, 1.0, 1.0, 1.0, 0.875, 0.7916666666666666, 1.0, 1.0, 1.0, 1.0, 1.0, 0.7083333333333334, 1.0, 1.0, 1.0, 1.0, 1.0, 0.6666666666666666, 0.6666666666666666, 1.0, 1.0, 0.7083333333333334, 0.6666666666666666, 1.0, 0.7083333333333334, 1.0, 0.7083333333333334, 1.0, 1.0, 1.0, 0.7083333333333334, 1.0, 0.4583333333333333, 1.0, 1.0, 1.0, 1.0, 1.0, 1.0, 1.0, 1.0, 1.0, 1.0, 1.0, 1.0, 1.0, 1.0, 1.0, 1.0, 0.7916666666666666, 1.0, 1.0, 1.0, 1.0, 0.8333333333333334, 1.0, 1.0, 1.0, 1.0]\n",
      "Finished\n"
     ]
    }
   ],
   "source": [
    "nr_clienst=1\n",
    "is_private=False\n",
    "server = Server(nr_clients=nr_clients, nr_training_rounds=nr_training_rounds, lr=lr, epochs=client_epochs, data=data, batch_size=batch_size, max_grad_norm=max_grad_norm, epsilon=epsilon, n_accumulation_steps=n_accumulation_steps, epsilon_training_iteration=epsilon_training_iteration, is_parallel=is_parallel, is_private=is_private, device=device, verbose=\"server\")\n",
    "test_losses, test_accs = server(early=False, patience=3, delta=0.05)"
   ]
  },
  {
   "cell_type": "code",
   "execution_count": 14,
   "id": "1465a694",
   "metadata": {
    "colab": {
     "base_uri": "https://localhost:8080/",
     "height": 429
    },
    "executionInfo": {
     "elapsed": 903,
     "status": "ok",
     "timestamp": 1623255476896,
     "user": {
      "displayName": "Jan Bauer",
      "photoUrl": "https://lh3.googleusercontent.com/a-/AOh14GjMoILSkoLiVLRc0LV33CL7HiqBQDBHd7s_S7yqS5E2Qp9tA6lGXFYADcKPen_-o_naHrXfx9GC1hLS0EkfWe6frsNHCxWniY0ffqOzXLhgfpMpOCe1X25M0qQuXNDsDbJYdXDgEOiCmCK52ugSHESn9My4pdOjNKtNJooFAJFNfNXrbhlunN6W9MU62DeQNySpUbR8Gq7srfh4ErEGHQnX2geoviJadz-aS4QD9XIZhF8Mc_2YxAe0yjbZ1Z_bj8ZEmvV-Ufsp5HyY5u6vEpkDI8YN1fxkAXhoOlJKEGRI9-eTREGq65dB7lVrM3mXUchuq-WsBUtf3Ac_bJTjdhTZPoX0V5I1sFV-APTe1CkSO1rsUdNCbF-E6_3Pk1WTUV5qpX26QE06NhDVxbvIAGsV4dxtQAacTtvBKwROHMi-EIM_qUnyajtL9vGnlhAlMi-oLgj12riiRPnc3_skIb0CJVfLpF5Y9g61k_vptdRG2Zlt7Yb_karqlsOyqPLs2GIaqplAoAkVGX_XDFT_jfKgI7OP-MlDY8zOxqFYAeyBWVOqluEW1b6rdqa9sCXavvsxiZ_OR1hd1VPsGoZExQgkYXxsqAsatlPgibqSk4U9P5giby_dItAeea2H5sZ2Xpf4WeinDYVNdWpGGFS0AndbdyWesmfin-EvkQicB17sjHNoA23dbHnto12XGUMgdAxOtlTC0i8Lab5YAxi1o8klBQJeBsTd3KxWO58ImpxjWnLWJKjkuL3ozXE6luB6roUGOg=s64",
      "userId": "03076491501259095137"
     },
     "user_tz": -120
    },
    "id": "1465a694",
    "outputId": "8e3f18de-053e-46b8-ee23-970f55b75f28"
   },
   "outputs": [
    {
     "data": {
      "image/png": "[encoded data removed]",
      "text/plain": [
       "<Figure size 864x432 with 2 Axes>"
      ]
     },
     "metadata": {
      "needs_background": "light",
      "tags": []
     },
     "output_type": "display_data"
    }
   ],
   "source": [
    "plot_metrics(test_losses, test_accs)"
   ]
  },
  {
   "cell_type": "markdown",
   "id": "dc57fade",
   "metadata": {
    "id": "dc57fade"
   },
   "source": [
    "## 2. Experiments on MNIST Dataset"
   ]
  },
  {
   "cell_type": "code",
   "execution_count": 45,
   "id": "uwHtZ8MI69ld",
   "metadata": {
    "executionInfo": {
     "elapsed": 224,
     "status": "ok",
     "timestamp": 1623250976410,
     "user": {
      "displayName": "Jan Bauer",
      "photoUrl": "https://lh3.googleusercontent.com/a-/AOh14GjMoILSkoLiVLRc0LV33CL7HiqBQDBHd7s_S7yqS5E2Qp9tA6lGXFYADcKPen_-o_naHrXfx9GC1hLS0EkfWe6frsNHCxWniY0ffqOzXLhgfpMpOCe1X25M0qQuXNDsDbJYdXDgEOiCmCK52ugSHESn9My4pdOjNKtNJooFAJFNfNXrbhlunN6W9MU62DeQNySpUbR8Gq7srfh4ErEGHQnX2geoviJadz-aS4QD9XIZhF8Mc_2YxAe0yjbZ1Z_bj8ZEmvV-Ufsp5HyY5u6vEpkDI8YN1fxkAXhoOlJKEGRI9-eTREGq65dB7lVrM3mXUchuq-WsBUtf3Ac_bJTjdhTZPoX0V5I1sFV-APTe1CkSO1rsUdNCbF-E6_3Pk1WTUV5qpX26QE06NhDVxbvIAGsV4dxtQAacTtvBKwROHMi-EIM_qUnyajtL9vGnlhAlMi-oLgj12riiRPnc3_skIb0CJVfLpF5Y9g61k_vptdRG2Zlt7Yb_karqlsOyqPLs2GIaqplAoAkVGX_XDFT_jfKgI7OP-MlDY8zOxqFYAeyBWVOqluEW1b6rdqa9sCXavvsxiZ_OR1hd1VPsGoZExQgkYXxsqAsatlPgibqSk4U9P5giby_dItAeea2H5sZ2Xpf4WeinDYVNdWpGGFS0AndbdyWesmfin-EvkQicB17sjHNoA23dbHnto12XGUMgdAxOtlTC0i8Lab5YAxi1o8klBQJeBsTd3KxWO58ImpxjWnLWJKjkuL3ozXE6luB6roUGOg=s64",
      "userId": "03076491501259095137"
     },
     "user_tz": -120
    },
    "id": "uwHtZ8MI69ld"
   },
   "outputs": [],
   "source": [
    "data = 'MNIST'\n",
    "batch_size = 64"
   ]
  },
  {
   "cell_type": "code",
   "execution_count": 46,
   "id": "bf5b56f4",
   "metadata": {
    "executionInfo": {
     "elapsed": 241,
     "status": "ok",
     "timestamp": 1623250978050,
     "user": {
      "displayName": "Jan Bauer",
      "photoUrl": "https://lh3.googleusercontent.com/a-/AOh14GjMoILSkoLiVLRc0LV33CL7HiqBQDBHd7s_S7yqS5E2Qp9tA6lGXFYADcKPen_-o_naHrXfx9GC1hLS0EkfWe6frsNHCxWniY0ffqOzXLhgfpMpOCe1X25M0qQuXNDsDbJYdXDgEOiCmCK52ugSHESn9My4pdOjNKtNJooFAJFNfNXrbhlunN6W9MU62DeQNySpUbR8Gq7srfh4ErEGHQnX2geoviJadz-aS4QD9XIZhF8Mc_2YxAe0yjbZ1Z_bj8ZEmvV-Ufsp5HyY5u6vEpkDI8YN1fxkAXhoOlJKEGRI9-eTREGq65dB7lVrM3mXUchuq-WsBUtf3Ac_bJTjdhTZPoX0V5I1sFV-APTe1CkSO1rsUdNCbF-E6_3Pk1WTUV5qpX26QE06NhDVxbvIAGsV4dxtQAacTtvBKwROHMi-EIM_qUnyajtL9vGnlhAlMi-oLgj12riiRPnc3_skIb0CJVfLpF5Y9g61k_vptdRG2Zlt7Yb_karqlsOyqPLs2GIaqplAoAkVGX_XDFT_jfKgI7OP-MlDY8zOxqFYAeyBWVOqluEW1b6rdqa9sCXavvsxiZ_OR1hd1VPsGoZExQgkYXxsqAsatlPgibqSk4U9P5giby_dItAeea2H5sZ2Xpf4WeinDYVNdWpGGFS0AndbdyWesmfin-EvkQicB17sjHNoA23dbHnto12XGUMgdAxOtlTC0i8Lab5YAxi1o8klBQJeBsTd3KxWO58ImpxjWnLWJKjkuL3ozXE6luB6roUGOg=s64",
      "userId": "03076491501259095137"
     },
     "user_tz": -120
    },
    "id": "bf5b56f4"
   },
   "outputs": [],
   "source": [
    "# --- TRAINING PARAMETERS ---\n",
    "nr_clients = 3\n",
    "lr = 0.01\n",
    "client_epochs = 10 \n",
    "nr_training_rounds = 20\n",
    "is_parallel = True"
   ]
  },
  {
   "cell_type": "code",
   "execution_count": 47,
   "id": "635d74fa",
   "metadata": {
    "executionInfo": {
     "elapsed": 3,
     "status": "ok",
     "timestamp": 1623250979044,
     "user": {
      "displayName": "Jan Bauer",
      "photoUrl": "https://lh3.googleusercontent.com/a-/AOh14GjMoILSkoLiVLRc0LV33CL7HiqBQDBHd7s_S7yqS5E2Qp9tA6lGXFYADcKPen_-o_naHrXfx9GC1hLS0EkfWe6frsNHCxWniY0ffqOzXLhgfpMpOCe1X25M0qQuXNDsDbJYdXDgEOiCmCK52ugSHESn9My4pdOjNKtNJooFAJFNfNXrbhlunN6W9MU62DeQNySpUbR8Gq7srfh4ErEGHQnX2geoviJadz-aS4QD9XIZhF8Mc_2YxAe0yjbZ1Z_bj8ZEmvV-Ufsp5HyY5u6vEpkDI8YN1fxkAXhoOlJKEGRI9-eTREGq65dB7lVrM3mXUchuq-WsBUtf3Ac_bJTjdhTZPoX0V5I1sFV-APTe1CkSO1rsUdNCbF-E6_3Pk1WTUV5qpX26QE06NhDVxbvIAGsV4dxtQAacTtvBKwROHMi-EIM_qUnyajtL9vGnlhAlMi-oLgj12riiRPnc3_skIb0CJVfLpF5Y9g61k_vptdRG2Zlt7Yb_karqlsOyqPLs2GIaqplAoAkVGX_XDFT_jfKgI7OP-MlDY8zOxqFYAeyBWVOqluEW1b6rdqa9sCXavvsxiZ_OR1hd1VPsGoZExQgkYXxsqAsatlPgibqSk4U9P5giby_dItAeea2H5sZ2Xpf4WeinDYVNdWpGGFS0AndbdyWesmfin-EvkQicB17sjHNoA23dbHnto12XGUMgdAxOtlTC0i8Lab5YAxi1o8klBQJeBsTd3KxWO58ImpxjWnLWJKjkuL3ozXE6luB6roUGOg=s64",
      "userId": "03076491501259095137"
     },
     "user_tz": -120
    },
    "id": "635d74fa"
   },
   "outputs": [],
   "source": [
    "# --- DIFFERENTIAL PRIVACY PARAMETERS ---\n",
    "is_private = False\n",
    "max_grad_norm = 1.2\n",
    "epsilon = 5\n",
    "epsilon_training_iteration = epsilon / nr_training_rounds\n",
    "virtual_batch_size = 2 * batch_size\n",
    "assert virtual_batch_size % batch_size == 0  # VIRTUAL_BATCH_SIZE should be divisible by BATCH_SIZE\n",
    "n_accumulation_steps = int(virtual_batch_size / batch_size)"
   ]
  },
  {
   "cell_type": "code",
   "execution_count": 49,
   "id": "3835b253",
   "metadata": {
    "colab": {
     "base_uri": "https://localhost:8080/",
     "height": 710
    },
    "executionInfo": {
     "elapsed": 287310,
     "status": "error",
     "timestamp": 1623251445634,
     "user": {
      "displayName": "Jan Bauer",
      "photoUrl": "https://lh3.googleusercontent.com/a-/AOh14GjMoILSkoLiVLRc0LV33CL7HiqBQDBHd7s_S7yqS5E2Qp9tA6lGXFYADcKPen_-o_naHrXfx9GC1hLS0EkfWe6frsNHCxWniY0ffqOzXLhgfpMpOCe1X25M0qQuXNDsDbJYdXDgEOiCmCK52ugSHESn9My4pdOjNKtNJooFAJFNfNXrbhlunN6W9MU62DeQNySpUbR8Gq7srfh4ErEGHQnX2geoviJadz-aS4QD9XIZhF8Mc_2YxAe0yjbZ1Z_bj8ZEmvV-Ufsp5HyY5u6vEpkDI8YN1fxkAXhoOlJKEGRI9-eTREGq65dB7lVrM3mXUchuq-WsBUtf3Ac_bJTjdhTZPoX0V5I1sFV-APTe1CkSO1rsUdNCbF-E6_3Pk1WTUV5qpX26QE06NhDVxbvIAGsV4dxtQAacTtvBKwROHMi-EIM_qUnyajtL9vGnlhAlMi-oLgj12riiRPnc3_skIb0CJVfLpF5Y9g61k_vptdRG2Zlt7Yb_karqlsOyqPLs2GIaqplAoAkVGX_XDFT_jfKgI7OP-MlDY8zOxqFYAeyBWVOqluEW1b6rdqa9sCXavvsxiZ_OR1hd1VPsGoZExQgkYXxsqAsatlPgibqSk4U9P5giby_dItAeea2H5sZ2Xpf4WeinDYVNdWpGGFS0AndbdyWesmfin-EvkQicB17sjHNoA23dbHnto12XGUMgdAxOtlTC0i8Lab5YAxi1o8klBQJeBsTd3KxWO58ImpxjWnLWJKjkuL3ozXE6luB6roUGOg=s64",
      "userId": "03076491501259095137"
     },
     "user_tz": -120
    },
    "id": "3835b253",
    "outputId": "e8406ba3-44c8-4fd2-ad7a-f2d061ab83a9"
   },
   "outputs": [
    {
     "name": "stdout",
     "output_type": "stream",
     "text": [
      "--- Configuration ---\n",
      "nr_clients: 3\n",
      "nr_training_rounds: 20\n",
      "lr: 0.01\n",
      "epochs: 10\n",
      "data: MNIST\n",
      "batch_size: 64\n",
      "max_grad_norm: 1.2\n",
      "epsilon: 5\n",
      "n_accumulation_steps: 2\n",
      "epsilon_training_iteration: 0.25\n",
      "is_parallel: True\n",
      "is_private: False\n",
      "device: <class 'torch.device'>\n",
      "verbose: server\n",
      "MNIST\n",
      "True\n",
      "--- Training ---\n",
      "[Client 1]\tTrain Epoch: 1\tLoss: 0.3555\n",
      "[Client 0]\tTrain Epoch: 1\tLoss: 0.2953\n",
      "[Client 2]\tTrain Epoch: 1\tLoss: 0.2914\n"
     ]
    },
    {
     "ename": "KeyboardInterrupt",
     "evalue": "ignored",
     "output_type": "error",
     "traceback": [
      "\u001b[0;31m---------------------------------------------------------------------------\u001b[0m",
      "\u001b[0;31mKeyboardInterrupt\u001b[0m                         Traceback (most recent call last)",
      "\u001b[0;32m<ipython-input-49-c977594c4414>\u001b[0m in \u001b[0;36m<module>\u001b[0;34m()\u001b[0m\n\u001b[1;32m      1\u001b[0m \u001b[0mserver\u001b[0m \u001b[0;34m=\u001b[0m \u001b[0mServer\u001b[0m\u001b[0;34m(\u001b[0m\u001b[0mnr_clients\u001b[0m\u001b[0;34m=\u001b[0m\u001b[0mnr_clients\u001b[0m\u001b[0;34m,\u001b[0m \u001b[0mnr_training_rounds\u001b[0m\u001b[0;34m=\u001b[0m\u001b[0mnr_training_rounds\u001b[0m\u001b[0;34m,\u001b[0m \u001b[0mlr\u001b[0m\u001b[0;34m=\u001b[0m\u001b[0mlr\u001b[0m\u001b[0;34m,\u001b[0m \u001b[0mepochs\u001b[0m\u001b[0;34m=\u001b[0m\u001b[0mclient_epochs\u001b[0m\u001b[0;34m,\u001b[0m \u001b[0mdata\u001b[0m\u001b[0;34m=\u001b[0m\u001b[0mdata\u001b[0m\u001b[0;34m,\u001b[0m \u001b[0mbatch_size\u001b[0m\u001b[0;34m=\u001b[0m\u001b[0mbatch_size\u001b[0m\u001b[0;34m,\u001b[0m \u001b[0mmax_grad_norm\u001b[0m\u001b[0;34m=\u001b[0m\u001b[0mmax_grad_norm\u001b[0m\u001b[0;34m,\u001b[0m \u001b[0mepsilon\u001b[0m\u001b[0;34m=\u001b[0m\u001b[0mepsilon\u001b[0m\u001b[0;34m,\u001b[0m \u001b[0mn_accumulation_steps\u001b[0m\u001b[0;34m=\u001b[0m\u001b[0mn_accumulation_steps\u001b[0m\u001b[0;34m,\u001b[0m \u001b[0mepsilon_training_iteration\u001b[0m\u001b[0;34m=\u001b[0m\u001b[0mepsilon_training_iteration\u001b[0m\u001b[0;34m,\u001b[0m \u001b[0mis_parallel\u001b[0m\u001b[0;34m=\u001b[0m\u001b[0mis_parallel\u001b[0m\u001b[0;34m,\u001b[0m \u001b[0mis_private\u001b[0m\u001b[0;34m=\u001b[0m\u001b[0mis_private\u001b[0m\u001b[0;34m,\u001b[0m \u001b[0mverbose\u001b[0m\u001b[0;34m=\u001b[0m\u001b[0;34m\"server\"\u001b[0m\u001b[0;34m)\u001b[0m\u001b[0;34m\u001b[0m\u001b[0;34m\u001b[0m\u001b[0m\n\u001b[0;32m----> 2\u001b[0;31m \u001b[0mtest_losses\u001b[0m\u001b[0;34m,\u001b[0m \u001b[0mtest_accs\u001b[0m \u001b[0;34m=\u001b[0m \u001b[0mserver\u001b[0m\u001b[0;34m(\u001b[0m\u001b[0mearly\u001b[0m\u001b[0;34m=\u001b[0m\u001b[0;32mTrue\u001b[0m\u001b[0;34m,\u001b[0m \u001b[0mpatience\u001b[0m\u001b[0;34m=\u001b[0m\u001b[0;36m5\u001b[0m\u001b[0;34m,\u001b[0m \u001b[0mdelta\u001b[0m\u001b[0;34m=\u001b[0m\u001b[0;36m0.05\u001b[0m\u001b[0;34m)\u001b[0m\u001b[0;34m\u001b[0m\u001b[0;34m\u001b[0m\u001b[0m\n\u001b[0m",
      "\u001b[0;32m/content/gdrive/My Drive/OPT4ML/src/server.py\u001b[0m in \u001b[0;36m__call__\u001b[0;34m(self, early, patience, delta)\u001b[0m\n\u001b[1;32m    182\u001b[0m         \u001b[0mtest_accs\u001b[0m \u001b[0;34m=\u001b[0m \u001b[0;34m[\u001b[0m\u001b[0;34m]\u001b[0m\u001b[0;34m\u001b[0m\u001b[0;34m\u001b[0m\u001b[0m\n\u001b[1;32m    183\u001b[0m         \u001b[0;32mfor\u001b[0m \u001b[0mtraining_round\u001b[0m \u001b[0;32min\u001b[0m \u001b[0mrange\u001b[0m\u001b[0;34m(\u001b[0m\u001b[0mself\u001b[0m\u001b[0;34m.\u001b[0m\u001b[0mnr_training_rounds\u001b[0m\u001b[0;34m)\u001b[0m\u001b[0;34m:\u001b[0m\u001b[0;34m\u001b[0m\u001b[0;34m\u001b[0m\u001b[0m\n\u001b[0;32m--> 184\u001b[0;31m             \u001b[0mtest_loss\u001b[0m\u001b[0;34m,\u001b[0m \u001b[0mtest_acc\u001b[0m \u001b[0;34m=\u001b[0m \u001b[0mself\u001b[0m\u001b[0;34m.\u001b[0m\u001b[0mglobal_update\u001b[0m\u001b[0;34m(\u001b[0m\u001b[0;34m)\u001b[0m\u001b[0;34m\u001b[0m\u001b[0;34m\u001b[0m\u001b[0m\n\u001b[0m\u001b[1;32m    185\u001b[0m             \u001b[0;32mif\u001b[0m \u001b[0mself\u001b[0m\u001b[0;34m.\u001b[0m\u001b[0mverbose\u001b[0m\u001b[0;34m:\u001b[0m \u001b[0mprint\u001b[0m\u001b[0;34m(\u001b[0m\u001b[0;34mf\"Round {training_round + 1}, test_loss: {test_loss:.4f}, test_acc: {test_acc}\"\u001b[0m\u001b[0;34m)\u001b[0m\u001b[0;34m\u001b[0m\u001b[0;34m\u001b[0m\u001b[0m\n\u001b[1;32m    186\u001b[0m             \u001b[0mtest_losses\u001b[0m\u001b[0;34m.\u001b[0m\u001b[0mappend\u001b[0m\u001b[0;34m(\u001b[0m\u001b[0mtest_loss\u001b[0m\u001b[0;34m)\u001b[0m\u001b[0;34m\u001b[0m\u001b[0;34m\u001b[0m\u001b[0m\n",
      "\u001b[0;32m/content/gdrive/My Drive/OPT4ML/src/server.py\u001b[0m in \u001b[0;36mglobal_update\u001b[0;34m(self)\u001b[0m\n\u001b[1;32m    161\u001b[0m                 \u001b[0mthreads\u001b[0m\u001b[0;34m.\u001b[0m\u001b[0mappend\u001b[0m\u001b[0;34m(\u001b[0m\u001b[0mt\u001b[0m\u001b[0;34m)\u001b[0m\u001b[0;34m\u001b[0m\u001b[0;34m\u001b[0m\u001b[0m\n\u001b[1;32m    162\u001b[0m             \u001b[0;32mfor\u001b[0m \u001b[0mt\u001b[0m \u001b[0;32min\u001b[0m \u001b[0mthreads\u001b[0m\u001b[0;34m:\u001b[0m\u001b[0;34m\u001b[0m\u001b[0;34m\u001b[0m\u001b[0m\n\u001b[0;32m--> 163\u001b[0;31m                 \u001b[0mt\u001b[0m\u001b[0;34m.\u001b[0m\u001b[0mjoin\u001b[0m\u001b[0;34m(\u001b[0m\u001b[0;34m)\u001b[0m\u001b[0;34m\u001b[0m\u001b[0;34m\u001b[0m\u001b[0m\n\u001b[0m\u001b[1;32m    164\u001b[0m         \u001b[0;32melse\u001b[0m\u001b[0;34m:\u001b[0m\u001b[0;34m\u001b[0m\u001b[0;34m\u001b[0m\u001b[0m\n\u001b[1;32m    165\u001b[0m             \u001b[0;32mfor\u001b[0m \u001b[0mclient_id\u001b[0m \u001b[0;32min\u001b[0m \u001b[0mclient_ids\u001b[0m\u001b[0;34m:\u001b[0m\u001b[0;34m\u001b[0m\u001b[0;34m\u001b[0m\u001b[0m\n",
      "\u001b[0;32m/usr/lib/python3.7/threading.py\u001b[0m in \u001b[0;36mjoin\u001b[0;34m(self, timeout)\u001b[0m\n\u001b[1;32m   1042\u001b[0m \u001b[0;34m\u001b[0m\u001b[0m\n\u001b[1;32m   1043\u001b[0m         \u001b[0;32mif\u001b[0m \u001b[0mtimeout\u001b[0m \u001b[0;32mis\u001b[0m \u001b[0;32mNone\u001b[0m\u001b[0;34m:\u001b[0m\u001b[0;34m\u001b[0m\u001b[0;34m\u001b[0m\u001b[0m\n\u001b[0;32m-> 1044\u001b[0;31m             \u001b[0mself\u001b[0m\u001b[0;34m.\u001b[0m\u001b[0m_wait_for_tstate_lock\u001b[0m\u001b[0;34m(\u001b[0m\u001b[0;34m)\u001b[0m\u001b[0;34m\u001b[0m\u001b[0;34m\u001b[0m\u001b[0m\n\u001b[0m\u001b[1;32m   1045\u001b[0m         \u001b[0;32melse\u001b[0m\u001b[0;34m:\u001b[0m\u001b[0;34m\u001b[0m\u001b[0;34m\u001b[0m\u001b[0m\n\u001b[1;32m   1046\u001b[0m             \u001b[0;31m# the behavior of a negative timeout isn't documented, but\u001b[0m\u001b[0;34m\u001b[0m\u001b[0;34m\u001b[0m\u001b[0;34m\u001b[0m\u001b[0m\n",
      "\u001b[0;32m/usr/lib/python3.7/threading.py\u001b[0m in \u001b[0;36m_wait_for_tstate_lock\u001b[0;34m(self, block, timeout)\u001b[0m\n\u001b[1;32m   1058\u001b[0m         \u001b[0;32mif\u001b[0m \u001b[0mlock\u001b[0m \u001b[0;32mis\u001b[0m \u001b[0;32mNone\u001b[0m\u001b[0;34m:\u001b[0m  \u001b[0;31m# already determined that the C code is done\u001b[0m\u001b[0;34m\u001b[0m\u001b[0;34m\u001b[0m\u001b[0m\n\u001b[1;32m   1059\u001b[0m             \u001b[0;32massert\u001b[0m \u001b[0mself\u001b[0m\u001b[0;34m.\u001b[0m\u001b[0m_is_stopped\u001b[0m\u001b[0;34m\u001b[0m\u001b[0;34m\u001b[0m\u001b[0m\n\u001b[0;32m-> 1060\u001b[0;31m         \u001b[0;32melif\u001b[0m \u001b[0mlock\u001b[0m\u001b[0;34m.\u001b[0m\u001b[0macquire\u001b[0m\u001b[0;34m(\u001b[0m\u001b[0mblock\u001b[0m\u001b[0;34m,\u001b[0m \u001b[0mtimeout\u001b[0m\u001b[0;34m)\u001b[0m\u001b[0;34m:\u001b[0m\u001b[0;34m\u001b[0m\u001b[0;34m\u001b[0m\u001b[0m\n\u001b[0m\u001b[1;32m   1061\u001b[0m             \u001b[0mlock\u001b[0m\u001b[0;34m.\u001b[0m\u001b[0mrelease\u001b[0m\u001b[0;34m(\u001b[0m\u001b[0;34m)\u001b[0m\u001b[0;34m\u001b[0m\u001b[0;34m\u001b[0m\u001b[0m\n\u001b[1;32m   1062\u001b[0m             \u001b[0mself\u001b[0m\u001b[0;34m.\u001b[0m\u001b[0m_stop\u001b[0m\u001b[0;34m(\u001b[0m\u001b[0;34m)\u001b[0m\u001b[0;34m\u001b[0m\u001b[0;34m\u001b[0m\u001b[0m\n",
      "\u001b[0;31mKeyboardInterrupt\u001b[0m: "
     ]
    }
   ],
   "source": [
    "server = Server(nr_clients=nr_clients, nr_training_rounds=nr_training_rounds, lr=lr, epochs=client_epochs, data=data, batch_size=batch_size, max_grad_norm=max_grad_norm, epsilon=epsilon, n_accumulation_steps=n_accumulation_steps, epsilon_training_iteration=epsilon_training_iteration, is_parallel=is_parallel, is_private=is_private, verbose=\"server\")\n",
    "test_losses, test_accs = server(early=True, patience=5, delta=0.05)"
   ]
  },
  {
   "cell_type": "code",
   "execution_count": null,
   "id": "5a55c61a",
   "metadata": {
    "id": "5a55c61a",
    "outputId": "ec502a0c-6981-4f85-b99f-1587af913259"
   },
   "outputs": [
    {
     "data": {
      "image/png": "[encoded data removed]",
      "text/plain": [
       "<Figure size 864x432 with 2 Axes>"
      ]
     },
     "metadata": {
      "needs_background": "light",
      "tags": []
     },
     "output_type": "display_data"
    }
   ],
   "source": [
    "plot_metrics(test_losses, test_accs)"
   ]
  },
  {
   "cell_type": "code",
   "execution_count": 38,
   "id": "sweFlu_wRlQ3",
   "metadata": {
    "colab": {
     "base_uri": "https://localhost:8080/",
     "height": 957
    },
    "executionInfo": {
     "elapsed": 245,
     "status": "error",
     "timestamp": 1623250611657,
     "user": {
      "displayName": "Jan Bauer",
      "photoUrl": "https://lh3.googleusercontent.com/a-/AOh14GjMoILSkoLiVLRc0LV33CL7HiqBQDBHd7s_S7yqS5E2Qp9tA6lGXFYADcKPen_-o_naHrXfx9GC1hLS0EkfWe6frsNHCxWniY0ffqOzXLhgfpMpOCe1X25M0qQuXNDsDbJYdXDgEOiCmCK52ugSHESn9My4pdOjNKtNJooFAJFNfNXrbhlunN6W9MU62DeQNySpUbR8Gq7srfh4ErEGHQnX2geoviJadz-aS4QD9XIZhF8Mc_2YxAe0yjbZ1Z_bj8ZEmvV-Ufsp5HyY5u6vEpkDI8YN1fxkAXhoOlJKEGRI9-eTREGq65dB7lVrM3mXUchuq-WsBUtf3Ac_bJTjdhTZPoX0V5I1sFV-APTe1CkSO1rsUdNCbF-E6_3Pk1WTUV5qpX26QE06NhDVxbvIAGsV4dxtQAacTtvBKwROHMi-EIM_qUnyajtL9vGnlhAlMi-oLgj12riiRPnc3_skIb0CJVfLpF5Y9g61k_vptdRG2Zlt7Yb_karqlsOyqPLs2GIaqplAoAkVGX_XDFT_jfKgI7OP-MlDY8zOxqFYAeyBWVOqluEW1b6rdqa9sCXavvsxiZ_OR1hd1VPsGoZExQgkYXxsqAsatlPgibqSk4U9P5giby_dItAeea2H5sZ2Xpf4WeinDYVNdWpGGFS0AndbdyWesmfin-EvkQicB17sjHNoA23dbHnto12XGUMgdAxOtlTC0i8Lab5YAxi1o8klBQJeBsTd3KxWO58ImpxjWnLWJKjkuL3ozXE6luB6roUGOg=s64",
      "userId": "03076491501259095137"
     },
     "user_tz": -120
    },
    "id": "sweFlu_wRlQ3",
    "outputId": "a48c559b-a1bc-4892-8586-d063333fe5c8"
   },
   "outputs": [
    {
     "name": "stdout",
     "output_type": "stream",
     "text": [
      "--- Configuration ---\n",
      "nr_clients: 3\n",
      "nr_training_rounds: 20\n",
      "lr: 0.01\n",
      "epochs: 2\n",
      "data: FEMNIST\n",
      "batch_size: 64\n",
      "max_grad_norm: 1.2\n",
      "epsilon: 5\n",
      "n_accumulation_steps: 2\n",
      "epsilon_training_iteration: 0.25\n",
      "is_parallel: True\n",
      "is_private: False\n",
      "device: <class 'torch.device'>\n",
      "verbose: all\n",
      "FEMNIST\n",
      "False\n",
      "--- Loading Data ---\n"
     ]
    },
    {
     "ename": "ValueError",
     "evalue": "ignored",
     "output_type": "error",
     "traceback": [
      "\u001b[0;31m---------------------------------------------------------------------------\u001b[0m",
      "\u001b[0;31mTypeError\u001b[0m                                 Traceback (most recent call last)",
      "\u001b[0;32mpandas/_libs/parsers.pyx\u001b[0m in \u001b[0;36mpandas._libs.parsers.TextReader._convert_tokens\u001b[0;34m()\u001b[0m\n",
      "\u001b[0;31mTypeError\u001b[0m: Cannot cast array data from dtype('O') to dtype('float64') according to the rule 'safe'",
      "\nDuring handling of the above exception, another exception occurred:\n",
      "\u001b[0;31mValueError\u001b[0m                                Traceback (most recent call last)",
      "\u001b[0;32m<ipython-input-38-e5ba1bc33e31>\u001b[0m in \u001b[0;36m<module>\u001b[0;34m()\u001b[0m\n\u001b[0;32m----> 1\u001b[0;31m \u001b[0mserver\u001b[0m \u001b[0;34m=\u001b[0m \u001b[0mServer\u001b[0m\u001b[0;34m(\u001b[0m\u001b[0mnr_clients\u001b[0m\u001b[0;34m=\u001b[0m\u001b[0mnr_clients\u001b[0m\u001b[0;34m,\u001b[0m \u001b[0mnr_training_rounds\u001b[0m\u001b[0;34m=\u001b[0m\u001b[0mnr_training_rounds\u001b[0m\u001b[0;34m,\u001b[0m \u001b[0mlr\u001b[0m\u001b[0;34m=\u001b[0m\u001b[0mlr\u001b[0m\u001b[0;34m,\u001b[0m \u001b[0mepochs\u001b[0m\u001b[0;34m=\u001b[0m\u001b[0mclient_epochs\u001b[0m\u001b[0;34m,\u001b[0m \u001b[0mdata\u001b[0m\u001b[0;34m=\u001b[0m\u001b[0mdata\u001b[0m\u001b[0;34m,\u001b[0m \u001b[0mbatch_size\u001b[0m\u001b[0;34m=\u001b[0m\u001b[0mbatch_size\u001b[0m\u001b[0;34m,\u001b[0m \u001b[0mmax_grad_norm\u001b[0m\u001b[0;34m=\u001b[0m\u001b[0mmax_grad_norm\u001b[0m\u001b[0;34m,\u001b[0m \u001b[0mepsilon\u001b[0m\u001b[0;34m=\u001b[0m\u001b[0mepsilon\u001b[0m\u001b[0;34m,\u001b[0m \u001b[0mn_accumulation_steps\u001b[0m\u001b[0;34m=\u001b[0m\u001b[0mn_accumulation_steps\u001b[0m\u001b[0;34m,\u001b[0m \u001b[0mepsilon_training_iteration\u001b[0m\u001b[0;34m=\u001b[0m\u001b[0mepsilon_training_iteration\u001b[0m\u001b[0;34m,\u001b[0m \u001b[0mis_parallel\u001b[0m\u001b[0;34m=\u001b[0m\u001b[0mis_parallel\u001b[0m\u001b[0;34m,\u001b[0m \u001b[0mdevice\u001b[0m\u001b[0;34m=\u001b[0m\u001b[0mdevice\u001b[0m\u001b[0;34m,\u001b[0m \u001b[0mis_private\u001b[0m\u001b[0;34m=\u001b[0m\u001b[0mis_private\u001b[0m\u001b[0;34m)\u001b[0m\u001b[0;34m\u001b[0m\u001b[0;34m\u001b[0m\u001b[0m\n\u001b[0m\u001b[1;32m      2\u001b[0m \u001b[0mtest_losses\u001b[0m\u001b[0;34m,\u001b[0m \u001b[0mtest_accs\u001b[0m \u001b[0;34m=\u001b[0m \u001b[0mserver\u001b[0m\u001b[0;34m(\u001b[0m\u001b[0mearly\u001b[0m\u001b[0;34m=\u001b[0m\u001b[0;32mTrue\u001b[0m\u001b[0;34m,\u001b[0m \u001b[0mpatience\u001b[0m\u001b[0;34m=\u001b[0m\u001b[0;36m5\u001b[0m\u001b[0;34m,\u001b[0m \u001b[0mdelta\u001b[0m\u001b[0;34m=\u001b[0m\u001b[0;36m0.05\u001b[0m\u001b[0;34m)\u001b[0m\u001b[0;34m\u001b[0m\u001b[0;34m\u001b[0m\u001b[0m\n",
      "\u001b[0;32m/content/gdrive/My Drive/OPT4ML/src/server.py\u001b[0m in \u001b[0;36m__init__\u001b[0;34m(self, nr_clients, nr_training_rounds, lr, epochs, data, batch_size, max_grad_norm, epsilon, n_accumulation_steps, epsilon_training_iteration, is_private, is_parallel, device, verbose)\u001b[0m\n\u001b[1;32m     65\u001b[0m             \u001b[0mmodel\u001b[0m \u001b[0;34m=\u001b[0m \u001b[0mCNN\u001b[0m\u001b[0;34m(\u001b[0m\u001b[0;34m)\u001b[0m\u001b[0;34m\u001b[0m\u001b[0;34m\u001b[0m\u001b[0m\n\u001b[1;32m     66\u001b[0m         \u001b[0;32melif\u001b[0m \u001b[0mself\u001b[0m\u001b[0;34m.\u001b[0m\u001b[0mdata\u001b[0m \u001b[0;34m==\u001b[0m \u001b[0;34m'FEMNIST'\u001b[0m\u001b[0;34m:\u001b[0m\u001b[0;34m\u001b[0m\u001b[0;34m\u001b[0m\u001b[0m\n\u001b[0;32m---> 67\u001b[0;31m             \u001b[0mdata_obj\u001b[0m \u001b[0;34m=\u001b[0m \u001b[0mFEMNIST\u001b[0m\u001b[0;34m(\u001b[0m\u001b[0mnr_clients\u001b[0m\u001b[0;34m=\u001b[0m\u001b[0mself\u001b[0m\u001b[0;34m.\u001b[0m\u001b[0mnr_clients\u001b[0m\u001b[0;34m,\u001b[0m \u001b[0mbatch_size\u001b[0m\u001b[0;34m=\u001b[0m\u001b[0mbatch_size\u001b[0m\u001b[0;34m,\u001b[0m \u001b[0mdevice\u001b[0m\u001b[0;34m=\u001b[0m\u001b[0mdevice\u001b[0m\u001b[0;34m)\u001b[0m\u001b[0;34m\u001b[0m\u001b[0;34m\u001b[0m\u001b[0m\n\u001b[0m\u001b[1;32m     68\u001b[0m             \u001b[0mloss\u001b[0m \u001b[0;34m=\u001b[0m \u001b[0mnn\u001b[0m\u001b[0;34m.\u001b[0m\u001b[0mNLLLoss\u001b[0m\u001b[0;34m(\u001b[0m\u001b[0;34m)\u001b[0m\u001b[0;34m\u001b[0m\u001b[0;34m\u001b[0m\u001b[0m\n\u001b[1;32m     69\u001b[0m             \u001b[0mmodel\u001b[0m \u001b[0;34m=\u001b[0m \u001b[0mCNN\u001b[0m\u001b[0;34m(\u001b[0m\u001b[0;34m)\u001b[0m\u001b[0;34m.\u001b[0m\u001b[0mto\u001b[0m\u001b[0;34m(\u001b[0m\u001b[0mtorch\u001b[0m\u001b[0;34m.\u001b[0m\u001b[0mfloat\u001b[0m\u001b[0;34m)\u001b[0m\u001b[0;34m\u001b[0m\u001b[0;34m\u001b[0m\u001b[0m\n",
      "\u001b[0;32m/content/gdrive/My Drive/OPT4ML/src/data.py\u001b[0m in \u001b[0;36m__init__\u001b[0;34m(self, nr_clients, batch_size, device)\u001b[0m\n\u001b[1;32m     84\u001b[0m         \u001b[0mprint\u001b[0m\u001b[0;34m(\u001b[0m\u001b[0;34m\"--- Loading Data ---\"\u001b[0m\u001b[0;34m)\u001b[0m\u001b[0;34m\u001b[0m\u001b[0;34m\u001b[0m\u001b[0m\n\u001b[1;32m     85\u001b[0m         \u001b[0mdata_path\u001b[0m \u001b[0;34m=\u001b[0m \u001b[0;34m'./data/FEMNIST/test.csv'\u001b[0m\u001b[0;34m\u001b[0m\u001b[0;34m\u001b[0m\u001b[0m\n\u001b[0;32m---> 86\u001b[0;31m         \u001b[0mdata\u001b[0m \u001b[0;34m=\u001b[0m \u001b[0mpd\u001b[0m\u001b[0;34m.\u001b[0m\u001b[0mread_csv\u001b[0m\u001b[0;34m(\u001b[0m\u001b[0mdata_path\u001b[0m\u001b[0;34m,\u001b[0m \u001b[0mdtype\u001b[0m\u001b[0;34m=\u001b[0m\u001b[0;34m[\u001b[0m\u001b[0;34m(\u001b[0m\u001b[0;34m'id'\u001b[0m\u001b[0;34m,\u001b[0m \u001b[0mnp\u001b[0m\u001b[0;34m.\u001b[0m\u001b[0mdouble\u001b[0m\u001b[0;34m)\u001b[0m\u001b[0;34m,\u001b[0m \u001b[0;34m(\u001b[0m\u001b[0;34m'X'\u001b[0m\u001b[0;34m,\u001b[0m \u001b[0mstr\u001b[0m\u001b[0;34m)\u001b[0m\u001b[0;34m,\u001b[0m \u001b[0;34m(\u001b[0m\u001b[0;34m'y'\u001b[0m\u001b[0;34m,\u001b[0m \u001b[0mint\u001b[0m\u001b[0;34m)\u001b[0m\u001b[0;34m]\u001b[0m\u001b[0;34m)\u001b[0m\u001b[0;34m\u001b[0m\u001b[0;34m\u001b[0m\u001b[0m\n\u001b[0m\u001b[1;32m     87\u001b[0m         \u001b[0;31m# Convert string encoded X into numpy array\u001b[0m\u001b[0;34m\u001b[0m\u001b[0;34m\u001b[0m\u001b[0;34m\u001b[0m\u001b[0m\n\u001b[1;32m     88\u001b[0m         \u001b[0mdata\u001b[0m\u001b[0;34m[\u001b[0m\u001b[0;34m'X'\u001b[0m\u001b[0;34m]\u001b[0m \u001b[0;34m=\u001b[0m \u001b[0mdata\u001b[0m\u001b[0;34m[\u001b[0m\u001b[0;34m'X'\u001b[0m\u001b[0;34m]\u001b[0m\u001b[0;34m.\u001b[0m\u001b[0mapply\u001b[0m\u001b[0;34m(\u001b[0m\u001b[0;32mlambda\u001b[0m \u001b[0mstring\u001b[0m\u001b[0;34m:\u001b[0m \u001b[0mnp\u001b[0m\u001b[0;34m.\u001b[0m\u001b[0mfromstring\u001b[0m\u001b[0;34m(\u001b[0m\u001b[0mstring\u001b[0m\u001b[0;34m[\u001b[0m\u001b[0;36m1\u001b[0m\u001b[0;34m:\u001b[0m\u001b[0;34m-\u001b[0m\u001b[0;36m1\u001b[0m\u001b[0;34m]\u001b[0m\u001b[0;34m,\u001b[0m \u001b[0msep\u001b[0m\u001b[0;34m=\u001b[0m\u001b[0;34m', '\u001b[0m\u001b[0;34m,\u001b[0m \u001b[0mdtype\u001b[0m\u001b[0;34m=\u001b[0m\u001b[0mnp\u001b[0m\u001b[0;34m.\u001b[0m\u001b[0mfloat\u001b[0m\u001b[0;34m)\u001b[0m\u001b[0;34m)\u001b[0m\u001b[0;34m\u001b[0m\u001b[0;34m\u001b[0m\u001b[0m\n",
      "\u001b[0;32m/usr/local/lib/python3.7/dist-packages/pandas/io/parsers.py\u001b[0m in \u001b[0;36mread_csv\u001b[0;34m(filepath_or_buffer, sep, delimiter, header, names, index_col, usecols, squeeze, prefix, mangle_dupe_cols, dtype, engine, converters, true_values, false_values, skipinitialspace, skiprows, skipfooter, nrows, na_values, keep_default_na, na_filter, verbose, skip_blank_lines, parse_dates, infer_datetime_format, keep_date_col, date_parser, dayfirst, cache_dates, iterator, chunksize, compression, thousands, decimal, lineterminator, quotechar, quoting, doublequote, escapechar, comment, encoding, dialect, error_bad_lines, warn_bad_lines, delim_whitespace, low_memory, memory_map, float_precision, storage_options)\u001b[0m\n\u001b[1;32m    608\u001b[0m     \u001b[0mkwds\u001b[0m\u001b[0;34m.\u001b[0m\u001b[0mupdate\u001b[0m\u001b[0;34m(\u001b[0m\u001b[0mkwds_defaults\u001b[0m\u001b[0;34m)\u001b[0m\u001b[0;34m\u001b[0m\u001b[0;34m\u001b[0m\u001b[0m\n\u001b[1;32m    609\u001b[0m \u001b[0;34m\u001b[0m\u001b[0m\n\u001b[0;32m--> 610\u001b[0;31m     \u001b[0;32mreturn\u001b[0m \u001b[0m_read\u001b[0m\u001b[0;34m(\u001b[0m\u001b[0mfilepath_or_buffer\u001b[0m\u001b[0;34m,\u001b[0m \u001b[0mkwds\u001b[0m\u001b[0;34m)\u001b[0m\u001b[0;34m\u001b[0m\u001b[0;34m\u001b[0m\u001b[0m\n\u001b[0m\u001b[1;32m    611\u001b[0m \u001b[0;34m\u001b[0m\u001b[0m\n\u001b[1;32m    612\u001b[0m \u001b[0;34m\u001b[0m\u001b[0m\n",
      "\u001b[0;32m/usr/local/lib/python3.7/dist-packages/pandas/io/parsers.py\u001b[0m in \u001b[0;36m_read\u001b[0;34m(filepath_or_buffer, kwds)\u001b[0m\n\u001b[1;32m    466\u001b[0m \u001b[0;34m\u001b[0m\u001b[0m\n\u001b[1;32m    467\u001b[0m     \u001b[0;32mwith\u001b[0m \u001b[0mparser\u001b[0m\u001b[0;34m:\u001b[0m\u001b[0;34m\u001b[0m\u001b[0;34m\u001b[0m\u001b[0m\n\u001b[0;32m--> 468\u001b[0;31m         \u001b[0;32mreturn\u001b[0m \u001b[0mparser\u001b[0m\u001b[0;34m.\u001b[0m\u001b[0mread\u001b[0m\u001b[0;34m(\u001b[0m\u001b[0mnrows\u001b[0m\u001b[0;34m)\u001b[0m\u001b[0;34m\u001b[0m\u001b[0;34m\u001b[0m\u001b[0m\n\u001b[0m\u001b[1;32m    469\u001b[0m \u001b[0;34m\u001b[0m\u001b[0m\n\u001b[1;32m    470\u001b[0m \u001b[0;34m\u001b[0m\u001b[0m\n",
      "\u001b[0;32m/usr/local/lib/python3.7/dist-packages/pandas/io/parsers.py\u001b[0m in \u001b[0;36mread\u001b[0;34m(self, nrows)\u001b[0m\n\u001b[1;32m   1055\u001b[0m     \u001b[0;32mdef\u001b[0m \u001b[0mread\u001b[0m\u001b[0;34m(\u001b[0m\u001b[0mself\u001b[0m\u001b[0;34m,\u001b[0m \u001b[0mnrows\u001b[0m\u001b[0;34m=\u001b[0m\u001b[0;32mNone\u001b[0m\u001b[0;34m)\u001b[0m\u001b[0;34m:\u001b[0m\u001b[0;34m\u001b[0m\u001b[0;34m\u001b[0m\u001b[0m\n\u001b[1;32m   1056\u001b[0m         \u001b[0mnrows\u001b[0m \u001b[0;34m=\u001b[0m \u001b[0mvalidate_integer\u001b[0m\u001b[0;34m(\u001b[0m\u001b[0;34m\"nrows\"\u001b[0m\u001b[0;34m,\u001b[0m \u001b[0mnrows\u001b[0m\u001b[0;34m)\u001b[0m\u001b[0;34m\u001b[0m\u001b[0;34m\u001b[0m\u001b[0m\n\u001b[0;32m-> 1057\u001b[0;31m         \u001b[0mindex\u001b[0m\u001b[0;34m,\u001b[0m \u001b[0mcolumns\u001b[0m\u001b[0;34m,\u001b[0m \u001b[0mcol_dict\u001b[0m \u001b[0;34m=\u001b[0m \u001b[0mself\u001b[0m\u001b[0;34m.\u001b[0m\u001b[0m_engine\u001b[0m\u001b[0;34m.\u001b[0m\u001b[0mread\u001b[0m\u001b[0;34m(\u001b[0m\u001b[0mnrows\u001b[0m\u001b[0;34m)\u001b[0m\u001b[0;34m\u001b[0m\u001b[0;34m\u001b[0m\u001b[0m\n\u001b[0m\u001b[1;32m   1058\u001b[0m \u001b[0;34m\u001b[0m\u001b[0m\n\u001b[1;32m   1059\u001b[0m         \u001b[0;32mif\u001b[0m \u001b[0mindex\u001b[0m \u001b[0;32mis\u001b[0m \u001b[0;32mNone\u001b[0m\u001b[0;34m:\u001b[0m\u001b[0;34m\u001b[0m\u001b[0;34m\u001b[0m\u001b[0m\n",
      "\u001b[0;32m/usr/local/lib/python3.7/dist-packages/pandas/io/parsers.py\u001b[0m in \u001b[0;36mread\u001b[0;34m(self, nrows)\u001b[0m\n\u001b[1;32m   2059\u001b[0m     \u001b[0;32mdef\u001b[0m \u001b[0mread\u001b[0m\u001b[0;34m(\u001b[0m\u001b[0mself\u001b[0m\u001b[0;34m,\u001b[0m \u001b[0mnrows\u001b[0m\u001b[0;34m=\u001b[0m\u001b[0;32mNone\u001b[0m\u001b[0;34m)\u001b[0m\u001b[0;34m:\u001b[0m\u001b[0;34m\u001b[0m\u001b[0;34m\u001b[0m\u001b[0m\n\u001b[1;32m   2060\u001b[0m         \u001b[0;32mtry\u001b[0m\u001b[0;34m:\u001b[0m\u001b[0;34m\u001b[0m\u001b[0;34m\u001b[0m\u001b[0m\n\u001b[0;32m-> 2061\u001b[0;31m             \u001b[0mdata\u001b[0m \u001b[0;34m=\u001b[0m \u001b[0mself\u001b[0m\u001b[0;34m.\u001b[0m\u001b[0m_reader\u001b[0m\u001b[0;34m.\u001b[0m\u001b[0mread\u001b[0m\u001b[0;34m(\u001b[0m\u001b[0mnrows\u001b[0m\u001b[0;34m)\u001b[0m\u001b[0;34m\u001b[0m\u001b[0;34m\u001b[0m\u001b[0m\n\u001b[0m\u001b[1;32m   2062\u001b[0m         \u001b[0;32mexcept\u001b[0m \u001b[0mStopIteration\u001b[0m\u001b[0;34m:\u001b[0m\u001b[0;34m\u001b[0m\u001b[0;34m\u001b[0m\u001b[0m\n\u001b[1;32m   2063\u001b[0m             \u001b[0;32mif\u001b[0m \u001b[0mself\u001b[0m\u001b[0;34m.\u001b[0m\u001b[0m_first_chunk\u001b[0m\u001b[0;34m:\u001b[0m\u001b[0;34m\u001b[0m\u001b[0;34m\u001b[0m\u001b[0m\n",
      "\u001b[0;32mpandas/_libs/parsers.pyx\u001b[0m in \u001b[0;36mpandas._libs.parsers.TextReader.read\u001b[0;34m()\u001b[0m\n",
      "\u001b[0;32mpandas/_libs/parsers.pyx\u001b[0m in \u001b[0;36mpandas._libs.parsers.TextReader._read_low_memory\u001b[0;34m()\u001b[0m\n",
      "\u001b[0;32mpandas/_libs/parsers.pyx\u001b[0m in \u001b[0;36mpandas._libs.parsers.TextReader._read_rows\u001b[0;34m()\u001b[0m\n",
      "\u001b[0;32mpandas/_libs/parsers.pyx\u001b[0m in \u001b[0;36mpandas._libs.parsers.TextReader._convert_column_data\u001b[0;34m()\u001b[0m\n",
      "\u001b[0;32mpandas/_libs/parsers.pyx\u001b[0m in \u001b[0;36mpandas._libs.parsers.TextReader._convert_tokens\u001b[0;34m()\u001b[0m\n",
      "\u001b[0;31mValueError\u001b[0m: could not convert string to float: 'oid sha256:cf2c27949632d524aff7f912639a3ed3ad8deab16b29d8857bdc559fb7520f98'"
     ]
    }
   ],
   "source": [
    "server = Server(nr_clients=nr_clients, nr_training_rounds=nr_training_rounds, lr=lr, epochs=client_epochs, data=data, batch_size=batch_size, max_grad_norm=max_grad_norm, epsilon=epsilon, n_accumulation_steps=n_accumulation_steps, epsilon_training_iteration=epsilon_training_iteration, is_parallel=is_parallel, device=device, is_private=is_private)\n",
    "test_losses, test_accs = server(early=True, patience=5, delta=0.05)"
   ]
  },
  {
   "cell_type": "markdown",
   "id": "8c4f27eb",
   "metadata": {
    "id": "8c4f27eb"
   },
   "source": [
    "## 3. Experiments on FEMNIST Dataset"
   ]
  },
  {
   "cell_type": "code",
   "execution_count": 12,
   "id": "uAwGVIjK6x17",
   "metadata": {
    "executionInfo": {
     "elapsed": 319,
     "status": "ok",
     "timestamp": 1623252730285,
     "user": {
      "displayName": "Jan Bauer",
      "photoUrl": "https://lh3.googleusercontent.com/a-/AOh14GjMoILSkoLiVLRc0LV33CL7HiqBQDBHd7s_S7yqS5E2Qp9tA6lGXFYADcKPen_-o_naHrXfx9GC1hLS0EkfWe6frsNHCxWniY0ffqOzXLhgfpMpOCe1X25M0qQuXNDsDbJYdXDgEOiCmCK52ugSHESn9My4pdOjNKtNJooFAJFNfNXrbhlunN6W9MU62DeQNySpUbR8Gq7srfh4ErEGHQnX2geoviJadz-aS4QD9XIZhF8Mc_2YxAe0yjbZ1Z_bj8ZEmvV-Ufsp5HyY5u6vEpkDI8YN1fxkAXhoOlJKEGRI9-eTREGq65dB7lVrM3mXUchuq-WsBUtf3Ac_bJTjdhTZPoX0V5I1sFV-APTe1CkSO1rsUdNCbF-E6_3Pk1WTUV5qpX26QE06NhDVxbvIAGsV4dxtQAacTtvBKwROHMi-EIM_qUnyajtL9vGnlhAlMi-oLgj12riiRPnc3_skIb0CJVfLpF5Y9g61k_vptdRG2Zlt7Yb_karqlsOyqPLs2GIaqplAoAkVGX_XDFT_jfKgI7OP-MlDY8zOxqFYAeyBWVOqluEW1b6rdqa9sCXavvsxiZ_OR1hd1VPsGoZExQgkYXxsqAsatlPgibqSk4U9P5giby_dItAeea2H5sZ2Xpf4WeinDYVNdWpGGFS0AndbdyWesmfin-EvkQicB17sjHNoA23dbHnto12XGUMgdAxOtlTC0i8Lab5YAxi1o8klBQJeBsTd3KxWO58ImpxjWnLWJKjkuL3ozXE6luB6roUGOg=s64",
      "userId": "03076491501259095137"
     },
     "user_tz": -120
    },
    "id": "uAwGVIjK6x17"
   },
   "outputs": [],
   "source": [
    "data = \"FEMNIST\"\n",
    "batch_size = 64"
   ]
  },
  {
   "cell_type": "code",
   "execution_count": 13,
   "id": "a8633b60",
   "metadata": {
    "executionInfo": {
     "elapsed": 2,
     "status": "ok",
     "timestamp": 1623252730643,
     "user": {
      "displayName": "Jan Bauer",
      "photoUrl": "https://lh3.googleusercontent.com/a-/AOh14GjMoILSkoLiVLRc0LV33CL7HiqBQDBHd7s_S7yqS5E2Qp9tA6lGXFYADcKPen_-o_naHrXfx9GC1hLS0EkfWe6frsNHCxWniY0ffqOzXLhgfpMpOCe1X25M0qQuXNDsDbJYdXDgEOiCmCK52ugSHESn9My4pdOjNKtNJooFAJFNfNXrbhlunN6W9MU62DeQNySpUbR8Gq7srfh4ErEGHQnX2geoviJadz-aS4QD9XIZhF8Mc_2YxAe0yjbZ1Z_bj8ZEmvV-Ufsp5HyY5u6vEpkDI8YN1fxkAXhoOlJKEGRI9-eTREGq65dB7lVrM3mXUchuq-WsBUtf3Ac_bJTjdhTZPoX0V5I1sFV-APTe1CkSO1rsUdNCbF-E6_3Pk1WTUV5qpX26QE06NhDVxbvIAGsV4dxtQAacTtvBKwROHMi-EIM_qUnyajtL9vGnlhAlMi-oLgj12riiRPnc3_skIb0CJVfLpF5Y9g61k_vptdRG2Zlt7Yb_karqlsOyqPLs2GIaqplAoAkVGX_XDFT_jfKgI7OP-MlDY8zOxqFYAeyBWVOqluEW1b6rdqa9sCXavvsxiZ_OR1hd1VPsGoZExQgkYXxsqAsatlPgibqSk4U9P5giby_dItAeea2H5sZ2Xpf4WeinDYVNdWpGGFS0AndbdyWesmfin-EvkQicB17sjHNoA23dbHnto12XGUMgdAxOtlTC0i8Lab5YAxi1o8klBQJeBsTd3KxWO58ImpxjWnLWJKjkuL3ozXE6luB6roUGOg=s64",
      "userId": "03076491501259095137"
     },
     "user_tz": -120
    },
    "id": "a8633b60"
   },
   "outputs": [],
   "source": [
    "# --- TRAINING PARAMETERS ---\n",
    "nr_clients = 3\n",
    "lr = 0.01\n",
    "client_epochs = 10\n",
    "nr_training_rounds = 20\n",
    "is_parallel = True"
   ]
  },
  {
   "cell_type": "code",
   "execution_count": 14,
   "id": "19cfb800",
   "metadata": {
    "executionInfo": {
     "elapsed": 1,
     "status": "ok",
     "timestamp": 1623252731568,
     "user": {
      "displayName": "Jan Bauer",
      "photoUrl": "https://lh3.googleusercontent.com/a-/AOh14GjMoILSkoLiVLRc0LV33CL7HiqBQDBHd7s_S7yqS5E2Qp9tA6lGXFYADcKPen_-o_naHrXfx9GC1hLS0EkfWe6frsNHCxWniY0ffqOzXLhgfpMpOCe1X25M0qQuXNDsDbJYdXDgEOiCmCK52ugSHESn9My4pdOjNKtNJooFAJFNfNXrbhlunN6W9MU62DeQNySpUbR8Gq7srfh4ErEGHQnX2geoviJadz-aS4QD9XIZhF8Mc_2YxAe0yjbZ1Z_bj8ZEmvV-Ufsp5HyY5u6vEpkDI8YN1fxkAXhoOlJKEGRI9-eTREGq65dB7lVrM3mXUchuq-WsBUtf3Ac_bJTjdhTZPoX0V5I1sFV-APTe1CkSO1rsUdNCbF-E6_3Pk1WTUV5qpX26QE06NhDVxbvIAGsV4dxtQAacTtvBKwROHMi-EIM_qUnyajtL9vGnlhAlMi-oLgj12riiRPnc3_skIb0CJVfLpF5Y9g61k_vptdRG2Zlt7Yb_karqlsOyqPLs2GIaqplAoAkVGX_XDFT_jfKgI7OP-MlDY8zOxqFYAeyBWVOqluEW1b6rdqa9sCXavvsxiZ_OR1hd1VPsGoZExQgkYXxsqAsatlPgibqSk4U9P5giby_dItAeea2H5sZ2Xpf4WeinDYVNdWpGGFS0AndbdyWesmfin-EvkQicB17sjHNoA23dbHnto12XGUMgdAxOtlTC0i8Lab5YAxi1o8klBQJeBsTd3KxWO58ImpxjWnLWJKjkuL3ozXE6luB6roUGOg=s64",
      "userId": "03076491501259095137"
     },
     "user_tz": -120
    },
    "id": "19cfb800"
   },
   "outputs": [],
   "source": [
    "# --- DIFFERENTIAL PRIVACY PARAMETERS ---\n",
    "is_private = False\n",
    "max_grad_norm = 1.2\n",
    "epsilon = 5\n",
    "epsilon_training_iteration = epsilon / nr_training_rounds\n",
    "virtual_batch_size = 2 * batch_size\n",
    "assert virtual_batch_size % batch_size == 0  # VIRTUAL_BATCH_SIZE should be divisible by BATCH_SIZE\n",
    "n_accumulation_steps = int(virtual_batch_size / batch_size)"
   ]
  },
  {
   "cell_type": "code",
   "execution_count": 17,
   "id": "28cc63ba",
   "metadata": {
    "colab": {
     "base_uri": "https://localhost:8080/"
    },
    "executionInfo": {
     "elapsed": 853304,
     "status": "ok",
     "timestamp": 1623253950154,
     "user": {
      "displayName": "Jan Bauer",
      "photoUrl": "https://lh3.googleusercontent.com/a-/AOh14GjMoILSkoLiVLRc0LV33CL7HiqBQDBHd7s_S7yqS5E2Qp9tA6lGXFYADcKPen_-o_naHrXfx9GC1hLS0EkfWe6frsNHCxWniY0ffqOzXLhgfpMpOCe1X25M0qQuXNDsDbJYdXDgEOiCmCK52ugSHESn9My4pdOjNKtNJooFAJFNfNXrbhlunN6W9MU62DeQNySpUbR8Gq7srfh4ErEGHQnX2geoviJadz-aS4QD9XIZhF8Mc_2YxAe0yjbZ1Z_bj8ZEmvV-Ufsp5HyY5u6vEpkDI8YN1fxkAXhoOlJKEGRI9-eTREGq65dB7lVrM3mXUchuq-WsBUtf3Ac_bJTjdhTZPoX0V5I1sFV-APTe1CkSO1rsUdNCbF-E6_3Pk1WTUV5qpX26QE06NhDVxbvIAGsV4dxtQAacTtvBKwROHMi-EIM_qUnyajtL9vGnlhAlMi-oLgj12riiRPnc3_skIb0CJVfLpF5Y9g61k_vptdRG2Zlt7Yb_karqlsOyqPLs2GIaqplAoAkVGX_XDFT_jfKgI7OP-MlDY8zOxqFYAeyBWVOqluEW1b6rdqa9sCXavvsxiZ_OR1hd1VPsGoZExQgkYXxsqAsatlPgibqSk4U9P5giby_dItAeea2H5sZ2Xpf4WeinDYVNdWpGGFS0AndbdyWesmfin-EvkQicB17sjHNoA23dbHnto12XGUMgdAxOtlTC0i8Lab5YAxi1o8klBQJeBsTd3KxWO58ImpxjWnLWJKjkuL3ozXE6luB6roUGOg=s64",
      "userId": "03076491501259095137"
     },
     "user_tz": -120
    },
    "id": "28cc63ba",
    "outputId": "be275df0-7ff4-4adf-cf22-5b0b061f68b6"
   },
   "outputs": [
    {
     "name": "stdout",
     "output_type": "stream",
     "text": [
      "--- Configuration ---\n",
      "nr_clients: 3\n",
      "nr_training_rounds: 20\n",
      "lr: 0.01\n",
      "epochs: 10\n",
      "data: FEMNIST\n",
      "batch_size: 64\n",
      "max_grad_norm: 1.2\n",
      "epsilon: 5\n",
      "n_accumulation_steps: 2\n",
      "epsilon_training_iteration: 0.25\n",
      "is_parallel: True\n",
      "is_private: False\n",
      "device: <class 'torch.device'>\n",
      "verbose: server\n",
      "FEMNIST\n",
      "False\n",
      "--- Loading Data ---\n",
      "Loaded Test Data\n",
      "Loaded Training Data\n",
      "--- Training ---\n",
      "Round 1, test_loss: 22.1679, test_acc: 0.9744634279807868\n",
      "Validation loss decreased (inf --> 22.167900).  Saving model ...\n",
      "Round 2, test_loss: 14.8070, test_acc: 0.9833404268255609\n",
      "Validation loss decreased (22.167900 --> 14.806954).  Saving model ...\n",
      "Round 3, test_loss: 12.6056, test_acc: 0.9856508785796801\n",
      "Validation loss decreased (14.806954 --> 12.605563).  Saving model ...\n",
      "Round 4, test_loss: 11.4353, test_acc: 0.9877181248859974\n",
      "Validation loss decreased (12.605563 --> 11.435339).  Saving model ...\n",
      "Round 5, test_loss: 10.8013, test_acc: 0.9884477412294035\n",
      "Validation loss decreased (11.435339 --> 10.801332).  Saving model ...\n",
      "Round 6, test_loss: 10.4708, test_acc: 0.9886909466772056\n",
      "Validation loss decreased (10.801332 --> 10.470756).  Saving model ...\n",
      "Round 7, test_loss: 9.8786, test_acc: 0.9894205630206117\n",
      "Validation loss decreased (10.470756 --> 9.878645).  Saving model ...\n",
      "Round 8, test_loss: 9.9518, test_acc: 0.9896637684684136\n",
      "EarlyStopping counter: 1 out of 3\n",
      "Round 9, test_loss: 9.8976, test_acc: 0.9906365902596218\n",
      "EarlyStopping counter: 2 out of 3\n",
      "Round 10, test_loss: 9.8909, test_acc: 0.9906365902596218\n",
      "EarlyStopping counter: 3 out of 3\n",
      "Early stopping\n",
      "Test losses: [22.1679, 14.807, 12.6056, 11.4353, 10.8013, 10.4708, 9.8786, 9.9518, 9.8976, 9.8909]\n",
      "Test accuracies: [0.9744634279807868, 0.9833404268255609, 0.9856508785796801, 0.9877181248859974, 0.9884477412294035, 0.9886909466772056, 0.9894205630206117, 0.9896637684684136, 0.9906365902596218, 0.9906365902596218]\n",
      "Finished\n"
     ]
    }
   ],
   "source": [
    "torch.cuda.empty_cache()\n",
    "server = Server(nr_clients=nr_clients, nr_training_rounds=nr_training_rounds, lr=lr, epochs=client_epochs, data=data, batch_size=batch_size, max_grad_norm=max_grad_norm, epsilon=epsilon, n_accumulation_steps=n_accumulation_steps, epsilon_training_iteration=epsilon_training_iteration, is_parallel=is_parallel, is_private=is_private, device=device, verbose=\"server\")\n",
    "test_losses, test_accs = server(early=True, patience=3, delta=0.05)"
   ]
  },
  {
   "cell_type": "code",
   "execution_count": null,
   "id": "J84LbWXcaTbv",
   "metadata": {
    "id": "J84LbWXcaTbv"
   },
   "outputs": [],
   "source": [
    "plot_metrics(test_losses, test_accs)"
   ]
  },
  {
   "cell_type": "code",
   "execution_count": null,
   "id": "014ee5eb-738e-41a3-861a-01c7f1fc8e52",
   "metadata": {
    "id": "014ee5eb-738e-41a3-861a-01c7f1fc8e52"
   },
   "outputs": [],
   "source": [
    "is_private = True\n",
    "server = Server(nr_clients=nr_clients, nr_training_rounds=nr_training_rounds, lr=lr, epochs=client_epochs, data=data, batch_size=batch_size, max_grad_norm=max_grad_norm, epsilon=epsilon, n_accumulation_steps=n_accumulation_steps, epsilon_training_iteration=epsilon_training_iteration, is_parallel=is_parallel, is_private=is_private, device=device, verbose=\"all\")\n",
    "test_losses, test_accs = server(early=True, patience=3, delta=0.05)"
   ]
  },
  {
   "cell_type": "code",
   "execution_count": null,
   "id": "gGl0poWibeNS",
   "metadata": {
    "id": "gGl0poWibeNS"
   },
   "outputs": [],
   "source": [
    "plot_metrics(test_losses, test_accs)"
   ]
  }
 ],
 "metadata": {
  "accelerator": "GPU",
  "colab": {
   "collapsed_sections": [],
   "name": "index.ipynb",
   "provenance": []
  },
  "kernelspec": {
   "display_name": "epfl_opt4ml",
   "language": "python",
   "name": "epfl_opt4ml"
  },
  "language_info": {
   "codemirror_mode": {
    "name": "ipython",
    "version": 3
   },
   "file_extension": ".py",
   "mimetype": "text/x-python",
   "name": "python",
   "nbconvert_exporter": "python",
   "pygments_lexer": "ipython3",
   "version": "3.8.10"
  }
 },
 "nbformat": 4,
 "nbformat_minor": 5
}
